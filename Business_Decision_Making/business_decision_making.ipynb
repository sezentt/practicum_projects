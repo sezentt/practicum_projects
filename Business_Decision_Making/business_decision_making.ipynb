{
 "cells": [
  {
   "cell_type": "markdown",
   "metadata": {},
   "source": [
    "# A/B-тест интернет-магазина"
   ]
  },
  {
   "cell_type": "markdown",
   "metadata": {},
   "source": [
    "Работа выполняется в качестве аналитика крупного интернет-магазина. Вместе с отделом маркетинга мы подготовили список гипотез для увеличения выручки.\n",
    "\n",
    "Необходимо приоритизировать гипотезы, запустить A/B-тест и проанализировать результаты. "
   ]
  },
  {
   "cell_type": "markdown",
   "metadata": {},
   "source": [
    "В нашем распоряжении имеются три набора данных:\n",
    "1. Гипотезы (hypothesis.csv):\n",
    "    - Hypothesis — краткое описание гипотезы;\n",
    "    - Reach — охват пользователей по 10-балльной шкале;\n",
    "    - Impact — влияние на пользователей по 10-балльной шкале;\n",
    "    - Confidence — уверенность в гипотезе по 10-балльной шкале;\n",
    "    - Efforts — затраты ресурсов на проверку гипотезы по 10-балльной шкале. Чем больше значение Efforts, тем дороже проверка гипотезы.\n",
    "2. Заказы (orders.csv):\n",
    "    - transactionId — идентификатор заказа;\n",
    "    - visitorId — идентификатор пользователя, совершившего заказ;\n",
    "    - date — дата, когда был совершён заказ;\n",
    "    - revenue — выручка заказа;\n",
    "    - group — группа A/B-теста, в которую попал заказ.\n",
    "3. Пользователи (visitors.csv):\n",
    "    - date — дата;\n",
    "    - group — группа A/B-теста;\n",
    "    - visitors — количество пользователей в указанную дату в указанной группе A/B-теста"
   ]
  },
  {
   "cell_type": "markdown",
   "metadata": {},
   "source": [
    "План действий:\n",
    "- Загрузить и изучить данные.\n",
    "- Выполнить предобработку данных: проверить на пропуски, дубликаты, преобразовать данные в нужный формат.\n",
    "- Применить фреймворки ICE и RICE для приоритизации гипотез и сравнить результаты.\n",
    "- Провести анализ результатов A/B-теста: построить кумулятивные графики, выявить аномалии, провести статистическую проверку значимости различий.\n",
    "- Принять решение по результатам теста и сформулировать рекомендации."
   ]
  },
  {
   "cell_type": "markdown",
   "metadata": {},
   "source": [
    "## Загрузка и изучение данных"
   ]
  },
  {
   "cell_type": "markdown",
   "metadata": {},
   "source": [
    "Загрузим все датасеты, сохраним их в датафреймы и изучим общую информацию о данных."
   ]
  },
  {
   "cell_type": "code",
   "execution_count": 1,
   "metadata": {},
   "outputs": [],
   "source": [
    "# Подключение всех необходимых библиотек\n",
    "import pandas as pd\n",
    "import numpy as np\n",
    "import matplotlib.pyplot as plt\n",
    "import seaborn as sns\n",
    "import datetime as dt\n",
    "from scipy.stats import mannwhitneyu\n",
    "\n",
    "# Настройка pandas для отображения полного текста\n",
    "pd.set_option('display.max_colwidth', None)"
   ]
  },
  {
   "cell_type": "code",
   "execution_count": 2,
   "metadata": {},
   "outputs": [
    {
     "data": {
      "text/html": [
       "<div>\n",
       "<style scoped>\n",
       "    .dataframe tbody tr th:only-of-type {\n",
       "        vertical-align: middle;\n",
       "    }\n",
       "\n",
       "    .dataframe tbody tr th {\n",
       "        vertical-align: top;\n",
       "    }\n",
       "\n",
       "    .dataframe thead th {\n",
       "        text-align: right;\n",
       "    }\n",
       "</style>\n",
       "<table border=\"1\" class=\"dataframe\">\n",
       "  <thead>\n",
       "    <tr style=\"text-align: right;\">\n",
       "      <th></th>\n",
       "      <th>Hypothesis</th>\n",
       "      <th>Reach</th>\n",
       "      <th>Impact</th>\n",
       "      <th>Confidence</th>\n",
       "      <th>Efforts</th>\n",
       "    </tr>\n",
       "  </thead>\n",
       "  <tbody>\n",
       "    <tr>\n",
       "      <th>0</th>\n",
       "      <td>Добавить два новых канала привлечения трафика, что позволит привлекать на 30% больше пользователей</td>\n",
       "      <td>3</td>\n",
       "      <td>10</td>\n",
       "      <td>8</td>\n",
       "      <td>6</td>\n",
       "    </tr>\n",
       "    <tr>\n",
       "      <th>1</th>\n",
       "      <td>Запустить собственную службу доставки, что сократит срок доставки заказов</td>\n",
       "      <td>2</td>\n",
       "      <td>5</td>\n",
       "      <td>4</td>\n",
       "      <td>10</td>\n",
       "    </tr>\n",
       "    <tr>\n",
       "      <th>2</th>\n",
       "      <td>Добавить блоки рекомендаций товаров на сайт интернет магазина, чтобы повысить конверсию и средний чек заказа</td>\n",
       "      <td>8</td>\n",
       "      <td>3</td>\n",
       "      <td>7</td>\n",
       "      <td>3</td>\n",
       "    </tr>\n",
       "    <tr>\n",
       "      <th>3</th>\n",
       "      <td>Изменить структура категорий, что увеличит конверсию, т.к. пользователи быстрее найдут нужный товар</td>\n",
       "      <td>8</td>\n",
       "      <td>3</td>\n",
       "      <td>3</td>\n",
       "      <td>8</td>\n",
       "    </tr>\n",
       "    <tr>\n",
       "      <th>4</th>\n",
       "      <td>Изменить цвет фона главной страницы, чтобы увеличить вовлеченность пользователей</td>\n",
       "      <td>3</td>\n",
       "      <td>1</td>\n",
       "      <td>1</td>\n",
       "      <td>1</td>\n",
       "    </tr>\n",
       "  </tbody>\n",
       "</table>\n",
       "</div>"
      ],
      "text/plain": [
       "                                                                                                     Hypothesis  \\\n",
       "0            Добавить два новых канала привлечения трафика, что позволит привлекать на 30% больше пользователей   \n",
       "1                                     Запустить собственную службу доставки, что сократит срок доставки заказов   \n",
       "2  Добавить блоки рекомендаций товаров на сайт интернет магазина, чтобы повысить конверсию и средний чек заказа   \n",
       "3           Изменить структура категорий, что увеличит конверсию, т.к. пользователи быстрее найдут нужный товар   \n",
       "4                              Изменить цвет фона главной страницы, чтобы увеличить вовлеченность пользователей   \n",
       "\n",
       "   Reach  Impact  Confidence  Efforts  \n",
       "0      3      10           8        6  \n",
       "1      2       5           4       10  \n",
       "2      8       3           7        3  \n",
       "3      8       3           3        8  \n",
       "4      3       1           1        1  "
      ]
     },
     "execution_count": 2,
     "metadata": {},
     "output_type": "execute_result"
    }
   ],
   "source": [
    "hypothesis = pd.read_csv('hypothesis.csv')\n",
    "hypothesis.head()"
   ]
  },
  {
   "cell_type": "code",
   "execution_count": 3,
   "metadata": {},
   "outputs": [
    {
     "name": "stdout",
     "output_type": "stream",
     "text": [
      "<class 'pandas.core.frame.DataFrame'>\n",
      "RangeIndex: 9 entries, 0 to 8\n",
      "Data columns (total 5 columns):\n",
      " #   Column      Non-Null Count  Dtype \n",
      "---  ------      --------------  ----- \n",
      " 0   Hypothesis  9 non-null      object\n",
      " 1   Reach       9 non-null      int64 \n",
      " 2   Impact      9 non-null      int64 \n",
      " 3   Confidence  9 non-null      int64 \n",
      " 4   Efforts     9 non-null      int64 \n",
      "dtypes: int64(4), object(1)\n",
      "memory usage: 488.0+ bytes\n"
     ]
    }
   ],
   "source": [
    "hypothesis.info()"
   ]
  },
  {
   "cell_type": "markdown",
   "metadata": {},
   "source": [
    "`hypothesis` (гипотезы):\n",
    "- **Hypothesis**: краткое описание гипотезы (текстовый формат).\n",
    "- **Reach**: охват пользователей (целое число).\n",
    "- **Impact**: влияние на пользователей (целое число).\n",
    "- **Confidence**: уверенность в гипотезе (целое число).\n",
    "- **Efforts**: затраты ресурсов на проверку гипотезы (целое число)."
   ]
  },
  {
   "cell_type": "code",
   "execution_count": 4,
   "metadata": {},
   "outputs": [
    {
     "data": {
      "text/html": [
       "<div>\n",
       "<style scoped>\n",
       "    .dataframe tbody tr th:only-of-type {\n",
       "        vertical-align: middle;\n",
       "    }\n",
       "\n",
       "    .dataframe tbody tr th {\n",
       "        vertical-align: top;\n",
       "    }\n",
       "\n",
       "    .dataframe thead th {\n",
       "        text-align: right;\n",
       "    }\n",
       "</style>\n",
       "<table border=\"1\" class=\"dataframe\">\n",
       "  <thead>\n",
       "    <tr style=\"text-align: right;\">\n",
       "      <th></th>\n",
       "      <th>transactionId</th>\n",
       "      <th>visitorId</th>\n",
       "      <th>date</th>\n",
       "      <th>revenue</th>\n",
       "      <th>group</th>\n",
       "    </tr>\n",
       "  </thead>\n",
       "  <tbody>\n",
       "    <tr>\n",
       "      <th>0</th>\n",
       "      <td>3667963787</td>\n",
       "      <td>3312258926</td>\n",
       "      <td>2019-08-15</td>\n",
       "      <td>1650</td>\n",
       "      <td>B</td>\n",
       "    </tr>\n",
       "    <tr>\n",
       "      <th>1</th>\n",
       "      <td>2804400009</td>\n",
       "      <td>3642806036</td>\n",
       "      <td>2019-08-15</td>\n",
       "      <td>730</td>\n",
       "      <td>B</td>\n",
       "    </tr>\n",
       "    <tr>\n",
       "      <th>2</th>\n",
       "      <td>2961555356</td>\n",
       "      <td>4069496402</td>\n",
       "      <td>2019-08-15</td>\n",
       "      <td>400</td>\n",
       "      <td>A</td>\n",
       "    </tr>\n",
       "    <tr>\n",
       "      <th>3</th>\n",
       "      <td>3797467345</td>\n",
       "      <td>1196621759</td>\n",
       "      <td>2019-08-15</td>\n",
       "      <td>9759</td>\n",
       "      <td>B</td>\n",
       "    </tr>\n",
       "    <tr>\n",
       "      <th>4</th>\n",
       "      <td>2282983706</td>\n",
       "      <td>2322279887</td>\n",
       "      <td>2019-08-15</td>\n",
       "      <td>2308</td>\n",
       "      <td>B</td>\n",
       "    </tr>\n",
       "  </tbody>\n",
       "</table>\n",
       "</div>"
      ],
      "text/plain": [
       "   transactionId   visitorId        date  revenue group\n",
       "0     3667963787  3312258926  2019-08-15     1650     B\n",
       "1     2804400009  3642806036  2019-08-15      730     B\n",
       "2     2961555356  4069496402  2019-08-15      400     A\n",
       "3     3797467345  1196621759  2019-08-15     9759     B\n",
       "4     2282983706  2322279887  2019-08-15     2308     B"
      ]
     },
     "execution_count": 4,
     "metadata": {},
     "output_type": "execute_result"
    }
   ],
   "source": [
    "orders = pd.read_csv('orders.csv')\n",
    "orders.head()"
   ]
  },
  {
   "cell_type": "code",
   "execution_count": 5,
   "metadata": {},
   "outputs": [
    {
     "name": "stdout",
     "output_type": "stream",
     "text": [
      "<class 'pandas.core.frame.DataFrame'>\n",
      "RangeIndex: 1197 entries, 0 to 1196\n",
      "Data columns (total 5 columns):\n",
      " #   Column         Non-Null Count  Dtype \n",
      "---  ------         --------------  ----- \n",
      " 0   transactionId  1197 non-null   int64 \n",
      " 1   visitorId      1197 non-null   int64 \n",
      " 2   date           1197 non-null   object\n",
      " 3   revenue        1197 non-null   int64 \n",
      " 4   group          1197 non-null   object\n",
      "dtypes: int64(3), object(2)\n",
      "memory usage: 46.9+ KB\n"
     ]
    }
   ],
   "source": [
    "orders.info()"
   ]
  },
  {
   "cell_type": "markdown",
   "metadata": {},
   "source": [
    "`orders` (заказы):\n",
    "- **transactionId**: идентификатор заказа (целое число).\n",
    "- **visitorId**: идентификатор пользователя, совершившего заказ (целое число).\n",
    "- **date**: дата заказа (текстовый формат, нужно преобразовать в формат даты).\n",
    "- **revenue**: выручка заказа (целое число).\n",
    "- **group**: группа A/B-теста, в которую попал заказ (текстовый формат)."
   ]
  },
  {
   "cell_type": "code",
   "execution_count": 6,
   "metadata": {},
   "outputs": [
    {
     "data": {
      "text/html": [
       "<div>\n",
       "<style scoped>\n",
       "    .dataframe tbody tr th:only-of-type {\n",
       "        vertical-align: middle;\n",
       "    }\n",
       "\n",
       "    .dataframe tbody tr th {\n",
       "        vertical-align: top;\n",
       "    }\n",
       "\n",
       "    .dataframe thead th {\n",
       "        text-align: right;\n",
       "    }\n",
       "</style>\n",
       "<table border=\"1\" class=\"dataframe\">\n",
       "  <thead>\n",
       "    <tr style=\"text-align: right;\">\n",
       "      <th></th>\n",
       "      <th>date</th>\n",
       "      <th>group</th>\n",
       "      <th>visitors</th>\n",
       "    </tr>\n",
       "  </thead>\n",
       "  <tbody>\n",
       "    <tr>\n",
       "      <th>0</th>\n",
       "      <td>2019-08-01</td>\n",
       "      <td>A</td>\n",
       "      <td>719</td>\n",
       "    </tr>\n",
       "    <tr>\n",
       "      <th>1</th>\n",
       "      <td>2019-08-02</td>\n",
       "      <td>A</td>\n",
       "      <td>619</td>\n",
       "    </tr>\n",
       "    <tr>\n",
       "      <th>2</th>\n",
       "      <td>2019-08-03</td>\n",
       "      <td>A</td>\n",
       "      <td>507</td>\n",
       "    </tr>\n",
       "    <tr>\n",
       "      <th>3</th>\n",
       "      <td>2019-08-04</td>\n",
       "      <td>A</td>\n",
       "      <td>717</td>\n",
       "    </tr>\n",
       "    <tr>\n",
       "      <th>4</th>\n",
       "      <td>2019-08-05</td>\n",
       "      <td>A</td>\n",
       "      <td>756</td>\n",
       "    </tr>\n",
       "  </tbody>\n",
       "</table>\n",
       "</div>"
      ],
      "text/plain": [
       "         date group  visitors\n",
       "0  2019-08-01     A       719\n",
       "1  2019-08-02     A       619\n",
       "2  2019-08-03     A       507\n",
       "3  2019-08-04     A       717\n",
       "4  2019-08-05     A       756"
      ]
     },
     "execution_count": 6,
     "metadata": {},
     "output_type": "execute_result"
    }
   ],
   "source": [
    "visitors = pd.read_csv('visitors.csv')\n",
    "visitors.head()"
   ]
  },
  {
   "cell_type": "code",
   "execution_count": 7,
   "metadata": {},
   "outputs": [
    {
     "name": "stdout",
     "output_type": "stream",
     "text": [
      "<class 'pandas.core.frame.DataFrame'>\n",
      "RangeIndex: 62 entries, 0 to 61\n",
      "Data columns (total 3 columns):\n",
      " #   Column    Non-Null Count  Dtype \n",
      "---  ------    --------------  ----- \n",
      " 0   date      62 non-null     object\n",
      " 1   group     62 non-null     object\n",
      " 2   visitors  62 non-null     int64 \n",
      "dtypes: int64(1), object(2)\n",
      "memory usage: 1.6+ KB\n"
     ]
    }
   ],
   "source": [
    "visitors.info()"
   ]
  },
  {
   "cell_type": "markdown",
   "metadata": {},
   "source": [
    "`visitors` (пользователи):\n",
    "- **date**: дата (текстовый формат, нужно преобразовать в формат даты).\n",
    "- **group**: группа A/B-теста (текстовый формат).\n",
    "- **visitors**: количество пользователей в указанную дату в указанной группе (целое число)."
   ]
  },
  {
   "cell_type": "markdown",
   "metadata": {},
   "source": [
    "Таким образом, мы загрузили и изучили исходные данные. Заметим, что во всех датафреймах нет пропущенных значений."
   ]
  },
  {
   "cell_type": "markdown",
   "metadata": {},
   "source": [
    "## Предобработка данных"
   ]
  },
  {
   "cell_type": "markdown",
   "metadata": {},
   "source": [
    "Хоть мы уже увидели, что в датафреймах нет пропусков, проверим это явным образом."
   ]
  },
  {
   "cell_type": "code",
   "execution_count": 8,
   "metadata": {},
   "outputs": [
    {
     "name": "stdout",
     "output_type": "stream",
     "text": [
      "Пропуски в hypothesis:\n",
      "Hypothesis    0\n",
      "Reach         0\n",
      "Impact        0\n",
      "Confidence    0\n",
      "Efforts       0\n",
      "dtype: int64\n",
      "\n",
      "Пропуски в orders:\n",
      "transactionId    0\n",
      "visitorId        0\n",
      "date             0\n",
      "revenue          0\n",
      "group            0\n",
      "dtype: int64\n",
      "\n",
      "Пропуски в visitors:\n",
      "date        0\n",
      "group       0\n",
      "visitors    0\n",
      "dtype: int64\n"
     ]
    }
   ],
   "source": [
    "# Проверка на наличие пропусков в hypothesis\n",
    "print(\"Пропуски в hypothesis:\")\n",
    "print(hypothesis.isnull().sum())\n",
    "\n",
    "# Проверка на наличие пропусков в orders\n",
    "print(\"\\nПропуски в orders:\")\n",
    "print(orders.isnull().sum())\n",
    "\n",
    "# Проверка на наличие пропусков в visitors\n",
    "print(\"\\nПропуски в visitors:\")\n",
    "print(visitors.isnull().sum())"
   ]
  },
  {
   "cell_type": "markdown",
   "metadata": {},
   "source": [
    "Отлично, пропусков нет. Теперь проверим данные на явные дубликаты "
   ]
  },
  {
   "cell_type": "code",
   "execution_count": 9,
   "metadata": {},
   "outputs": [
    {
     "name": "stdout",
     "output_type": "stream",
     "text": [
      "Дубликаты в hypothesis: 0\n",
      "Дубликаты в orders: 0\n",
      "Дубликаты в visitors: 0\n"
     ]
    }
   ],
   "source": [
    "# Проверка на дубликаты в hypothesis\n",
    "print(\"Дубликаты в hypothesis:\", hypothesis.duplicated().sum())\n",
    "\n",
    "# Проверка на дубликаты в orders\n",
    "print(\"Дубликаты в orders:\", orders.duplicated().sum())\n",
    "\n",
    "# Проверка на дубликаты в visitors\n",
    "print(\"Дубликаты в visitors:\", visitors.duplicated().sum())"
   ]
  },
  {
   "cell_type": "markdown",
   "metadata": {},
   "source": [
    "Из неявных дублей можно проверить уникальность столбца `transactionId`, так как значения в нем не должны повторяться."
   ]
  },
  {
   "cell_type": "code",
   "execution_count": 10,
   "metadata": {},
   "outputs": [
    {
     "name": "stdout",
     "output_type": "stream",
     "text": [
      "Повторяющихся значений в столбце transactionId нет.\n"
     ]
    }
   ],
   "source": [
    "# Проверка на дубликаты в столбце transactionId\n",
    "transaction_duplicates = orders['transactionId'].duplicated().sum()\n",
    "\n",
    "if transaction_duplicates == 0:\n",
    "    print(\"Повторяющихся значений в столбце transactionId нет.\")\n",
    "else:\n",
    "    print(f\"Количество повторяющихся значений в transactionId: {transaction_duplicates}\")"
   ]
  },
  {
   "cell_type": "markdown",
   "metadata": {},
   "source": [
    "Отлично, проверку на дубли тоже прошли. Остальные неявные дубли можем не проверять.\n",
    "\n",
    "Теперь нужно преобразовать дату в правильный формат."
   ]
  },
  {
   "cell_type": "code",
   "execution_count": 11,
   "metadata": {},
   "outputs": [
    {
     "data": {
      "text/plain": [
       "0   2019-08-15\n",
       "1   2019-08-15\n",
       "2   2019-08-15\n",
       "3   2019-08-15\n",
       "4   2019-08-15\n",
       "Name: date, dtype: datetime64[ns]"
      ]
     },
     "metadata": {},
     "output_type": "display_data"
    },
    {
     "data": {
      "text/plain": [
       "0   2019-08-01\n",
       "1   2019-08-02\n",
       "2   2019-08-03\n",
       "3   2019-08-04\n",
       "4   2019-08-05\n",
       "Name: date, dtype: datetime64[ns]"
      ]
     },
     "metadata": {},
     "output_type": "display_data"
    }
   ],
   "source": [
    "# Преобразование столбца date в orders\n",
    "orders['date'] = orders['date'].map(lambda x: dt.datetime.strptime(x, '%Y-%m-%d'))\n",
    "\n",
    "# Преобразование столбца date в visitors\n",
    "visitors['date'] = visitors['date'].map(lambda x: dt.datetime.strptime(x, '%Y-%m-%d'))\n",
    "\n",
    "# Проверка преобразования\n",
    "display(orders['date'].head(), visitors['date'].head())"
   ]
  },
  {
   "cell_type": "markdown",
   "metadata": {},
   "source": [
    "Осталось привести названия столбцов к \"змеиному стилю\"."
   ]
  },
  {
   "cell_type": "code",
   "execution_count": 12,
   "metadata": {},
   "outputs": [
    {
     "name": "stdout",
     "output_type": "stream",
     "text": [
      "Названия столбцов в hypothesis: Index(['hypothesis', 'reach', 'impact', 'confidence', 'efforts'], dtype='object')\n",
      "Названия столбцов в orders: Index(['transaction_id', 'visitor_id', 'date', 'revenue', 'group'], dtype='object')\n",
      "Названия столбцов в visitors: Index(['date', 'group', 'visitors'], dtype='object')\n"
     ]
    }
   ],
   "source": [
    "# Приведение названий столбцов к snake_case, включая преобразование camelCase\n",
    "hypothesis.columns = hypothesis.columns.str.lower().str.replace(' ', '_')\n",
    "orders.columns = orders.columns.str.replace(r'([A-Z])', r'_\\1', regex=True).str.lower().str.replace(' ', '_')\n",
    "visitors.columns = visitors.columns.str.lower().str.replace(' ', '_')\n",
    "\n",
    "# Проверка изменений\n",
    "print(\"Названия столбцов в hypothesis:\", hypothesis.columns)\n",
    "print(\"Названия столбцов в orders:\", orders.columns)\n",
    "print(\"Названия столбцов в visitors:\", visitors.columns)"
   ]
  },
  {
   "cell_type": "markdown",
   "metadata": {},
   "source": [
    "Таким образом, мы выполнили предобработку данных: проверили пропуски и дубли, а также преобразовали дату и названия столбцов в правильный формат."
   ]
  },
  {
   "cell_type": "markdown",
   "metadata": {},
   "source": [
    "## Приоритизация гипотез"
   ]
  },
  {
   "cell_type": "markdown",
   "metadata": {},
   "source": [
    "Применим фреймворки ICE и RICE для приоритизации гипотез, посмотрим их различие"
   ]
  },
  {
   "cell_type": "markdown",
   "metadata": {},
   "source": [
    "**ICE**\n",
    "\n",
    "Воспользуемся известной нам формулой:\n",
    "$$ICE = \\frac{Impact \\times Confidence}{Efforts} $$"
   ]
  },
  {
   "cell_type": "code",
   "execution_count": 13,
   "metadata": {},
   "outputs": [],
   "source": [
    "# Расчет ICE\n",
    "hypothesis['ICE'] = (hypothesis['impact'] * hypothesis['confidence']) / hypothesis['efforts']"
   ]
  },
  {
   "cell_type": "markdown",
   "metadata": {},
   "source": [
    "**RICE**\n",
    "\n",
    "Воспользуемся известной нам формулой:\n",
    "$$ RICE = \\frac{Reach \\times Impact \\times Confidence}{Efforts} $$"
   ]
  },
  {
   "cell_type": "code",
   "execution_count": 14,
   "metadata": {},
   "outputs": [],
   "source": [
    "# Расчет RICE\n",
    "hypothesis['RICE'] = (hypothesis['reach'] * hypothesis['impact'] * hypothesis['confidence']) / hypothesis['efforts']"
   ]
  },
  {
   "cell_type": "markdown",
   "metadata": {},
   "source": [
    "Посмотрим, различаются ли фреймворки по результату. "
   ]
  },
  {
   "cell_type": "code",
   "execution_count": 15,
   "metadata": {},
   "outputs": [
    {
     "name": "stdout",
     "output_type": "stream",
     "text": [
      "Гипотезы, отсортированные по ICE:\n",
      "                                                                                                     hypothesis  \\\n",
      "8                                                       Запустить акцию, дающую скидку на товар в день рождения   \n",
      "0            Добавить два новых канала привлечения трафика, что позволит привлекать на 30% больше пользователей   \n",
      "7              Добавить форму подписки на все основные страницы, чтобы собрать базу клиентов для email-рассылок   \n",
      "6          Показать на главной странице баннеры с актуальными акциями и распродажами, чтобы увеличить конверсию   \n",
      "2  Добавить блоки рекомендаций товаров на сайт интернет магазина, чтобы повысить конверсию и средний чек заказа   \n",
      "1                                     Запустить собственную службу доставки, что сократит срок доставки заказов   \n",
      "5                      Добавить страницу отзывов клиентов о магазине, что позволит увеличить количество заказов   \n",
      "3           Изменить структура категорий, что увеличит конверсию, т.к. пользователи быстрее найдут нужный товар   \n",
      "4                              Изменить цвет фона главной страницы, чтобы увеличить вовлеченность пользователей   \n",
      "\n",
      "         ICE  \n",
      "8  16.200000  \n",
      "0  13.333333  \n",
      "7  11.200000  \n",
      "6   8.000000  \n",
      "2   7.000000  \n",
      "1   2.000000  \n",
      "5   1.333333  \n",
      "3   1.125000  \n",
      "4   1.000000  \n",
      "\n",
      "Гипотезы, отсортированные по RICE:\n",
      "                                                                                                     hypothesis  \\\n",
      "7              Добавить форму подписки на все основные страницы, чтобы собрать базу клиентов для email-рассылок   \n",
      "2  Добавить блоки рекомендаций товаров на сайт интернет магазина, чтобы повысить конверсию и средний чек заказа   \n",
      "0            Добавить два новых канала привлечения трафика, что позволит привлекать на 30% больше пользователей   \n",
      "6          Показать на главной странице баннеры с актуальными акциями и распродажами, чтобы увеличить конверсию   \n",
      "8                                                       Запустить акцию, дающую скидку на товар в день рождения   \n",
      "3           Изменить структура категорий, что увеличит конверсию, т.к. пользователи быстрее найдут нужный товар   \n",
      "1                                     Запустить собственную службу доставки, что сократит срок доставки заказов   \n",
      "5                      Добавить страницу отзывов клиентов о магазине, что позволит увеличить количество заказов   \n",
      "4                              Изменить цвет фона главной страницы, чтобы увеличить вовлеченность пользователей   \n",
      "\n",
      "    RICE  \n",
      "7  112.0  \n",
      "2   56.0  \n",
      "0   40.0  \n",
      "6   40.0  \n",
      "8   16.2  \n",
      "3    9.0  \n",
      "1    4.0  \n",
      "5    4.0  \n",
      "4    3.0  \n"
     ]
    }
   ],
   "source": [
    "# Сортировка гипотез по ICE и RICE\n",
    "hypothesis_sorted_ice = hypothesis.sort_values(by='ICE', ascending=False)\n",
    "hypothesis_sorted_rice = hypothesis.sort_values(by='RICE', ascending=False)\n",
    "\n",
    "print(\"Гипотезы, отсортированные по ICE:\")\n",
    "print(hypothesis_sorted_ice[['hypothesis', 'ICE']])\n",
    "\n",
    "print(\"\\nГипотезы, отсортированные по RICE:\")\n",
    "print(hypothesis_sorted_rice[['hypothesis', 'RICE']])"
   ]
  },
  {
   "cell_type": "markdown",
   "metadata": {},
   "source": [
    "При применении RICE вместо ICE приоритет гипотез изменился: лидером стала гипотеза с широкой аудиторией охвата (\"Добавить форму подписки...\"), а гипотеза с максимальным ICE (\"Запустить акцию, дающую скидку...\") переместилась на пятое место. Это связано с учетом параметра Reach в RICE, который выделяет гипотезы, способные охватить большее число пользователей. Таким образом, гипотезы с высоким влиянием и охватом стали более приоритетными."
   ]
  },
  {
   "cell_type": "markdown",
   "metadata": {},
   "source": [
    "## Анализ A/B-теста"
   ]
  },
  {
   "cell_type": "markdown",
   "metadata": {},
   "source": [
    "Мы провели A/B-тест и получили результаты, которые описаны в датафреймах `orders` и  `visitors`. Теперь нам необходимо проанализировать получившиеся результаты."
   ]
  },
  {
   "cell_type": "markdown",
   "metadata": {},
   "source": [
    "### Кумулятивная выручка по группам"
   ]
  },
  {
   "cell_type": "markdown",
   "metadata": {},
   "source": [
    "Построим график кумулятивной выручки по группам. Сделаем выводы и предположения."
   ]
  },
  {
   "cell_type": "code",
   "execution_count": 16,
   "metadata": {
    "scrolled": false
   },
   "outputs": [
    {
     "data": {
      "image/png": "[encoded data removed]",
      "text/plain": [
       "<Figure size 1200x600 with 1 Axes>"
      ]
     },
     "metadata": {},
     "output_type": "display_data"
    }
   ],
   "source": [
    "# Расчет кумулятивной выручки\n",
    "cumulative_data = (\n",
    "    orders.groupby(['date', 'group'])\n",
    "    .agg({'revenue': 'sum'})\n",
    "    .groupby(level=1).cumsum()\n",
    "    .reset_index()\n",
    ")\n",
    "\n",
    "# Построение графика\n",
    "plt.figure(figsize=(12, 6))\n",
    "sns.lineplot(data=cumulative_data, x='date', y='revenue', hue='group', marker='o')\n",
    "\n",
    "plt.title('Кумулятивная выручка по группам', fontsize=14)\n",
    "plt.xlabel('Дата', fontsize=12)\n",
    "plt.ylabel('Кумулятивная выручка', fontsize=12)\n",
    "plt.legend(title='Группа', fontsize=10)\n",
    "plt.xticks(rotation=45)\n",
    "plt.grid(True)\n",
    "plt.show()"
   ]
  },
  {
   "cell_type": "markdown",
   "metadata": {},
   "source": [
    "На графике видно, что кумулятивная выручка группы B значительно превышает выручку группы A. При этом наблюдается резкий скачок выручки группы B около середины тестового периода, что может быть связано с крупными заказами или аномалиями (например, редкие крупные покупки). Группа A демонстрирует более плавный рост выручки без явных скачков.\n",
    "\n",
    "Предположение: необходимо дополнительно проанализировать данные на наличие аномалий в группе B, чтобы определить, являются ли эти скачки результатом естественного поведения пользователей или аномалий (например, экстремально больших заказов). Кроме того, стоит проверить распределение заказов между группами и влияние крупных покупателей на общую выручку."
   ]
  },
  {
   "cell_type": "markdown",
   "metadata": {},
   "source": [
    "### Кумулятивный средний чек по группам"
   ]
  },
  {
   "cell_type": "markdown",
   "metadata": {},
   "source": [
    "Построим график кумулятивного среднего чека по группам. Сделаем выводы и предположения."
   ]
  },
  {
   "cell_type": "code",
   "execution_count": 17,
   "metadata": {},
   "outputs": [
    {
     "data": {
      "image/png": "[encoded data removed]",
      "text/plain": [
       "<Figure size 1200x600 with 1 Axes>"
      ]
     },
     "metadata": {},
     "output_type": "display_data"
    }
   ],
   "source": [
    "# Расчет кумулятивных данных\n",
    "cumulative_orders = (\n",
    "    orders.groupby(['date', 'group'])\n",
    "    .agg({'transaction_id': 'count', 'revenue': 'sum'})\n",
    "    .rename(columns={'transaction_id': 'orders'})\n",
    "    .groupby(level=1).cumsum()\n",
    "    .reset_index()\n",
    ")\n",
    "\n",
    "# Расчет кумулятивного среднего чека\n",
    "cumulative_orders['avg_check'] = cumulative_orders['revenue'] / cumulative_orders['orders']\n",
    "\n",
    "# Построение графика\n",
    "plt.figure(figsize=(12, 6))\n",
    "sns.lineplot(data=cumulative_orders, x='date', y='avg_check', hue='group', marker='o')\n",
    "\n",
    "plt.title('Кумулятивный средний чек по группам', fontsize=14)\n",
    "plt.xlabel('Дата', fontsize=12)\n",
    "plt.ylabel('Кумулятивный средний чек', fontsize=12)\n",
    "plt.legend(title='Группа', fontsize=10)\n",
    "plt.xticks(rotation=45)\n",
    "plt.grid(True)\n",
    "plt.show()"
   ]
  },
  {
   "cell_type": "markdown",
   "metadata": {},
   "source": [
    "На графике видно, что кумулятивный средний чек группы B выше среднего чека группы A, особенно после резкого скачка около середины тестового периода. Это может быть связано с одной или несколькими крупными покупками в группе B, которые существенно увеличили средний чек. В группе A средний чек показывает более стабильный рост без резких колебаний, с небольшой просадкой в начале периоде и дальнейшей стабилизацией на уровне ~7000. \n",
    "\n",
    "Предположения:\n",
    "- Резкий рост среднего чека в группе B, вероятно, связан с выбросами (редкими крупными заказами), которые искажают реальную картину.\n",
    "- Группе A присуща более равномерная динамика среднего чека, что может говорить о большей однородности пользователей."
   ]
  },
  {
   "cell_type": "markdown",
   "metadata": {},
   "source": [
    "### Относительное изменение кумулятивного среднего чека"
   ]
  },
  {
   "cell_type": "markdown",
   "metadata": {},
   "source": [
    "Построим график относительного изменения кумулятивного среднего чека группы B к группе A. Сделаем выводы и предположения."
   ]
  },
  {
   "cell_type": "code",
   "execution_count": 18,
   "metadata": {},
   "outputs": [
    {
     "data": {
      "image/png": "[encoded data removed]",
      "text/plain": [
       "<Figure size 1200x600 with 1 Axes>"
      ]
     },
     "metadata": {},
     "output_type": "display_data"
    }
   ],
   "source": [
    "# Создание отдельного датафрейма для группы A\n",
    "cumulative_a = cumulative_orders[cumulative_orders['group'] == 'A'][['date', 'avg_check']].rename(columns={'avg_check': 'avg_check_a'})\n",
    "\n",
    "# Создание отдельного датафрейма для группы B\n",
    "cumulative_b = cumulative_orders[cumulative_orders['group'] == 'B'][['date', 'avg_check']].rename(columns={'avg_check': 'avg_check_b'})\n",
    "\n",
    "# Объединение данных\n",
    "cumulative_relative = pd.merge(cumulative_a, cumulative_b, on='date')\n",
    "\n",
    "# Расчет относительного изменения\n",
    "cumulative_relative['relative_change'] = cumulative_relative['avg_check_b'] / cumulative_relative['avg_check_a'] - 1\n",
    "\n",
    "# Построение графика\n",
    "plt.figure(figsize=(12, 6))\n",
    "plt.plot(cumulative_relative['date'], cumulative_relative['relative_change'], marker='o', label='Группа B относительно A')\n",
    "\n",
    "plt.axhline(y=0, color='gray', linestyle='--', label='Нет изменений')\n",
    "plt.title('Относительное изменение кумулятивного среднего чека группы B к группе A', fontsize=14)\n",
    "plt.xlabel('Дата', fontsize=12)\n",
    "plt.ylabel('Относительное изменение', fontsize=12)\n",
    "plt.xticks(rotation=45)\n",
    "plt.legend()\n",
    "plt.grid(True)\n",
    "plt.show()"
   ]
  },
  {
   "cell_type": "markdown",
   "metadata": {},
   "source": [
    "На графике видно, что относительное изменение кумулятивного среднего чека группы B к группе A сильно колебалось на протяжении теста. В начале теста группа B немного отставала от группы A (значения ниже 0), затем демонстрировала значительный рост до 08.08.2019. На графике видно, что до пикового значения группа A некоторое время имела более высокий средний чек по сравнению с группой B (график опускается ниже нуля 13.08). Однако после этого группа B демонстрировала значительный рост, достигнув пикового значения (примерно на 50% выше группы A) в середине теста. К концу теста относительное изменение снизилось, но группа B все же осталась выше группы A.\n",
    "\n",
    "Предположения:\n",
    "- Колебания могут быть связаны с аномалиями или крупными заказами в группе B.\n",
    "- Стабилизация к концу теста может говорить о том, что данные начинают отражать более реальную картину."
   ]
  },
  {
   "cell_type": "markdown",
   "metadata": {},
   "source": [
    "### Кумулятивное среднее количество заказов на посетителя по группам"
   ]
  },
  {
   "cell_type": "markdown",
   "metadata": {},
   "source": [
    "Построим график кумулятивного среднего количества заказов на посетителя по группам. Сделаем выводы и предположения."
   ]
  },
  {
   "cell_type": "code",
   "execution_count": 19,
   "metadata": {},
   "outputs": [
    {
     "data": {
      "image/png": "[encoded data removed]",
      "text/plain": [
       "<Figure size 1200x600 with 1 Axes>"
      ]
     },
     "metadata": {},
     "output_type": "display_data"
    }
   ],
   "source": [
    "# Подготовка данных: кумулятивное количество заказов и посетителей\n",
    "cumulative_visitors = visitors.groupby(['date', 'group']).agg({'visitors': 'sum'}).groupby(level=1).cumsum().reset_index()\n",
    "cumulative_orders_visitors = pd.merge(\n",
    "    cumulative_orders[['date', 'group', 'orders']],\n",
    "    cumulative_visitors,\n",
    "    on=['date', 'group']\n",
    ")\n",
    "\n",
    "# Расчет кумулятивного среднего количества заказов на посетителя\n",
    "cumulative_orders_visitors['orders_per_visitor'] = (\n",
    "    cumulative_orders_visitors['orders'] / cumulative_orders_visitors['visitors']\n",
    ")\n",
    "\n",
    "# Построение графика\n",
    "plt.figure(figsize=(12, 6))\n",
    "sns.lineplot(\n",
    "    data=cumulative_orders_visitors, \n",
    "    x='date', \n",
    "    y='orders_per_visitor', \n",
    "    hue='group', \n",
    "    marker='o'\n",
    ")\n",
    "\n",
    "plt.title('Кумулятивное среднее количество заказов на посетителя по группам', fontsize=14)\n",
    "plt.xlabel('Дата', fontsize=12)\n",
    "plt.ylabel('Среднее количество заказов на посетителя', fontsize=12)\n",
    "plt.legend(title='Группа', fontsize=10)\n",
    "plt.xticks(rotation=45)\n",
    "plt.grid(True)\n",
    "plt.show()"
   ]
  },
  {
   "cell_type": "markdown",
   "metadata": {},
   "source": [
    "На графике видно, что в начале теста группа A опережала группу B по среднему количеству заказов на посетителя, однако очень быстро группа B вырвалась вперед и сохраняла преимущество до конца теста. В группе A наблюдается более стабильное поведение показателя, тогда как в группе B присутствуют небольшие колебания.\n",
    "\n",
    "Выводы и предположения:\n",
    "- Группа B демонстрирует более высокую эффективность в привлечении заказов от посетителей, что может быть связано с более успешным изменением стратегии.\n",
    "- Колебания в группе B могут быть вызваны влиянием отдельных пиковых дней или активностью небольшого числа пользователей.\n",
    "- Группа A характеризуется более равномерным, но низким уровнем среднего количества заказов."
   ]
  },
  {
   "cell_type": "markdown",
   "metadata": {},
   "source": [
    "### Относительное изменение кумулятивного среднего количества заказов на посетителя"
   ]
  },
  {
   "cell_type": "markdown",
   "metadata": {},
   "source": [
    "Построим график относительного изменения кумулятивного среднего количества заказов на посетителя группы B к группе A. Сделаем выводы и предположения."
   ]
  },
  {
   "cell_type": "code",
   "execution_count": 20,
   "metadata": {},
   "outputs": [
    {
     "data": {
      "image/png": "[encoded data removed]",
      "text/plain": [
       "<Figure size 1200x600 with 1 Axes>"
      ]
     },
     "metadata": {},
     "output_type": "display_data"
    }
   ],
   "source": [
    "# Создание отдельного датафрейма для группы A\n",
    "cumulative_visitors_a = cumulative_orders_visitors[cumulative_orders_visitors['group'] == 'A'][['date', 'orders_per_visitor']].rename(columns={'orders_per_visitor': 'orders_per_visitor_a'})\n",
    "\n",
    "# Создание отдельного датафрейма для группы B\n",
    "cumulative_visitors_b = cumulative_orders_visitors[cumulative_orders_visitors['group'] == 'B'][['date', 'orders_per_visitor']].rename(columns={'orders_per_visitor': 'orders_per_visitor_b'})\n",
    "\n",
    "# Объединение данных\n",
    "cumulative_relative_orders = pd.merge(cumulative_visitors_a, cumulative_visitors_b, on='date')\n",
    "\n",
    "# Расчет относительного изменения\n",
    "cumulative_relative_orders['relative_change'] = cumulative_relative_orders['orders_per_visitor_b'] / cumulative_relative_orders['orders_per_visitor_a'] - 1\n",
    "\n",
    "# Построение графика\n",
    "plt.figure(figsize=(12, 6))\n",
    "plt.plot(cumulative_relative_orders['date'], cumulative_relative_orders['relative_change'], marker='o', label='Группа B относительно A')\n",
    "\n",
    "plt.axhline(y=0, color='gray', linestyle='--', label='Нет изменений')\n",
    "plt.title('Относительное изменение кумулятивного среднего количества заказов на посетителя группы B к группе A', fontsize=14)\n",
    "plt.xlabel('Дата', fontsize=12)\n",
    "plt.ylabel('Относительное изменение', fontsize=12)\n",
    "plt.xticks(rotation=45)\n",
    "plt.legend()\n",
    "plt.grid(True)\n",
    "plt.show()"
   ]
  },
  {
   "cell_type": "markdown",
   "metadata": {},
   "source": [
    "На графике видно, что, как мы уже ранее заметили, в начале теста группа B демонстрировала незначительное отставание от группы A по среднему количеству заказов на посетителя (значения ниже нуля). Однако уже после первых нескольких дней группа B начала показывать преимущество, стабильно опережая группу A до конца теста. Максимальное превышение достигало около 20%.\n",
    "\n",
    "Выводы и предположения:\n",
    "- Преимущество группы B над группой A говорит о том, что изменения, внедренные в группе B, положительно повлияли на вовлеченность пользователей в оформление заказов.\n",
    "- В начале теста разница между группами могла быть вызвана случайными колебаниями или небольшой выборкой, но с увеличением объема данных результаты стабилизировались.\n",
    "- Постоянное превышение показателя в группе B требует дополнительного анализа, чтобы подтвердить значимость улучшений."
   ]
  },
  {
   "cell_type": "markdown",
   "metadata": {},
   "source": [
    "### Количество заказов по пользователям"
   ]
  },
  {
   "cell_type": "markdown",
   "metadata": {},
   "source": [
    "Построим точечный график количества заказов по пользователям. Сделаем выводы и предположения."
   ]
  },
  {
   "cell_type": "code",
   "execution_count": 21,
   "metadata": {},
   "outputs": [
    {
     "data": {
      "image/png": "[encoded data removed]",
      "text/plain": [
       "<Figure size 1200x600 with 1 Axes>"
      ]
     },
     "metadata": {},
     "output_type": "display_data"
    }
   ],
   "source": [
    "# Подсчет количества заказов для каждого пользователя\n",
    "orders_per_user = orders.groupby('visitor_id').agg({'transaction_id': 'count'}).reset_index()\n",
    "orders_per_user.columns = ['visitor_id', 'orders']\n",
    "\n",
    "# Построение точечного графика\n",
    "plt.figure(figsize=(12, 6))\n",
    "sns.scatterplot(data=orders_per_user, x=range(len(orders_per_user)), y='orders', alpha=0.7)\n",
    "\n",
    "plt.title('Количество заказов по пользователям', fontsize=14)\n",
    "plt.xlabel('Индекс пользователя', fontsize=12)\n",
    "plt.ylabel('Количество заказов', fontsize=12)\n",
    "plt.grid(True)\n",
    "plt.show()"
   ]
  },
  {
   "cell_type": "markdown",
   "metadata": {},
   "source": [
    "На графике видно, что большинство пользователей совершили 1 или 2 заказа. Пользователи, сделавшие более 2 заказов, встречаются крайне редко, и их можно считать выбросами. Такие редкие значения (например, 5 или даже более 10 заказов) могут существенно влиять на средние показатели и искажать результаты анализа.\n",
    "\n",
    "Выводы и предположения:\n",
    "- Основная масса пользователей оформляет небольшое количество заказов, что соответствует обычному поведению в интернет-магазинах.\n",
    "- Пользователи с большим количеством заказов могут быть либо аномалиями, либо ценным сегментом лояльных клиентов.\n",
    "- Для более точного анализа стоит рассмотреть использование порогового значения (95-й или 99-й перцентили) для отсечения аномальных данных."
   ]
  },
  {
   "cell_type": "markdown",
   "metadata": {},
   "source": [
    "### 95-й и 99-й перцентили количества заказов на пользователя"
   ]
  },
  {
   "cell_type": "markdown",
   "metadata": {},
   "source": [
    "Посчитаем 95-й и 99-й перцентили количества заказов на пользователя. Выберем границу для определения аномальных пользователей."
   ]
  },
  {
   "cell_type": "code",
   "execution_count": 22,
   "metadata": {},
   "outputs": [
    {
     "name": "stdout",
     "output_type": "stream",
     "text": [
      "95-й перцентиль количества заказов на пользователя: 2.0\n",
      "99-й перцентиль количества заказов на пользователя: 4.0\n"
     ]
    }
   ],
   "source": [
    "# Распределение количества заказов на пользователя\n",
    "percentile_95 = np.percentile(orders_per_user['orders'], 95)\n",
    "percentile_99 = np.percentile(orders_per_user['orders'], 99)\n",
    "\n",
    "print(f\"95-й перцентиль количества заказов на пользователя: {percentile_95}\")\n",
    "print(f\"99-й перцентиль количества заказов на пользователя: {percentile_99}\")"
   ]
  },
  {
   "cell_type": "markdown",
   "metadata": {},
   "source": [
    "На основе расчета:\n",
    "- 95-й перцентиль показывает, что не более 5% пользователей сделали больше 2 заказов.\n",
    "- 99-й перцентиль показывает, что не более 1% пользователей сделали больше 4 заказов.\n",
    "\n",
    "Для отсечения аномальных пользователей оптимально использовать 95-й перцентиль, так как он исключает минимальное количество данных и сохраняет репрезентативность выборки. Это значит, что мы будем считать аномальными пользователей, сделавших 3 и более заказов."
   ]
  },
  {
   "cell_type": "markdown",
   "metadata": {},
   "source": [
    "### Стоимость заказов"
   ]
  },
  {
   "cell_type": "markdown",
   "metadata": {},
   "source": [
    "Построим точечный график стоимостей заказов. Сделаем выводы и предположения."
   ]
  },
  {
   "cell_type": "code",
   "execution_count": 23,
   "metadata": {},
   "outputs": [
    {
     "data": {
      "image/png": "[encoded data removed]",
      "text/plain": [
       "<Figure size 1200x600 with 1 Axes>"
      ]
     },
     "metadata": {},
     "output_type": "display_data"
    }
   ],
   "source": [
    "# Построение точечного графика стоимостей заказов\n",
    "plt.figure(figsize=(12, 6))\n",
    "sns.scatterplot(data=orders, x=range(len(orders)), y='revenue', alpha=0.7)\n",
    "\n",
    "plt.title('Распределение стоимостей заказов', fontsize=14)\n",
    "plt.xlabel('Индекс заказа', fontsize=12)\n",
    "plt.ylabel('Стоимость заказа', fontsize=12)\n",
    "plt.grid(True)\n",
    "plt.show()"
   ]
  },
  {
   "cell_type": "markdown",
   "metadata": {},
   "source": [
    "На графике видно, что большинство заказов имеют сравнительно низкую стоимость, распределенную в достаточно узком диапазоне, но при этом наблюдаются явные выбросы с очень высокими значениями. Один из заказов превышает 1.2 млн, что значительно выбивается из общего диапазона и может существенно искажать средние показатели.\n",
    "\n",
    "Выводы и предположения:\n",
    "- Большая часть заказов относится к относительно низкому ценовому сегменту, что характерно для большинства интернет-магазинов.\n",
    "- Высокие значения (выше 200 тыс. и особенно более 1 млн) являются выбросами. Они могут быть вызваны редкими крупными покупками или ошибками в данных.\n",
    "- Такие выбросы могут значительно влиять на расчет среднего чека, особенно в группе, где они находятся."
   ]
  },
  {
   "cell_type": "markdown",
   "metadata": {},
   "source": [
    "### 95-й и 99-й перцентили стоимости заказов"
   ]
  },
  {
   "cell_type": "markdown",
   "metadata": {},
   "source": [
    "Посчитаем 95-й и 99-й перцентили стоимости заказов. Выберем границу для определения аномальных заказов."
   ]
  },
  {
   "cell_type": "code",
   "execution_count": 24,
   "metadata": {},
   "outputs": [
    {
     "name": "stdout",
     "output_type": "stream",
     "text": [
      "95-й перцентиль стоимости заказов: 28000.000000000004\n",
      "99-й перцентиль стоимости заказов: 58233.19999999999\n"
     ]
    }
   ],
   "source": [
    "# Расчет перцентилей стоимости заказов\n",
    "revenue_percentile_95 = np.percentile(orders['revenue'], 95)\n",
    "revenue_percentile_99 = np.percentile(orders['revenue'], 99)\n",
    "\n",
    "print(f\"95-й перцентиль стоимости заказов: {revenue_percentile_95}\")\n",
    "print(f\"99-й перцентиль стоимости заказов: {revenue_percentile_99}\")"
   ]
  },
  {
   "cell_type": "markdown",
   "metadata": {},
   "source": [
    "На основе расчетов:\n",
    "- 95-й перцентиль показывает, что не более 5% заказов имеют стоимость выше 28,000.\n",
    "- 99-й перцентиль показывает, что не более 1% заказов имеют стоимость выше 58,233.\n",
    "\n",
    "Для отсечения аномальных заказов оптимально использовать 95-й перцентиль (28,000), так как это исключит минимальное количество данных и сохранит репрезентативность выборки. Заказы с большей стоимостью могут рассматриваться как выбросы, особенно учитывая их редкость."
   ]
  },
  {
   "cell_type": "markdown",
   "metadata": {},
   "source": [
    "### Различия в среднем количестве заказов на посетителя между группами по «сырым» данным"
   ]
  },
  {
   "cell_type": "markdown",
   "metadata": {},
   "source": [
    "Посчитаем статистическую значимость различий в среднем количестве заказов на посетителя между группами по «сырым» данным. Сделаем выводы и предположения."
   ]
  },
  {
   "cell_type": "code",
   "execution_count": 25,
   "metadata": {},
   "outputs": [
    {
     "name": "stdout",
     "output_type": "stream",
     "text": [
      "p-value: 0.01679\n",
      "Относительное различие: 0.138\n",
      "Различие статистически значимо при уровне значимости 0.05.\n"
     ]
    }
   ],
   "source": [
    "# Уровень значимости\n",
    "alpha = 0.05\n",
    "\n",
    "# Подготовка данных\n",
    "orders_by_users_a = orders[orders['group'] == 'A'].groupby('visitor_id', as_index=False).agg({'transaction_id': 'count'})\n",
    "orders_by_users_a.columns = ['visitor_id', 'orders']\n",
    "\n",
    "orders_by_users_b = orders[orders['group'] == 'B'].groupby('visitor_id', as_index=False).agg({'transaction_id': 'count'})\n",
    "orders_by_users_b.columns = ['visitor_id', 'orders']\n",
    "\n",
    "# Добавляем пользователей без заказов (совершили 0 заказов)\n",
    "sample_a = pd.concat([orders_by_users_a['orders'], pd.Series(0, index=np.arange(visitors[visitors['group'] == 'A']['visitors'].sum() - len(orders_by_users_a)))], ignore_index=True)\n",
    "sample_b = pd.concat([orders_by_users_b['orders'], pd.Series(0, index=np.arange(visitors[visitors['group'] == 'B']['visitors'].sum() - len(orders_by_users_b)))], ignore_index=True)\n",
    "\n",
    "# Критерий Манна-Уитни\n",
    "test_result = mannwhitneyu(sample_a, sample_b, alternative=\"two-sided\")\n",
    "p_value = test_result.pvalue\n",
    "relative_difference = (sample_b.mean() - sample_a.mean()) / sample_a.mean()\n",
    "\n",
    "# Вывод результатов\n",
    "print(f\"p-value: {p_value:.5f}\")\n",
    "print(f\"Относительное различие: {relative_difference:.3f}\")\n",
    "\n",
    "if p_value < alpha:\n",
    "    print(f\"Различие статистически значимо при уровне значимости {alpha}.\")\n",
    "else:\n",
    "    print(f\"Различие не является статистически значимым при уровне значимости {alpha}.\")"
   ]
  },
  {
   "cell_type": "markdown",
   "metadata": {},
   "source": [
    "Выводы:\n",
    "1. P-value составляет 0.01679, что меньше уровня значимости 0.05. Это означает, что различие в среднем количестве заказов на посетителя между группами A и B является статистически значимым.\n",
    "2. Группа B показывает на 13.8% большее среднее количество заказов на посетителя по сравнению с группой A.\n",
    "\n",
    "Предположения:\n",
    "- Статистически значимое различие указывает на то, что изменения, внедренные в группе B, положительно влияют на поведение пользователей, увеличивая среднее количество заказов.\n",
    "- Однако следует учитывать, что данные пока не очищены от аномалий, и высокие показатели могут быть вызваны выбросами."
   ]
  },
  {
   "cell_type": "markdown",
   "metadata": {},
   "source": [
    "### Различия в среднем чеке заказа между группами по «сырым» данным"
   ]
  },
  {
   "cell_type": "markdown",
   "metadata": {},
   "source": [
    "Посчитаем статистическую значимость различий в среднем чеке заказа между группами по «сырым» данным. Сделаем выводы и предположения."
   ]
  },
  {
   "cell_type": "code",
   "execution_count": 26,
   "metadata": {},
   "outputs": [
    {
     "name": "stdout",
     "output_type": "stream",
     "text": [
      "p-value: 0.72929\n",
      "Относительное различие: 0.259\n",
      "Различие в среднем чеке не является статистически значимым при уровне значимости 0.05.\n"
     ]
    }
   ],
   "source": [
    "# Критерий Манна-Уитни для среднего чека\n",
    "test_result_revenue = mannwhitneyu(\n",
    "    orders[orders['group'] == 'A']['revenue'], \n",
    "    orders[orders['group'] == 'B']['revenue'], \n",
    "    alternative=\"two-sided\"\n",
    ")\n",
    "\n",
    "p_value_revenue = test_result_revenue.pvalue\n",
    "relative_difference_revenue = (\n",
    "    orders[orders['group'] == 'B']['revenue'].mean() - orders[orders['group'] == 'A']['revenue'].mean()\n",
    ") / orders[orders['group'] == 'A']['revenue'].mean()\n",
    "\n",
    "# Уровень значимости\n",
    "alpha = 0.05\n",
    "\n",
    "# Вывод результатов\n",
    "print(f\"p-value: {p_value_revenue:.5f}\")\n",
    "print(f\"Относительное различие: {relative_difference_revenue:.3f}\")\n",
    "\n",
    "if p_value_revenue < alpha:\n",
    "    print(f\"Различие в среднем чеке статистически значимо при уровне значимости {alpha}.\")\n",
    "else:\n",
    "    print(f\"Различие в среднем чеке не является статистически значимым при уровне значимости {alpha}.\")"
   ]
  },
  {
   "cell_type": "markdown",
   "metadata": {},
   "source": [
    "Выводы:\n",
    "1. p-value составляет 0.72929, что больше уровня значимости 0.05. Это означает, что различие в среднем чеке между группами A и B не является статистически значимым.\n",
    "2. Мы не можем отвергнуть нулевую гипотезу о том, что средние чеки в группах одинаковы.\n",
    "3. Средний чек группы B на 25.9% больше, чем у группы A, но это различие не может быть признано значимым из-за большого p-value.\n",
    "\n",
    "Предположения:\n",
    "- Хотя средний чек группы B визуально выше, это различие может быть вызвано выбросами (очень крупными заказами), которые существенно увеличивают среднее значение.\n",
    "- Отсутствие статистической значимости указывает на то, что, вероятно, изменения в группе B не оказали влияния на средний чек."
   ]
  },
  {
   "cell_type": "markdown",
   "metadata": {},
   "source": [
    "### Различий в среднем количестве заказов на посетителя между группами по «очищенным» данным"
   ]
  },
  {
   "cell_type": "markdown",
   "metadata": {},
   "source": [
    "Посчитаем статистическую значимость различий в среднем количестве заказов на посетителя между группами по «очищенным» данным. Сделаем выводы и предположения."
   ]
  },
  {
   "cell_type": "code",
   "execution_count": 27,
   "metadata": {},
   "outputs": [],
   "source": [
    "# Расчет перцентилей для автоматической фильтрации\n",
    "orders_threshold = np.percentile(orders_per_user['orders'], 95)  # 95-й перцентиль количества заказов\n",
    "revenue_threshold = np.percentile(orders['revenue'], 95)  # 95-й перцентиль стоимости заказов\n",
    "\n",
    "# Определение аномальных пользователей\n",
    "users_with_many_orders = orders.groupby('visitor_id').agg({'transaction_id': 'count'}).query(f'transaction_id >= {orders_threshold}').index\n",
    "users_with_expensive_orders = orders.query(f'revenue > {revenue_threshold}')['visitor_id'].unique()\n",
    "abnormal_users = set(users_with_many_orders).union(users_with_expensive_orders)\n",
    "\n",
    "# Исключение аномальных пользователей из данных\n",
    "filtered_orders = orders[~orders['visitor_id'].isin(abnormal_users)]"
   ]
  },
  {
   "cell_type": "code",
   "execution_count": 28,
   "metadata": {},
   "outputs": [
    {
     "name": "stdout",
     "output_type": "stream",
     "text": [
      "p-value: 0.01236\n",
      "Относительное различие: 0.181\n",
      "Различие в среднем количестве заказов статистически значимо при уровне значимости 0.05.\n"
     ]
    }
   ],
   "source": [
    "# Подготовка данных для анализа\n",
    "filtered_orders_by_users_a = filtered_orders[filtered_orders['group'] == 'A'].groupby('visitor_id', as_index=False).agg({'transaction_id': 'count'})\n",
    "filtered_orders_by_users_a.columns = ['visitor_id', 'orders']\n",
    "\n",
    "filtered_orders_by_users_b = filtered_orders[filtered_orders['group'] == 'B'].groupby('visitor_id', as_index=False).agg({'transaction_id': 'count'})\n",
    "filtered_orders_by_users_b.columns = ['visitor_id', 'orders']\n",
    "\n",
    "# Добавление пользователей без заказов\n",
    "filtered_sample_a = pd.concat([filtered_orders_by_users_a['orders'], pd.Series(0, index=np.arange(visitors[visitors['group'] == 'A']['visitors'].sum() - len(filtered_orders_by_users_a)))], ignore_index=True)\n",
    "filtered_sample_b = pd.concat([filtered_orders_by_users_b['orders'], pd.Series(0, index=np.arange(visitors[visitors['group'] == 'B']['visitors'].sum() - len(filtered_orders_by_users_b)))], ignore_index=True)\n",
    "\n",
    "# Критерий Манна-Уитни для очищенных данных\n",
    "test_result_filtered = mannwhitneyu(filtered_sample_a, filtered_sample_b, alternative=\"two-sided\")\n",
    "p_value_filtered = test_result_filtered.pvalue\n",
    "relative_difference_filtered = (filtered_sample_b.mean() - filtered_sample_a.mean()) / filtered_sample_a.mean()\n",
    "\n",
    "# Уровень значимости\n",
    "alpha = 0.05\n",
    "\n",
    "# Вывод результатов\n",
    "print(f\"p-value: {p_value_filtered:.5f}\")\n",
    "print(f\"Относительное различие: {relative_difference_filtered:.3f}\")\n",
    "\n",
    "if p_value_filtered < alpha:\n",
    "    print(f\"Различие в среднем количестве заказов статистически значимо при уровне значимости {alpha}.\")\n",
    "else:\n",
    "    print(f\"Различие в среднем количестве заказов не является статистически значимым при уровне значимости {alpha}.\")"
   ]
  },
  {
   "cell_type": "markdown",
   "metadata": {},
   "source": [
    "Выводы:\n",
    "1. P-value составляет 0.01236, что меньше уровня значимости 0.05. Это указывает на то, что различие в среднем количестве заказов на посетителя между группами A и B по очищенным данным является статистически значимым.\n",
    "2. Среднее количество заказов на посетителя в группе B на 18.1% выше, чем в группе A. Это говорит о том, что изменения, внедренные в группе B, действительно оказывают положительное влияние на количество заказов.\n",
    "\n",
    "Предположения:\n",
    "- После фильтрации аномальных пользователей разница между группами осталась статистически значимой, что подтверждает положительный эффект изменений в группе B.\n",
    "- Очистка данных позволила исключить влияние выбросов, что сделало результаты более надежными и точными."
   ]
  },
  {
   "cell_type": "markdown",
   "metadata": {},
   "source": [
    "### Различия в среднем чеке заказа между группами по «очищенным» данным"
   ]
  },
  {
   "cell_type": "markdown",
   "metadata": {},
   "source": [
    "Посчитаем статистическую значимость различий в среднем чеке заказа между группами по «очищенным» данным. Сделаем выводы и предположения."
   ]
  },
  {
   "cell_type": "code",
   "execution_count": 29,
   "metadata": {},
   "outputs": [
    {
     "name": "stdout",
     "output_type": "stream",
     "text": [
      "p-value: 0.85100\n",
      "Относительное различие: -0.006\n",
      "Различие в среднем чеке не является статистически значимым при уровне значимости 0.05.\n"
     ]
    }
   ],
   "source": [
    "# Критерий Манна-Уитни для среднего чека по очищенным данным\n",
    "test_result_revenue_filtered = mannwhitneyu(\n",
    "    filtered_orders[filtered_orders['group'] == 'A']['revenue'], \n",
    "    filtered_orders[filtered_orders['group'] == 'B']['revenue'], \n",
    "    alternative=\"two-sided\"\n",
    ")\n",
    "\n",
    "p_value_revenue_filtered = test_result_revenue_filtered.pvalue\n",
    "relative_difference_revenue_filtered = (\n",
    "    filtered_orders[filtered_orders['group'] == 'B']['revenue'].mean() - \n",
    "    filtered_orders[filtered_orders['group'] == 'A']['revenue'].mean()\n",
    ") / filtered_orders[filtered_orders['group'] == 'A']['revenue'].mean()\n",
    "\n",
    "# Уровень значимости\n",
    "alpha = 0.05\n",
    "\n",
    "# Вывод результатов\n",
    "print(f\"p-value: {p_value_revenue_filtered:.5f}\")\n",
    "print(f\"Относительное различие: {relative_difference_revenue_filtered:.3f}\")\n",
    "\n",
    "if p_value_revenue_filtered < alpha:\n",
    "    print(f\"Различие в среднем чеке статистически значимо при уровне значимости {alpha}.\")\n",
    "else:\n",
    "    print(f\"Различие в среднем чеке не является статистически значимым при уровне значимости {alpha}.\")"
   ]
  },
  {
   "cell_type": "markdown",
   "metadata": {},
   "source": [
    "Выводы:\n",
    "1. P-value составляет 0.85100, что больше уровня значимости 0.05. Это указывает на отсутствие статистически значимых различий в среднем чеке заказа между группами A и B по очищенным данным.\n",
    "2. Нулевую гипотезу о равенстве среднего чека между группами нельзя отвергнуть.\n",
    "3. Средний чек группы B оказался на 0.6% ниже, чем в группе A, но это различие настолько мало, что, вероятно, является результатом случайных колебаний.\n",
    "\n",
    "Предположения:\n",
    "- После удаления аномально дорогих заказов влияние выбросов на данные исчезло, и различия между группами оказались практически незаметными.\n",
    "- Это подтверждает, что изменения в группе B не повлияли на средний чек заказов."
   ]
  },
  {
   "cell_type": "markdown",
   "metadata": {},
   "source": [
    "### Решение по результатам теста"
   ]
  },
  {
   "cell_type": "markdown",
   "metadata": {},
   "source": [
    "Примем решение по результатам теста и объясним его. Варианты решений:\n",
    "1. Остановить тест, зафиксировать победу одной из групп.\n",
    "2. Остановить тест, зафиксировать отсутствие различий между группами.\n",
    "3. Продолжить тест."
   ]
  },
  {
   "cell_type": "markdown",
   "metadata": {},
   "source": [
    "Мы принимаем решение остановить тест и зафиксировать победу группы B. Это основано на том, что группа B показывает статистически значимое увеличение среднего количества заказов на посетителя на 18.1% (p-value = 0.01236) по сравнению с группой A. Это ключевой показатель, демонстрирующий положительное влияние изменений в группе B.\n",
    "\n",
    "Различия в среднем чеке заказа между группами не являются статистически значимыми (p-value = 0.85100). Однако это не влияет на общее решение, так как увеличение количества заказов при неизменном среднем чеке приводит к росту выручки. После удаления аномалий различия в среднем количестве заказов остались статистически значимыми, что подтверждает надежность результата.\n",
    "\n",
    "Продолжение теста нецелесообразно, так как статистическая значимость уже достигнута, и дополнительные данные вряд ли изменят выводы. Мы рекомендуем зафиксировать победу группы B и масштабировать изменения на всю аудиторию, так как они положительно влияют на ключевые показатели бизнеса."
   ]
  },
  {
   "cell_type": "markdown",
   "metadata": {},
   "source": [
    "## Заключение и выводы"
   ]
  },
  {
   "cell_type": "markdown",
   "metadata": {},
   "source": [
    "Таким образом, была выполнена работа в качестве аналитика крупного интернет-магазина. Мы провели приоритизацию гипотез с использованием фреймворков ICE и RICE. Учет охвата (Reach) в формуле RICE позволил определить более масштабные гипотезы как приоритетные. В результате лидером стала гипотеза о добавлении формы подписки, которая охватывает широкую аудиторию.\n",
    "\n",
    "Анализ A/B-теста показал, что группа B опережает группу A по количеству заказов и демонстрирует положительную динамику. Средний чек группы B был выше, но имел сильные выбросы. После анализа распределения заказов и их стоимости были выявлены аномальные пользователи, что позволило исключить их для повышения точности теста.\n",
    "\n",
    "Статистический анализ показал, что по сырым данным группа B увеличила среднее количество заказов на посетителя на 13.8%. После очистки данных результаты остались статистически значимыми, и группа B показала прирост в 18.1%. Различия в среднем чеке между группами не являются статистически значимыми, что подтверждает стабильность этого показателя.\n",
    "\n",
    "На основе результатов теста принято решение зафиксировать победу группы B. Изменения, внедренные в этой группе, положительно влияют на количество заказов, что способствует увеличению выручки. Рекомендуется масштабировать изменения на всю аудиторию. Это подтверждает, что систематический подход к приоритизации гипотез и анализу A/B-тестов позволяет принимать обоснованные решения для роста ключевых бизнес-показателей."
   ]
  }
 ],
 "metadata": {
  "ExecuteTimeLog": [
   {
    "duration": 1247,
    "start_time": "2024-11-26T10:54:10.841Z"
   },
   {
    "duration": 79,
    "start_time": "2024-11-26T11:03:03.942Z"
   },
   {
    "duration": 10,
    "start_time": "2024-11-26T11:03:15.186Z"
   },
   {
    "duration": 109,
    "start_time": "2024-11-26T11:05:29.388Z"
   },
   {
    "duration": 57,
    "start_time": "2024-11-26T11:05:46.307Z"
   },
   {
    "duration": 57,
    "start_time": "2024-11-26T11:06:13.203Z"
   },
   {
    "duration": 9,
    "start_time": "2024-11-26T11:06:15.098Z"
   },
   {
    "duration": 84,
    "start_time": "2024-11-26T11:06:59.527Z"
   },
   {
    "duration": 10,
    "start_time": "2024-11-26T11:07:04.867Z"
   },
   {
    "duration": 56,
    "start_time": "2024-11-27T08:29:39.153Z"
   },
   {
    "duration": 1397,
    "start_time": "2024-11-27T08:29:48.279Z"
   },
   {
    "duration": 82,
    "start_time": "2024-11-27T08:29:49.678Z"
   },
   {
    "duration": 12,
    "start_time": "2024-11-27T08:29:49.762Z"
   },
   {
    "duration": 103,
    "start_time": "2024-11-27T08:29:49.776Z"
   },
   {
    "duration": 15,
    "start_time": "2024-11-27T08:29:49.882Z"
   },
   {
    "duration": 82,
    "start_time": "2024-11-27T08:29:49.899Z"
   },
   {
    "duration": 12,
    "start_time": "2024-11-27T08:29:49.983Z"
   },
   {
    "duration": 11,
    "start_time": "2024-11-27T08:29:49.996Z"
   },
   {
    "duration": 10,
    "start_time": "2024-11-27T08:30:38.351Z"
   },
   {
    "duration": 5,
    "start_time": "2024-11-27T08:33:46.493Z"
   },
   {
    "duration": 3,
    "start_time": "2024-11-27T08:36:20.393Z"
   },
   {
    "duration": 31,
    "start_time": "2024-11-27T08:37:28.940Z"
   },
   {
    "duration": 338,
    "start_time": "2024-11-27T08:37:54.235Z"
   },
   {
    "duration": 1252,
    "start_time": "2024-11-27T08:38:07.399Z"
   },
   {
    "duration": 37,
    "start_time": "2024-11-27T08:38:08.653Z"
   },
   {
    "duration": 12,
    "start_time": "2024-11-27T08:38:08.692Z"
   },
   {
    "duration": 57,
    "start_time": "2024-11-27T08:38:08.705Z"
   },
   {
    "duration": 10,
    "start_time": "2024-11-27T08:38:08.764Z"
   },
   {
    "duration": 31,
    "start_time": "2024-11-27T08:38:08.776Z"
   },
   {
    "duration": 10,
    "start_time": "2024-11-27T08:38:08.809Z"
   },
   {
    "duration": 12,
    "start_time": "2024-11-27T08:38:08.821Z"
   },
   {
    "duration": 18,
    "start_time": "2024-11-27T08:38:08.835Z"
   },
   {
    "duration": 10,
    "start_time": "2024-11-27T08:38:08.854Z"
   },
   {
    "duration": 21,
    "start_time": "2024-11-27T08:38:08.865Z"
   },
   {
    "duration": 6,
    "start_time": "2024-11-27T08:44:24.474Z"
   },
   {
    "duration": 4,
    "start_time": "2024-11-27T08:45:01.247Z"
   },
   {
    "duration": 17,
    "start_time": "2024-11-27T08:45:58.206Z"
   },
   {
    "duration": 1218,
    "start_time": "2024-11-27T08:49:32.842Z"
   },
   {
    "duration": 36,
    "start_time": "2024-11-27T08:49:34.062Z"
   },
   {
    "duration": 11,
    "start_time": "2024-11-27T08:49:34.100Z"
   },
   {
    "duration": 56,
    "start_time": "2024-11-27T08:49:34.112Z"
   },
   {
    "duration": 10,
    "start_time": "2024-11-27T08:49:34.171Z"
   },
   {
    "duration": 25,
    "start_time": "2024-11-27T08:49:34.183Z"
   },
   {
    "duration": 19,
    "start_time": "2024-11-27T08:49:34.210Z"
   },
   {
    "duration": 17,
    "start_time": "2024-11-27T08:49:34.230Z"
   },
   {
    "duration": 45,
    "start_time": "2024-11-27T08:49:34.248Z"
   },
   {
    "duration": 22,
    "start_time": "2024-11-27T08:49:34.294Z"
   },
   {
    "duration": 35,
    "start_time": "2024-11-27T08:49:34.318Z"
   },
   {
    "duration": 16,
    "start_time": "2024-11-27T08:49:34.355Z"
   },
   {
    "duration": 20,
    "start_time": "2024-11-27T08:49:34.372Z"
   },
   {
    "duration": 15,
    "start_time": "2024-11-27T08:49:34.395Z"
   },
   {
    "duration": 325,
    "start_time": "2024-11-27T08:58:25.134Z"
   },
   {
    "duration": 313,
    "start_time": "2024-11-27T08:59:22.855Z"
   },
   {
    "duration": 1230,
    "start_time": "2024-11-27T09:18:57.150Z"
   },
   {
    "duration": 38,
    "start_time": "2024-11-27T09:18:58.381Z"
   },
   {
    "duration": 12,
    "start_time": "2024-11-27T09:18:58.421Z"
   },
   {
    "duration": 44,
    "start_time": "2024-11-27T09:18:58.435Z"
   },
   {
    "duration": 11,
    "start_time": "2024-11-27T09:18:58.482Z"
   },
   {
    "duration": 34,
    "start_time": "2024-11-27T09:18:58.495Z"
   },
   {
    "duration": 10,
    "start_time": "2024-11-27T09:18:58.531Z"
   },
   {
    "duration": 25,
    "start_time": "2024-11-27T09:18:58.543Z"
   },
   {
    "duration": 13,
    "start_time": "2024-11-27T09:18:58.571Z"
   },
   {
    "duration": 10,
    "start_time": "2024-11-27T09:18:58.586Z"
   },
   {
    "duration": 27,
    "start_time": "2024-11-27T09:18:58.598Z"
   },
   {
    "duration": 25,
    "start_time": "2024-11-27T09:18:58.626Z"
   },
   {
    "duration": 26,
    "start_time": "2024-11-27T09:18:58.653Z"
   },
   {
    "duration": 17,
    "start_time": "2024-11-27T09:18:58.683Z"
   },
   {
    "duration": 405,
    "start_time": "2024-11-27T09:18:58.702Z"
   },
   {
    "duration": 1223,
    "start_time": "2024-11-27T09:20:08.548Z"
   },
   {
    "duration": 37,
    "start_time": "2024-11-27T09:20:09.773Z"
   },
   {
    "duration": 24,
    "start_time": "2024-11-27T09:20:09.812Z"
   },
   {
    "duration": 76,
    "start_time": "2024-11-27T09:20:09.838Z"
   },
   {
    "duration": 13,
    "start_time": "2024-11-27T09:20:09.917Z"
   },
   {
    "duration": 40,
    "start_time": "2024-11-27T09:20:09.932Z"
   },
   {
    "duration": 18,
    "start_time": "2024-11-27T09:20:09.974Z"
   },
   {
    "duration": 12,
    "start_time": "2024-11-27T09:20:09.994Z"
   },
   {
    "duration": 12,
    "start_time": "2024-11-27T09:20:10.008Z"
   },
   {
    "duration": 20,
    "start_time": "2024-11-27T09:20:10.022Z"
   },
   {
    "duration": 23,
    "start_time": "2024-11-27T09:20:10.044Z"
   },
   {
    "duration": 10,
    "start_time": "2024-11-27T09:20:10.069Z"
   },
   {
    "duration": 7,
    "start_time": "2024-11-27T09:20:10.081Z"
   },
   {
    "duration": 16,
    "start_time": "2024-11-27T09:20:10.090Z"
   },
   {
    "duration": 367,
    "start_time": "2024-11-27T09:20:10.107Z"
   },
   {
    "duration": 1229,
    "start_time": "2024-11-27T09:21:37.930Z"
   },
   {
    "duration": 36,
    "start_time": "2024-11-27T09:21:39.161Z"
   },
   {
    "duration": 12,
    "start_time": "2024-11-27T09:21:39.198Z"
   },
   {
    "duration": 66,
    "start_time": "2024-11-27T09:21:39.212Z"
   },
   {
    "duration": 11,
    "start_time": "2024-11-27T09:21:39.279Z"
   },
   {
    "duration": 30,
    "start_time": "2024-11-27T09:21:39.292Z"
   },
   {
    "duration": 13,
    "start_time": "2024-11-27T09:21:39.323Z"
   },
   {
    "duration": 30,
    "start_time": "2024-11-27T09:21:39.338Z"
   },
   {
    "duration": 23,
    "start_time": "2024-11-27T09:21:39.370Z"
   },
   {
    "duration": 18,
    "start_time": "2024-11-27T09:21:39.396Z"
   },
   {
    "duration": 36,
    "start_time": "2024-11-27T09:21:39.416Z"
   },
   {
    "duration": 25,
    "start_time": "2024-11-27T09:21:39.453Z"
   },
   {
    "duration": 19,
    "start_time": "2024-11-27T09:21:39.480Z"
   },
   {
    "duration": 33,
    "start_time": "2024-11-27T09:21:39.501Z"
   },
   {
    "duration": 396,
    "start_time": "2024-11-27T09:21:39.536Z"
   },
   {
    "duration": 55,
    "start_time": "2024-11-27T12:30:11.993Z"
   },
   {
    "duration": 1424,
    "start_time": "2024-11-27T12:30:17.549Z"
   },
   {
    "duration": 82,
    "start_time": "2024-11-27T12:30:18.975Z"
   },
   {
    "duration": 13,
    "start_time": "2024-11-27T12:30:19.059Z"
   },
   {
    "duration": 109,
    "start_time": "2024-11-27T12:30:19.075Z"
   },
   {
    "duration": 13,
    "start_time": "2024-11-27T12:30:19.186Z"
   },
   {
    "duration": 81,
    "start_time": "2024-11-27T12:30:19.201Z"
   },
   {
    "duration": 10,
    "start_time": "2024-11-27T12:30:19.283Z"
   },
   {
    "duration": 10,
    "start_time": "2024-11-27T12:30:19.296Z"
   },
   {
    "duration": 10,
    "start_time": "2024-11-27T12:30:19.308Z"
   },
   {
    "duration": 10,
    "start_time": "2024-11-27T12:30:19.320Z"
   },
   {
    "duration": 21,
    "start_time": "2024-11-27T12:30:19.332Z"
   },
   {
    "duration": 7,
    "start_time": "2024-11-27T12:30:19.355Z"
   },
   {
    "duration": 7,
    "start_time": "2024-11-27T12:30:19.364Z"
   },
   {
    "duration": 17,
    "start_time": "2024-11-27T12:30:19.373Z"
   },
   {
    "duration": 404,
    "start_time": "2024-11-27T12:30:19.391Z"
   },
   {
    "duration": 299,
    "start_time": "2024-11-27T12:30:19.796Z"
   },
   {
    "duration": 428,
    "start_time": "2024-11-27T12:35:36.405Z"
   },
   {
    "duration": 341,
    "start_time": "2024-11-27T12:44:47.234Z"
   },
   {
    "duration": 383,
    "start_time": "2024-11-27T12:47:32.504Z"
   },
   {
    "duration": 181,
    "start_time": "2024-11-27T12:50:54.478Z"
   },
   {
    "duration": 7,
    "start_time": "2024-11-27T12:55:22.385Z"
   },
   {
    "duration": 226,
    "start_time": "2024-11-27T12:58:01.092Z"
   },
   {
    "duration": 5,
    "start_time": "2024-11-27T12:59:31.224Z"
   },
   {
    "duration": 112,
    "start_time": "2024-11-27T13:01:44.659Z"
   },
   {
    "duration": 62,
    "start_time": "2024-11-27T13:02:57.677Z"
   },
   {
    "duration": 14,
    "start_time": "2024-11-27T13:05:35.512Z"
   },
   {
    "duration": 17,
    "start_time": "2024-11-27T13:09:21.238Z"
   },
   {
    "duration": 38,
    "start_time": "2024-11-27T13:09:38.995Z"
   },
   {
    "duration": 13,
    "start_time": "2024-11-27T13:11:29.524Z"
   },
   {
    "duration": 1280,
    "start_time": "2024-11-27T13:20:11.779Z"
   },
   {
    "duration": 38,
    "start_time": "2024-11-27T13:20:13.061Z"
   },
   {
    "duration": 12,
    "start_time": "2024-11-27T13:20:13.100Z"
   },
   {
    "duration": 74,
    "start_time": "2024-11-27T13:20:13.115Z"
   },
   {
    "duration": 11,
    "start_time": "2024-11-27T13:20:13.190Z"
   },
   {
    "duration": 33,
    "start_time": "2024-11-27T13:20:13.203Z"
   },
   {
    "duration": 10,
    "start_time": "2024-11-27T13:20:13.238Z"
   },
   {
    "duration": 38,
    "start_time": "2024-11-27T13:20:13.250Z"
   },
   {
    "duration": 29,
    "start_time": "2024-11-27T13:20:13.289Z"
   },
   {
    "duration": 30,
    "start_time": "2024-11-27T13:20:13.320Z"
   },
   {
    "duration": 35,
    "start_time": "2024-11-27T13:20:13.352Z"
   },
   {
    "duration": 18,
    "start_time": "2024-11-27T13:20:13.388Z"
   },
   {
    "duration": 21,
    "start_time": "2024-11-27T13:20:13.407Z"
   },
   {
    "duration": 31,
    "start_time": "2024-11-27T13:20:13.429Z"
   },
   {
    "duration": 412,
    "start_time": "2024-11-27T13:20:13.461Z"
   },
   {
    "duration": 305,
    "start_time": "2024-11-27T13:20:13.874Z"
   },
   {
    "duration": 390,
    "start_time": "2024-11-27T13:20:14.181Z"
   },
   {
    "duration": 335,
    "start_time": "2024-11-27T13:20:14.572Z"
   },
   {
    "duration": 426,
    "start_time": "2024-11-27T13:20:14.909Z"
   },
   {
    "duration": 191,
    "start_time": "2024-11-27T13:20:15.337Z"
   },
   {
    "duration": 6,
    "start_time": "2024-11-27T13:20:15.530Z"
   },
   {
    "duration": 250,
    "start_time": "2024-11-27T13:20:15.537Z"
   },
   {
    "duration": 5,
    "start_time": "2024-11-27T13:20:15.789Z"
   },
   {
    "duration": 154,
    "start_time": "2024-11-27T13:20:15.795Z"
   },
   {
    "duration": 12,
    "start_time": "2024-11-27T13:20:15.951Z"
   },
   {
    "duration": 20,
    "start_time": "2024-11-27T13:20:15.965Z"
   },
   {
    "duration": 53,
    "start_time": "2024-11-27T13:20:15.987Z"
   },
   {
    "duration": 12,
    "start_time": "2024-11-27T13:20:16.043Z"
   },
   {
    "duration": 1273,
    "start_time": "2024-11-27T13:22:07.833Z"
   },
   {
    "duration": 45,
    "start_time": "2024-11-27T13:22:09.108Z"
   },
   {
    "duration": 11,
    "start_time": "2024-11-27T13:22:09.155Z"
   },
   {
    "duration": 59,
    "start_time": "2024-11-27T13:22:09.169Z"
   },
   {
    "duration": 10,
    "start_time": "2024-11-27T13:22:09.230Z"
   },
   {
    "duration": 34,
    "start_time": "2024-11-27T13:22:09.242Z"
   },
   {
    "duration": 10,
    "start_time": "2024-11-27T13:22:09.278Z"
   },
   {
    "duration": 13,
    "start_time": "2024-11-27T13:22:09.290Z"
   },
   {
    "duration": 17,
    "start_time": "2024-11-27T13:22:09.304Z"
   },
   {
    "duration": 4,
    "start_time": "2024-11-27T13:22:09.323Z"
   },
   {
    "duration": 22,
    "start_time": "2024-11-27T13:22:09.328Z"
   },
   {
    "duration": 15,
    "start_time": "2024-11-27T13:22:09.352Z"
   },
   {
    "duration": 17,
    "start_time": "2024-11-27T13:22:09.369Z"
   },
   {
    "duration": 24,
    "start_time": "2024-11-27T13:22:09.389Z"
   },
   {
    "duration": 475,
    "start_time": "2024-11-27T13:22:09.414Z"
   },
   {
    "duration": 321,
    "start_time": "2024-11-27T13:22:09.891Z"
   },
   {
    "duration": 386,
    "start_time": "2024-11-27T13:22:10.214Z"
   },
   {
    "duration": 345,
    "start_time": "2024-11-27T13:22:10.602Z"
   },
   {
    "duration": 366,
    "start_time": "2024-11-27T13:22:10.949Z"
   },
   {
    "duration": 176,
    "start_time": "2024-11-27T13:22:11.317Z"
   },
   {
    "duration": 6,
    "start_time": "2024-11-27T13:22:11.496Z"
   },
   {
    "duration": 222,
    "start_time": "2024-11-27T13:22:11.519Z"
   },
   {
    "duration": 7,
    "start_time": "2024-11-27T13:22:11.743Z"
   },
   {
    "duration": 161,
    "start_time": "2024-11-27T13:22:11.752Z"
   },
   {
    "duration": 15,
    "start_time": "2024-11-27T13:22:11.918Z"
   },
   {
    "duration": 13,
    "start_time": "2024-11-27T13:22:11.934Z"
   },
   {
    "duration": 39,
    "start_time": "2024-11-27T13:22:11.949Z"
   },
   {
    "duration": 15,
    "start_time": "2024-11-27T13:22:12.017Z"
   },
   {
    "duration": 1228,
    "start_time": "2024-11-27T13:24:40.766Z"
   },
   {
    "duration": 40,
    "start_time": "2024-11-27T13:24:41.997Z"
   },
   {
    "duration": 12,
    "start_time": "2024-11-27T13:24:42.039Z"
   },
   {
    "duration": 93,
    "start_time": "2024-11-27T13:24:42.053Z"
   },
   {
    "duration": 11,
    "start_time": "2024-11-27T13:24:42.149Z"
   },
   {
    "duration": 59,
    "start_time": "2024-11-27T13:24:42.162Z"
   },
   {
    "duration": 14,
    "start_time": "2024-11-27T13:24:42.223Z"
   },
   {
    "duration": 69,
    "start_time": "2024-11-27T13:24:42.240Z"
   },
   {
    "duration": 27,
    "start_time": "2024-11-27T13:24:42.311Z"
   },
   {
    "duration": 15,
    "start_time": "2024-11-27T13:24:42.340Z"
   },
   {
    "duration": 20,
    "start_time": "2024-11-27T13:24:42.358Z"
   },
   {
    "duration": 15,
    "start_time": "2024-11-27T13:24:42.380Z"
   },
   {
    "duration": 5,
    "start_time": "2024-11-27T13:24:42.396Z"
   },
   {
    "duration": 22,
    "start_time": "2024-11-27T13:24:42.403Z"
   },
   {
    "duration": 432,
    "start_time": "2024-11-27T13:24:42.427Z"
   },
   {
    "duration": 351,
    "start_time": "2024-11-27T13:24:42.861Z"
   },
   {
    "duration": 448,
    "start_time": "2024-11-27T13:24:43.218Z"
   },
   {
    "duration": 386,
    "start_time": "2024-11-27T13:24:43.669Z"
   },
   {
    "duration": 434,
    "start_time": "2024-11-27T13:24:44.057Z"
   },
   {
    "duration": 186,
    "start_time": "2024-11-27T13:24:44.492Z"
   },
   {
    "duration": 5,
    "start_time": "2024-11-27T13:24:44.680Z"
   },
   {
    "duration": 210,
    "start_time": "2024-11-27T13:24:44.687Z"
   },
   {
    "duration": 6,
    "start_time": "2024-11-27T13:24:44.898Z"
   },
   {
    "duration": 143,
    "start_time": "2024-11-27T13:24:44.905Z"
   },
   {
    "duration": 68,
    "start_time": "2024-11-27T13:24:45.051Z"
   },
   {
    "duration": 57,
    "start_time": "2024-11-27T13:24:45.121Z"
   },
   {
    "duration": 63,
    "start_time": "2024-11-27T13:24:45.180Z"
   },
   {
    "duration": 15,
    "start_time": "2024-11-27T13:24:45.245Z"
   },
   {
    "duration": 1256,
    "start_time": "2024-11-27T18:48:22.742Z"
   },
   {
    "duration": 79,
    "start_time": "2024-11-27T18:48:23.999Z"
   },
   {
    "duration": 27,
    "start_time": "2024-11-27T18:48:24.079Z"
   },
   {
    "duration": 258,
    "start_time": "2024-11-27T18:48:24.108Z"
   },
   {
    "duration": 10,
    "start_time": "2024-11-27T18:48:24.367Z"
   },
   {
    "duration": 87,
    "start_time": "2024-11-27T18:48:24.378Z"
   },
   {
    "duration": 9,
    "start_time": "2024-11-27T18:48:24.466Z"
   },
   {
    "duration": 16,
    "start_time": "2024-11-27T18:48:24.477Z"
   },
   {
    "duration": 6,
    "start_time": "2024-11-27T18:48:24.495Z"
   },
   {
    "duration": 8,
    "start_time": "2024-11-27T18:48:24.503Z"
   },
   {
    "duration": 20,
    "start_time": "2024-11-27T18:48:24.513Z"
   },
   {
    "duration": 16,
    "start_time": "2024-11-27T18:48:24.534Z"
   },
   {
    "duration": 35,
    "start_time": "2024-11-27T18:48:24.551Z"
   },
   {
    "duration": 14,
    "start_time": "2024-11-27T18:48:24.588Z"
   },
   {
    "duration": 324,
    "start_time": "2024-11-27T18:48:24.604Z"
   },
   {
    "duration": 270,
    "start_time": "2024-11-27T18:48:24.930Z"
   },
   {
    "duration": 380,
    "start_time": "2024-11-27T18:48:25.202Z"
   },
   {
    "duration": 274,
    "start_time": "2024-11-27T18:48:25.583Z"
   },
   {
    "duration": 327,
    "start_time": "2024-11-27T18:48:25.859Z"
   },
   {
    "duration": 146,
    "start_time": "2024-11-27T18:48:26.188Z"
   },
   {
    "duration": 5,
    "start_time": "2024-11-27T18:48:26.335Z"
   },
   {
    "duration": 179,
    "start_time": "2024-11-27T18:48:26.342Z"
   },
   {
    "duration": 4,
    "start_time": "2024-11-27T18:48:26.523Z"
   },
   {
    "duration": 103,
    "start_time": "2024-11-27T18:48:26.529Z"
   },
   {
    "duration": 11,
    "start_time": "2024-11-27T18:48:26.633Z"
   },
   {
    "duration": 35,
    "start_time": "2024-11-27T18:48:26.645Z"
   },
   {
    "duration": 38,
    "start_time": "2024-11-27T18:48:26.681Z"
   },
   {
    "duration": 39,
    "start_time": "2024-11-27T18:48:26.722Z"
   },
   {
    "duration": 1358,
    "start_time": "2024-11-28T06:32:40.313Z"
   },
   {
    "duration": 79,
    "start_time": "2024-11-28T06:32:41.674Z"
   },
   {
    "duration": 11,
    "start_time": "2024-11-28T06:32:41.755Z"
   },
   {
    "duration": 104,
    "start_time": "2024-11-28T06:32:41.768Z"
   },
   {
    "duration": 10,
    "start_time": "2024-11-28T06:32:41.874Z"
   },
   {
    "duration": 75,
    "start_time": "2024-11-28T06:32:41.886Z"
   },
   {
    "duration": 10,
    "start_time": "2024-11-28T06:32:41.962Z"
   },
   {
    "duration": 8,
    "start_time": "2024-11-28T06:32:41.974Z"
   },
   {
    "duration": 20,
    "start_time": "2024-11-28T06:32:41.984Z"
   },
   {
    "duration": 4,
    "start_time": "2024-11-28T06:32:42.007Z"
   },
   {
    "duration": 20,
    "start_time": "2024-11-28T06:32:42.013Z"
   },
   {
    "duration": 7,
    "start_time": "2024-11-28T06:32:42.034Z"
   },
   {
    "duration": 9,
    "start_time": "2024-11-28T06:32:42.043Z"
   },
   {
    "duration": 6,
    "start_time": "2024-11-28T06:32:42.054Z"
   },
   {
    "duration": 40,
    "start_time": "2024-11-28T06:32:42.061Z"
   },
   {
    "duration": 385,
    "start_time": "2024-11-28T06:32:42.103Z"
   },
   {
    "duration": 120,
    "start_time": "2024-11-28T06:32:42.490Z"
   },
   {
    "duration": 0,
    "start_time": "2024-11-28T06:32:42.612Z"
   },
   {
    "duration": 0,
    "start_time": "2024-11-28T06:32:42.613Z"
   },
   {
    "duration": 0,
    "start_time": "2024-11-28T06:32:42.614Z"
   },
   {
    "duration": 0,
    "start_time": "2024-11-28T06:32:42.615Z"
   },
   {
    "duration": 0,
    "start_time": "2024-11-28T06:32:42.616Z"
   },
   {
    "duration": 0,
    "start_time": "2024-11-28T06:32:42.617Z"
   },
   {
    "duration": 0,
    "start_time": "2024-11-28T06:32:42.619Z"
   },
   {
    "duration": 0,
    "start_time": "2024-11-28T06:32:42.620Z"
   },
   {
    "duration": 0,
    "start_time": "2024-11-28T06:32:42.621Z"
   },
   {
    "duration": 1,
    "start_time": "2024-11-28T06:32:42.622Z"
   },
   {
    "duration": 0,
    "start_time": "2024-11-28T06:32:42.624Z"
   },
   {
    "duration": 0,
    "start_time": "2024-11-28T06:32:42.625Z"
   },
   {
    "duration": 1204,
    "start_time": "2024-11-28T06:36:01.322Z"
   },
   {
    "duration": 38,
    "start_time": "2024-11-28T06:36:02.528Z"
   },
   {
    "duration": 28,
    "start_time": "2024-11-28T06:36:02.567Z"
   },
   {
    "duration": 57,
    "start_time": "2024-11-28T06:36:02.597Z"
   },
   {
    "duration": 19,
    "start_time": "2024-11-28T06:36:02.656Z"
   },
   {
    "duration": 85,
    "start_time": "2024-11-28T06:36:02.677Z"
   },
   {
    "duration": 11,
    "start_time": "2024-11-28T06:36:02.763Z"
   },
   {
    "duration": 75,
    "start_time": "2024-11-28T06:36:02.776Z"
   },
   {
    "duration": 29,
    "start_time": "2024-11-28T06:36:02.853Z"
   },
   {
    "duration": 36,
    "start_time": "2024-11-28T06:36:02.886Z"
   },
   {
    "duration": 42,
    "start_time": "2024-11-28T06:36:02.924Z"
   },
   {
    "duration": 16,
    "start_time": "2024-11-28T06:36:02.968Z"
   },
   {
    "duration": 65,
    "start_time": "2024-11-28T06:36:02.986Z"
   },
   {
    "duration": 33,
    "start_time": "2024-11-28T06:36:03.053Z"
   },
   {
    "duration": 77,
    "start_time": "2024-11-28T06:36:03.088Z"
   },
   {
    "duration": 381,
    "start_time": "2024-11-28T06:36:03.167Z"
   },
   {
    "duration": 113,
    "start_time": "2024-11-28T06:36:03.550Z"
   },
   {
    "duration": 0,
    "start_time": "2024-11-28T06:36:03.665Z"
   },
   {
    "duration": 0,
    "start_time": "2024-11-28T06:36:03.666Z"
   },
   {
    "duration": 0,
    "start_time": "2024-11-28T06:36:03.668Z"
   },
   {
    "duration": 0,
    "start_time": "2024-11-28T06:36:03.669Z"
   },
   {
    "duration": 0,
    "start_time": "2024-11-28T06:36:03.671Z"
   },
   {
    "duration": 1,
    "start_time": "2024-11-28T06:36:03.672Z"
   },
   {
    "duration": 0,
    "start_time": "2024-11-28T06:36:03.674Z"
   },
   {
    "duration": 0,
    "start_time": "2024-11-28T06:36:03.676Z"
   },
   {
    "duration": 0,
    "start_time": "2024-11-28T06:36:03.700Z"
   },
   {
    "duration": 0,
    "start_time": "2024-11-28T06:36:03.702Z"
   },
   {
    "duration": 0,
    "start_time": "2024-11-28T06:36:03.704Z"
   },
   {
    "duration": 0,
    "start_time": "2024-11-28T06:36:03.705Z"
   },
   {
    "duration": 1212,
    "start_time": "2024-11-28T06:45:50.390Z"
   },
   {
    "duration": 35,
    "start_time": "2024-11-28T06:45:51.604Z"
   },
   {
    "duration": 12,
    "start_time": "2024-11-28T06:45:51.641Z"
   },
   {
    "duration": 64,
    "start_time": "2024-11-28T06:45:51.654Z"
   },
   {
    "duration": 11,
    "start_time": "2024-11-28T06:45:51.720Z"
   },
   {
    "duration": 32,
    "start_time": "2024-11-28T06:45:51.733Z"
   },
   {
    "duration": 14,
    "start_time": "2024-11-28T06:45:51.767Z"
   },
   {
    "duration": 11,
    "start_time": "2024-11-28T06:45:51.783Z"
   },
   {
    "duration": 9,
    "start_time": "2024-11-28T06:45:51.795Z"
   },
   {
    "duration": 8,
    "start_time": "2024-11-28T06:45:51.807Z"
   },
   {
    "duration": 21,
    "start_time": "2024-11-28T06:45:51.817Z"
   },
   {
    "duration": 10,
    "start_time": "2024-11-28T06:45:51.840Z"
   },
   {
    "duration": 6,
    "start_time": "2024-11-28T06:45:51.853Z"
   },
   {
    "duration": 5,
    "start_time": "2024-11-28T06:45:51.861Z"
   },
   {
    "duration": 14,
    "start_time": "2024-11-28T06:45:51.900Z"
   },
   {
    "duration": 428,
    "start_time": "2024-11-28T06:45:51.916Z"
   },
   {
    "duration": 258,
    "start_time": "2024-11-28T06:45:52.346Z"
   },
   {
    "duration": 352,
    "start_time": "2024-11-28T06:45:52.606Z"
   },
   {
    "duration": 341,
    "start_time": "2024-11-28T06:45:52.960Z"
   },
   {
    "duration": 391,
    "start_time": "2024-11-28T06:45:53.303Z"
   },
   {
    "duration": 178,
    "start_time": "2024-11-28T06:45:53.699Z"
   },
   {
    "duration": 7,
    "start_time": "2024-11-28T06:45:53.879Z"
   },
   {
    "duration": 206,
    "start_time": "2024-11-28T06:45:53.888Z"
   },
   {
    "duration": 5,
    "start_time": "2024-11-28T06:45:54.099Z"
   },
   {
    "duration": 197,
    "start_time": "2024-11-28T06:45:54.106Z"
   },
   {
    "duration": 0,
    "start_time": "2024-11-28T06:45:54.306Z"
   },
   {
    "duration": 0,
    "start_time": "2024-11-28T06:45:54.307Z"
   },
   {
    "duration": 0,
    "start_time": "2024-11-28T06:45:54.308Z"
   },
   {
    "duration": 0,
    "start_time": "2024-11-28T06:45:54.310Z"
   },
   {
    "duration": 1202,
    "start_time": "2024-11-28T06:47:24.013Z"
   },
   {
    "duration": 34,
    "start_time": "2024-11-28T06:47:25.217Z"
   },
   {
    "duration": 10,
    "start_time": "2024-11-28T06:47:25.252Z"
   },
   {
    "duration": 43,
    "start_time": "2024-11-28T06:47:25.264Z"
   },
   {
    "duration": 10,
    "start_time": "2024-11-28T06:47:25.308Z"
   },
   {
    "duration": 41,
    "start_time": "2024-11-28T06:47:25.320Z"
   },
   {
    "duration": 9,
    "start_time": "2024-11-28T06:47:25.363Z"
   },
   {
    "duration": 22,
    "start_time": "2024-11-28T06:47:25.373Z"
   },
   {
    "duration": 22,
    "start_time": "2024-11-28T06:47:25.397Z"
   },
   {
    "duration": 17,
    "start_time": "2024-11-28T06:47:25.421Z"
   },
   {
    "duration": 19,
    "start_time": "2024-11-28T06:47:25.440Z"
   },
   {
    "duration": 21,
    "start_time": "2024-11-28T06:47:25.461Z"
   },
   {
    "duration": 14,
    "start_time": "2024-11-28T06:47:25.484Z"
   },
   {
    "duration": 10,
    "start_time": "2024-11-28T06:47:25.499Z"
   },
   {
    "duration": 17,
    "start_time": "2024-11-28T06:47:25.510Z"
   },
   {
    "duration": 329,
    "start_time": "2024-11-28T06:47:25.529Z"
   },
   {
    "duration": 264,
    "start_time": "2024-11-28T06:47:25.859Z"
   },
   {
    "duration": 386,
    "start_time": "2024-11-28T06:47:26.124Z"
   },
   {
    "duration": 357,
    "start_time": "2024-11-28T06:47:26.512Z"
   },
   {
    "duration": 407,
    "start_time": "2024-11-28T06:47:26.871Z"
   },
   {
    "duration": 167,
    "start_time": "2024-11-28T06:47:27.280Z"
   },
   {
    "duration": 5,
    "start_time": "2024-11-28T06:47:27.448Z"
   },
   {
    "duration": 187,
    "start_time": "2024-11-28T06:47:27.454Z"
   },
   {
    "duration": 5,
    "start_time": "2024-11-28T06:47:27.642Z"
   },
   {
    "duration": 127,
    "start_time": "2024-11-28T06:47:27.648Z"
   },
   {
    "duration": 27,
    "start_time": "2024-11-28T06:47:27.777Z"
   },
   {
    "duration": 1221,
    "start_time": "2024-11-28T06:47:27.806Z"
   },
   {
    "duration": 0,
    "start_time": "2024-11-28T06:47:29.029Z"
   },
   {
    "duration": 0,
    "start_time": "2024-11-28T06:47:29.030Z"
   },
   {
    "duration": 1125,
    "start_time": "2024-11-28T06:47:58.843Z"
   },
   {
    "duration": 36,
    "start_time": "2024-11-28T06:47:59.970Z"
   },
   {
    "duration": 12,
    "start_time": "2024-11-28T06:48:00.008Z"
   },
   {
    "duration": 94,
    "start_time": "2024-11-28T06:48:00.022Z"
   },
   {
    "duration": 14,
    "start_time": "2024-11-28T06:48:00.118Z"
   },
   {
    "duration": 52,
    "start_time": "2024-11-28T06:48:00.133Z"
   },
   {
    "duration": 13,
    "start_time": "2024-11-28T06:48:00.188Z"
   },
   {
    "duration": 45,
    "start_time": "2024-11-28T06:48:00.203Z"
   },
   {
    "duration": 28,
    "start_time": "2024-11-28T06:48:00.250Z"
   },
   {
    "duration": 20,
    "start_time": "2024-11-28T06:48:00.281Z"
   },
   {
    "duration": 46,
    "start_time": "2024-11-28T06:48:00.303Z"
   },
   {
    "duration": 37,
    "start_time": "2024-11-28T06:48:00.350Z"
   },
   {
    "duration": 40,
    "start_time": "2024-11-28T06:48:00.388Z"
   },
   {
    "duration": 38,
    "start_time": "2024-11-28T06:48:00.430Z"
   },
   {
    "duration": 25,
    "start_time": "2024-11-28T06:48:00.470Z"
   },
   {
    "duration": 353,
    "start_time": "2024-11-28T06:48:00.497Z"
   },
   {
    "duration": 262,
    "start_time": "2024-11-28T06:48:00.852Z"
   },
   {
    "duration": 356,
    "start_time": "2024-11-28T06:48:01.116Z"
   },
   {
    "duration": 330,
    "start_time": "2024-11-28T06:48:01.475Z"
   },
   {
    "duration": 353,
    "start_time": "2024-11-28T06:48:01.807Z"
   },
   {
    "duration": 167,
    "start_time": "2024-11-28T06:48:02.162Z"
   },
   {
    "duration": 5,
    "start_time": "2024-11-28T06:48:02.331Z"
   },
   {
    "duration": 190,
    "start_time": "2024-11-28T06:48:02.337Z"
   },
   {
    "duration": 6,
    "start_time": "2024-11-28T06:48:02.529Z"
   },
   {
    "duration": 133,
    "start_time": "2024-11-28T06:48:02.537Z"
   },
   {
    "duration": 13,
    "start_time": "2024-11-28T06:48:02.672Z"
   },
   {
    "duration": 11,
    "start_time": "2024-11-28T06:48:02.700Z"
   },
   {
    "duration": 77,
    "start_time": "2024-11-28T06:48:02.714Z"
   },
   {
    "duration": 15,
    "start_time": "2024-11-28T06:48:02.792Z"
   },
   {
    "duration": 1241,
    "start_time": "2024-11-28T07:05:44.235Z"
   },
   {
    "duration": 35,
    "start_time": "2024-11-28T07:05:45.478Z"
   },
   {
    "duration": 13,
    "start_time": "2024-11-28T07:05:45.515Z"
   },
   {
    "duration": 62,
    "start_time": "2024-11-28T07:05:45.530Z"
   },
   {
    "duration": 10,
    "start_time": "2024-11-28T07:05:45.594Z"
   },
   {
    "duration": 35,
    "start_time": "2024-11-28T07:05:45.606Z"
   },
   {
    "duration": 33,
    "start_time": "2024-11-28T07:05:45.642Z"
   },
   {
    "duration": 42,
    "start_time": "2024-11-28T07:05:45.676Z"
   },
   {
    "duration": 33,
    "start_time": "2024-11-28T07:05:45.719Z"
   },
   {
    "duration": 5,
    "start_time": "2024-11-28T07:05:45.754Z"
   },
   {
    "duration": 27,
    "start_time": "2024-11-28T07:05:45.761Z"
   },
   {
    "duration": 23,
    "start_time": "2024-11-28T07:05:45.790Z"
   },
   {
    "duration": 25,
    "start_time": "2024-11-28T07:05:45.815Z"
   },
   {
    "duration": 11,
    "start_time": "2024-11-28T07:05:45.841Z"
   },
   {
    "duration": 32,
    "start_time": "2024-11-28T07:05:45.853Z"
   },
   {
    "duration": 353,
    "start_time": "2024-11-28T07:05:45.886Z"
   },
   {
    "duration": 271,
    "start_time": "2024-11-28T07:05:46.241Z"
   },
   {
    "duration": 351,
    "start_time": "2024-11-28T07:05:46.514Z"
   },
   {
    "duration": 310,
    "start_time": "2024-11-28T07:05:46.867Z"
   },
   {
    "duration": 389,
    "start_time": "2024-11-28T07:05:47.178Z"
   },
   {
    "duration": 164,
    "start_time": "2024-11-28T07:05:47.569Z"
   },
   {
    "duration": 5,
    "start_time": "2024-11-28T07:05:47.736Z"
   },
   {
    "duration": 212,
    "start_time": "2024-11-28T07:05:47.742Z"
   },
   {
    "duration": 5,
    "start_time": "2024-11-28T07:05:47.956Z"
   },
   {
    "duration": 123,
    "start_time": "2024-11-28T07:05:47.962Z"
   },
   {
    "duration": 12,
    "start_time": "2024-11-28T07:05:48.099Z"
   },
   {
    "duration": 12,
    "start_time": "2024-11-28T07:05:48.113Z"
   },
   {
    "duration": 44,
    "start_time": "2024-11-28T07:05:48.129Z"
   },
   {
    "duration": 34,
    "start_time": "2024-11-28T07:05:48.174Z"
   }
  ],
  "kernelspec": {
   "display_name": "Python 3 (ipykernel)",
   "language": "python",
   "name": "python3"
  },
  "language_info": {
   "codemirror_mode": {
    "name": "ipython",
    "version": 3
   },
   "file_extension": ".py",
   "mimetype": "text/x-python",
   "name": "python",
   "nbconvert_exporter": "python",
   "pygments_lexer": "ipython3",
   "version": "3.9.18"
  },
  "toc": {
   "base_numbering": 1,
   "nav_menu": {},
   "number_sections": true,
   "sideBar": true,
   "skip_h1_title": true,
   "title_cell": "Table of Contents",
   "title_sidebar": "Contents",
   "toc_cell": false,
   "toc_position": {},
   "toc_section_display": true,
   "toc_window_display": false
  }
 },
 "nbformat": 4,
 "nbformat_minor": 2
}
