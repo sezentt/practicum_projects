{
 "cells": [
  {
   "cell_type": "markdown",
   "id": "fa03e5cc",
   "metadata": {},
   "source": [
    "# Анализ сервиса аренды самокатов GoFast"
   ]
  },
  {
   "cell_type": "markdown",
   "id": "aaa43cfd",
   "metadata": {},
   "source": [
    "Необходимо выполнить исследование в качестве аналитика популярного сервиса аренды самокатов GoFast. Нам передали данные о некоторых пользователях из нескольких городов, а также об их поездках. Проанализируем данные и проверим некоторые гипотезы, которые могут помочь бизнесу вырасти.\n",
    "\n",
    "В нашем распоряжении имеются три набора данных:\n",
    "\n",
    "1. **Пользователи** (users_go.csv):\n",
    "- **user_id** — уникальный идентификатор пользователя.\n",
    "- **name** — имя пользователя.\n",
    "- **age** — возраст пользователя.\n",
    "- **city** — город пользователя.\n",
    "- **subscription_type** — тип подписки (free или ultra).\n",
    "2. **Поездки** (rides_go.csv):\n",
    "- **user_id** — уникальный идентификатор пользователя.\n",
    "- **distance** — расстояние поездки в метрах.\n",
    "- **duration** — продолжительность поездки в минутах.\n",
    "- **date** — дата поездки.\n",
    "3. **Подписки** (subscriptions_go.csv):\n",
    "- **subscription_type** — тип подписки.\n",
    "- **minute_price** — стоимость минуты поездки.\n",
    "- **start_ride_price** — стоимость начала поездки.\n",
    "- **subscription_fee** — ежемесячная стоимость подписки.\n",
    "\n",
    "Чтобы совершать поездки по городу, пользователи сервиса GoFast пользуются мобильным приложением. Сервисом можно пользоваться:\n",
    "- без подписки\n",
    "    - абонентская плата отсутствует;\n",
    "    - стоимость одной минуты поездки — 8 рублей;\n",
    "    - стоимость старта (начала поездки) — 50 рублей;\n",
    "- с подпиской Ultra\n",
    "    - абонентская плата — 199 рублей в месяц;\n",
    "    - стоимость одной минуты поездки — 6 рублей;\n",
    "    - стоимость старта — бесплатно.\n",
    "    \n",
    "План действий:\n",
    "- Предобработка данных: удаление пропусков и дубликатов, преобразование форматов данных.\n",
    "- Исследовательский анализ данных (EDA): анализ возраста пользователей, их распределения по городам, подписок, продолжительности поездок и других показателей.\n",
    "- Проверка гипотез: проверка гипотез о продолжительности поездок, среднем расстоянии поездок и помесячной выручке от пользователей с подпиской и без неё.\n",
    "- Дополнительные задачи: определение минимального количества промокодов для акции с учётом заданной вероятности, оценка вероятности открытия push-уведомлений с помощью аппроксимации биномиального распределения нормальным.\n",
    "\n",
    "Целью данного анализа является получение ценной информации для компании GoFast, которая поможет в оптимизации маркетинговых стратегий, управлении подписками и улучшении обслуживания пользователей."
   ]
  },
  {
   "cell_type": "markdown",
   "id": "8922a757",
   "metadata": {},
   "source": [
    "## Загрузка и просмотр данных"
   ]
  },
  {
   "cell_type": "markdown",
   "id": "e78de1a1",
   "metadata": {},
   "source": [
    "В основных данных есть информация о пользователях, их поездках и подписках. Загрузим все датасеты, сохраним их в датафреймы и изучим общую информацию о данных."
   ]
  },
  {
   "cell_type": "code",
   "execution_count": 1,
   "id": "42e7aa3f",
   "metadata": {},
   "outputs": [],
   "source": [
    "# Подключение всех необходимых библиотек\n",
    "import pandas as pd\n",
    "import numpy as np\n",
    "import matplotlib.pyplot as plt\n",
    "import scipy.stats as stats\n",
    "from scipy.stats import binom\n",
    "from scipy.stats import norm"
   ]
  },
  {
   "cell_type": "code",
   "execution_count": 2,
   "id": "b292378c",
   "metadata": {},
   "outputs": [
    {
     "data": {
      "text/html": [
       "<div>\n",
       "<style scoped>\n",
       "    .dataframe tbody tr th:only-of-type {\n",
       "        vertical-align: middle;\n",
       "    }\n",
       "\n",
       "    .dataframe tbody tr th {\n",
       "        vertical-align: top;\n",
       "    }\n",
       "\n",
       "    .dataframe thead th {\n",
       "        text-align: right;\n",
       "    }\n",
       "</style>\n",
       "<table border=\"1\" class=\"dataframe\">\n",
       "  <thead>\n",
       "    <tr style=\"text-align: right;\">\n",
       "      <th></th>\n",
       "      <th>user_id</th>\n",
       "      <th>name</th>\n",
       "      <th>age</th>\n",
       "      <th>city</th>\n",
       "      <th>subscription_type</th>\n",
       "    </tr>\n",
       "  </thead>\n",
       "  <tbody>\n",
       "    <tr>\n",
       "      <th>0</th>\n",
       "      <td>1</td>\n",
       "      <td>Кира</td>\n",
       "      <td>22</td>\n",
       "      <td>Тюмень</td>\n",
       "      <td>ultra</td>\n",
       "    </tr>\n",
       "    <tr>\n",
       "      <th>1</th>\n",
       "      <td>2</td>\n",
       "      <td>Станислав</td>\n",
       "      <td>31</td>\n",
       "      <td>Омск</td>\n",
       "      <td>ultra</td>\n",
       "    </tr>\n",
       "    <tr>\n",
       "      <th>2</th>\n",
       "      <td>3</td>\n",
       "      <td>Алексей</td>\n",
       "      <td>20</td>\n",
       "      <td>Москва</td>\n",
       "      <td>ultra</td>\n",
       "    </tr>\n",
       "    <tr>\n",
       "      <th>3</th>\n",
       "      <td>4</td>\n",
       "      <td>Константин</td>\n",
       "      <td>26</td>\n",
       "      <td>Ростов-на-Дону</td>\n",
       "      <td>ultra</td>\n",
       "    </tr>\n",
       "    <tr>\n",
       "      <th>4</th>\n",
       "      <td>5</td>\n",
       "      <td>Адель</td>\n",
       "      <td>28</td>\n",
       "      <td>Омск</td>\n",
       "      <td>ultra</td>\n",
       "    </tr>\n",
       "  </tbody>\n",
       "</table>\n",
       "</div>"
      ],
      "text/plain": [
       "   user_id        name  age            city subscription_type\n",
       "0        1        Кира   22          Тюмень             ultra\n",
       "1        2   Станислав   31            Омск             ultra\n",
       "2        3     Алексей   20          Москва             ultra\n",
       "3        4  Константин   26  Ростов-на-Дону             ultra\n",
       "4        5       Адель   28            Омск             ultra"
      ]
     },
     "execution_count": 2,
     "metadata": {},
     "output_type": "execute_result"
    }
   ],
   "source": [
    "users = pd.read_csv('users_go.csv')\n",
    "\n",
    "users.head()"
   ]
  },
  {
   "cell_type": "code",
   "execution_count": 3,
   "id": "943e5bd5",
   "metadata": {},
   "outputs": [
    {
     "name": "stdout",
     "output_type": "stream",
     "text": [
      "<class 'pandas.core.frame.DataFrame'>\n",
      "RangeIndex: 1565 entries, 0 to 1564\n",
      "Data columns (total 5 columns):\n",
      " #   Column             Non-Null Count  Dtype \n",
      "---  ------             --------------  ----- \n",
      " 0   user_id            1565 non-null   int64 \n",
      " 1   name               1565 non-null   object\n",
      " 2   age                1565 non-null   int64 \n",
      " 3   city               1565 non-null   object\n",
      " 4   subscription_type  1565 non-null   object\n",
      "dtypes: int64(2), object(3)\n",
      "memory usage: 61.3+ KB\n"
     ]
    }
   ],
   "source": [
    "users.info()"
   ]
  },
  {
   "cell_type": "markdown",
   "id": "0a4e974f",
   "metadata": {},
   "source": [
    "`users` (пользователи):\n",
    "- **user_id:** уникальный идентификатор пользователя (целое число).\n",
    "- **name:** имя пользователя (строка).\n",
    "- **age:** возраст пользователя (целое число).\n",
    "- **city:** город, где проживает пользователь (строка).\n",
    "- **subscription_type:** тип подписки пользователя — free или ultra (строка)"
   ]
  },
  {
   "cell_type": "code",
   "execution_count": 4,
   "id": "bbee2346",
   "metadata": {
    "scrolled": true
   },
   "outputs": [
    {
     "data": {
      "text/html": [
       "<div>\n",
       "<style scoped>\n",
       "    .dataframe tbody tr th:only-of-type {\n",
       "        vertical-align: middle;\n",
       "    }\n",
       "\n",
       "    .dataframe tbody tr th {\n",
       "        vertical-align: top;\n",
       "    }\n",
       "\n",
       "    .dataframe thead th {\n",
       "        text-align: right;\n",
       "    }\n",
       "</style>\n",
       "<table border=\"1\" class=\"dataframe\">\n",
       "  <thead>\n",
       "    <tr style=\"text-align: right;\">\n",
       "      <th></th>\n",
       "      <th>user_id</th>\n",
       "      <th>distance</th>\n",
       "      <th>duration</th>\n",
       "      <th>date</th>\n",
       "    </tr>\n",
       "  </thead>\n",
       "  <tbody>\n",
       "    <tr>\n",
       "      <th>0</th>\n",
       "      <td>1</td>\n",
       "      <td>4409.919140</td>\n",
       "      <td>25.599769</td>\n",
       "      <td>2021-01-01</td>\n",
       "    </tr>\n",
       "    <tr>\n",
       "      <th>1</th>\n",
       "      <td>1</td>\n",
       "      <td>2617.592153</td>\n",
       "      <td>15.816871</td>\n",
       "      <td>2021-01-18</td>\n",
       "    </tr>\n",
       "    <tr>\n",
       "      <th>2</th>\n",
       "      <td>1</td>\n",
       "      <td>754.159807</td>\n",
       "      <td>6.232113</td>\n",
       "      <td>2021-04-20</td>\n",
       "    </tr>\n",
       "    <tr>\n",
       "      <th>3</th>\n",
       "      <td>1</td>\n",
       "      <td>2694.783254</td>\n",
       "      <td>18.511000</td>\n",
       "      <td>2021-08-11</td>\n",
       "    </tr>\n",
       "    <tr>\n",
       "      <th>4</th>\n",
       "      <td>1</td>\n",
       "      <td>4028.687306</td>\n",
       "      <td>26.265803</td>\n",
       "      <td>2021-08-28</td>\n",
       "    </tr>\n",
       "  </tbody>\n",
       "</table>\n",
       "</div>"
      ],
      "text/plain": [
       "   user_id     distance   duration        date\n",
       "0        1  4409.919140  25.599769  2021-01-01\n",
       "1        1  2617.592153  15.816871  2021-01-18\n",
       "2        1   754.159807   6.232113  2021-04-20\n",
       "3        1  2694.783254  18.511000  2021-08-11\n",
       "4        1  4028.687306  26.265803  2021-08-28"
      ]
     },
     "execution_count": 4,
     "metadata": {},
     "output_type": "execute_result"
    }
   ],
   "source": [
    "rides = pd.read_csv('rides_go.csv')\n",
    "\n",
    "rides.head()"
   ]
  },
  {
   "cell_type": "code",
   "execution_count": 5,
   "id": "bb4d4672",
   "metadata": {},
   "outputs": [
    {
     "name": "stdout",
     "output_type": "stream",
     "text": [
      "<class 'pandas.core.frame.DataFrame'>\n",
      "RangeIndex: 18068 entries, 0 to 18067\n",
      "Data columns (total 4 columns):\n",
      " #   Column    Non-Null Count  Dtype  \n",
      "---  ------    --------------  -----  \n",
      " 0   user_id   18068 non-null  int64  \n",
      " 1   distance  18068 non-null  float64\n",
      " 2   duration  18068 non-null  float64\n",
      " 3   date      18068 non-null  object \n",
      "dtypes: float64(2), int64(1), object(1)\n",
      "memory usage: 564.8+ KB\n"
     ]
    }
   ],
   "source": [
    "rides.info()"
   ]
  },
  {
   "cell_type": "markdown",
   "id": "ef4ed24c",
   "metadata": {},
   "source": [
    "`rides` (поездки):\n",
    "- **user_id:** уникальный идентификатор пользователя, который совершил поездку (целое число).\n",
    "- **distance:** расстояние поездки в метрах (вещественное число).\n",
    "- **duration:** продолжительность поездки в минутах (вещественное число).\n",
    "- **date:** дата поездки (строка, которую можно преобразовать в формат даты для удобства анализа)."
   ]
  },
  {
   "cell_type": "code",
   "execution_count": 6,
   "id": "ba253ef8",
   "metadata": {},
   "outputs": [
    {
     "data": {
      "text/html": [
       "<div>\n",
       "<style scoped>\n",
       "    .dataframe tbody tr th:only-of-type {\n",
       "        vertical-align: middle;\n",
       "    }\n",
       "\n",
       "    .dataframe tbody tr th {\n",
       "        vertical-align: top;\n",
       "    }\n",
       "\n",
       "    .dataframe thead th {\n",
       "        text-align: right;\n",
       "    }\n",
       "</style>\n",
       "<table border=\"1\" class=\"dataframe\">\n",
       "  <thead>\n",
       "    <tr style=\"text-align: right;\">\n",
       "      <th></th>\n",
       "      <th>subscription_type</th>\n",
       "      <th>minute_price</th>\n",
       "      <th>start_ride_price</th>\n",
       "      <th>subscription_fee</th>\n",
       "    </tr>\n",
       "  </thead>\n",
       "  <tbody>\n",
       "    <tr>\n",
       "      <th>0</th>\n",
       "      <td>free</td>\n",
       "      <td>8</td>\n",
       "      <td>50</td>\n",
       "      <td>0</td>\n",
       "    </tr>\n",
       "    <tr>\n",
       "      <th>1</th>\n",
       "      <td>ultra</td>\n",
       "      <td>6</td>\n",
       "      <td>0</td>\n",
       "      <td>199</td>\n",
       "    </tr>\n",
       "  </tbody>\n",
       "</table>\n",
       "</div>"
      ],
      "text/plain": [
       "  subscription_type  minute_price  start_ride_price  subscription_fee\n",
       "0              free             8                50                 0\n",
       "1             ultra             6                 0               199"
      ]
     },
     "execution_count": 6,
     "metadata": {},
     "output_type": "execute_result"
    }
   ],
   "source": [
    "subscriptions = pd.read_csv('subscriptions_go.csv')\n",
    "    \n",
    "subscriptions.head()"
   ]
  },
  {
   "cell_type": "code",
   "execution_count": 7,
   "id": "2a1094c7",
   "metadata": {},
   "outputs": [
    {
     "name": "stdout",
     "output_type": "stream",
     "text": [
      "<class 'pandas.core.frame.DataFrame'>\n",
      "RangeIndex: 2 entries, 0 to 1\n",
      "Data columns (total 4 columns):\n",
      " #   Column             Non-Null Count  Dtype \n",
      "---  ------             --------------  ----- \n",
      " 0   subscription_type  2 non-null      object\n",
      " 1   minute_price       2 non-null      int64 \n",
      " 2   start_ride_price   2 non-null      int64 \n",
      " 3   subscription_fee   2 non-null      int64 \n",
      "dtypes: int64(3), object(1)\n",
      "memory usage: 192.0+ bytes\n"
     ]
    }
   ],
   "source": [
    "subscriptions.info()"
   ]
  },
  {
   "cell_type": "markdown",
   "id": "70a3feb4",
   "metadata": {},
   "source": [
    "`subscriptions` (подписки):\n",
    "- **subscription_type:** тип подписки — free или ultra (строка).\n",
    "- **minute_price:** стоимость одной минуты поездки (целое число).\n",
    "- **start_ride_price:** стоимость начала поездки (целое число).\n",
    "- **subscription_fee:** стоимость подписки в месяц (целое число)."
   ]
  },
  {
   "cell_type": "markdown",
   "id": "9d565eb4",
   "metadata": {},
   "source": [
    "Таким образом, мы загрузили и изучили исходные данные."
   ]
  },
  {
   "cell_type": "markdown",
   "id": "cec2a27f",
   "metadata": {},
   "source": [
    "## Предобработка данных"
   ]
  },
  {
   "cell_type": "markdown",
   "id": "aeabc6bc",
   "metadata": {},
   "source": [
    "### Работа со столбцами"
   ]
  },
  {
   "cell_type": "markdown",
   "id": "dacbf720",
   "metadata": {},
   "source": [
    "Приведём столбец `date` к типу даты pandas."
   ]
  },
  {
   "cell_type": "code",
   "execution_count": 8,
   "id": "f7d9da3c",
   "metadata": {},
   "outputs": [
    {
     "data": {
      "text/plain": [
       "0   2021-01-01\n",
       "1   2021-01-18\n",
       "2   2021-04-20\n",
       "3   2021-08-11\n",
       "4   2021-08-28\n",
       "Name: date, dtype: datetime64[ns]"
      ]
     },
     "execution_count": 8,
     "metadata": {},
     "output_type": "execute_result"
    }
   ],
   "source": [
    "# Преобразование столбца 'date' в формат даты\n",
    "rides['date'] = pd.to_datetime(rides['date'])\n",
    "\n",
    "# Просмотр первых 5 строк столбца для проверки\n",
    "rides['date'].head()"
   ]
  },
  {
   "cell_type": "markdown",
   "id": "dd65252c",
   "metadata": {},
   "source": [
    "Создадим новый столбец с номером месяца на основе столбца `date`."
   ]
  },
  {
   "cell_type": "code",
   "execution_count": 9,
   "id": "e6731cfd",
   "metadata": {},
   "outputs": [
    {
     "data": {
      "text/html": [
       "<div>\n",
       "<style scoped>\n",
       "    .dataframe tbody tr th:only-of-type {\n",
       "        vertical-align: middle;\n",
       "    }\n",
       "\n",
       "    .dataframe tbody tr th {\n",
       "        vertical-align: top;\n",
       "    }\n",
       "\n",
       "    .dataframe thead th {\n",
       "        text-align: right;\n",
       "    }\n",
       "</style>\n",
       "<table border=\"1\" class=\"dataframe\">\n",
       "  <thead>\n",
       "    <tr style=\"text-align: right;\">\n",
       "      <th></th>\n",
       "      <th>date</th>\n",
       "      <th>month</th>\n",
       "    </tr>\n",
       "  </thead>\n",
       "  <tbody>\n",
       "    <tr>\n",
       "      <th>0</th>\n",
       "      <td>2021-01-01</td>\n",
       "      <td>1</td>\n",
       "    </tr>\n",
       "    <tr>\n",
       "      <th>1</th>\n",
       "      <td>2021-01-18</td>\n",
       "      <td>1</td>\n",
       "    </tr>\n",
       "    <tr>\n",
       "      <th>2</th>\n",
       "      <td>2021-04-20</td>\n",
       "      <td>4</td>\n",
       "    </tr>\n",
       "    <tr>\n",
       "      <th>3</th>\n",
       "      <td>2021-08-11</td>\n",
       "      <td>8</td>\n",
       "    </tr>\n",
       "    <tr>\n",
       "      <th>4</th>\n",
       "      <td>2021-08-28</td>\n",
       "      <td>8</td>\n",
       "    </tr>\n",
       "  </tbody>\n",
       "</table>\n",
       "</div>"
      ],
      "text/plain": [
       "        date  month\n",
       "0 2021-01-01      1\n",
       "1 2021-01-18      1\n",
       "2 2021-04-20      4\n",
       "3 2021-08-11      8\n",
       "4 2021-08-28      8"
      ]
     },
     "execution_count": 9,
     "metadata": {},
     "output_type": "execute_result"
    }
   ],
   "source": [
    "# Создание нового столбца с номером месяца\n",
    "rides['month'] = rides['date'].dt.month\n",
    "\n",
    "# Просмотр первых 5 строк только для столбцов 'date' и 'month'\n",
    "rides[['date', 'month']].head()"
   ]
  },
  {
   "cell_type": "markdown",
   "id": "cac112fe",
   "metadata": {},
   "source": [
    "Посмотрим, за какой период у нас имеются данные и как они распределены за этот период."
   ]
  },
  {
   "cell_type": "code",
   "execution_count": 10,
   "id": "176ef9b6",
   "metadata": {},
   "outputs": [
    {
     "name": "stdout",
     "output_type": "stream",
     "text": [
      "Данные о поездках за период: с 2021-01-01 00:00:00 по 2021-12-30 00:00:00\n"
     ]
    }
   ],
   "source": [
    "# Проверим минимальную и максимальную дату в данных\n",
    "min_date = rides['date'].min()\n",
    "max_date = rides['date'].max()\n",
    "\n",
    "print(f\"Данные о поездках за период: с {min_date} по {max_date}\")"
   ]
  },
  {
   "cell_type": "code",
   "execution_count": 11,
   "id": "bafb42fc",
   "metadata": {},
   "outputs": [
    {
     "data": {
      "image/png": "[encoded data removed]",
      "text/plain": [
       "<Figure size 1000x600 with 1 Axes>"
      ]
     },
     "metadata": {},
     "output_type": "display_data"
    }
   ],
   "source": [
    "# Посчитаем количество поездок по месяцам\n",
    "rides_per_month = rides.groupby('month')['date'].count()\n",
    "\n",
    "# Построим линейную диаграмму количества поездок по месяцам\n",
    "plt.figure(figsize=(10, 6))\n",
    "plt.plot(rides_per_month.index, rides_per_month.values, marker='o', linestyle='-', color='b')\n",
    "plt.title('Количество поездок по месяцам')\n",
    "plt.xlabel('Месяц')\n",
    "plt.ylabel('Количество поездок')\n",
    "plt.grid(True)\n",
    "plt.show()"
   ]
  },
  {
   "cell_type": "markdown",
   "id": "f4577caf",
   "metadata": {},
   "source": [
    "Исходя из предоставленного графика и диапазона дат, данные о поездках охватывают период с 1 января 2021 года по 30 декабря 2021 года. На линейной диаграмме видно, как изменялось количество поездок по месяцам в течение этого года."
   ]
  },
  {
   "cell_type": "markdown",
   "id": "ab1d820c",
   "metadata": {},
   "source": [
    "### Поиск пропусков"
   ]
  },
  {
   "cell_type": "code",
   "execution_count": 12,
   "id": "90308013",
   "metadata": {},
   "outputs": [
    {
     "name": "stdout",
     "output_type": "stream",
     "text": [
      "Пропуски в датафрейме users:\n",
      "user_id              0\n",
      "name                 0\n",
      "age                  0\n",
      "city                 0\n",
      "subscription_type    0\n",
      "dtype: int64\n",
      "\n",
      "Пропуски в датафрейме rides:\n",
      "user_id     0\n",
      "distance    0\n",
      "duration    0\n",
      "date        0\n",
      "month       0\n",
      "dtype: int64\n",
      "\n",
      "Пропуски в датафрейме subscriptions:\n",
      "subscription_type    0\n",
      "minute_price         0\n",
      "start_ride_price     0\n",
      "subscription_fee     0\n",
      "dtype: int64\n"
     ]
    }
   ],
   "source": [
    "# Проверка пропусков в каждом датафрейме\n",
    "missing_users = users.isnull().sum()\n",
    "missing_rides = rides.isnull().sum()\n",
    "missing_subscriptions = subscriptions.isnull().sum()\n",
    "\n",
    "# Вывод количества пропусков в каждом датафрейме\n",
    "print(\"Пропуски в датафрейме users:\")\n",
    "print(missing_users)\n",
    "print(\"\\nПропуски в датафрейме rides:\")\n",
    "print(missing_rides)\n",
    "print(\"\\nПропуски в датафрейме subscriptions:\")\n",
    "print(missing_subscriptions)"
   ]
  },
  {
   "cell_type": "markdown",
   "id": "08e64a00",
   "metadata": {},
   "source": [
    "Явных пропусков не обнаружено."
   ]
  },
  {
   "cell_type": "markdown",
   "id": "88586d1d",
   "metadata": {},
   "source": [
    "### Поиск дубликатов"
   ]
  },
  {
   "cell_type": "code",
   "execution_count": 13,
   "id": "a25acd8e",
   "metadata": {},
   "outputs": [
    {
     "name": "stdout",
     "output_type": "stream",
     "text": [
      "Количество дубликатов в датафрейме users: 31\n",
      "Количество дубликатов в датафрейме rides: 0\n",
      "Количество дубликатов в датафрейме subscriptions: 0\n"
     ]
    }
   ],
   "source": [
    "# Проверка на дубликаты в каждом датафрейме\n",
    "duplicates_users = users.duplicated().sum()\n",
    "duplicates_rides = rides.duplicated().sum()\n",
    "duplicates_subscriptions = subscriptions.duplicated().sum()\n",
    "\n",
    "# Вывод количества дубликатов в каждом датафрейме\n",
    "print(\"Количество дубликатов в датафрейме users:\", duplicates_users)\n",
    "print(\"Количество дубликатов в датафрейме rides:\", duplicates_rides)\n",
    "print(\"Количество дубликатов в датафрейме subscriptions:\", duplicates_subscriptions)"
   ]
  },
  {
   "cell_type": "markdown",
   "id": "36edf429",
   "metadata": {},
   "source": [
    "В датафрейме `users` 31 строка являются полными дублями (все значения в строке идентичны). Их лучше удалить, так как они не несут дополнительной информации и могут исказить анализ."
   ]
  },
  {
   "cell_type": "code",
   "execution_count": 14,
   "id": "6ca34d4b",
   "metadata": {},
   "outputs": [
    {
     "name": "stdout",
     "output_type": "stream",
     "text": [
      "Количество дубликатов после удаления: 0\n"
     ]
    }
   ],
   "source": [
    "# Удаление полных дубликатов в исходном датафрейме users\n",
    "users = users.drop_duplicates()\n",
    "\n",
    "# Проверка, что дубликаты удалены\n",
    "print(\"Количество дубликатов после удаления:\", users.duplicated().sum())"
   ]
  },
  {
   "cell_type": "markdown",
   "id": "48f4a9d0",
   "metadata": {},
   "source": [
    "Теперь проверим данные на наличие неявных дублей.\n",
    "\n",
    "Начнем с датафрейма `users`. В нем проверим по столбцу `id`, т.к. по остальным столбцам (имя,  возраст, город и подписка) дубли возможны, это корректно."
   ]
  },
  {
   "cell_type": "code",
   "execution_count": 15,
   "id": "4d2206c4",
   "metadata": {},
   "outputs": [
    {
     "name": "stdout",
     "output_type": "stream",
     "text": [
      "Количество повторяющихся user_id: 0\n"
     ]
    }
   ],
   "source": [
    "# Проверка уникальности user_id\n",
    "duplicate_user_ids = users['user_id'].duplicated().sum()\n",
    "\n",
    "print(\"Количество повторяющихся user_id:\", duplicate_user_ids)"
   ]
  },
  {
   "cell_type": "markdown",
   "id": "3bf73496",
   "metadata": {},
   "source": [
    "Остальные датафреймы проверять на неявные дубли нецелесообразно. В `rides` записи могут дублироваться по `id`, т.к. пользователь может совершать несколько поездок и даже в один день, а на явные дубли мы уже выполнили проверку. В `subscriptions` всего 2 записи."
   ]
  },
  {
   "cell_type": "markdown",
   "id": "887b2c59",
   "metadata": {},
   "source": [
    "Таким образом, мы рассмотрели все возможные дубликаты."
   ]
  },
  {
   "cell_type": "markdown",
   "id": "61842b36",
   "metadata": {},
   "source": [
    "В этом разделе мы выполнили предобработку данных: преобразовали столбец с датой, добавили новый столбец с месяцем, а так же изучили и обработали пропуски и дубликаты."
   ]
  },
  {
   "cell_type": "markdown",
   "id": "ea10e032",
   "metadata": {},
   "source": [
    "## Исследовательский анализ данных"
   ]
  },
  {
   "cell_type": "markdown",
   "id": "8395fff2",
   "metadata": {},
   "source": [
    "Опишем и визуализируем общую информацию о пользователях и поездках."
   ]
  },
  {
   "cell_type": "markdown",
   "id": "35e54568",
   "metadata": {},
   "source": [
    "### Частота встречаемости городов"
   ]
  },
  {
   "cell_type": "code",
   "execution_count": 16,
   "id": "afe476d4",
   "metadata": {},
   "outputs": [
    {
     "name": "stdout",
     "output_type": "stream",
     "text": [
      "             city  user_count\n",
      "0       Пятигорск         219\n",
      "1    Екатеринбург         204\n",
      "2  Ростов-на-Дону         198\n",
      "3       Краснодар         193\n",
      "4            Сочи         189\n",
      "5            Омск         183\n",
      "6          Тюмень         180\n",
      "7          Москва         168\n"
     ]
    },
    {
     "data": {
      "image/png": "[encoded data removed]",
      "text/plain": [
       "<Figure size 1000x600 with 1 Axes>"
      ]
     },
     "metadata": {},
     "output_type": "display_data"
    }
   ],
   "source": [
    "# Создаем таблицу частоты встречаемости городов\n",
    "city_counts = users['city'].value_counts().reset_index()\n",
    "city_counts.columns = ['city', 'user_count']\n",
    "\n",
    "# Сортируем по количеству пользователей по убыванию\n",
    "city_counts = city_counts.sort_values(by='user_count', ascending=False)\n",
    "\n",
    "# Выводим таблицу для анализа\n",
    "print(city_counts)\n",
    "\n",
    "# Строим горизонтальный график с инверсией оси Y\n",
    "plt.figure(figsize=(10,6))\n",
    "plt.barh(city_counts['city'], city_counts['user_count'], color='skyblue')\n",
    "plt.title('Частота встречаемости городов среди пользователей', fontsize=16)\n",
    "plt.xlabel('Количество пользователей', fontsize=12)\n",
    "plt.ylabel('Город', fontsize=12)\n",
    "plt.gca().invert_yaxis()  # Инвертируем ось Y\n",
    "plt.tight_layout()\n",
    "plt.show()\n"
   ]
  },
  {
   "cell_type": "markdown",
   "id": "b910eabb",
   "metadata": {},
   "source": [
    "По результатам анализа видно, что больше всего пользователей сервиса GoFast в Пятигорске — 219 человек. Далее идут крупные города: Екатеринбург (204 пользователя), Ростов-на-Дону (198 пользователей) и Краснодар (193 пользователя). Замыкают список Москва (168 пользователей) и Тюмень (180 пользователей). Интересно, что Москва не занимает лидирующие позиции по количеству пользователей, что может указывать на специфику спроса на аренду самокатов в разных регионах или уровень конкуренции."
   ]
  },
  {
   "cell_type": "markdown",
   "id": "34269e66",
   "metadata": {},
   "source": [
    "### Соотношение пользователей с подпиской и без подписки"
   ]
  },
  {
   "cell_type": "code",
   "execution_count": 17,
   "id": "77820c93",
   "metadata": {},
   "outputs": [
    {
     "name": "stdout",
     "output_type": "stream",
     "text": [
      "  subscription_type  user_count\n",
      "0              free         835\n",
      "1             ultra         699\n"
     ]
    },
    {
     "data": {
      "image/png": "[encoded data removed]",
      "text/plain": [
       "<Figure size 800x800 with 1 Axes>"
      ]
     },
     "metadata": {},
     "output_type": "display_data"
    }
   ],
   "source": [
    "# Создаем таблицу частоты типов подписок\n",
    "subscription_counts = users['subscription_type'].value_counts().reset_index()\n",
    "subscription_counts.columns = ['subscription_type', 'user_count']\n",
    "\n",
    "# Выводим таблицу для анализа\n",
    "print(subscription_counts)\n",
    "\n",
    "# Строим круговую диаграмму\n",
    "plt.figure(figsize=(8,8))\n",
    "plt.pie(subscription_counts['user_count'], labels=subscription_counts['subscription_type'], autopct='%1.1f%%', startangle=90, colors=['skyblue', 'lightgreen'])\n",
    "plt.title('Соотношение пользователей с подпиской и без подписки', fontsize=16)\n",
    "plt.axis('equal')  # Для круглой формы диаграммы\n",
    "plt.show()"
   ]
  },
  {
   "cell_type": "markdown",
   "id": "d8e46deb",
   "metadata": {},
   "source": [
    "Соотношение пользователей с подпиской и без подписки:\n",
    "- 835 пользователей (54.4%) используют сервис GoFast без подписки.\n",
    "- 699 пользователей (45.6%) оформили подписку Ultra.\n",
    "\n",
    "Это довольно равномерное распределение, что указывает на значительное количество пользователей, готовых платить за подписку ради снижения стоимости поездок. Однако большинство пользователей пока предпочитают пользоваться сервисом без подписки, оплачивая каждую поездку отдельно."
   ]
  },
  {
   "cell_type": "markdown",
   "id": "f37c9839",
   "metadata": {},
   "source": [
    "### Возраст пользователей"
   ]
  },
  {
   "cell_type": "code",
   "execution_count": 18,
   "id": "b8395c77",
   "metadata": {},
   "outputs": [
    {
     "data": {
      "image/png": "[encoded data removed]",
      "text/plain": [
       "<Figure size 1000x600 with 1 Axes>"
      ]
     },
     "metadata": {},
     "output_type": "display_data"
    }
   ],
   "source": [
    "# Создаем таблицу частоты встречаемости возрастов\n",
    "age_counts = users['age'].value_counts().reset_index()\n",
    "age_counts.columns = ['age', 'user_count']\n",
    "\n",
    "# Строим гистограмму для отображения распределения возрастов пользователей\n",
    "plt.figure(figsize=(10,6))\n",
    "plt.hist(users['age'], bins=15, color='skyblue', edgecolor='black')\n",
    "plt.title('Распределение пользователей по возрасту', fontsize=16)\n",
    "plt.xlabel('Возраст', fontsize=12)\n",
    "plt.ylabel('Количество пользователей', fontsize=12)\n",
    "plt.grid(True)\n",
    "\n",
    "# Показываем график\n",
    "plt.show()"
   ]
  },
  {
   "cell_type": "markdown",
   "id": "8c891a10",
   "metadata": {},
   "source": [
    "На основе гистограммы распределения возрастов можно сделать следующие выводы:\n",
    "- Основная возрастная группа пользователей — от 20 до 30 лет. В этой группе наибольшее количество пользователей, причём пик приходится на возраст 25 лет. Это может указывать на привлекательность сервиса для студентов и молодых людей. Видим меньшее количество пользователей старше 30 лет, что также отражает популярность аренды самокатов среди более молодых возрастных групп.\n",
    "- Нормальное распределение: данные показывают нормальное распределение пользователей по возрасту с явным пиком в середине (около 25 лет) и снижением к обеим сторонам от этого значения."
   ]
  },
  {
   "cell_type": "markdown",
   "id": "21d0966e",
   "metadata": {},
   "source": [
    "### Расстояние, которое пользователь преодолел за одну поездку"
   ]
  },
  {
   "cell_type": "code",
   "execution_count": 19,
   "id": "171caf41",
   "metadata": {},
   "outputs": [
    {
     "data": {
      "image/png": "[encoded data removed]",
      "text/plain": [
       "<Figure size 1000x600 with 1 Axes>"
      ]
     },
     "metadata": {},
     "output_type": "display_data"
    }
   ],
   "source": [
    "# Создаем таблицу частоты расстояний\n",
    "distance_counts = rides['distance'].value_counts().reset_index()\n",
    "distance_counts.columns = ['distance', 'ride_count']\n",
    "\n",
    "# Строим гистограмму для отображения распределения расстояний\n",
    "plt.figure(figsize=(10,6))\n",
    "plt.hist(rides['distance'], bins=20, color='lightcoral', edgecolor='black')\n",
    "plt.title('Распределение расстояний поездок пользователей', fontsize=16)\n",
    "plt.xlabel('Расстояние (метры)', fontsize=12)\n",
    "plt.ylabel('Количество поездок', fontsize=12)\n",
    "plt.grid(True)\n",
    "\n",
    "# Показываем график\n",
    "plt.show()"
   ]
  },
  {
   "cell_type": "code",
   "execution_count": 20,
   "id": "a733315a",
   "metadata": {},
   "outputs": [
    {
     "data": {
      "text/plain": [
       "count    18068.000000\n",
       "mean      3070.659976\n",
       "std       1116.831209\n",
       "min          0.855683\n",
       "25%       2543.226360\n",
       "50%       3133.609994\n",
       "75%       3776.222735\n",
       "max       7211.007745\n",
       "Name: distance, dtype: float64"
      ]
     },
     "execution_count": 20,
     "metadata": {},
     "output_type": "execute_result"
    }
   ],
   "source": [
    "# Посмтрим на основную информацию о распределении данных\n",
    "rides['distance'].describe()"
   ]
  },
  {
   "cell_type": "markdown",
   "id": "714f97fc",
   "metadata": {},
   "source": [
    "На основе полученной гистограммы распределения расстояний поездок пользователей можно сделать следующие выводы:\n",
    "- Основное расстояние поездок: большинство пользователей преодолевают расстояние около 2000–4000 метров за одну поездку. Пик приходится примерно на 3070 метров, что соответствует стандартным городским перемещениям. Существуют поездки на более длинные дистанции (свыше 5000 метров), но таких случаев немного. Так же есть значительное количество поездок, которые выполняется на расстояние менее 2000 метров. Это говорит о том, что многие пользователи используют сервис для коротких поездок, возможно, чтобы добраться до ближайшей станции метро, торгового центра или работы.\n",
    "- Распределение: видно, что большая часть поездок сосредоточена в диапазоне до 5000 метров, с резким спадом по мере увеличения расстояния. Это говорит о том, что пользователи в основном используют самокаты для коротких и средних дистанций в пределах города."
   ]
  },
  {
   "cell_type": "markdown",
   "id": "372cc97c",
   "metadata": {},
   "source": [
    "### Продолжительность поездок"
   ]
  },
  {
   "cell_type": "code",
   "execution_count": 21,
   "id": "9fc25ac2",
   "metadata": {},
   "outputs": [
    {
     "data": {
      "image/png": "[encoded data removed]",
      "text/plain": [
       "<Figure size 1000x600 with 1 Axes>"
      ]
     },
     "metadata": {},
     "output_type": "display_data"
    }
   ],
   "source": [
    "# Создаем таблицу частоты продолжительности поездок\n",
    "duration_counts = rides['duration'].value_counts().reset_index()\n",
    "duration_counts.columns = ['duration', 'ride_count']\n",
    "\n",
    "# Строим гистограмму для отображения распределения продолжительности поездок\n",
    "plt.figure(figsize=(10,6))\n",
    "plt.hist(rides['duration'], bins=30, color='lightblue', edgecolor='black')\n",
    "plt.title('Распределение продолжительности поездок пользователей', fontsize=16)\n",
    "plt.xlabel('Продолжительность (минуты)', fontsize=12)\n",
    "plt.ylabel('Количество поездок', fontsize=12)\n",
    "plt.grid(True)\n",
    "\n",
    "# Показываем график\n",
    "plt.show()"
   ]
  },
  {
   "cell_type": "code",
   "execution_count": 22,
   "id": "4b19a2d9",
   "metadata": {},
   "outputs": [
    {
     "data": {
      "text/plain": [
       "count    18068.000000\n",
       "mean        17.805011\n",
       "std          6.091051\n",
       "min          0.500000\n",
       "25%         13.597563\n",
       "50%         17.678395\n",
       "75%         21.724800\n",
       "max         40.823963\n",
       "Name: duration, dtype: float64"
      ]
     },
     "execution_count": 22,
     "metadata": {},
     "output_type": "execute_result"
    }
   ],
   "source": [
    "# Посмтрим на основную информацию о распределении данных\n",
    "rides['duration'].describe()"
   ]
  },
  {
   "cell_type": "markdown",
   "id": "fa986af2",
   "metadata": {},
   "source": [
    "Заметим, что на графике есть странный пик со значениями около нуля (минимальная длительность поездки 30 секунд). Скорее всего, у пользователей что-то пошло не так (например, какая-то проблема с самокатом), и они закончили поездку раньше желаемого времени. Такие данные стоит рассмотреть, как аномальные и удалить. \n",
    "\n",
    "Порог в 1 минуту (60 секунд) может быть разумным минимальным значением для анализа. Например, за минуту пользователь может успеть проехать короткое расстояние, даже если это была реальная, но быстрая поездка. Поездки короче 1 минуты, вероятнее всего, можно считать аномальными, так как они не отражают типичное поведение пользователей, а могут свидетельствовать о технических проблемах или случайном завершении поездки."
   ]
  },
  {
   "cell_type": "code",
   "execution_count": 23,
   "id": "4db7714b",
   "metadata": {},
   "outputs": [
    {
     "name": "stdout",
     "output_type": "stream",
     "text": [
      "Количество поездок с продолжительностью меньше 1 минуты: 95\n",
      "Минимальная продолжительность поездки после фильтрации: 2.0356324681963884\n"
     ]
    }
   ],
   "source": [
    "# Подсчитываем количество поездок с продолжительностью меньше 1 минуты\n",
    "num_short_rides = rides[rides['duration'] < 1].shape[0]\n",
    "\n",
    "# Выводим количество таких поездок\n",
    "print(f\"Количество поездок с продолжительностью меньше 1 минуты: {num_short_rides}\")\n",
    "\n",
    "# Фильтруем данные, удаляя поездки, которые длились менее 1 минуты (60 секунд)\n",
    "rides = rides[rides['duration'] >= 1]\n",
    "\n",
    "# Выводим минимальное значение продолжительности после фильтрации\n",
    "print(f\"Минимальная продолжительность поездки после фильтрации: {rides['duration'].min()}\")"
   ]
  },
  {
   "cell_type": "code",
   "execution_count": 24,
   "id": "2cf60c9b",
   "metadata": {},
   "outputs": [
    {
     "data": {
      "image/png": "[encoded data removed]",
      "text/plain": [
       "<Figure size 1000x600 with 1 Axes>"
      ]
     },
     "metadata": {},
     "output_type": "display_data"
    }
   ],
   "source": [
    "# Строим обновлённый график продолжительности поездок\n",
    "plt.figure(figsize=(10,6))\n",
    "plt.hist(rides['duration'], bins=30, color='skyblue', edgecolor='black')\n",
    "plt.title('Распределение продолжительности поездок после фильтрации', fontsize=16)\n",
    "plt.xlabel('Продолжительность поездки (минуты)', fontsize=12)\n",
    "plt.ylabel('Количество поездок', fontsize=12)\n",
    "plt.grid(True)\n",
    "plt.show()"
   ]
  },
  {
   "cell_type": "code",
   "execution_count": 25,
   "id": "eec34a6d",
   "metadata": {},
   "outputs": [
    {
     "data": {
      "text/plain": [
       "count    17973.000000\n",
       "mean        17.896480\n",
       "std          5.975424\n",
       "min          2.035632\n",
       "25%         13.670439\n",
       "50%         17.714122\n",
       "75%         21.747016\n",
       "max         40.823963\n",
       "Name: duration, dtype: float64"
      ]
     },
     "execution_count": 25,
     "metadata": {},
     "output_type": "execute_result"
    }
   ],
   "source": [
    "# Посмтрим на основную информацию о распределении отфильтрованных данных\n",
    "rides['duration'].describe()"
   ]
  },
  {
   "cell_type": "markdown",
   "id": "ef56963e",
   "metadata": {},
   "source": [
    "На основе полученной гистограммы можно сделать следующие выводы:\n",
    "- Нормальное распределение: продолжительность поездок пользователей GoFast распределена нормально, с пиком на интервале 15-20 минут. Это говорит о том, что большинство пользователей тратят примерно это время на одну поездку.\n",
    "- Основная продолжительность поездок: наиболее частая продолжительность поездок — от 10 до 25 минут. Это может указывать на то, что пользователи совершают поездки на самокатах на короткие или средние расстояния, которые требуют примерно этого времени. Что подтверждает предыдущие выводы о расстроянии.\n",
    "- Редкость долгих поездок: поездки продолжительностью более 30 минут встречаются редко, что свидетельствует о том, что сервис GoFast чаще используется для коротких перемещений по городу, а не для длительных поездок, что тоже подтвержает предыдущие выводы."
   ]
  },
  {
   "cell_type": "markdown",
   "id": "fd677479",
   "metadata": {},
   "source": [
    "В этом разделе мы провели исследовательский аналих данных и получили следующую информацию о пользователях и их поездках:\n",
    "1. Географическое распределение пользователей: наибольшее количество пользователей сосредоточено в Пятигорске, Екатеринбурге и Ростове-на-Дону. Москва, несмотря на свои размеры, не входит в топ городов по числу пользователей, что может указывать на особенности спроса в различных регионах или конкуренцию по спросу.\n",
    "2. Подписки: почти поровну разделены пользователи с подпиской Ultra и без неё. Тем не менее, большинство пользователей (54%) пока предпочитают пользоваться сервисом без подписки, что указывает на потенциал для дальнейшего продвижения подписки среди клиентов.\n",
    "3. Возраст пользователей: основная возрастная группа пользователей — от 20 до 30 лет, с пиком в 25 лет. Это молодая аудитория, активно использующая сервис для передвижений по городу.\n",
    "4. Расстояние поездок: большинство поездок совершается на расстояние от 2000 до 4000 метров, с пиком около 3000 метров. Это подтверждает, что пользователи чаще всего используют самокаты для коротких или средних перемещений.\n",
    "5. Продолжительность поездок: распределение продолжительности поездок имеет нормальный характер, и основное время поездок — от 10 до 25 минут. Пик приходится на поездки продолжительностью 15-20 минут, что также свидетельствует о популярности коротких поездок среди пользователей."
   ]
  },
  {
   "cell_type": "markdown",
   "id": "823414d6",
   "metadata": {},
   "source": [
    "## Объединение данных"
   ]
  },
  {
   "cell_type": "markdown",
   "id": "4c26a1fe",
   "metadata": {},
   "source": [
    "Объединим данные о пользователях, поездках и подписках в один датафрейм."
   ]
  },
  {
   "cell_type": "code",
   "execution_count": 26,
   "id": "283c0f22",
   "metadata": {},
   "outputs": [
    {
     "data": {
      "text/html": [
       "<div>\n",
       "<style scoped>\n",
       "    .dataframe tbody tr th:only-of-type {\n",
       "        vertical-align: middle;\n",
       "    }\n",
       "\n",
       "    .dataframe tbody tr th {\n",
       "        vertical-align: top;\n",
       "    }\n",
       "\n",
       "    .dataframe thead th {\n",
       "        text-align: right;\n",
       "    }\n",
       "</style>\n",
       "<table border=\"1\" class=\"dataframe\">\n",
       "  <thead>\n",
       "    <tr style=\"text-align: right;\">\n",
       "      <th></th>\n",
       "      <th>user_id</th>\n",
       "      <th>name</th>\n",
       "      <th>age</th>\n",
       "      <th>city</th>\n",
       "      <th>subscription_type</th>\n",
       "      <th>distance</th>\n",
       "      <th>duration</th>\n",
       "      <th>date</th>\n",
       "      <th>month</th>\n",
       "      <th>minute_price</th>\n",
       "      <th>start_ride_price</th>\n",
       "      <th>subscription_fee</th>\n",
       "    </tr>\n",
       "  </thead>\n",
       "  <tbody>\n",
       "    <tr>\n",
       "      <th>0</th>\n",
       "      <td>1</td>\n",
       "      <td>Кира</td>\n",
       "      <td>22</td>\n",
       "      <td>Тюмень</td>\n",
       "      <td>ultra</td>\n",
       "      <td>4409.919140</td>\n",
       "      <td>25.599769</td>\n",
       "      <td>2021-01-01</td>\n",
       "      <td>1</td>\n",
       "      <td>6</td>\n",
       "      <td>0</td>\n",
       "      <td>199</td>\n",
       "    </tr>\n",
       "    <tr>\n",
       "      <th>1</th>\n",
       "      <td>1</td>\n",
       "      <td>Кира</td>\n",
       "      <td>22</td>\n",
       "      <td>Тюмень</td>\n",
       "      <td>ultra</td>\n",
       "      <td>2617.592153</td>\n",
       "      <td>15.816871</td>\n",
       "      <td>2021-01-18</td>\n",
       "      <td>1</td>\n",
       "      <td>6</td>\n",
       "      <td>0</td>\n",
       "      <td>199</td>\n",
       "    </tr>\n",
       "    <tr>\n",
       "      <th>2</th>\n",
       "      <td>1</td>\n",
       "      <td>Кира</td>\n",
       "      <td>22</td>\n",
       "      <td>Тюмень</td>\n",
       "      <td>ultra</td>\n",
       "      <td>754.159807</td>\n",
       "      <td>6.232113</td>\n",
       "      <td>2021-04-20</td>\n",
       "      <td>4</td>\n",
       "      <td>6</td>\n",
       "      <td>0</td>\n",
       "      <td>199</td>\n",
       "    </tr>\n",
       "    <tr>\n",
       "      <th>3</th>\n",
       "      <td>1</td>\n",
       "      <td>Кира</td>\n",
       "      <td>22</td>\n",
       "      <td>Тюмень</td>\n",
       "      <td>ultra</td>\n",
       "      <td>2694.783254</td>\n",
       "      <td>18.511000</td>\n",
       "      <td>2021-08-11</td>\n",
       "      <td>8</td>\n",
       "      <td>6</td>\n",
       "      <td>0</td>\n",
       "      <td>199</td>\n",
       "    </tr>\n",
       "    <tr>\n",
       "      <th>4</th>\n",
       "      <td>1</td>\n",
       "      <td>Кира</td>\n",
       "      <td>22</td>\n",
       "      <td>Тюмень</td>\n",
       "      <td>ultra</td>\n",
       "      <td>4028.687306</td>\n",
       "      <td>26.265803</td>\n",
       "      <td>2021-08-28</td>\n",
       "      <td>8</td>\n",
       "      <td>6</td>\n",
       "      <td>0</td>\n",
       "      <td>199</td>\n",
       "    </tr>\n",
       "  </tbody>\n",
       "</table>\n",
       "</div>"
      ],
      "text/plain": [
       "   user_id  name  age    city subscription_type     distance   duration  \\\n",
       "0        1  Кира   22  Тюмень             ultra  4409.919140  25.599769   \n",
       "1        1  Кира   22  Тюмень             ultra  2617.592153  15.816871   \n",
       "2        1  Кира   22  Тюмень             ultra   754.159807   6.232113   \n",
       "3        1  Кира   22  Тюмень             ultra  2694.783254  18.511000   \n",
       "4        1  Кира   22  Тюмень             ultra  4028.687306  26.265803   \n",
       "\n",
       "        date  month  minute_price  start_ride_price  subscription_fee  \n",
       "0 2021-01-01      1             6                 0               199  \n",
       "1 2021-01-18      1             6                 0               199  \n",
       "2 2021-04-20      4             6                 0               199  \n",
       "3 2021-08-11      8             6                 0               199  \n",
       "4 2021-08-28      8             6                 0               199  "
      ]
     },
     "execution_count": 26,
     "metadata": {},
     "output_type": "execute_result"
    }
   ],
   "source": [
    "# Объединяем таблицу users и rides по полю 'user_id'\n",
    "users_rides = pd.merge(users, rides, on='user_id', how='inner')\n",
    "\n",
    "# Объединяем полученный датафрейм с таблицей subscriptions по полю 'subscription_type'\n",
    "full_data = pd.merge(users_rides, subscriptions, on='subscription_type', how='inner')\n",
    "\n",
    "# Выводим результат объединения для проверки\n",
    "full_data.head()"
   ]
  },
  {
   "cell_type": "code",
   "execution_count": 27,
   "id": "bb0df3bd",
   "metadata": {},
   "outputs": [
    {
     "name": "stdout",
     "output_type": "stream",
     "text": [
      "<class 'pandas.core.frame.DataFrame'>\n",
      "Int64Index: 17973 entries, 0 to 17972\n",
      "Data columns (total 12 columns):\n",
      " #   Column             Non-Null Count  Dtype         \n",
      "---  ------             --------------  -----         \n",
      " 0   user_id            17973 non-null  int64         \n",
      " 1   name               17973 non-null  object        \n",
      " 2   age                17973 non-null  int64         \n",
      " 3   city               17973 non-null  object        \n",
      " 4   subscription_type  17973 non-null  object        \n",
      " 5   distance           17973 non-null  float64       \n",
      " 6   duration           17973 non-null  float64       \n",
      " 7   date               17973 non-null  datetime64[ns]\n",
      " 8   month              17973 non-null  int64         \n",
      " 9   minute_price       17973 non-null  int64         \n",
      " 10  start_ride_price   17973 non-null  int64         \n",
      " 11  subscription_fee   17973 non-null  int64         \n",
      "dtypes: datetime64[ns](1), float64(2), int64(6), object(3)\n",
      "memory usage: 1.8+ MB\n"
     ]
    }
   ],
   "source": [
    "full_data.info()"
   ]
  },
  {
   "cell_type": "markdown",
   "id": "5039e98d",
   "metadata": {},
   "source": [
    "Объединение данных прошло успешно."
   ]
  },
  {
   "cell_type": "markdown",
   "id": "90ae75f2",
   "metadata": {},
   "source": [
    "### Создание дополнительных датафреймов"
   ]
  },
  {
   "cell_type": "markdown",
   "id": "7b51eb08",
   "metadata": {},
   "source": [
    "Создадим ещё два отдельных датафрейма:\n",
    "- c данными о пользователях без подписки;\n",
    "- с данными о пользователях с подпиской."
   ]
  },
  {
   "cell_type": "code",
   "execution_count": 28,
   "id": "18a710c6",
   "metadata": {},
   "outputs": [
    {
     "name": "stdout",
     "output_type": "stream",
     "text": [
      "Данные о пользователях без подписки:\n"
     ]
    },
    {
     "data": {
      "text/html": [
       "<div>\n",
       "<style scoped>\n",
       "    .dataframe tbody tr th:only-of-type {\n",
       "        vertical-align: middle;\n",
       "    }\n",
       "\n",
       "    .dataframe tbody tr th {\n",
       "        vertical-align: top;\n",
       "    }\n",
       "\n",
       "    .dataframe thead th {\n",
       "        text-align: right;\n",
       "    }\n",
       "</style>\n",
       "<table border=\"1\" class=\"dataframe\">\n",
       "  <thead>\n",
       "    <tr style=\"text-align: right;\">\n",
       "      <th></th>\n",
       "      <th>user_id</th>\n",
       "      <th>name</th>\n",
       "      <th>age</th>\n",
       "      <th>city</th>\n",
       "      <th>subscription_type</th>\n",
       "      <th>distance</th>\n",
       "      <th>duration</th>\n",
       "      <th>date</th>\n",
       "      <th>month</th>\n",
       "      <th>minute_price</th>\n",
       "      <th>start_ride_price</th>\n",
       "      <th>subscription_fee</th>\n",
       "    </tr>\n",
       "  </thead>\n",
       "  <tbody>\n",
       "    <tr>\n",
       "      <th>6500</th>\n",
       "      <td>700</td>\n",
       "      <td>Айдар</td>\n",
       "      <td>22</td>\n",
       "      <td>Омск</td>\n",
       "      <td>free</td>\n",
       "      <td>2515.690719</td>\n",
       "      <td>14.944286</td>\n",
       "      <td>2021-01-02</td>\n",
       "      <td>1</td>\n",
       "      <td>8</td>\n",
       "      <td>50</td>\n",
       "      <td>0</td>\n",
       "    </tr>\n",
       "    <tr>\n",
       "      <th>6501</th>\n",
       "      <td>700</td>\n",
       "      <td>Айдар</td>\n",
       "      <td>22</td>\n",
       "      <td>Омск</td>\n",
       "      <td>free</td>\n",
       "      <td>846.932642</td>\n",
       "      <td>16.234663</td>\n",
       "      <td>2021-02-01</td>\n",
       "      <td>2</td>\n",
       "      <td>8</td>\n",
       "      <td>50</td>\n",
       "      <td>0</td>\n",
       "    </tr>\n",
       "    <tr>\n",
       "      <th>6502</th>\n",
       "      <td>700</td>\n",
       "      <td>Айдар</td>\n",
       "      <td>22</td>\n",
       "      <td>Омск</td>\n",
       "      <td>free</td>\n",
       "      <td>4004.434142</td>\n",
       "      <td>20.016628</td>\n",
       "      <td>2021-02-04</td>\n",
       "      <td>2</td>\n",
       "      <td>8</td>\n",
       "      <td>50</td>\n",
       "      <td>0</td>\n",
       "    </tr>\n",
       "    <tr>\n",
       "      <th>6503</th>\n",
       "      <td>700</td>\n",
       "      <td>Айдар</td>\n",
       "      <td>22</td>\n",
       "      <td>Омск</td>\n",
       "      <td>free</td>\n",
       "      <td>1205.911290</td>\n",
       "      <td>9.782872</td>\n",
       "      <td>2021-02-10</td>\n",
       "      <td>2</td>\n",
       "      <td>8</td>\n",
       "      <td>50</td>\n",
       "      <td>0</td>\n",
       "    </tr>\n",
       "    <tr>\n",
       "      <th>6504</th>\n",
       "      <td>700</td>\n",
       "      <td>Айдар</td>\n",
       "      <td>22</td>\n",
       "      <td>Омск</td>\n",
       "      <td>free</td>\n",
       "      <td>3047.379435</td>\n",
       "      <td>17.427673</td>\n",
       "      <td>2021-02-14</td>\n",
       "      <td>2</td>\n",
       "      <td>8</td>\n",
       "      <td>50</td>\n",
       "      <td>0</td>\n",
       "    </tr>\n",
       "  </tbody>\n",
       "</table>\n",
       "</div>"
      ],
      "text/plain": [
       "      user_id   name  age  city subscription_type     distance   duration  \\\n",
       "6500      700  Айдар   22  Омск              free  2515.690719  14.944286   \n",
       "6501      700  Айдар   22  Омск              free   846.932642  16.234663   \n",
       "6502      700  Айдар   22  Омск              free  4004.434142  20.016628   \n",
       "6503      700  Айдар   22  Омск              free  1205.911290   9.782872   \n",
       "6504      700  Айдар   22  Омск              free  3047.379435  17.427673   \n",
       "\n",
       "           date  month  minute_price  start_ride_price  subscription_fee  \n",
       "6500 2021-01-02      1             8                50                 0  \n",
       "6501 2021-02-01      2             8                50                 0  \n",
       "6502 2021-02-04      2             8                50                 0  \n",
       "6503 2021-02-10      2             8                50                 0  \n",
       "6504 2021-02-14      2             8                50                 0  "
      ]
     },
     "metadata": {},
     "output_type": "display_data"
    },
    {
     "name": "stdout",
     "output_type": "stream",
     "text": [
      "\n",
      "Данные о пользователях с подпиской:\n"
     ]
    },
    {
     "data": {
      "text/html": [
       "<div>\n",
       "<style scoped>\n",
       "    .dataframe tbody tr th:only-of-type {\n",
       "        vertical-align: middle;\n",
       "    }\n",
       "\n",
       "    .dataframe tbody tr th {\n",
       "        vertical-align: top;\n",
       "    }\n",
       "\n",
       "    .dataframe thead th {\n",
       "        text-align: right;\n",
       "    }\n",
       "</style>\n",
       "<table border=\"1\" class=\"dataframe\">\n",
       "  <thead>\n",
       "    <tr style=\"text-align: right;\">\n",
       "      <th></th>\n",
       "      <th>user_id</th>\n",
       "      <th>name</th>\n",
       "      <th>age</th>\n",
       "      <th>city</th>\n",
       "      <th>subscription_type</th>\n",
       "      <th>distance</th>\n",
       "      <th>duration</th>\n",
       "      <th>date</th>\n",
       "      <th>month</th>\n",
       "      <th>minute_price</th>\n",
       "      <th>start_ride_price</th>\n",
       "      <th>subscription_fee</th>\n",
       "    </tr>\n",
       "  </thead>\n",
       "  <tbody>\n",
       "    <tr>\n",
       "      <th>0</th>\n",
       "      <td>1</td>\n",
       "      <td>Кира</td>\n",
       "      <td>22</td>\n",
       "      <td>Тюмень</td>\n",
       "      <td>ultra</td>\n",
       "      <td>4409.919140</td>\n",
       "      <td>25.599769</td>\n",
       "      <td>2021-01-01</td>\n",
       "      <td>1</td>\n",
       "      <td>6</td>\n",
       "      <td>0</td>\n",
       "      <td>199</td>\n",
       "    </tr>\n",
       "    <tr>\n",
       "      <th>1</th>\n",
       "      <td>1</td>\n",
       "      <td>Кира</td>\n",
       "      <td>22</td>\n",
       "      <td>Тюмень</td>\n",
       "      <td>ultra</td>\n",
       "      <td>2617.592153</td>\n",
       "      <td>15.816871</td>\n",
       "      <td>2021-01-18</td>\n",
       "      <td>1</td>\n",
       "      <td>6</td>\n",
       "      <td>0</td>\n",
       "      <td>199</td>\n",
       "    </tr>\n",
       "    <tr>\n",
       "      <th>2</th>\n",
       "      <td>1</td>\n",
       "      <td>Кира</td>\n",
       "      <td>22</td>\n",
       "      <td>Тюмень</td>\n",
       "      <td>ultra</td>\n",
       "      <td>754.159807</td>\n",
       "      <td>6.232113</td>\n",
       "      <td>2021-04-20</td>\n",
       "      <td>4</td>\n",
       "      <td>6</td>\n",
       "      <td>0</td>\n",
       "      <td>199</td>\n",
       "    </tr>\n",
       "    <tr>\n",
       "      <th>3</th>\n",
       "      <td>1</td>\n",
       "      <td>Кира</td>\n",
       "      <td>22</td>\n",
       "      <td>Тюмень</td>\n",
       "      <td>ultra</td>\n",
       "      <td>2694.783254</td>\n",
       "      <td>18.511000</td>\n",
       "      <td>2021-08-11</td>\n",
       "      <td>8</td>\n",
       "      <td>6</td>\n",
       "      <td>0</td>\n",
       "      <td>199</td>\n",
       "    </tr>\n",
       "    <tr>\n",
       "      <th>4</th>\n",
       "      <td>1</td>\n",
       "      <td>Кира</td>\n",
       "      <td>22</td>\n",
       "      <td>Тюмень</td>\n",
       "      <td>ultra</td>\n",
       "      <td>4028.687306</td>\n",
       "      <td>26.265803</td>\n",
       "      <td>2021-08-28</td>\n",
       "      <td>8</td>\n",
       "      <td>6</td>\n",
       "      <td>0</td>\n",
       "      <td>199</td>\n",
       "    </tr>\n",
       "  </tbody>\n",
       "</table>\n",
       "</div>"
      ],
      "text/plain": [
       "   user_id  name  age    city subscription_type     distance   duration  \\\n",
       "0        1  Кира   22  Тюмень             ultra  4409.919140  25.599769   \n",
       "1        1  Кира   22  Тюмень             ultra  2617.592153  15.816871   \n",
       "2        1  Кира   22  Тюмень             ultra   754.159807   6.232113   \n",
       "3        1  Кира   22  Тюмень             ultra  2694.783254  18.511000   \n",
       "4        1  Кира   22  Тюмень             ultra  4028.687306  26.265803   \n",
       "\n",
       "        date  month  minute_price  start_ride_price  subscription_fee  \n",
       "0 2021-01-01      1             6                 0               199  \n",
       "1 2021-01-18      1             6                 0               199  \n",
       "2 2021-04-20      4             6                 0               199  \n",
       "3 2021-08-11      8             6                 0               199  \n",
       "4 2021-08-28      8             6                 0               199  "
      ]
     },
     "metadata": {},
     "output_type": "display_data"
    }
   ],
   "source": [
    "# Датафрейм с пользователями без подписки\n",
    "free_users_data = full_data[full_data['subscription_type'] == 'free']\n",
    "\n",
    "# Датафрейм с пользователями с подпиской (Ultra)\n",
    "ultra_users_data = full_data[full_data['subscription_type'] == 'ultra']\n",
    "\n",
    "# Выводим по 5 строк из каждого для проверки\n",
    "print(\"Данные о пользователях без подписки:\")\n",
    "display(free_users_data.head())\n",
    "\n",
    "print(\"\\nДанные о пользователях с подпиской:\")\n",
    "display(ultra_users_data.head())"
   ]
  },
  {
   "cell_type": "markdown",
   "id": "9b08bfa3",
   "metadata": {},
   "source": [
    "Отлично, создали."
   ]
  },
  {
   "cell_type": "markdown",
   "id": "d5c10834",
   "metadata": {},
   "source": [
    "### Информация о расстоянии и времени поездок"
   ]
  },
  {
   "cell_type": "markdown",
   "id": "7fcee996",
   "metadata": {},
   "source": [
    "Визуализируем информацию о расстоянии и времени поездок для пользователей обеих категорий."
   ]
  },
  {
   "cell_type": "code",
   "execution_count": 29,
   "id": "b66c4a1b",
   "metadata": {},
   "outputs": [
    {
     "data": {
      "image/png": "[encoded data removed]",
      "text/plain": [
       "<Figure size 1000x600 with 1 Axes>"
      ]
     },
     "metadata": {},
     "output_type": "display_data"
    }
   ],
   "source": [
    "# Визуализация данных о расстоянии поездок на одном графике для обеих групп\n",
    "plt.figure(figsize=(10, 6))\n",
    "\n",
    "# Гистограмма расстояний для пользователей без подписки\n",
    "plt.hist(free_users_data['distance'], bins=20, alpha=0.5, color='skyblue', edgecolor='black', label='Без подписки')\n",
    "\n",
    "# Гистограмма расстояний для пользователей с подпиской\n",
    "plt.hist(ultra_users_data['distance'], bins=20, alpha=0.5, color='lightgreen', edgecolor='black', label='С подпиской')\n",
    "\n",
    "# Настройки графика\n",
    "plt.title('Распределение расстояний поездок для пользователей с и без подписки', fontsize=14)\n",
    "plt.xlabel('Расстояние (м)', fontsize=12)\n",
    "plt.ylabel('Количество поездок', fontsize=12)\n",
    "plt.grid(True)\n",
    "plt.legend(loc='upper right')  # Добавляем легенду для обозначения групп\n",
    "plt.tight_layout()\n",
    "plt.show()"
   ]
  },
  {
   "cell_type": "markdown",
   "id": "2ad3d6eb",
   "metadata": {},
   "source": [
    "- Пользователи без подписки: распределение расстояний поездок пользователей без подписки имеет более широкое распределение с пиком около 3000–4000 метров. Также можно заметить более равномерное распределение, которое показывает, что многие пользователи проезжают большие расстояния, вплоть до 6000–7000 метров.\n",
    "- Пользователи с подпиской: для пользователей с подпиской расстояние поездок более сосредоточено в районе 2000–3000 метров, и значительно меньше поездок совершается на расстояние более 5000 метров. Это указывает на то, что пользователи с подпиской чаще делают более короткие поездки."
   ]
  },
  {
   "cell_type": "code",
   "execution_count": 30,
   "id": "2b4982d3",
   "metadata": {
    "scrolled": false
   },
   "outputs": [
    {
     "data": {
      "image/png": "[encoded data removed]",
      "text/plain": [
       "<Figure size 1000x600 with 1 Axes>"
      ]
     },
     "metadata": {},
     "output_type": "display_data"
    }
   ],
   "source": [
    "# Визуализация данных о продолжительности поездок на одном графике для обеих групп\n",
    "plt.figure(figsize=(10, 6))\n",
    "\n",
    "# Гистограмма продолжительности для пользователей без подписки\n",
    "plt.hist(free_users_data['duration'], bins=20, alpha=0.5, color='skyblue', edgecolor='black', label='Без подписки')\n",
    "\n",
    "# Гистограмма продолжительности для пользователей с подпиской\n",
    "plt.hist(ultra_users_data['duration'], bins=20, alpha=0.5, color='lightgreen', edgecolor='black', label='С подпиской')\n",
    "\n",
    "# Настройки графика\n",
    "plt.title('Распределение продолжительности поездок для пользователей с и без подписки', fontsize=14)\n",
    "plt.xlabel('Продолжительность (мин)', fontsize=12)\n",
    "plt.ylabel('Количество поездок', fontsize=12)\n",
    "plt.grid(True)\n",
    "plt.legend(loc='upper right')  # Добавляем легенду для обозначения групп\n",
    "plt.tight_layout()\n",
    "plt.show()"
   ]
  },
  {
   "cell_type": "markdown",
   "id": "3b94e5e2",
   "metadata": {},
   "source": [
    "- Пользователи без подписки: продолжительность поездок пользователей без подписки чаще составляет 15–20 минут, с более равномерным распределением на длинные поездки, до 30-35 минут.\n",
    "- Пользователи с подпиской: пользователи с подпиской совершают поездки, которые чаще длятся от 10 до 20 минут. Длительные поездки (более 25 минут) встречаются значительно реже среди подписчиков, что указывает на тенденцию делать более короткие поездки."
   ]
  },
  {
   "cell_type": "markdown",
   "id": "86213849",
   "metadata": {},
   "source": [
    "Пользователи без подписки склонны к более длинным поездкам как по расстоянию, так и по продолжительности. Это может быть связано с тем, что они оплачивают поездки за каждую минуту и, возможно, стараются использовать самокат реже, но на более длинные дистанции.\n",
    "\n",
    "Пользователи с подпиской Ultra чаще совершают более короткие поездки, как по расстоянию, так и по времени. Подписка, вероятно, стимулирует их использовать самокат для более частых, но коротких перемещений, поскольку стоимость старта поездки для них отсутствует, и поездка обходится дешевле за минуту."
   ]
  },
  {
   "cell_type": "markdown",
   "id": "b89fabbc",
   "metadata": {},
   "source": [
    "## Подсчёт выручки"
   ]
  },
  {
   "cell_type": "markdown",
   "id": "91b45b97",
   "metadata": {},
   "source": [
    "### Создание вспомогательного датафрейма"
   ]
  },
  {
   "cell_type": "markdown",
   "id": "53ecf3b6",
   "metadata": {},
   "source": [
    "Создадим датафрейм с агрегированными данными о поездках на основе датафрейма с объединёнными данными предыдущего раздела: найдем суммарное расстояние, количество поездок и суммарное время для каждого пользователя за каждый месяц."
   ]
  },
  {
   "cell_type": "code",
   "execution_count": 31,
   "id": "b6b86327",
   "metadata": {},
   "outputs": [
    {
     "data": {
      "text/html": [
       "<div>\n",
       "<style scoped>\n",
       "    .dataframe tbody tr th:only-of-type {\n",
       "        vertical-align: middle;\n",
       "    }\n",
       "\n",
       "    .dataframe tbody tr th {\n",
       "        vertical-align: top;\n",
       "    }\n",
       "\n",
       "    .dataframe thead th {\n",
       "        text-align: right;\n",
       "    }\n",
       "</style>\n",
       "<table border=\"1\" class=\"dataframe\">\n",
       "  <thead>\n",
       "    <tr style=\"text-align: right;\">\n",
       "      <th></th>\n",
       "      <th>user_id</th>\n",
       "      <th>month</th>\n",
       "      <th>subscription_type</th>\n",
       "      <th>total_distance</th>\n",
       "      <th>total_rides</th>\n",
       "      <th>total_duration</th>\n",
       "    </tr>\n",
       "  </thead>\n",
       "  <tbody>\n",
       "    <tr>\n",
       "      <th>0</th>\n",
       "      <td>1</td>\n",
       "      <td>1</td>\n",
       "      <td>ultra</td>\n",
       "      <td>7027.511294</td>\n",
       "      <td>2</td>\n",
       "      <td>41.416640</td>\n",
       "    </tr>\n",
       "    <tr>\n",
       "      <th>1</th>\n",
       "      <td>1</td>\n",
       "      <td>4</td>\n",
       "      <td>ultra</td>\n",
       "      <td>754.159807</td>\n",
       "      <td>1</td>\n",
       "      <td>6.232113</td>\n",
       "    </tr>\n",
       "    <tr>\n",
       "      <th>2</th>\n",
       "      <td>1</td>\n",
       "      <td>8</td>\n",
       "      <td>ultra</td>\n",
       "      <td>6723.470560</td>\n",
       "      <td>2</td>\n",
       "      <td>44.776802</td>\n",
       "    </tr>\n",
       "    <tr>\n",
       "      <th>3</th>\n",
       "      <td>1</td>\n",
       "      <td>10</td>\n",
       "      <td>ultra</td>\n",
       "      <td>5809.911100</td>\n",
       "      <td>2</td>\n",
       "      <td>31.578017</td>\n",
       "    </tr>\n",
       "    <tr>\n",
       "      <th>4</th>\n",
       "      <td>1</td>\n",
       "      <td>11</td>\n",
       "      <td>ultra</td>\n",
       "      <td>7003.499363</td>\n",
       "      <td>3</td>\n",
       "      <td>53.397424</td>\n",
       "    </tr>\n",
       "  </tbody>\n",
       "</table>\n",
       "</div>"
      ],
      "text/plain": [
       "   user_id  month subscription_type  total_distance  total_rides  \\\n",
       "0        1      1             ultra     7027.511294            2   \n",
       "1        1      4             ultra      754.159807            1   \n",
       "2        1      8             ultra     6723.470560            2   \n",
       "3        1     10             ultra     5809.911100            2   \n",
       "4        1     11             ultra     7003.499363            3   \n",
       "\n",
       "   total_duration  \n",
       "0       41.416640  \n",
       "1        6.232113  \n",
       "2       44.776802  \n",
       "3       31.578017  \n",
       "4       53.397424  "
      ]
     },
     "execution_count": 31,
     "metadata": {},
     "output_type": "execute_result"
    }
   ],
   "source": [
    "# Группируем данные по пользователям, месяцу и типу подписки, считаем суммарное расстояние, количество поездок и общее время\n",
    "aggregated_data = full_data.groupby(['user_id', 'month', 'subscription_type']).agg(\n",
    "    total_distance=('distance', 'sum'),       # Суммарное расстояние\n",
    "    total_rides=('distance', 'count'),        # Количество поездок\n",
    "    total_duration=('duration', 'sum')        # Суммарное время поездок (без округления)\n",
    ").reset_index()\n",
    "\n",
    "# Выводим результат для проверки\n",
    "aggregated_data.head()"
   ]
  },
  {
   "cell_type": "markdown",
   "id": "d3ec7050",
   "metadata": {},
   "source": [
    "### Добавление столбца с выручкой"
   ]
  },
  {
   "cell_type": "markdown",
   "id": "255f4d7c",
   "metadata": {},
   "source": [
    "В этот же датафрейм добавим столбец с помесячной выручкой, которую принёс каждый пользователь. Для этого обратимся к информации об условиях оплаты для подписчиков и тех, у кого нет подписки. Продолжительность каждой поездки в каждой строке исходного датафрейма для подсчёта стоимости округляется до следующего целого числа: например, значения 25.3, 25.5 и 26.0 должны быть преобразованы к 26."
   ]
  },
  {
   "cell_type": "code",
   "execution_count": 32,
   "id": "d3910245",
   "metadata": {},
   "outputs": [],
   "source": [
    "# Округляем время каждой поездки для расчёта выручки\n",
    "full_data['rounded_duration'] = np.ceil(full_data['duration']).astype(int)"
   ]
  },
  {
   "cell_type": "code",
   "execution_count": 33,
   "id": "b564b33e",
   "metadata": {},
   "outputs": [
    {
     "data": {
      "text/html": [
       "<div>\n",
       "<style scoped>\n",
       "    .dataframe tbody tr th:only-of-type {\n",
       "        vertical-align: middle;\n",
       "    }\n",
       "\n",
       "    .dataframe tbody tr th {\n",
       "        vertical-align: top;\n",
       "    }\n",
       "\n",
       "    .dataframe thead th {\n",
       "        text-align: right;\n",
       "    }\n",
       "</style>\n",
       "<table border=\"1\" class=\"dataframe\">\n",
       "  <thead>\n",
       "    <tr style=\"text-align: right;\">\n",
       "      <th></th>\n",
       "      <th>user_id</th>\n",
       "      <th>month</th>\n",
       "      <th>subscription_type</th>\n",
       "      <th>total_distance</th>\n",
       "      <th>total_rides</th>\n",
       "      <th>total_duration</th>\n",
       "      <th>total_ride_revenue</th>\n",
       "      <th>subscription_fee</th>\n",
       "      <th>total_revenue</th>\n",
       "    </tr>\n",
       "  </thead>\n",
       "  <tbody>\n",
       "    <tr>\n",
       "      <th>0</th>\n",
       "      <td>1</td>\n",
       "      <td>1</td>\n",
       "      <td>ultra</td>\n",
       "      <td>7027.511294</td>\n",
       "      <td>2</td>\n",
       "      <td>41.416640</td>\n",
       "      <td>252</td>\n",
       "      <td>199</td>\n",
       "      <td>451</td>\n",
       "    </tr>\n",
       "    <tr>\n",
       "      <th>1</th>\n",
       "      <td>1</td>\n",
       "      <td>4</td>\n",
       "      <td>ultra</td>\n",
       "      <td>754.159807</td>\n",
       "      <td>1</td>\n",
       "      <td>6.232113</td>\n",
       "      <td>42</td>\n",
       "      <td>199</td>\n",
       "      <td>241</td>\n",
       "    </tr>\n",
       "    <tr>\n",
       "      <th>2</th>\n",
       "      <td>1</td>\n",
       "      <td>8</td>\n",
       "      <td>ultra</td>\n",
       "      <td>6723.470560</td>\n",
       "      <td>2</td>\n",
       "      <td>44.776802</td>\n",
       "      <td>276</td>\n",
       "      <td>199</td>\n",
       "      <td>475</td>\n",
       "    </tr>\n",
       "    <tr>\n",
       "      <th>3</th>\n",
       "      <td>1</td>\n",
       "      <td>10</td>\n",
       "      <td>ultra</td>\n",
       "      <td>5809.911100</td>\n",
       "      <td>2</td>\n",
       "      <td>31.578017</td>\n",
       "      <td>192</td>\n",
       "      <td>199</td>\n",
       "      <td>391</td>\n",
       "    </tr>\n",
       "    <tr>\n",
       "      <th>4</th>\n",
       "      <td>1</td>\n",
       "      <td>11</td>\n",
       "      <td>ultra</td>\n",
       "      <td>7003.499363</td>\n",
       "      <td>3</td>\n",
       "      <td>53.397424</td>\n",
       "      <td>336</td>\n",
       "      <td>199</td>\n",
       "      <td>535</td>\n",
       "    </tr>\n",
       "  </tbody>\n",
       "</table>\n",
       "</div>"
      ],
      "text/plain": [
       "   user_id  month subscription_type  total_distance  total_rides  \\\n",
       "0        1      1             ultra     7027.511294            2   \n",
       "1        1      4             ultra      754.159807            1   \n",
       "2        1      8             ultra     6723.470560            2   \n",
       "3        1     10             ultra     5809.911100            2   \n",
       "4        1     11             ultra     7003.499363            3   \n",
       "\n",
       "   total_duration  total_ride_revenue  subscription_fee  total_revenue  \n",
       "0       41.416640                 252               199            451  \n",
       "1        6.232113                  42               199            241  \n",
       "2       44.776802                 276               199            475  \n",
       "3       31.578017                 192               199            391  \n",
       "4       53.397424                 336               199            535  "
      ]
     },
     "execution_count": 33,
     "metadata": {},
     "output_type": "execute_result"
    }
   ],
   "source": [
    "# Считаем выручку для каждой поездки\n",
    "full_data['ride_revenue'] = np.where(\n",
    "    full_data['subscription_type'] == 'free',\n",
    "    full_data['start_ride_price'] + full_data['minute_price'] * full_data['rounded_duration'],\n",
    "    full_data['minute_price'] * full_data['rounded_duration']\n",
    ")\n",
    "\n",
    "# Теперь добавим данные о выручке в уже существующий датафрейм aggregated_data\n",
    "# Сначала агрегируем данные о выручке по пользователям, месяцам и типу подписки\n",
    "revenue_data = full_data.groupby(['user_id', 'month', 'subscription_type']).agg(\n",
    "    total_ride_revenue=('ride_revenue', 'sum'),\n",
    "    subscription_fee=('subscription_fee', 'first')  # Для подписчиков с типом Ultra\n",
    ").reset_index()\n",
    "\n",
    "# Объединяем данные с выручкой с основным датафреймом aggregated_data\n",
    "aggregated_data = pd.merge(aggregated_data, revenue_data, on=['user_id', 'month', 'subscription_type'], how='left')\n",
    "\n",
    "# Добавляем абонентскую плату для пользователей с подпиской Ultra\n",
    "aggregated_data['total_revenue'] = np.where(\n",
    "    aggregated_data['subscription_type'] == 'ultra',\n",
    "    aggregated_data['total_ride_revenue'] + aggregated_data['subscription_fee'],  # Добавляем подписку для Ultra\n",
    "    aggregated_data['total_ride_revenue']  # Для free оставляем только ride_revenue\n",
    ")\n",
    "\n",
    "# Выводим результат для проверки\n",
    "aggregated_data.head()"
   ]
  },
  {
   "cell_type": "markdown",
   "id": "6b784dd5",
   "metadata": {},
   "source": [
    "Таким образом, мы получили агрегированный датафрейм с информацией о суммарном расстоянии, количестве поездок и суммарном времи для каждого пользователя за каждый месяц, а так же о помесячной выручке с пользователя с учетом правильного округления времени каждой поездки."
   ]
  },
  {
   "cell_type": "markdown",
   "id": "6e476444",
   "metadata": {},
   "source": [
    "## Проверка гипотез"
   ]
  },
  {
   "cell_type": "markdown",
   "id": "6120c4cc",
   "metadata": {},
   "source": [
    "Продакт-менеджеры сервиса хотят увеличить количество пользователей с подпиской. Для этого они будут проводить различные акции, но сначала нужно выяснить несколько важных моментов."
   ]
  },
  {
   "cell_type": "markdown",
   "id": "f5a8e322",
   "metadata": {},
   "source": [
    "### Гипотеза о продолжительности сессии пользователей с подпиской"
   ]
  },
  {
   "cell_type": "markdown",
   "id": "f694f444",
   "metadata": {},
   "source": [
    "Важно понять, тратят ли пользователи с подпиской больше времени на поездки. Если да, то пользователи с подпиской могут быть «выгоднее» для компании. Проверим эту гипотезу. Используем исходные данные о продолжительности каждой сессии — отдельно для подписчиков и тех, у кого нет подписки."
   ]
  },
  {
   "cell_type": "markdown",
   "id": "eedf55ab",
   "metadata": {},
   "source": [
    "Для начала сформулируем гипотезы:\n",
    "\n",
    "Нулевая гипотеза (H0):\n",
    "Среднее время поездок для пользователей с подпиской **не больше** среднего времени поездок для пользователей без подписки.\n",
    "\n",
    "Альтернативная гипотеза (H1):\n",
    "Среднее время поездок для пользователей с подпиской **больше**, чем для пользователей без подписки.\n",
    "\n",
    "Установим уровень значимости на уровне 0.05 (5%), как это обычно делается в подобных исследованиях. Это значит, что если вероятность ошибки (p-значение) окажется меньше 0.05, мы отвергнем нулевую гипотезу и примем альтернативную.\n",
    "\n",
    "Будем использовать датафреймы, которые мы заранее поделили на 2 группы: с подпиской и без подписки.\n",
    "\n",
    "Для проверки гипотез будем использовать двухвыборочный t-тест для независимых выборок."
   ]
  },
  {
   "cell_type": "code",
   "execution_count": 34,
   "id": "dcc4e283",
   "metadata": {},
   "outputs": [
    {
     "name": "stdout",
     "output_type": "stream",
     "text": [
      "Среднее (без подписки): 17.530771268800226, Стандартное отклонение: 6.162608726726466, ESE: 0.05753420253029589\n",
      "Среднее (с подпиской): 18.54198516280583, Стандартное отклонение: 5.572048329261366, ESE: 0.0691127535638176\n"
     ]
    }
   ],
   "source": [
    "# Разделяем данные на две группы: продолжительность поездок для пользователей без подписки и с подпиской\n",
    "free_duration = free_users_data['duration']\n",
    "ultra_duration = ultra_users_data['duration']\n",
    "\n",
    "# Средние значения и стандартные отклонения для каждой группы\n",
    "free_mean = free_duration.mean()\n",
    "ultra_mean = ultra_duration.mean()\n",
    "\n",
    "free_std = free_duration.std()\n",
    "ultra_std = ultra_duration.std()\n",
    "\n",
    "n_free = len(free_duration)\n",
    "n_ultra = len(ultra_duration)\n",
    "\n",
    "# Стандартная ошибка среднего (ESE)\n",
    "free_ese = free_std / (n_free ** 0.5)\n",
    "ultra_ese = ultra_std / (n_ultra ** 0.5)\n",
    "\n",
    "# Вывод средних, стандартных отклонений и стандартной ошибки\n",
    "print(f\"Среднее (без подписки): {free_mean}, Стандартное отклонение: {free_std}, ESE: {free_ese}\")\n",
    "print(f\"Среднее (с подпиской): {ultra_mean}, Стандартное отклонение: {ultra_std}, ESE: {ultra_ese}\")"
   ]
  },
  {
   "cell_type": "code",
   "execution_count": 35,
   "id": "8fdaeed6",
   "metadata": {},
   "outputs": [
    {
     "name": "stdout",
     "output_type": "stream",
     "text": [
      "T-статистика: 10.936733219148307\n",
      "P-значение: 4.704468074453899e-28\n",
      "Результаты статистически значимы: средняя продолжительность поездок у пользователей с подпиской больше, чем у пользователей без подписки.\n"
     ]
    }
   ],
   "source": [
    "# Проведение одностороннего t-теста для независимых выборок с alternative='greater'\n",
    "t_stat, p_value = stats.ttest_ind(ultra_duration, free_duration, equal_var=True, alternative='greater')\n",
    "\n",
    "# Выводим результаты t-теста\n",
    "print(f\"T-статистика: {t_stat}\")\n",
    "print(f\"P-значение: {p_value}\")\n",
    "\n",
    "# Интерпретация результатов\n",
    "if p_value < 0.05:\n",
    "    print(\"Результаты статистически значимы: средняя продолжительность поездок у пользователей с подпиской больше, чем у пользователей без подписки.\")\n",
    "else:\n",
    "    print(\"Результаты не статистически значимы: нельзя утверждать, что средняя продолжительность поездок у пользователей с подпиской больше, чем у пользователей без подписки.\")"
   ]
  },
  {
   "cell_type": "markdown",
   "id": "83abdfd6",
   "metadata": {},
   "source": [
    "Результаты проведённого t-теста показали, что существует статистически значимая разница в продолжительности поездок между пользователями с подпиской Ultra и без подписки (p-значение ≈ 4.70e-28). Значение t-статистики равно 10.94, что указывает на то, что средняя продолжительность поездок у пользователей с подпиской статистически значимо больше, чем у пользователей без подписки.\n",
    "\n",
    "Таким образом, мы можем утверждать, что пользователи с подпиской Ultra проводят больше времени на поездках, чем пользователи без подписки. Это подтверждает, что подписка Ultra оказывает влияние на продолжительность поездок, вероятно, из-за выгодных условий подписки, таких как отсутствие платы за старт и меньшая стоимость минуты поездки."
   ]
  },
  {
   "cell_type": "markdown",
   "id": "a8ca76de",
   "metadata": {},
   "source": [
    "### Гипотеза о среднем расстоянии поездки у пользователей с подпиской"
   ]
  },
  {
   "cell_type": "markdown",
   "id": "408fa100",
   "metadata": {},
   "source": [
    "Расстояние одной поездки в 3130 метров — оптимальное с точки зрения износа самоката. Можно ли сказать, что среднее расстояние, которое проезжают пользователи с подпиской за одну поездку, не превышает 3130 метров? Проверим эту гипотезу и сделаем выводы."
   ]
  },
  {
   "cell_type": "markdown",
   "id": "b4f83875",
   "metadata": {},
   "source": [
    "Нулевая гипотеза (H0):\n",
    "Среднее расстояние, которое проезжают пользователи с подпиской Ultra, **не превышает** 3130 метров.\n",
    "\n",
    "Альтернативная гипотеза (H1):\n",
    "Среднее расстояние, которое проезжают пользователи с подпиской Ultra, **превышает** 3130 метров.\n",
    "\n",
    "Устанавливаем уровень значимости на уровне 0.05.\n",
    "\n",
    "Здесь будем использовать одновыборочный t-тест."
   ]
  },
  {
   "cell_type": "code",
   "execution_count": 36,
   "id": "bf136221",
   "metadata": {},
   "outputs": [
    {
     "name": "stdout",
     "output_type": "stream",
     "text": [
      "Среднее расстояние поездок (с подпиской): 3115.4453880370247\n",
      "T-статистика: -1.402123166869486\n",
      "P-значение: 0.9195368847849785\n",
      "Результаты не статистически значимы: нельзя утверждать, что среднее расстояние поездки у пользователей с подпиской превышает 3130 метров.\n"
     ]
    }
   ],
   "source": [
    "# Извлекаем данные о расстоянии поездок для пользователей с подпиской\n",
    "ultra_distance = ultra_users_data['distance']\n",
    "\n",
    "# Определяем среднее значение для выборки\n",
    "mean_ultra_distance = ultra_distance.mean()\n",
    "\n",
    "# Целевое значение расстояния\n",
    "target_distance = 3130\n",
    "\n",
    "# Проведение одностороннего t-теста с указанием alternative='greater'\n",
    "t_stat, p_value = stats.ttest_1samp(ultra_distance, target_distance, alternative='greater')\n",
    "\n",
    "# Вывод результатов\n",
    "print(f\"Среднее расстояние поездок (с подпиской): {mean_ultra_distance}\")\n",
    "print(f\"T-статистика: {t_stat}\")\n",
    "print(f\"P-значение: {p_value}\")\n",
    "\n",
    "# Интерпретация результатов\n",
    "if p_value < 0.05:\n",
    "    print(\"Результаты статистически значимы: среднее расстояние поездки у пользователей с подпиской превышает 3130 метров.\")\n",
    "else:\n",
    "    print(\"Результаты не статистически значимы: нельзя утверждать, что среднее расстояние поездки у пользователей с подпиской превышает 3130 метров.\")"
   ]
  },
  {
   "cell_type": "markdown",
   "id": "6a08c258",
   "metadata": {},
   "source": [
    "- Среднее расстояние, которое проезжают пользователи с подпиской Ultra за одну поездку, составляет 3115.45 метров.\n",
    "- Значение t-статистики равно -1.40, что указывает на то, что среднее расстояние меньше 3130 метров (отрицательное значение t-статистики подтверждает это).\n",
    "- p-значение равно 0.92, что значительно выше установленного уровня значимости 0.05. Это означает, что у нас нет оснований отвергнуть нулевую гипотезу. Вероятность того, что среднее расстояние в выборке случайным образом оказалось меньше 3130 метров, если бы истинное среднее было больше 3130 метров, крайне мала.\n",
    "\n",
    "Таким образом, на основании статистических данных можно сделать вывод, что среднее расстояние поездок пользователей с подпиской не превышает 3130 метров, и у нас нет статистически значимых доказательств обратного."
   ]
  },
  {
   "cell_type": "markdown",
   "id": "b9afd62c",
   "metadata": {},
   "source": [
    "### Гипотеза о помесячной выручке от пользователей с подпиской"
   ]
  },
  {
   "cell_type": "markdown",
   "id": "521554f2",
   "metadata": {},
   "source": [
    "Проверим гипотезу о том, будет ли помесячная выручка от пользователей с подпиской по месяцам выше, чем выручка от пользователей без подписки. Сделаем вывод."
   ]
  },
  {
   "cell_type": "markdown",
   "id": "ae209db8",
   "metadata": {},
   "source": [
    "Нулевая гипотеза (H0):\n",
    "Средняя помесячная выручка от пользователей с подпиской **не превышает** выручку от пользователей без подписки.\n",
    "\n",
    "Альтернативная гипотеза (H1):\n",
    "Средняя помесячная выручка от пользователей с подпиской **выше**, чем от пользователей без подписки.\n",
    "\n",
    "Установим уровень значимости на 0.05.\n",
    "\n",
    "Здесь будем использовать двухвыборочный t-тест для независимых выборок, используя агрегированный датафрейм с помесячной информацией."
   ]
  },
  {
   "cell_type": "code",
   "execution_count": 37,
   "id": "1e186c63",
   "metadata": {},
   "outputs": [
    {
     "name": "stdout",
     "output_type": "stream",
     "text": [
      "Средняя выручка (с подпиской): 362.7921906022502, Стандартное отклонение: 88.26273694686297, ESE: 1.310945179264935\n",
      "Средняя выручка (без подписки): 329.3326437121324, Стандартное отклонение: 183.2684188935208, ESE: 2.2278684581155868\n"
     ]
    }
   ],
   "source": [
    "# Извлекаем данные о помесячной выручке для пользователей с подпиской и без подписки\n",
    "ultra_revenue = aggregated_data[aggregated_data['subscription_type'] == 'ultra']['total_revenue']\n",
    "free_revenue = aggregated_data[aggregated_data['subscription_type'] == 'free']['total_revenue']\n",
    "\n",
    "# Вычисляем средние значения для каждой группы\n",
    "mean_ultra_revenue = ultra_revenue.mean()\n",
    "mean_free_revenue = free_revenue.mean()\n",
    "\n",
    "# Вычисляем стандартные отклонения для каждой группы\n",
    "std_ultra_revenue = ultra_revenue.std()\n",
    "std_free_revenue = free_revenue.std()\n",
    "\n",
    "# Вычисляем размеры выборок\n",
    "n_ultra = len(ultra_revenue)\n",
    "n_free = len(free_revenue)\n",
    "\n",
    "# Вычисляем стандартную ошибку среднего (ESE)\n",
    "ese_ultra_revenue = std_ultra_revenue / (n_ultra ** 0.5)\n",
    "ese_free_revenue = std_free_revenue / (n_free ** 0.5)\n",
    "\n",
    "# Выводим средние, стандартные отклонения и стандартную ошибку среднего\n",
    "print(f\"Средняя выручка (с подпиской): {mean_ultra_revenue}, Стандартное отклонение: {std_ultra_revenue}, ESE: {ese_ultra_revenue}\")\n",
    "print(f\"Средняя выручка (без подписки): {mean_free_revenue}, Стандартное отклонение: {std_free_revenue}, ESE: {ese_free_revenue}\")"
   ]
  },
  {
   "cell_type": "code",
   "execution_count": 38,
   "id": "1507a499",
   "metadata": {
    "scrolled": false
   },
   "outputs": [
    {
     "name": "stdout",
     "output_type": "stream",
     "text": [
      "T-статистика: 12.943973883454\n",
      "P-значение: 2.4970242872858465e-38\n",
      "Результаты статистически значимы: средняя помесячная выручка от пользователей с подпиской превышает выручку от пользователей без подписки.\n"
     ]
    }
   ],
   "source": [
    "# Проведение одностороннего t-теста с указанием equal_var=False и alternative='greater'\n",
    "t_stat, p_value = stats.ttest_ind(ultra_revenue, free_revenue, equal_var=False, alternative='greater')\n",
    "\n",
    "# Вывод результатов\n",
    "print(f\"T-статистика: {t_stat}\")\n",
    "print(f\"P-значение: {p_value}\")\n",
    "\n",
    "# Интерпретация результатов\n",
    "if p_value < 0.05:\n",
    "    print(\"Результаты статистически значимы: средняя помесячная выручка от пользователей с подпиской превышает выручку от пользователей без подписки.\")\n",
    "else:\n",
    "    print(\"Результаты не статистически значимы: нельзя утверждать, что средняя помесячная выручка от пользователей с подпиской выше выручки от пользователей без подписки.\")"
   ]
  },
  {
   "cell_type": "markdown",
   "id": "f66bcef5",
   "metadata": {},
   "source": [
    "- Значение t-статистики равно 13.20, что указывает на значительное различие между средней помесячной выручкой пользователей с подпиской и без подписки.\n",
    "- p-значение равно 8.87e-40 (практически нулевое), что значительно меньше уровня значимости 0.05. Это означает, что вероятность того, что такое различие могло произойти случайно, практически отсутствует.\n",
    "\n",
    "На основании проведённого t-теста можно сделать вывод, что средняя помесячная выручка от пользователей с подпиской статистически значимо превышает выручку от пользователей без подписки. Это указывает на то, что подписчики Ultra приносят компании больше дохода в среднем за месяц по сравнению с пользователями без подписки.\n",
    "\n",
    "Этот вывод может быть полезен для дальнейших маркетинговых решений и разработки стратегий по увеличению количества подписчиков, так как подписка Ultra явно оказывает положительное влияние на помесячную выручку."
   ]
  },
  {
   "cell_type": "markdown",
   "id": "792f7feb",
   "metadata": {},
   "source": [
    "### Гипотеза о количестве обращений в техподдержку"
   ]
  },
  {
   "cell_type": "markdown",
   "id": "59ab48e4",
   "metadata": {},
   "source": [
    "Представим такую ситуацию: техническая команда сервиса обновила сервера, с которыми взаимодействует мобильное приложение. Она надеется, что из-за этого количество обращений в техподдержку значимо снизилось. Некоторый файл содержит для каждого пользователя данные о количестве обращений до обновления и после него. Какой тест нам понадобился бы для проверки этой гипотезы?"
   ]
  },
  {
   "cell_type": "markdown",
   "id": "07cfb586",
   "metadata": {},
   "source": [
    "Данные до и после обновления относятся к одним и тем же пользователям, что делает эти выборки **зависимыми** друг от друга.\n",
    "\n",
    "В данной ситуации у нас есть данные о количестве обращений в техподдержку для каждого пользователя **до и после** обновления серверов. Поскольку мы сравниваем **два зависимых набора данных** (одно и то же количество обращений для каждого пользователя в двух разных временных точках — до и после обновления), нам необходимо использовать **парный t-тест** (paired t-test, **двухвыборочный тест для зависимых выборок**).\n",
    "\n",
    "Мы хотим проверить, изменилось ли среднее количество обращений после обновления серверов. В частности, мы хотим проверить, **снизилось ли** количество обращений в техподдержку после обновления.\n",
    "\n",
    "Нулевая гипотеза (H0):\n",
    "Среднее количество обращений в техподдержку **не изменилось** после обновления серверов (или увеличилось).\n",
    "\n",
    "Альтернативная гипотеза (H1):\n",
    "Среднее количество обращений **снизилось** после обновления серверов.\n",
    "\n",
    "Стандартный уровень значимости — 0.05.\n",
    "\n",
    "Как уже сказали, использовать нужно парный t-тест. Ниже описан псевдокод для реализации проверки гипотезы."
   ]
  },
  {
   "cell_type": "markdown",
   "id": "e17d3ea3",
   "metadata": {},
   "source": [
    "``` python\n",
    "# Допустим, у нас есть два массива данных: количество обращений до и после обновления серверов\n",
    "# Пример данных: до и после обновления (в реальности это будут данные из файла)\n",
    "before_update = [...]  # Количество обращений до обновления\n",
    "after_update = [...]   # Количество обращений после обновления\n",
    "\n",
    "# Проведение парного t-теста с alternative='less' для проверки снижения количества обращений\n",
    "t_stat, p_value = stats.ttest_rel(before_update, after_update, alternative='greater')\n",
    "\n",
    "# Вывод результатов\n",
    "print(f\"T-статистика: {t_stat}\")\n",
    "print(f\"P-значение: {p_value}\")\n",
    "\n",
    "# Интерпретация результатов\n",
    "if p_value < 0.05:\n",
    "    print(\"Результаты статистически значимы: количество обращений снизилось после обновления серверов.\")\n",
    "else:\n",
    "    print(\"Результаты не статистически значимы: нельзя утверждать, что количество обращений снизилось после обновления серверов.\")\n",
    "```"
   ]
  },
  {
   "cell_type": "markdown",
   "id": "0a7c6f84",
   "metadata": {},
   "source": [
    "Таким образом, **парный t-тест** поможет нам оценить, изменилось ли (и снизилось ли) количество обращений после обновления серверов, учитывая, что у нас есть данные о тех же пользователях до и после изменения."
   ]
  },
  {
   "cell_type": "markdown",
   "id": "c6799a59",
   "metadata": {},
   "source": [
    "Подведём итог по разделу. <br>\n",
    "На основании анализа можно сделать вывод, что наличие подписки Ultra увеличивает среднюю продолжительность поездок. Пользователи с подпиской проводят больше времени на поездках по сравнению с пользователями без подписки, что может быть связано с выгодными условиями подписки, такими как отсутствие платы за старт и меньшая стоимость минуты. Хотя среднее расстояние поездок у пользователей с подпиской не превышает 3130 метров, подписчики Ultra приносят значительно больше помесячной выручки, что делает подписочную модель особенно привлекательной с точки зрения бизнеса. Это говорит о том, что пользователи с подпиской Ultra обеспечивают компании более стабильный поток дохода за счёт регулярных платежей. Эти результаты могут быть полезны для дальнейшей оптимизации маркетинговой стратегии, направленной на увеличение числа подписчиков Ultra среди пользователей сервиса."
   ]
  },
  {
   "cell_type": "markdown",
   "id": "61d63961",
   "metadata": {},
   "source": [
    "## Распределения"
   ]
  },
  {
   "cell_type": "markdown",
   "id": "0cd72f0a",
   "metadata": {},
   "source": [
    "### Акция \"Первый месяц бесплатно\""
   ]
  },
  {
   "cell_type": "markdown",
   "id": "7ef664f4",
   "metadata": {},
   "source": [
    "Отделу маркетинга GoFast поставили задачу: нужно провести акцию с раздачей промокодов на один бесплатный месяц подписки, в рамках которой как минимум 100 существующих клиентов должны продлить эту подписку. То есть по завершении периода действия подписки пользователь может либо отказаться от неё, либо продлить, совершив соответствующий платёж. \n",
    "\n",
    "Эта акция уже проводилась ранее и по итогу выяснилось, что после бесплатного пробного периода подписку продлевают 10% пользователей. Выясним, какое минимальное количество промокодов нужно разослать, чтобы вероятность не выполнить план была примерно 5%. Подберем параметры распределения, описывающего эту ситуацию, построим график распределения и сформулируем ответ на вопрос о количестве промокодов."
   ]
  },
  {
   "cell_type": "markdown",
   "id": "ad620614",
   "metadata": {},
   "source": [
    "Для решения этой задачи воспользуемся нашими знаниями о биномиальном распределении.\n",
    "\n",
    "Что мы уже знаем: Вероятность того, что пользователь продлит подписку после бесплатного месяца: p = 0.1 (10%). Нужно, чтобы как минимум 100 пользователей продлили подписку. Вероятность того, что план по продлениям не будет выполнен (менее 100 подписок), должна быть не более 5%.\n",
    "\n",
    "Определим задачу: Нам нужно подобрать такое количество разосланных промокодов (N), чтобы вероятность того, что меньше 100 пользователей продлят подписку, была не более 5%. Это вероятность события, что менее 100 пользователей продлили подписку, и она должна быть меньше или равна 0.05.\n",
    "\n",
    "Как мы знаем, биномиальное распределение описывается двумя параметрами:\n",
    "- N — количество независимых испытаний (количество пользователей, которым мы разослали промокоды).\n",
    "- p — вероятность успеха (здесь это вероятность продления подписки, равная 0.1).\n",
    "\n",
    "Нам нужно найти минимальное N, при котором вероятность того, что менее 100 пользователей продлят подписку, не превысит 5%.\n",
    "\n",
    "Функция cdf в биномиальном распределении вычисляет вероятность того, что случайная величина примет значение меньше или равное какому-то числу. Мы будем искать N, при котором:<br>\n",
    "P(продлили менее 100 подписок) <= 0.05 <br>\n",
    "Это выражается через функцию cdf.\n",
    "\n",
    "Мы подберем значение N, чтобы вероятность того, что менее 100 пользователей продлят подписку, была близка к 0.05, используя метод подбора. Зададим для удобства максимальное N=5000."
   ]
  },
  {
   "cell_type": "code",
   "execution_count": 39,
   "id": "70d83c35",
   "metadata": {},
   "outputs": [
    {
     "data": {
      "image/png": "[encoded data removed]",
      "text/plain": [
       "<Figure size 640x480 with 1 Axes>"
      ]
     },
     "metadata": {},
     "output_type": "display_data"
    },
    {
     "name": "stdout",
     "output_type": "stream",
     "text": [
      "Минимальное количество промокодов, которое нужно разослать: 1161\n"
     ]
    }
   ],
   "source": [
    "# Исходные данные\n",
    "p = 0.1  # вероятность продления подписки\n",
    "required_renewals = 100  # нужно как минимум 100 продлений\n",
    "target_probability = 0.05  # вероятность того, что план не выполнен\n",
    "\n",
    "# Подбор N (количество разосланных промокодов)\n",
    "N_values = np.arange(1000, 5000, 1)  # диапазон значений N, перебираем по 1\n",
    "probabilities = [binom.cdf(required_renewals - 1, N, p) for N in N_values]\n",
    "\n",
    "# Поиск минимального N\n",
    "min_N = None\n",
    "for N, prob in zip(N_values, probabilities):\n",
    "    if prob <= target_probability:\n",
    "        min_N = N\n",
    "        break\n",
    "\n",
    "# Построение графика\n",
    "plt.plot(N_values, probabilities, label='P(less than 100 renewals)')\n",
    "plt.axhline(target_probability, color='red', linestyle='--', label='Target probability = 0.05')\n",
    "plt.axvline(min_N, color='green', linestyle='--', label=f'Minimum N = {min_N}')\n",
    "plt.xlabel('Количество разосланных промокодов (N)')\n",
    "plt.ylabel('Вероятность не выполнить план')\n",
    "plt.title('Подбор минимального N для акции')\n",
    "plt.legend()\n",
    "plt.grid(True)\n",
    "plt.show()\n",
    "\n",
    "# Вывод минимального N\n",
    "print(f\"Минимальное количество промокодов, которое нужно разослать: {min_N}\")"
   ]
  },
  {
   "cell_type": "markdown",
   "id": "b0821ed1",
   "metadata": {},
   "source": [
    "Таким образом, используя знания о биномиальном распределении, мы определили, что минимальное количество промокодов, которые нужно разослать, чтобы вероятность не выполнения плана (100 продлений подписки) была не более 5%, составляет 1161 промокод. Это означает, что при раздаче 1161 промокода с учётом вероятности продления подписки в 10%, вероятность того, что менее 100 пользователей продлят подписку, составляет не более 5%."
   ]
  },
  {
   "cell_type": "markdown",
   "id": "15d16db0",
   "metadata": {},
   "source": [
    "### Открытие push-уведомлений"
   ]
  },
  {
   "cell_type": "markdown",
   "id": "23bd15d3",
   "metadata": {},
   "source": [
    "Отдел маркетинга рассылает клиентам push-уведомления в мобильном приложении. Клиенты могут открыть его или не открывать. Известно, что уведомления открывают около 40 % получивших клиентов. Отдел планирует разослать 1 млн уведомлений. С помощью аппроксимации построим примерный график распределения и оценим вероятность того, что уведомление откроют не более 399,5 тыс. пользователей."
   ]
  },
  {
   "cell_type": "markdown",
   "id": "27490c9a",
   "metadata": {},
   "source": [
    "Для решения этой задачи мы можем воспользоваться нормальной аппроксимацией биномиального распределения, чтобы оценить вероятность того, что уведомление откроют не более 399,5 тысяч пользователей.\n",
    "\n",
    "Ситуация описывается биномиальным распределением с параметрами:\n",
    "- n = 1 000 000 (количество разосланных уведомлений),\n",
    "- p = 0.4 (вероятность того, что уведомление откроют).\n",
    "\n",
    "Для большого числа испытаний (n), как в нашей задаче, мы можем воспользоваться нормальной аппроксимацией биномиального распределения. Аппроксимация работает следующим образом:\n",
    "- Среднее (μ) биномиального распределения: μ = n⋅p\n",
    "- Стандартное отклонение (σ): σ = sqrt(n⋅p⋅(1-p))\n",
    "\n",
    "Поскольку биномиальное распределение дискретное, а нормальное распределение непрерывное, мы используем поправку на непрерывность. Для оценки вероятности того, что откроют не более 399,5 тысяч уведомлений, мы будем искать вероятность того, что случайная величина примет значение меньше или равно 399 500 (включаем 0.5 для коррекции).\n",
    "\n",
    "С помощью функции CDF для нормального распределения мы можем оценить вероятность того, что случайная величина будет меньше или равна 399 500. Для этого используем среднее и стандартное отклонение, которое расчитывается по формулам выше.\n",
    "\n",
    "Будем учитывать +- 4 стандартных отклонения, а не 3, для более полного отображения хвостов распределения и корректной визуализации. "
   ]
  },
  {
   "cell_type": "code",
   "execution_count": 40,
   "id": "c94b5df2",
   "metadata": {},
   "outputs": [
    {
     "data": {
      "image/png": "[encoded data removed]",
      "text/plain": [
       "<Figure size 640x480 with 1 Axes>"
      ]
     },
     "metadata": {},
     "output_type": "display_data"
    },
    {
     "name": "stdout",
     "output_type": "stream",
     "text": [
      "Вероятность того, что откроют не более 399,5 тыс. уведомлений: 0.15372\n"
     ]
    }
   ],
   "source": [
    "# Исходные данные\n",
    "n = 1_000_000  # количество разосланных уведомлений\n",
    "p = 0.4  # вероятность открытия уведомления\n",
    "target_value = 399_500  # не более 399,5 тыс. пользователей\n",
    "\n",
    "# Параметры нормальной аппроксимации\n",
    "mu = n * p  # среднее\n",
    "sigma = np.sqrt(n * p * (1 - p))  # стандартное отклонение\n",
    "\n",
    "# Оценка вероятности с использованием нормального распределения\n",
    "probability = norm.cdf(target_value, mu, sigma)\n",
    "\n",
    "# Построение графика нормального распределения\n",
    "x = np.linspace(mu - 4 * sigma, mu + 4 * sigma, 1000)\n",
    "y = norm.pdf(x, mu, sigma)\n",
    "\n",
    "plt.plot(x, y, label='Нормальное распределение')\n",
    "plt.axvline(target_value, color='red', linestyle='--', label=f'399,5 тыс. пользователей')\n",
    "plt.fill_between(x, 0, y, where=(x <= target_value), color='red', alpha=0.5, label='P(X <= 399,5 тыс.)')\n",
    "plt.xlabel('Количество открытых уведомлений')\n",
    "plt.ylabel('Плотность вероятности')\n",
    "plt.title('Нормальная аппроксимация биномиального распределения')\n",
    "plt.legend()\n",
    "plt.grid(True)\n",
    "plt.show()\n",
    "\n",
    "# Вывод вероятности\n",
    "print(f\"Вероятность того, что откроют не более 399,5 тыс. уведомлений: {probability:.5f}\")"
   ]
  },
  {
   "cell_type": "markdown",
   "id": "43a57a34",
   "metadata": {},
   "source": [
    "С вероятностью около 15.37% уведомление откроют менее 399,5 тысяч пользователей. Данный результат можно использовать для оценки риска и для планирования рассылок push-уведомлений в дальнейшем."
   ]
  },
  {
   "cell_type": "markdown",
   "id": "013e541f",
   "metadata": {},
   "source": [
    "Используя знания о биномиальном распределении и его аппроксимации нормальным, мы смогли решить две задачи, связанные с планированием маркетинговых акций:\n",
    "- Мы определили, что для достижения цели — как минимум 100 продлений подписки — с вероятностью не менее 95%, необходимо разослать 1161 промокод. Это означает, что при вероятности продления в 10%, разослав 1161 промокод, компания может с высокой вероятностью достичь поставленного плана продлений.\n",
    "- С помощью нормальной аппроксимации биномиального распределения мы оценили, что с вероятностью 15.37% push-уведомление откроют менее 399,5 тысяч пользователей. Этот результат поможет отделу маркетинга оценить риск и спланировать более точное количество push-уведомлений для достижения нужного уровня вовлеченности.\n",
    "\n",
    "Оба результата позволяют использовать вероятностные модели для принятия обоснованных решений в маркетинговых кампаниях, минимизируя риски и повышая эффективность планирования."
   ]
  },
  {
   "cell_type": "markdown",
   "id": "9c2144e5",
   "metadata": {},
   "source": [
    "## Заключение и выводы"
   ]
  },
  {
   "cell_type": "markdown",
   "id": "0cd2f26a",
   "metadata": {},
   "source": [
    "В ходе выполнения работы мы провели несколько ключевых этапов анализа, начиная с загрузки и предобработки данных, проведения исследовательского анализа, и заканчивая проверкой важных гипотез для принятия бизнес-решений.\n",
    "\n",
    "Мы проанализировали основные параметры пользователей, такие как возраст, количество поездок, расстояние и продолжительность поездок. Исследование показало, что большинство пользователей приходятся на возрастную группу 25–30 лет. Средняя продолжительность поездок была около 15-20 минут, а среднее расстояние составляло примерно 3070 метров. Мы также увидели, что количество пользователей в разных городах распределено относительно равномерно, с некоторыми небольшими отклонениями.\n",
    "\n",
    "Мы проверили несколько ключевых гипотез, чтобы помочь бизнесу понять поведение пользователей и оптимизировать стратегии:\n",
    "- Результаты анализа показали, что пользователи с подпиской Ultra проводят больше времени на поездках, чем пользователи без подписки. Это подтверждает, что наличие подписки Ultra стимулирует пользователей тратить больше времени на использование сервиса, вероятно, благодаря более выгодным условиям подписки.\n",
    "- Гипотеза о среднем расстоянии поездок: Анализ показал, что среднее расстояние поездок пользователей с подпиской не превышает 3130 метров. Это означает, что, несмотря на увеличение времени, проведённого на поездках, пользователи с подпиской Ultra не совершают более дальние поездки по сравнению с пользователями без подписки.\n",
    "- Гипотеза о помесячной выручке: Мы подтвердили, что пользователи с подпиской Ultra приносят компании больше дохода в среднем за месяц по сравнению с пользователями без подписки. Это важный результат для маркетинга, так как подписка Ultra оказывает положительное влияние на общую выручку компании и может быть использована для дальнейшей оптимизации бизнес-стратегий.\n",
    "\n",
    "Мы также решили несколько практических задач с использованием биномиального распределения:\n",
    "- Для акции с промокодами было определено, что для выполнения плана (как минимум 100 продлений подписки) нужно разослать 1161 промокод.\n",
    "- В задаче по оценке эффективности рассылки push-уведомлений было установлено, что вероятность того, что менее 399,5 тысяч пользователей откроют уведомление, составляет 15.37%, что даёт важную информацию для оценки рисков при планировании маркетинговых рассылок.\n",
    "\n",
    "В результате работы мы провели комплексный анализ данных, исследовали ключевые метрики, проверили гипотезы и предложили оптимальные решения для маркетинговых кампаний. Полученные выводы помогут компании GoFast повысить эффективность работы с подписками, лучше планировать маркетинговые акции и более точно оценивать поведение пользователей, что, в свою очередь, способствует росту бизнеса и повышению лояльности клиентов."
   ]
  }
 ],
 "metadata": {
  "ExecuteTimeLog": [
   {
    "duration": 372,
    "start_time": "2024-10-22T17:30:41.541Z"
   },
   {
    "duration": 116,
    "start_time": "2024-10-22T17:31:24.411Z"
   },
   {
    "duration": 11,
    "start_time": "2024-10-22T17:31:33.659Z"
   },
   {
    "duration": 48,
    "start_time": "2024-10-22T17:32:15.869Z"
   },
   {
    "duration": 184,
    "start_time": "2024-10-22T17:33:07.783Z"
   },
   {
    "duration": 10,
    "start_time": "2024-10-22T17:33:14.872Z"
   },
   {
    "duration": 47,
    "start_time": "2024-10-22T17:33:32.145Z"
   },
   {
    "duration": 44,
    "start_time": "2024-10-22T17:33:42.277Z"
   },
   {
    "duration": 83,
    "start_time": "2024-10-22T17:35:49.199Z"
   },
   {
    "duration": 10,
    "start_time": "2024-10-22T17:35:57.065Z"
   },
   {
    "duration": 29,
    "start_time": "2024-10-22T17:36:08.457Z"
   },
   {
    "duration": 30,
    "start_time": "2024-10-22T17:36:10.913Z"
   },
   {
    "duration": 45,
    "start_time": "2024-10-23T06:56:32.273Z"
   },
   {
    "duration": 399,
    "start_time": "2024-10-23T06:56:37.734Z"
   },
   {
    "duration": 85,
    "start_time": "2024-10-23T06:56:38.134Z"
   },
   {
    "duration": 9,
    "start_time": "2024-10-23T06:56:38.221Z"
   },
   {
    "duration": 168,
    "start_time": "2024-10-23T06:56:38.232Z"
   },
   {
    "duration": 10,
    "start_time": "2024-10-23T06:56:38.401Z"
   },
   {
    "duration": 178,
    "start_time": "2024-10-23T06:56:38.412Z"
   },
   {
    "duration": 9,
    "start_time": "2024-10-23T06:56:38.592Z"
   },
   {
    "duration": 31,
    "start_time": "2024-10-23T06:56:38.602Z"
   },
   {
    "duration": 39,
    "start_time": "2024-10-23T06:57:23.537Z"
   },
   {
    "duration": 13,
    "start_time": "2024-10-23T06:57:33.785Z"
   },
   {
    "duration": 9,
    "start_time": "2024-10-23T06:59:12.835Z"
   },
   {
    "duration": 9,
    "start_time": "2024-10-23T07:00:04.082Z"
   },
   {
    "duration": 9,
    "start_time": "2024-10-23T07:01:17.811Z"
   },
   {
    "duration": 10,
    "start_time": "2024-10-23T07:02:45.382Z"
   },
   {
    "duration": 9,
    "start_time": "2024-10-23T07:15:53.549Z"
   },
   {
    "duration": 6,
    "start_time": "2024-10-23T07:21:48.355Z"
   },
   {
    "duration": 4,
    "start_time": "2024-10-23T07:24:27.370Z"
   },
   {
    "duration": 377,
    "start_time": "2024-10-23T10:20:05.657Z"
   },
   {
    "duration": 122,
    "start_time": "2024-10-23T10:20:06.035Z"
   },
   {
    "duration": 12,
    "start_time": "2024-10-23T10:20:06.158Z"
   },
   {
    "duration": 208,
    "start_time": "2024-10-23T10:20:06.172Z"
   },
   {
    "duration": 13,
    "start_time": "2024-10-23T10:20:06.382Z"
   },
   {
    "duration": 115,
    "start_time": "2024-10-23T10:20:06.396Z"
   },
   {
    "duration": 12,
    "start_time": "2024-10-23T10:20:06.512Z"
   },
   {
    "duration": 34,
    "start_time": "2024-10-23T10:20:06.525Z"
   },
   {
    "duration": 53,
    "start_time": "2024-10-23T10:20:06.560Z"
   },
   {
    "duration": 35,
    "start_time": "2024-10-23T10:20:06.615Z"
   },
   {
    "duration": 28,
    "start_time": "2024-10-23T10:20:06.652Z"
   },
   {
    "duration": 26,
    "start_time": "2024-10-23T10:20:06.682Z"
   },
   {
    "duration": 23,
    "start_time": "2024-10-23T10:20:06.711Z"
   },
   {
    "duration": 66,
    "start_time": "2024-10-23T10:21:48.279Z"
   },
   {
    "duration": 10,
    "start_time": "2024-10-23T10:22:01.258Z"
   },
   {
    "duration": 7,
    "start_time": "2024-10-23T10:22:16.698Z"
   },
   {
    "duration": 8,
    "start_time": "2024-10-23T10:22:23.478Z"
   },
   {
    "duration": 8,
    "start_time": "2024-10-23T10:22:37.699Z"
   },
   {
    "duration": 8,
    "start_time": "2024-10-23T10:22:42.498Z"
   },
   {
    "duration": 5,
    "start_time": "2024-10-23T10:23:05.819Z"
   },
   {
    "duration": 19,
    "start_time": "2024-10-23T10:24:50.758Z"
   },
   {
    "duration": 434,
    "start_time": "2024-10-23T10:24:59.746Z"
   },
   {
    "duration": 539,
    "start_time": "2024-10-23T10:25:13.500Z"
   },
   {
    "duration": 54,
    "start_time": "2024-10-23T10:25:29.897Z"
   },
   {
    "duration": 6,
    "start_time": "2024-10-23T10:26:00.409Z"
   },
   {
    "duration": 135,
    "start_time": "2024-10-23T10:26:16.493Z"
   },
   {
    "duration": 11,
    "start_time": "2024-10-23T10:26:33.418Z"
   },
   {
    "duration": 11,
    "start_time": "2024-10-23T10:27:04.698Z"
   },
   {
    "duration": 26454,
    "start_time": "2024-10-23T10:28:02.953Z"
   },
   {
    "duration": 1461,
    "start_time": "2024-10-24T09:20:49.383Z"
   },
   {
    "duration": 113,
    "start_time": "2024-10-24T09:20:50.846Z"
   },
   {
    "duration": 13,
    "start_time": "2024-10-24T09:20:50.961Z"
   },
   {
    "duration": 163,
    "start_time": "2024-10-24T09:20:50.976Z"
   },
   {
    "duration": 12,
    "start_time": "2024-10-24T09:20:51.141Z"
   },
   {
    "duration": 73,
    "start_time": "2024-10-24T09:20:51.154Z"
   },
   {
    "duration": 10,
    "start_time": "2024-10-24T09:20:51.228Z"
   },
   {
    "duration": 60,
    "start_time": "2024-10-24T09:20:51.239Z"
   },
   {
    "duration": 22,
    "start_time": "2024-10-24T09:20:51.300Z"
   },
   {
    "duration": 10,
    "start_time": "2024-10-24T09:20:51.324Z"
   },
   {
    "duration": 13,
    "start_time": "2024-10-24T09:20:51.335Z"
   },
   {
    "duration": 8,
    "start_time": "2024-10-24T09:20:51.350Z"
   },
   {
    "duration": 4,
    "start_time": "2024-10-24T09:20:51.359Z"
   },
   {
    "duration": 387,
    "start_time": "2024-10-24T09:20:51.364Z"
   },
   {
    "duration": 101,
    "start_time": "2024-10-24T09:22:54.892Z"
   },
   {
    "duration": 171,
    "start_time": "2024-10-24T09:27:52.267Z"
   },
   {
    "duration": 192,
    "start_time": "2024-10-24T09:35:39.929Z"
   },
   {
    "duration": 208,
    "start_time": "2024-10-24T09:40:00.137Z"
   },
   {
    "duration": 168,
    "start_time": "2024-10-24T09:40:14.513Z"
   },
   {
    "duration": 193,
    "start_time": "2024-10-24T09:46:09.904Z"
   },
   {
    "duration": 190,
    "start_time": "2024-10-24T09:46:14.368Z"
   },
   {
    "duration": 26,
    "start_time": "2024-10-24T09:55:14.793Z"
   },
   {
    "duration": 22,
    "start_time": "2024-10-24T09:55:31.421Z"
   },
   {
    "duration": 24,
    "start_time": "2024-10-24T09:59:26.663Z"
   },
   {
    "duration": 18,
    "start_time": "2024-10-24T09:59:42.871Z"
   },
   {
    "duration": 627,
    "start_time": "2024-10-24T10:01:32.553Z"
   },
   {
    "duration": 946,
    "start_time": "2024-10-24T10:03:10.283Z"
   },
   {
    "duration": 468,
    "start_time": "2024-10-24T10:03:21.392Z"
   },
   {
    "duration": 494,
    "start_time": "2024-10-24T10:03:26.570Z"
   },
   {
    "duration": 29,
    "start_time": "2024-10-24T10:10:07.382Z"
   },
   {
    "duration": 3,
    "start_time": "2024-10-24T10:11:38.649Z"
   },
   {
    "duration": 5,
    "start_time": "2024-10-24T10:11:47.072Z"
   },
   {
    "duration": 4,
    "start_time": "2024-10-24T10:12:39.405Z"
   },
   {
    "duration": 366,
    "start_time": "2024-10-24T10:13:10.110Z"
   },
   {
    "duration": 1144,
    "start_time": "2024-10-24T10:17:38.748Z"
   },
   {
    "duration": 31,
    "start_time": "2024-10-24T10:18:54.289Z"
   },
   {
    "duration": 5,
    "start_time": "2024-10-24T10:18:59.571Z"
   },
   {
    "duration": 17,
    "start_time": "2024-10-24T10:19:00.632Z"
   },
   {
    "duration": 4,
    "start_time": "2024-10-24T10:31:29.044Z"
   },
   {
    "duration": 3,
    "start_time": "2024-10-24T10:31:46.847Z"
   },
   {
    "duration": 246,
    "start_time": "2024-10-24T10:32:22.308Z"
   },
   {
    "duration": 1240,
    "start_time": "2024-10-24T10:32:31.960Z"
   },
   {
    "duration": 38,
    "start_time": "2024-10-24T10:32:33.202Z"
   },
   {
    "duration": 10,
    "start_time": "2024-10-24T10:32:33.242Z"
   },
   {
    "duration": 43,
    "start_time": "2024-10-24T10:32:33.254Z"
   },
   {
    "duration": 10,
    "start_time": "2024-10-24T10:32:33.299Z"
   },
   {
    "duration": 22,
    "start_time": "2024-10-24T10:32:33.311Z"
   },
   {
    "duration": 10,
    "start_time": "2024-10-24T10:32:33.335Z"
   },
   {
    "duration": 19,
    "start_time": "2024-10-24T10:32:33.347Z"
   },
   {
    "duration": 17,
    "start_time": "2024-10-24T10:32:33.367Z"
   },
   {
    "duration": 10,
    "start_time": "2024-10-24T10:32:33.386Z"
   },
   {
    "duration": 12,
    "start_time": "2024-10-24T10:32:33.397Z"
   },
   {
    "duration": 7,
    "start_time": "2024-10-24T10:32:33.411Z"
   },
   {
    "duration": 15,
    "start_time": "2024-10-24T10:32:33.419Z"
   },
   {
    "duration": 313,
    "start_time": "2024-10-24T10:32:33.436Z"
   },
   {
    "duration": 109,
    "start_time": "2024-10-24T10:32:33.751Z"
   },
   {
    "duration": 180,
    "start_time": "2024-10-24T10:32:33.862Z"
   },
   {
    "duration": 197,
    "start_time": "2024-10-24T10:32:34.043Z"
   },
   {
    "duration": 195,
    "start_time": "2024-10-24T10:32:34.242Z"
   },
   {
    "duration": 26,
    "start_time": "2024-10-24T10:32:34.438Z"
   },
   {
    "duration": 15,
    "start_time": "2024-10-24T10:32:34.476Z"
   },
   {
    "duration": 33,
    "start_time": "2024-10-24T10:32:34.492Z"
   },
   {
    "duration": 551,
    "start_time": "2024-10-24T10:32:34.527Z"
   },
   {
    "duration": 567,
    "start_time": "2024-10-24T10:32:35.079Z"
   },
   {
    "duration": 39,
    "start_time": "2024-10-24T10:32:35.648Z"
   },
   {
    "duration": 4,
    "start_time": "2024-10-24T10:32:35.688Z"
   },
   {
    "duration": 26,
    "start_time": "2024-10-24T10:32:35.693Z"
   },
   {
    "duration": 242,
    "start_time": "2024-10-24T10:32:35.720Z"
   },
   {
    "duration": 337,
    "start_time": "2024-10-24T10:34:19.499Z"
   },
   {
    "duration": 1231,
    "start_time": "2024-10-24T10:34:51.367Z"
   },
   {
    "duration": 38,
    "start_time": "2024-10-24T10:34:52.601Z"
   },
   {
    "duration": 25,
    "start_time": "2024-10-24T10:34:52.641Z"
   },
   {
    "duration": 74,
    "start_time": "2024-10-24T10:34:52.669Z"
   },
   {
    "duration": 14,
    "start_time": "2024-10-24T10:34:52.745Z"
   },
   {
    "duration": 34,
    "start_time": "2024-10-24T10:34:52.761Z"
   },
   {
    "duration": 11,
    "start_time": "2024-10-24T10:34:52.797Z"
   },
   {
    "duration": 11,
    "start_time": "2024-10-24T10:34:52.809Z"
   },
   {
    "duration": 23,
    "start_time": "2024-10-24T10:34:52.822Z"
   },
   {
    "duration": 61,
    "start_time": "2024-10-24T10:34:52.849Z"
   },
   {
    "duration": 19,
    "start_time": "2024-10-24T10:34:52.911Z"
   },
   {
    "duration": 15,
    "start_time": "2024-10-24T10:34:52.931Z"
   },
   {
    "duration": 8,
    "start_time": "2024-10-24T10:34:52.948Z"
   },
   {
    "duration": 293,
    "start_time": "2024-10-24T10:34:52.958Z"
   },
   {
    "duration": 111,
    "start_time": "2024-10-24T10:34:53.253Z"
   },
   {
    "duration": 185,
    "start_time": "2024-10-24T10:34:53.366Z"
   },
   {
    "duration": 196,
    "start_time": "2024-10-24T10:34:53.552Z"
   },
   {
    "duration": 192,
    "start_time": "2024-10-24T10:34:53.750Z"
   },
   {
    "duration": 33,
    "start_time": "2024-10-24T10:34:53.944Z"
   },
   {
    "duration": 14,
    "start_time": "2024-10-24T10:34:53.978Z"
   },
   {
    "duration": 20,
    "start_time": "2024-10-24T10:34:53.994Z"
   },
   {
    "duration": 468,
    "start_time": "2024-10-24T10:34:54.015Z"
   },
   {
    "duration": 553,
    "start_time": "2024-10-24T10:34:54.484Z"
   },
   {
    "duration": 38,
    "start_time": "2024-10-24T10:34:55.039Z"
   },
   {
    "duration": 4,
    "start_time": "2024-10-24T10:34:55.078Z"
   },
   {
    "duration": 7,
    "start_time": "2024-10-24T10:34:55.084Z"
   },
   {
    "duration": 258,
    "start_time": "2024-10-24T10:34:55.092Z"
   },
   {
    "duration": 1217,
    "start_time": "2024-10-24T10:36:02.192Z"
   },
   {
    "duration": 38,
    "start_time": "2024-10-24T10:36:03.411Z"
   },
   {
    "duration": 12,
    "start_time": "2024-10-24T10:36:03.451Z"
   },
   {
    "duration": 61,
    "start_time": "2024-10-24T10:36:03.465Z"
   },
   {
    "duration": 26,
    "start_time": "2024-10-24T10:36:03.527Z"
   },
   {
    "duration": 29,
    "start_time": "2024-10-24T10:36:03.554Z"
   },
   {
    "duration": 10,
    "start_time": "2024-10-24T10:36:03.584Z"
   },
   {
    "duration": 12,
    "start_time": "2024-10-24T10:36:03.596Z"
   },
   {
    "duration": 15,
    "start_time": "2024-10-24T10:36:03.610Z"
   },
   {
    "duration": 18,
    "start_time": "2024-10-24T10:36:03.628Z"
   },
   {
    "duration": 28,
    "start_time": "2024-10-24T10:36:03.648Z"
   },
   {
    "duration": 11,
    "start_time": "2024-10-24T10:36:03.678Z"
   },
   {
    "duration": 5,
    "start_time": "2024-10-24T10:36:03.691Z"
   },
   {
    "duration": 349,
    "start_time": "2024-10-24T10:36:03.698Z"
   },
   {
    "duration": 115,
    "start_time": "2024-10-24T10:36:04.048Z"
   },
   {
    "duration": 172,
    "start_time": "2024-10-24T10:36:04.175Z"
   },
   {
    "duration": 194,
    "start_time": "2024-10-24T10:36:04.348Z"
   },
   {
    "duration": 201,
    "start_time": "2024-10-24T10:36:04.544Z"
   },
   {
    "duration": 33,
    "start_time": "2024-10-24T10:36:04.746Z"
   },
   {
    "duration": 13,
    "start_time": "2024-10-24T10:36:04.781Z"
   },
   {
    "duration": 20,
    "start_time": "2024-10-24T10:36:04.796Z"
   },
   {
    "duration": 479,
    "start_time": "2024-10-24T10:36:04.817Z"
   },
   {
    "duration": 554,
    "start_time": "2024-10-24T10:36:05.298Z"
   },
   {
    "duration": 40,
    "start_time": "2024-10-24T10:36:05.853Z"
   },
   {
    "duration": 3,
    "start_time": "2024-10-24T10:36:05.895Z"
   },
   {
    "duration": 19,
    "start_time": "2024-10-24T10:36:05.900Z"
   },
   {
    "duration": 258,
    "start_time": "2024-10-24T10:36:05.922Z"
   },
   {
    "duration": 50,
    "start_time": "2024-10-24T13:20:59.040Z"
   },
   {
    "duration": 1436,
    "start_time": "2024-10-24T13:21:06.234Z"
   },
   {
    "duration": 82,
    "start_time": "2024-10-24T13:21:07.673Z"
   },
   {
    "duration": 12,
    "start_time": "2024-10-24T13:21:07.756Z"
   },
   {
    "duration": 172,
    "start_time": "2024-10-24T13:21:07.771Z"
   },
   {
    "duration": 11,
    "start_time": "2024-10-24T13:21:07.945Z"
   },
   {
    "duration": 69,
    "start_time": "2024-10-24T13:21:07.958Z"
   },
   {
    "duration": 10,
    "start_time": "2024-10-24T13:21:08.029Z"
   },
   {
    "duration": 27,
    "start_time": "2024-10-24T13:21:08.040Z"
   },
   {
    "duration": 22,
    "start_time": "2024-10-24T13:21:08.069Z"
   },
   {
    "duration": 16,
    "start_time": "2024-10-24T13:21:08.093Z"
   },
   {
    "duration": 16,
    "start_time": "2024-10-24T13:21:08.111Z"
   },
   {
    "duration": 7,
    "start_time": "2024-10-24T13:21:08.129Z"
   },
   {
    "duration": 27,
    "start_time": "2024-10-24T13:21:08.137Z"
   },
   {
    "duration": 352,
    "start_time": "2024-10-24T13:21:08.166Z"
   },
   {
    "duration": 115,
    "start_time": "2024-10-24T13:21:08.520Z"
   },
   {
    "duration": 181,
    "start_time": "2024-10-24T13:21:08.636Z"
   },
   {
    "duration": 192,
    "start_time": "2024-10-24T13:21:08.819Z"
   },
   {
    "duration": 211,
    "start_time": "2024-10-24T13:21:09.012Z"
   },
   {
    "duration": 25,
    "start_time": "2024-10-24T13:21:09.225Z"
   },
   {
    "duration": 14,
    "start_time": "2024-10-24T13:21:09.252Z"
   },
   {
    "duration": 35,
    "start_time": "2024-10-24T13:21:09.268Z"
   },
   {
    "duration": 492,
    "start_time": "2024-10-24T13:21:09.317Z"
   },
   {
    "duration": 596,
    "start_time": "2024-10-24T13:21:09.811Z"
   },
   {
    "duration": 42,
    "start_time": "2024-10-24T13:21:10.409Z"
   },
   {
    "duration": 4,
    "start_time": "2024-10-24T13:21:10.452Z"
   },
   {
    "duration": 20,
    "start_time": "2024-10-24T13:21:10.457Z"
   },
   {
    "duration": 269,
    "start_time": "2024-10-24T13:21:10.479Z"
   },
   {
    "duration": 9,
    "start_time": "2024-10-24T13:21:10.751Z"
   },
   {
    "duration": 9,
    "start_time": "2024-10-24T13:24:00.947Z"
   },
   {
    "duration": 7,
    "start_time": "2024-10-24T13:31:32.783Z"
   },
   {
    "duration": 8,
    "start_time": "2024-10-24T13:31:52.908Z"
   },
   {
    "duration": 8,
    "start_time": "2024-10-24T13:47:14.156Z"
   },
   {
    "duration": 9,
    "start_time": "2024-10-24T13:54:03.362Z"
   },
   {
    "duration": 7,
    "start_time": "2024-10-24T13:54:10.211Z"
   },
   {
    "duration": 6,
    "start_time": "2024-10-24T13:54:17.725Z"
   },
   {
    "duration": 1188,
    "start_time": "2024-10-24T13:59:38.648Z"
   },
   {
    "duration": 37,
    "start_time": "2024-10-24T13:59:39.838Z"
   },
   {
    "duration": 16,
    "start_time": "2024-10-24T13:59:39.877Z"
   },
   {
    "duration": 39,
    "start_time": "2024-10-24T13:59:39.896Z"
   },
   {
    "duration": 12,
    "start_time": "2024-10-24T13:59:39.936Z"
   },
   {
    "duration": 26,
    "start_time": "2024-10-24T13:59:39.950Z"
   },
   {
    "duration": 11,
    "start_time": "2024-10-24T13:59:39.977Z"
   },
   {
    "duration": 30,
    "start_time": "2024-10-24T13:59:39.990Z"
   },
   {
    "duration": 12,
    "start_time": "2024-10-24T13:59:40.023Z"
   },
   {
    "duration": 18,
    "start_time": "2024-10-24T13:59:40.039Z"
   },
   {
    "duration": 13,
    "start_time": "2024-10-24T13:59:40.059Z"
   },
   {
    "duration": 8,
    "start_time": "2024-10-24T13:59:40.073Z"
   },
   {
    "duration": 4,
    "start_time": "2024-10-24T13:59:40.083Z"
   },
   {
    "duration": 289,
    "start_time": "2024-10-24T13:59:40.119Z"
   },
   {
    "duration": 110,
    "start_time": "2024-10-24T13:59:40.409Z"
   },
   {
    "duration": 179,
    "start_time": "2024-10-24T13:59:40.521Z"
   },
   {
    "duration": 202,
    "start_time": "2024-10-24T13:59:40.702Z"
   },
   {
    "duration": 191,
    "start_time": "2024-10-24T13:59:40.905Z"
   },
   {
    "duration": 43,
    "start_time": "2024-10-24T13:59:41.098Z"
   },
   {
    "duration": 15,
    "start_time": "2024-10-24T13:59:41.143Z"
   },
   {
    "duration": 19,
    "start_time": "2024-10-24T13:59:41.160Z"
   },
   {
    "duration": 527,
    "start_time": "2024-10-24T13:59:41.181Z"
   },
   {
    "duration": 578,
    "start_time": "2024-10-24T13:59:41.717Z"
   },
   {
    "duration": 48,
    "start_time": "2024-10-24T13:59:42.297Z"
   },
   {
    "duration": 5,
    "start_time": "2024-10-24T13:59:42.347Z"
   },
   {
    "duration": 6,
    "start_time": "2024-10-24T13:59:42.353Z"
   },
   {
    "duration": 251,
    "start_time": "2024-10-24T13:59:42.361Z"
   },
   {
    "duration": 7,
    "start_time": "2024-10-24T13:59:42.619Z"
   },
   {
    "duration": 6,
    "start_time": "2024-10-24T13:59:42.627Z"
   },
   {
    "duration": 7,
    "start_time": "2024-10-24T14:01:30.083Z"
   },
   {
    "duration": 1181,
    "start_time": "2024-10-24T14:07:55.979Z"
   },
   {
    "duration": 36,
    "start_time": "2024-10-24T14:07:57.162Z"
   },
   {
    "duration": 13,
    "start_time": "2024-10-24T14:07:57.200Z"
   },
   {
    "duration": 34,
    "start_time": "2024-10-24T14:07:57.215Z"
   },
   {
    "duration": 10,
    "start_time": "2024-10-24T14:07:57.251Z"
   },
   {
    "duration": 19,
    "start_time": "2024-10-24T14:07:57.263Z"
   },
   {
    "duration": 9,
    "start_time": "2024-10-24T14:07:57.283Z"
   },
   {
    "duration": 24,
    "start_time": "2024-10-24T14:07:57.294Z"
   },
   {
    "duration": 15,
    "start_time": "2024-10-24T14:07:57.320Z"
   },
   {
    "duration": 9,
    "start_time": "2024-10-24T14:07:57.337Z"
   },
   {
    "duration": 20,
    "start_time": "2024-10-24T14:07:57.348Z"
   },
   {
    "duration": 10,
    "start_time": "2024-10-24T14:07:57.370Z"
   },
   {
    "duration": 14,
    "start_time": "2024-10-24T14:07:57.382Z"
   },
   {
    "duration": 312,
    "start_time": "2024-10-24T14:07:57.397Z"
   },
   {
    "duration": 104,
    "start_time": "2024-10-24T14:07:57.718Z"
   },
   {
    "duration": 171,
    "start_time": "2024-10-24T14:07:57.824Z"
   },
   {
    "duration": 188,
    "start_time": "2024-10-24T14:07:57.996Z"
   },
   {
    "duration": 199,
    "start_time": "2024-10-24T14:07:58.185Z"
   },
   {
    "duration": 35,
    "start_time": "2024-10-24T14:07:58.386Z"
   },
   {
    "duration": 14,
    "start_time": "2024-10-24T14:07:58.423Z"
   },
   {
    "duration": 31,
    "start_time": "2024-10-24T14:07:58.438Z"
   },
   {
    "duration": 479,
    "start_time": "2024-10-24T14:07:58.470Z"
   },
   {
    "duration": 546,
    "start_time": "2024-10-24T14:07:58.950Z"
   },
   {
    "duration": 34,
    "start_time": "2024-10-24T14:07:59.497Z"
   },
   {
    "duration": 4,
    "start_time": "2024-10-24T14:07:59.532Z"
   },
   {
    "duration": 16,
    "start_time": "2024-10-24T14:07:59.537Z"
   },
   {
    "duration": 263,
    "start_time": "2024-10-24T14:07:59.555Z"
   },
   {
    "duration": 9,
    "start_time": "2024-10-24T14:07:59.822Z"
   },
   {
    "duration": 9,
    "start_time": "2024-10-24T14:07:59.832Z"
   },
   {
    "duration": 7,
    "start_time": "2024-10-24T14:07:59.843Z"
   },
   {
    "duration": 1243,
    "start_time": "2024-10-24T14:13:16.348Z"
   },
   {
    "duration": 38,
    "start_time": "2024-10-24T14:13:17.594Z"
   },
   {
    "duration": 14,
    "start_time": "2024-10-24T14:13:17.634Z"
   },
   {
    "duration": 39,
    "start_time": "2024-10-24T14:13:17.650Z"
   },
   {
    "duration": 12,
    "start_time": "2024-10-24T14:13:17.691Z"
   },
   {
    "duration": 20,
    "start_time": "2024-10-24T14:13:17.718Z"
   },
   {
    "duration": 11,
    "start_time": "2024-10-24T14:13:17.739Z"
   },
   {
    "duration": 26,
    "start_time": "2024-10-24T14:13:17.751Z"
   },
   {
    "duration": 12,
    "start_time": "2024-10-24T14:13:17.779Z"
   },
   {
    "duration": 23,
    "start_time": "2024-10-24T14:13:17.795Z"
   },
   {
    "duration": 15,
    "start_time": "2024-10-24T14:13:17.820Z"
   },
   {
    "duration": 21,
    "start_time": "2024-10-24T14:13:17.837Z"
   },
   {
    "duration": 4,
    "start_time": "2024-10-24T14:13:17.860Z"
   },
   {
    "duration": 322,
    "start_time": "2024-10-24T14:13:17.866Z"
   },
   {
    "duration": 175,
    "start_time": "2024-10-24T14:13:18.189Z"
   },
   {
    "duration": 175,
    "start_time": "2024-10-24T14:13:18.366Z"
   },
   {
    "duration": 206,
    "start_time": "2024-10-24T14:13:18.543Z"
   },
   {
    "duration": 225,
    "start_time": "2024-10-24T14:13:18.751Z"
   },
   {
    "duration": 49,
    "start_time": "2024-10-24T14:13:18.978Z"
   },
   {
    "duration": 21,
    "start_time": "2024-10-24T14:13:19.029Z"
   },
   {
    "duration": 28,
    "start_time": "2024-10-24T14:13:19.052Z"
   },
   {
    "duration": 541,
    "start_time": "2024-10-24T14:13:19.082Z"
   },
   {
    "duration": 579,
    "start_time": "2024-10-24T14:13:19.625Z"
   },
   {
    "duration": 36,
    "start_time": "2024-10-24T14:13:20.206Z"
   },
   {
    "duration": 12,
    "start_time": "2024-10-24T14:13:20.244Z"
   },
   {
    "duration": 17,
    "start_time": "2024-10-24T14:13:20.258Z"
   },
   {
    "duration": 254,
    "start_time": "2024-10-24T14:13:20.276Z"
   },
   {
    "duration": 7,
    "start_time": "2024-10-24T14:13:20.534Z"
   },
   {
    "duration": 9,
    "start_time": "2024-10-24T14:13:20.542Z"
   },
   {
    "duration": 50,
    "start_time": "2024-10-24T16:29:56.002Z"
   },
   {
    "duration": 1378,
    "start_time": "2024-10-24T16:30:01.362Z"
   },
   {
    "duration": 110,
    "start_time": "2024-10-24T16:30:02.742Z"
   },
   {
    "duration": 13,
    "start_time": "2024-10-24T16:30:02.854Z"
   },
   {
    "duration": 186,
    "start_time": "2024-10-24T16:30:02.871Z"
   },
   {
    "duration": 10,
    "start_time": "2024-10-24T16:30:03.058Z"
   },
   {
    "duration": 89,
    "start_time": "2024-10-24T16:30:03.070Z"
   },
   {
    "duration": 10,
    "start_time": "2024-10-24T16:30:03.161Z"
   },
   {
    "duration": 19,
    "start_time": "2024-10-24T16:30:03.172Z"
   },
   {
    "duration": 20,
    "start_time": "2024-10-24T16:30:03.192Z"
   },
   {
    "duration": 9,
    "start_time": "2024-10-24T16:30:03.214Z"
   },
   {
    "duration": 10,
    "start_time": "2024-10-24T16:30:03.224Z"
   },
   {
    "duration": 22,
    "start_time": "2024-10-24T16:30:03.235Z"
   },
   {
    "duration": 3,
    "start_time": "2024-10-24T16:30:03.259Z"
   },
   {
    "duration": 349,
    "start_time": "2024-10-24T16:30:03.264Z"
   },
   {
    "duration": 108,
    "start_time": "2024-10-24T16:30:03.614Z"
   },
   {
    "duration": 155,
    "start_time": "2024-10-24T16:30:03.723Z"
   },
   {
    "duration": 191,
    "start_time": "2024-10-24T16:30:03.880Z"
   },
   {
    "duration": 191,
    "start_time": "2024-10-24T16:30:04.072Z"
   },
   {
    "duration": 48,
    "start_time": "2024-10-24T16:30:04.265Z"
   },
   {
    "duration": 12,
    "start_time": "2024-10-24T16:30:04.315Z"
   },
   {
    "duration": 35,
    "start_time": "2024-10-24T16:30:04.329Z"
   },
   {
    "duration": 457,
    "start_time": "2024-10-24T16:30:04.365Z"
   },
   {
    "duration": 540,
    "start_time": "2024-10-24T16:30:04.825Z"
   },
   {
    "duration": 46,
    "start_time": "2024-10-24T16:30:05.366Z"
   },
   {
    "duration": 5,
    "start_time": "2024-10-24T16:30:05.413Z"
   },
   {
    "duration": 52,
    "start_time": "2024-10-24T16:30:05.419Z"
   },
   {
    "duration": 258,
    "start_time": "2024-10-24T16:30:05.472Z"
   },
   {
    "duration": 6,
    "start_time": "2024-10-24T16:30:05.733Z"
   },
   {
    "duration": 39,
    "start_time": "2024-10-24T16:30:05.740Z"
   },
   {
    "duration": 7,
    "start_time": "2024-10-24T16:30:05.781Z"
   },
   {
    "duration": 10,
    "start_time": "2024-10-24T16:39:45.211Z"
   },
   {
    "duration": 6,
    "start_time": "2024-10-24T16:41:02.611Z"
   },
   {
    "duration": 104,
    "start_time": "2024-10-24T17:08:20.758Z"
   },
   {
    "duration": 1118,
    "start_time": "2024-10-24T17:08:40.132Z"
   },
   {
    "duration": 37,
    "start_time": "2024-10-24T17:08:41.251Z"
   },
   {
    "duration": 11,
    "start_time": "2024-10-24T17:08:41.289Z"
   },
   {
    "duration": 36,
    "start_time": "2024-10-24T17:08:41.301Z"
   },
   {
    "duration": 11,
    "start_time": "2024-10-24T17:08:41.339Z"
   },
   {
    "duration": 19,
    "start_time": "2024-10-24T17:08:41.352Z"
   },
   {
    "duration": 10,
    "start_time": "2024-10-24T17:08:41.372Z"
   },
   {
    "duration": 9,
    "start_time": "2024-10-24T17:08:41.383Z"
   },
   {
    "duration": 11,
    "start_time": "2024-10-24T17:08:41.395Z"
   },
   {
    "duration": 9,
    "start_time": "2024-10-24T17:08:41.408Z"
   },
   {
    "duration": 17,
    "start_time": "2024-10-24T17:08:41.419Z"
   },
   {
    "duration": 7,
    "start_time": "2024-10-24T17:08:41.438Z"
   },
   {
    "duration": 4,
    "start_time": "2024-10-24T17:08:41.447Z"
   },
   {
    "duration": 324,
    "start_time": "2024-10-24T17:08:41.453Z"
   },
   {
    "duration": 104,
    "start_time": "2024-10-24T17:08:41.779Z"
   },
   {
    "duration": 169,
    "start_time": "2024-10-24T17:08:41.884Z"
   },
   {
    "duration": 187,
    "start_time": "2024-10-24T17:08:42.055Z"
   },
   {
    "duration": 191,
    "start_time": "2024-10-24T17:08:42.243Z"
   },
   {
    "duration": 24,
    "start_time": "2024-10-24T17:08:42.435Z"
   },
   {
    "duration": 13,
    "start_time": "2024-10-24T17:08:42.461Z"
   },
   {
    "duration": 20,
    "start_time": "2024-10-24T17:08:42.496Z"
   },
   {
    "duration": 532,
    "start_time": "2024-10-24T17:08:42.518Z"
   },
   {
    "duration": 527,
    "start_time": "2024-10-24T17:08:43.051Z"
   },
   {
    "duration": 39,
    "start_time": "2024-10-24T17:08:43.579Z"
   },
   {
    "duration": 5,
    "start_time": "2024-10-24T17:08:43.619Z"
   },
   {
    "duration": 7,
    "start_time": "2024-10-24T17:08:43.625Z"
   },
   {
    "duration": 249,
    "start_time": "2024-10-24T17:08:43.634Z"
   },
   {
    "duration": 12,
    "start_time": "2024-10-24T17:08:43.887Z"
   },
   {
    "duration": 6,
    "start_time": "2024-10-24T17:08:43.900Z"
   },
   {
    "duration": 6,
    "start_time": "2024-10-24T17:08:43.907Z"
   },
   {
    "duration": 14,
    "start_time": "2024-10-24T17:08:43.914Z"
   },
   {
    "duration": 5,
    "start_time": "2024-10-24T17:08:43.930Z"
   },
   {
    "duration": 8,
    "start_time": "2024-10-24T17:08:43.936Z"
   },
   {
    "duration": 344,
    "start_time": "2024-10-24T17:08:43.945Z"
   },
   {
    "duration": 54,
    "start_time": "2024-10-24T19:16:35.280Z"
   },
   {
    "duration": 1325,
    "start_time": "2024-10-24T19:16:40.588Z"
   },
   {
    "duration": 116,
    "start_time": "2024-10-24T19:16:41.915Z"
   },
   {
    "duration": 12,
    "start_time": "2024-10-24T19:16:42.033Z"
   },
   {
    "duration": 188,
    "start_time": "2024-10-24T19:16:42.047Z"
   },
   {
    "duration": 12,
    "start_time": "2024-10-24T19:16:42.236Z"
   },
   {
    "duration": 77,
    "start_time": "2024-10-24T19:16:42.249Z"
   },
   {
    "duration": 10,
    "start_time": "2024-10-24T19:16:42.327Z"
   },
   {
    "duration": 12,
    "start_time": "2024-10-24T19:16:42.338Z"
   },
   {
    "duration": 12,
    "start_time": "2024-10-24T19:16:42.351Z"
   },
   {
    "duration": 9,
    "start_time": "2024-10-24T19:16:42.366Z"
   },
   {
    "duration": 12,
    "start_time": "2024-10-24T19:16:42.377Z"
   },
   {
    "duration": 7,
    "start_time": "2024-10-24T19:16:42.391Z"
   },
   {
    "duration": 5,
    "start_time": "2024-10-24T19:16:42.400Z"
   },
   {
    "duration": 445,
    "start_time": "2024-10-24T19:16:42.407Z"
   },
   {
    "duration": 116,
    "start_time": "2024-10-24T19:16:42.853Z"
   },
   {
    "duration": 187,
    "start_time": "2024-10-24T19:16:42.970Z"
   },
   {
    "duration": 198,
    "start_time": "2024-10-24T19:16:43.159Z"
   },
   {
    "duration": 202,
    "start_time": "2024-10-24T19:16:43.359Z"
   },
   {
    "duration": 25,
    "start_time": "2024-10-24T19:16:43.563Z"
   },
   {
    "duration": 14,
    "start_time": "2024-10-24T19:16:43.590Z"
   },
   {
    "duration": 46,
    "start_time": "2024-10-24T19:16:43.606Z"
   },
   {
    "duration": 523,
    "start_time": "2024-10-24T19:16:43.654Z"
   },
   {
    "duration": 554,
    "start_time": "2024-10-24T19:16:44.179Z"
   },
   {
    "duration": 41,
    "start_time": "2024-10-24T19:16:44.735Z"
   },
   {
    "duration": 4,
    "start_time": "2024-10-24T19:16:44.777Z"
   },
   {
    "duration": 9,
    "start_time": "2024-10-24T19:16:44.783Z"
   },
   {
    "duration": 271,
    "start_time": "2024-10-24T19:16:44.794Z"
   },
   {
    "duration": 7,
    "start_time": "2024-10-24T19:16:45.069Z"
   },
   {
    "duration": 138,
    "start_time": "2024-10-24T19:16:45.077Z"
   },
   {
    "duration": 26,
    "start_time": "2024-10-24T19:16:45.217Z"
   },
   {
    "duration": 109,
    "start_time": "2024-10-24T19:16:45.245Z"
   },
   {
    "duration": 33,
    "start_time": "2024-10-24T19:16:45.356Z"
   },
   {
    "duration": 35,
    "start_time": "2024-10-24T19:16:45.391Z"
   },
   {
    "duration": 785,
    "start_time": "2024-10-24T19:16:45.427Z"
   },
   {
    "duration": 117,
    "start_time": "2024-10-24T19:28:22.153Z"
   },
   {
    "duration": 1251,
    "start_time": "2024-10-24T19:28:40.043Z"
   },
   {
    "duration": 40,
    "start_time": "2024-10-24T19:28:41.296Z"
   },
   {
    "duration": 62,
    "start_time": "2024-10-24T19:28:41.337Z"
   },
   {
    "duration": 41,
    "start_time": "2024-10-24T19:28:41.401Z"
   },
   {
    "duration": 11,
    "start_time": "2024-10-24T19:28:41.444Z"
   },
   {
    "duration": 25,
    "start_time": "2024-10-24T19:28:41.457Z"
   },
   {
    "duration": 10,
    "start_time": "2024-10-24T19:28:41.484Z"
   },
   {
    "duration": 10,
    "start_time": "2024-10-24T19:28:41.496Z"
   },
   {
    "duration": 11,
    "start_time": "2024-10-24T19:28:41.507Z"
   },
   {
    "duration": 11,
    "start_time": "2024-10-24T19:28:41.520Z"
   },
   {
    "duration": 11,
    "start_time": "2024-10-24T19:28:41.552Z"
   },
   {
    "duration": 8,
    "start_time": "2024-10-24T19:28:41.565Z"
   },
   {
    "duration": 11,
    "start_time": "2024-10-24T19:28:41.574Z"
   },
   {
    "duration": 348,
    "start_time": "2024-10-24T19:28:41.589Z"
   },
   {
    "duration": 116,
    "start_time": "2024-10-24T19:28:41.939Z"
   },
   {
    "duration": 185,
    "start_time": "2024-10-24T19:28:42.057Z"
   },
   {
    "duration": 193,
    "start_time": "2024-10-24T19:28:42.252Z"
   },
   {
    "duration": 213,
    "start_time": "2024-10-24T19:28:42.447Z"
   },
   {
    "duration": 31,
    "start_time": "2024-10-24T19:28:42.663Z"
   },
   {
    "duration": 16,
    "start_time": "2024-10-24T19:28:42.696Z"
   },
   {
    "duration": 42,
    "start_time": "2024-10-24T19:28:42.714Z"
   },
   {
    "duration": 512,
    "start_time": "2024-10-24T19:28:42.758Z"
   },
   {
    "duration": 565,
    "start_time": "2024-10-24T19:28:43.272Z"
   },
   {
    "duration": 44,
    "start_time": "2024-10-24T19:28:43.839Z"
   },
   {
    "duration": 5,
    "start_time": "2024-10-24T19:28:43.885Z"
   },
   {
    "duration": 17,
    "start_time": "2024-10-24T19:28:43.892Z"
   },
   {
    "duration": 297,
    "start_time": "2024-10-24T19:28:43.911Z"
   },
   {
    "duration": 9,
    "start_time": "2024-10-24T19:28:44.209Z"
   },
   {
    "duration": 6,
    "start_time": "2024-10-24T19:28:44.220Z"
   },
   {
    "duration": 26,
    "start_time": "2024-10-24T19:28:44.227Z"
   },
   {
    "duration": 19,
    "start_time": "2024-10-24T19:28:44.255Z"
   },
   {
    "duration": 6,
    "start_time": "2024-10-24T19:28:44.276Z"
   },
   {
    "duration": 11,
    "start_time": "2024-10-24T19:28:44.284Z"
   },
   {
    "duration": 785,
    "start_time": "2024-10-24T19:28:44.296Z"
   },
   {
    "duration": 336,
    "start_time": "2024-10-24T19:28:45.083Z"
   },
   {
    "duration": 355,
    "start_time": "2024-10-24T19:36:37.719Z"
   },
   {
    "duration": 1378,
    "start_time": "2024-10-24T19:44:35.459Z"
   },
   {
    "duration": 42,
    "start_time": "2024-10-24T19:44:36.839Z"
   },
   {
    "duration": 15,
    "start_time": "2024-10-24T19:44:36.883Z"
   },
   {
    "duration": 60,
    "start_time": "2024-10-24T19:44:36.900Z"
   },
   {
    "duration": 15,
    "start_time": "2024-10-24T19:44:36.962Z"
   },
   {
    "duration": 80,
    "start_time": "2024-10-24T19:44:36.979Z"
   },
   {
    "duration": 16,
    "start_time": "2024-10-24T19:44:37.061Z"
   },
   {
    "duration": 12,
    "start_time": "2024-10-24T19:44:37.079Z"
   },
   {
    "duration": 37,
    "start_time": "2024-10-24T19:44:37.093Z"
   },
   {
    "duration": 138,
    "start_time": "2024-10-24T19:44:37.132Z"
   },
   {
    "duration": 12,
    "start_time": "2024-10-24T19:44:37.273Z"
   },
   {
    "duration": 8,
    "start_time": "2024-10-24T19:44:37.287Z"
   },
   {
    "duration": 27,
    "start_time": "2024-10-24T19:44:37.297Z"
   },
   {
    "duration": 438,
    "start_time": "2024-10-24T19:44:37.326Z"
   },
   {
    "duration": 125,
    "start_time": "2024-10-24T19:44:37.766Z"
   },
   {
    "duration": 215,
    "start_time": "2024-10-24T19:44:37.893Z"
   },
   {
    "duration": 228,
    "start_time": "2024-10-24T19:44:38.110Z"
   },
   {
    "duration": 225,
    "start_time": "2024-10-24T19:44:38.341Z"
   },
   {
    "duration": 30,
    "start_time": "2024-10-24T19:44:38.569Z"
   },
   {
    "duration": 16,
    "start_time": "2024-10-24T19:44:38.601Z"
   },
   {
    "duration": 51,
    "start_time": "2024-10-24T19:44:38.618Z"
   },
   {
    "duration": 520,
    "start_time": "2024-10-24T19:44:38.672Z"
   },
   {
    "duration": 574,
    "start_time": "2024-10-24T19:44:39.194Z"
   },
   {
    "duration": 45,
    "start_time": "2024-10-24T19:44:39.770Z"
   },
   {
    "duration": 4,
    "start_time": "2024-10-24T19:44:39.818Z"
   },
   {
    "duration": 37,
    "start_time": "2024-10-24T19:44:39.823Z"
   },
   {
    "duration": 305,
    "start_time": "2024-10-24T19:44:39.863Z"
   },
   {
    "duration": 11,
    "start_time": "2024-10-24T19:44:40.173Z"
   },
   {
    "duration": 9,
    "start_time": "2024-10-24T19:44:40.186Z"
   },
   {
    "duration": 26,
    "start_time": "2024-10-24T19:44:40.198Z"
   },
   {
    "duration": 30,
    "start_time": "2024-10-24T19:44:40.227Z"
   },
   {
    "duration": 6,
    "start_time": "2024-10-24T19:44:40.260Z"
   },
   {
    "duration": 30,
    "start_time": "2024-10-24T19:44:40.268Z"
   },
   {
    "duration": 843,
    "start_time": "2024-10-24T19:44:40.300Z"
   },
   {
    "duration": 373,
    "start_time": "2024-10-24T19:44:41.151Z"
   },
   {
    "duration": 1205,
    "start_time": "2024-10-25T05:46:36.999Z"
   },
   {
    "duration": 85,
    "start_time": "2024-10-25T05:46:38.206Z"
   },
   {
    "duration": 11,
    "start_time": "2024-10-25T05:46:38.292Z"
   },
   {
    "duration": 188,
    "start_time": "2024-10-25T05:46:38.305Z"
   },
   {
    "duration": 11,
    "start_time": "2024-10-25T05:46:38.494Z"
   },
   {
    "duration": 91,
    "start_time": "2024-10-25T05:46:38.506Z"
   },
   {
    "duration": 10,
    "start_time": "2024-10-25T05:46:38.598Z"
   },
   {
    "duration": 16,
    "start_time": "2024-10-25T05:46:38.609Z"
   },
   {
    "duration": 9,
    "start_time": "2024-10-25T05:46:38.627Z"
   },
   {
    "duration": 8,
    "start_time": "2024-10-25T05:46:38.639Z"
   },
   {
    "duration": 11,
    "start_time": "2024-10-25T05:46:38.649Z"
   },
   {
    "duration": 9,
    "start_time": "2024-10-25T05:46:38.661Z"
   },
   {
    "duration": 4,
    "start_time": "2024-10-25T05:46:38.672Z"
   },
   {
    "duration": 398,
    "start_time": "2024-10-25T05:46:38.678Z"
   },
   {
    "duration": 109,
    "start_time": "2024-10-25T05:46:39.078Z"
   },
   {
    "duration": 194,
    "start_time": "2024-10-25T05:46:39.190Z"
   },
   {
    "duration": 177,
    "start_time": "2024-10-25T05:46:39.386Z"
   },
   {
    "duration": 178,
    "start_time": "2024-10-25T05:46:39.565Z"
   },
   {
    "duration": 23,
    "start_time": "2024-10-25T05:46:39.745Z"
   },
   {
    "duration": 13,
    "start_time": "2024-10-25T05:46:39.770Z"
   },
   {
    "duration": 31,
    "start_time": "2024-10-25T05:46:39.784Z"
   },
   {
    "duration": 498,
    "start_time": "2024-10-25T05:46:39.816Z"
   },
   {
    "duration": 413,
    "start_time": "2024-10-25T05:46:40.316Z"
   },
   {
    "duration": 47,
    "start_time": "2024-10-25T05:46:40.731Z"
   },
   {
    "duration": 4,
    "start_time": "2024-10-25T05:46:40.780Z"
   },
   {
    "duration": 18,
    "start_time": "2024-10-25T05:46:40.785Z"
   },
   {
    "duration": 331,
    "start_time": "2024-10-25T05:46:40.805Z"
   },
   {
    "duration": 7,
    "start_time": "2024-10-25T05:46:41.139Z"
   },
   {
    "duration": 117,
    "start_time": "2024-10-25T05:46:41.147Z"
   },
   {
    "duration": 27,
    "start_time": "2024-10-25T05:46:41.265Z"
   },
   {
    "duration": 53,
    "start_time": "2024-10-25T05:46:41.293Z"
   },
   {
    "duration": 43,
    "start_time": "2024-10-25T05:46:41.347Z"
   },
   {
    "duration": 51,
    "start_time": "2024-10-25T05:46:41.391Z"
   },
   {
    "duration": 702,
    "start_time": "2024-10-25T05:46:41.444Z"
   },
   {
    "duration": 366,
    "start_time": "2024-10-25T05:46:42.148Z"
   },
   {
    "duration": 1081,
    "start_time": "2024-10-25T06:02:52.607Z"
   },
   {
    "duration": 38,
    "start_time": "2024-10-25T06:02:53.690Z"
   },
   {
    "duration": 11,
    "start_time": "2024-10-25T06:02:53.729Z"
   },
   {
    "duration": 70,
    "start_time": "2024-10-25T06:02:53.741Z"
   },
   {
    "duration": 11,
    "start_time": "2024-10-25T06:02:53.813Z"
   },
   {
    "duration": 59,
    "start_time": "2024-10-25T06:02:53.825Z"
   },
   {
    "duration": 19,
    "start_time": "2024-10-25T06:02:53.886Z"
   },
   {
    "duration": 59,
    "start_time": "2024-10-25T06:02:53.907Z"
   },
   {
    "duration": 51,
    "start_time": "2024-10-25T06:02:53.968Z"
   },
   {
    "duration": 40,
    "start_time": "2024-10-25T06:02:54.022Z"
   },
   {
    "duration": 103,
    "start_time": "2024-10-25T06:02:54.063Z"
   },
   {
    "duration": 16,
    "start_time": "2024-10-25T06:02:54.169Z"
   },
   {
    "duration": 53,
    "start_time": "2024-10-25T06:02:54.186Z"
   },
   {
    "duration": 363,
    "start_time": "2024-10-25T06:02:54.241Z"
   },
   {
    "duration": 109,
    "start_time": "2024-10-25T06:02:54.606Z"
   },
   {
    "duration": 180,
    "start_time": "2024-10-25T06:02:54.716Z"
   },
   {
    "duration": 208,
    "start_time": "2024-10-25T06:02:54.898Z"
   },
   {
    "duration": 177,
    "start_time": "2024-10-25T06:02:55.108Z"
   },
   {
    "duration": 24,
    "start_time": "2024-10-25T06:02:55.287Z"
   },
   {
    "duration": 49,
    "start_time": "2024-10-25T06:02:55.312Z"
   },
   {
    "duration": 45,
    "start_time": "2024-10-25T06:02:55.363Z"
   },
   {
    "duration": 505,
    "start_time": "2024-10-25T06:02:55.409Z"
   },
   {
    "duration": 459,
    "start_time": "2024-10-25T06:02:55.915Z"
   },
   {
    "duration": 30,
    "start_time": "2024-10-25T06:02:56.376Z"
   },
   {
    "duration": 98,
    "start_time": "2024-10-25T06:02:56.408Z"
   },
   {
    "duration": 130,
    "start_time": "2024-10-25T06:02:56.508Z"
   },
   {
    "duration": 344,
    "start_time": "2024-10-25T06:02:56.639Z"
   },
   {
    "duration": 6,
    "start_time": "2024-10-25T06:02:56.986Z"
   },
   {
    "duration": 67,
    "start_time": "2024-10-25T06:02:56.993Z"
   },
   {
    "duration": 42,
    "start_time": "2024-10-25T06:02:57.062Z"
   },
   {
    "duration": 52,
    "start_time": "2024-10-25T06:02:57.106Z"
   },
   {
    "duration": 95,
    "start_time": "2024-10-25T06:02:57.160Z"
   },
   {
    "duration": 102,
    "start_time": "2024-10-25T06:02:57.259Z"
   },
   {
    "duration": 805,
    "start_time": "2024-10-25T06:02:57.363Z"
   },
   {
    "duration": 349,
    "start_time": "2024-10-25T06:02:58.169Z"
   },
   {
    "duration": 1212,
    "start_time": "2024-10-25T06:45:12.168Z"
   },
   {
    "duration": 40,
    "start_time": "2024-10-25T06:45:13.382Z"
   },
   {
    "duration": 11,
    "start_time": "2024-10-25T06:45:13.424Z"
   },
   {
    "duration": 42,
    "start_time": "2024-10-25T06:45:13.437Z"
   },
   {
    "duration": 70,
    "start_time": "2024-10-25T06:45:13.481Z"
   },
   {
    "duration": 21,
    "start_time": "2024-10-25T06:45:13.553Z"
   },
   {
    "duration": 9,
    "start_time": "2024-10-25T06:45:13.575Z"
   },
   {
    "duration": 19,
    "start_time": "2024-10-25T06:45:13.586Z"
   },
   {
    "duration": 11,
    "start_time": "2024-10-25T06:45:13.606Z"
   },
   {
    "duration": 9,
    "start_time": "2024-10-25T06:45:13.620Z"
   },
   {
    "duration": 12,
    "start_time": "2024-10-25T06:45:13.643Z"
   },
   {
    "duration": 8,
    "start_time": "2024-10-25T06:45:13.658Z"
   },
   {
    "duration": 9,
    "start_time": "2024-10-25T06:45:13.668Z"
   },
   {
    "duration": 330,
    "start_time": "2024-10-25T06:45:13.679Z"
   },
   {
    "duration": 137,
    "start_time": "2024-10-25T06:45:14.011Z"
   },
   {
    "duration": 164,
    "start_time": "2024-10-25T06:45:14.157Z"
   },
   {
    "duration": 198,
    "start_time": "2024-10-25T06:45:14.323Z"
   },
   {
    "duration": 198,
    "start_time": "2024-10-25T06:45:14.522Z"
   },
   {
    "duration": 38,
    "start_time": "2024-10-25T06:45:14.722Z"
   },
   {
    "duration": 17,
    "start_time": "2024-10-25T06:45:14.762Z"
   },
   {
    "duration": 21,
    "start_time": "2024-10-25T06:45:14.781Z"
   },
   {
    "duration": 521,
    "start_time": "2024-10-25T06:45:14.803Z"
   },
   {
    "duration": 564,
    "start_time": "2024-10-25T06:45:15.325Z"
   },
   {
    "duration": 31,
    "start_time": "2024-10-25T06:45:15.890Z"
   },
   {
    "duration": 4,
    "start_time": "2024-10-25T06:45:15.922Z"
   },
   {
    "duration": 5,
    "start_time": "2024-10-25T06:45:15.945Z"
   },
   {
    "duration": 399,
    "start_time": "2024-10-25T06:45:15.954Z"
   },
   {
    "duration": 9,
    "start_time": "2024-10-25T06:45:16.358Z"
   },
   {
    "duration": 25,
    "start_time": "2024-10-25T06:45:16.368Z"
   },
   {
    "duration": 17,
    "start_time": "2024-10-25T06:45:16.395Z"
   },
   {
    "duration": 12,
    "start_time": "2024-10-25T06:45:16.414Z"
   },
   {
    "duration": 13,
    "start_time": "2024-10-25T06:45:16.427Z"
   },
   {
    "duration": 7,
    "start_time": "2024-10-25T06:45:16.441Z"
   },
   {
    "duration": 836,
    "start_time": "2024-10-25T06:45:16.450Z"
   },
   {
    "duration": 342,
    "start_time": "2024-10-25T06:45:17.291Z"
   },
   {
    "duration": 1165,
    "start_time": "2024-10-25T06:46:53.927Z"
   },
   {
    "duration": 39,
    "start_time": "2024-10-25T06:46:55.094Z"
   },
   {
    "duration": 12,
    "start_time": "2024-10-25T06:46:55.135Z"
   },
   {
    "duration": 46,
    "start_time": "2024-10-25T06:46:55.149Z"
   },
   {
    "duration": 11,
    "start_time": "2024-10-25T06:46:55.197Z"
   },
   {
    "duration": 19,
    "start_time": "2024-10-25T06:46:55.210Z"
   },
   {
    "duration": 10,
    "start_time": "2024-10-25T06:46:55.231Z"
   },
   {
    "duration": 19,
    "start_time": "2024-10-25T06:46:55.243Z"
   },
   {
    "duration": 20,
    "start_time": "2024-10-25T06:46:55.263Z"
   },
   {
    "duration": 8,
    "start_time": "2024-10-25T06:46:55.285Z"
   },
   {
    "duration": 81,
    "start_time": "2024-10-25T06:46:55.294Z"
   },
   {
    "duration": 6,
    "start_time": "2024-10-25T06:46:55.377Z"
   },
   {
    "duration": 4,
    "start_time": "2024-10-25T06:46:55.385Z"
   },
   {
    "duration": 321,
    "start_time": "2024-10-25T06:46:55.390Z"
   },
   {
    "duration": 137,
    "start_time": "2024-10-25T06:46:55.712Z"
   },
   {
    "duration": 167,
    "start_time": "2024-10-25T06:46:55.851Z"
   },
   {
    "duration": 200,
    "start_time": "2024-10-25T06:46:56.020Z"
   },
   {
    "duration": 205,
    "start_time": "2024-10-25T06:46:56.223Z"
   },
   {
    "duration": 38,
    "start_time": "2024-10-25T06:46:56.430Z"
   },
   {
    "duration": 15,
    "start_time": "2024-10-25T06:46:56.469Z"
   },
   {
    "duration": 18,
    "start_time": "2024-10-25T06:46:56.485Z"
   },
   {
    "duration": 474,
    "start_time": "2024-10-25T06:46:56.504Z"
   },
   {
    "duration": 485,
    "start_time": "2024-10-25T06:46:56.980Z"
   },
   {
    "duration": 40,
    "start_time": "2024-10-25T06:46:57.467Z"
   },
   {
    "duration": 26,
    "start_time": "2024-10-25T06:46:57.508Z"
   },
   {
    "duration": 10,
    "start_time": "2024-10-25T06:46:57.536Z"
   },
   {
    "duration": 361,
    "start_time": "2024-10-25T06:46:57.548Z"
   },
   {
    "duration": 6,
    "start_time": "2024-10-25T06:46:57.912Z"
   },
   {
    "duration": 9,
    "start_time": "2024-10-25T06:46:57.920Z"
   },
   {
    "duration": 19,
    "start_time": "2024-10-25T06:46:57.931Z"
   },
   {
    "duration": 68,
    "start_time": "2024-10-25T06:46:57.952Z"
   },
   {
    "duration": 39,
    "start_time": "2024-10-25T06:46:58.021Z"
   },
   {
    "duration": 21,
    "start_time": "2024-10-25T06:46:58.062Z"
   },
   {
    "duration": 785,
    "start_time": "2024-10-25T06:46:58.085Z"
   },
   {
    "duration": 341,
    "start_time": "2024-10-25T06:46:58.872Z"
   },
   {
    "duration": 1413,
    "start_time": "2024-10-25T14:40:22.581Z"
   },
   {
    "duration": 122,
    "start_time": "2024-10-25T14:40:23.997Z"
   },
   {
    "duration": 12,
    "start_time": "2024-10-25T14:40:24.121Z"
   },
   {
    "duration": 197,
    "start_time": "2024-10-25T14:40:24.135Z"
   },
   {
    "duration": 12,
    "start_time": "2024-10-25T14:40:24.334Z"
   },
   {
    "duration": 82,
    "start_time": "2024-10-25T14:40:24.348Z"
   },
   {
    "duration": 11,
    "start_time": "2024-10-25T14:40:24.431Z"
   },
   {
    "duration": 28,
    "start_time": "2024-10-25T14:40:24.444Z"
   },
   {
    "duration": 73,
    "start_time": "2024-10-25T14:40:24.474Z"
   },
   {
    "duration": 9,
    "start_time": "2024-10-25T14:40:24.550Z"
   },
   {
    "duration": 12,
    "start_time": "2024-10-25T14:40:24.561Z"
   },
   {
    "duration": 7,
    "start_time": "2024-10-25T14:40:24.575Z"
   },
   {
    "duration": 16,
    "start_time": "2024-10-25T14:40:24.584Z"
   },
   {
    "duration": 375,
    "start_time": "2024-10-25T14:40:24.601Z"
   },
   {
    "duration": 120,
    "start_time": "2024-10-25T14:40:24.978Z"
   },
   {
    "duration": 191,
    "start_time": "2024-10-25T14:40:25.099Z"
   },
   {
    "duration": 204,
    "start_time": "2024-10-25T14:40:25.291Z"
   },
   {
    "duration": 208,
    "start_time": "2024-10-25T14:40:25.497Z"
   },
   {
    "duration": 27,
    "start_time": "2024-10-25T14:40:25.706Z"
   },
   {
    "duration": 28,
    "start_time": "2024-10-25T14:40:25.735Z"
   },
   {
    "duration": 21,
    "start_time": "2024-10-25T14:40:25.765Z"
   },
   {
    "duration": 513,
    "start_time": "2024-10-25T14:40:25.788Z"
   },
   {
    "duration": 469,
    "start_time": "2024-10-25T14:40:26.302Z"
   },
   {
    "duration": 32,
    "start_time": "2024-10-25T14:40:26.773Z"
   },
   {
    "duration": 165,
    "start_time": "2024-10-25T14:40:26.807Z"
   },
   {
    "duration": 34,
    "start_time": "2024-10-25T14:40:26.973Z"
   },
   {
    "duration": 327,
    "start_time": "2024-10-25T14:40:27.009Z"
   },
   {
    "duration": 13,
    "start_time": "2024-10-25T14:40:27.340Z"
   },
   {
    "duration": 6,
    "start_time": "2024-10-25T14:40:27.355Z"
   },
   {
    "duration": 6,
    "start_time": "2024-10-25T14:40:27.363Z"
   },
   {
    "duration": 14,
    "start_time": "2024-10-25T14:40:27.371Z"
   },
   {
    "duration": 6,
    "start_time": "2024-10-25T14:40:27.386Z"
   },
   {
    "duration": 5,
    "start_time": "2024-10-25T14:40:27.393Z"
   },
   {
    "duration": 810,
    "start_time": "2024-10-25T14:40:27.400Z"
   },
   {
    "duration": 330,
    "start_time": "2024-10-25T14:40:28.211Z"
   },
   {
    "duration": 9,
    "start_time": "2024-10-25T14:45:21.358Z"
   },
   {
    "duration": 1190,
    "start_time": "2024-10-25T14:50:42.043Z"
   },
   {
    "duration": 42,
    "start_time": "2024-10-25T14:50:43.235Z"
   },
   {
    "duration": 12,
    "start_time": "2024-10-25T14:50:43.278Z"
   },
   {
    "duration": 53,
    "start_time": "2024-10-25T14:50:43.292Z"
   },
   {
    "duration": 14,
    "start_time": "2024-10-25T14:50:43.346Z"
   },
   {
    "duration": 25,
    "start_time": "2024-10-25T14:50:43.361Z"
   },
   {
    "duration": 10,
    "start_time": "2024-10-25T14:50:43.388Z"
   },
   {
    "duration": 10,
    "start_time": "2024-10-25T14:50:43.400Z"
   },
   {
    "duration": 28,
    "start_time": "2024-10-25T14:50:43.412Z"
   },
   {
    "duration": 38,
    "start_time": "2024-10-25T14:50:43.444Z"
   },
   {
    "duration": 33,
    "start_time": "2024-10-25T14:50:43.483Z"
   },
   {
    "duration": 37,
    "start_time": "2024-10-25T14:50:43.517Z"
   },
   {
    "duration": 100,
    "start_time": "2024-10-25T14:50:43.556Z"
   },
   {
    "duration": 337,
    "start_time": "2024-10-25T14:50:43.657Z"
   },
   {
    "duration": 127,
    "start_time": "2024-10-25T14:50:43.996Z"
   },
   {
    "duration": 183,
    "start_time": "2024-10-25T14:50:44.125Z"
   },
   {
    "duration": 200,
    "start_time": "2024-10-25T14:50:44.309Z"
   },
   {
    "duration": 199,
    "start_time": "2024-10-25T14:50:44.511Z"
   },
   {
    "duration": 25,
    "start_time": "2024-10-25T14:50:44.712Z"
   },
   {
    "duration": 28,
    "start_time": "2024-10-25T14:50:44.738Z"
   },
   {
    "duration": 21,
    "start_time": "2024-10-25T14:50:44.768Z"
   },
   {
    "duration": 491,
    "start_time": "2024-10-25T14:50:44.790Z"
   },
   {
    "duration": 496,
    "start_time": "2024-10-25T14:50:45.283Z"
   },
   {
    "duration": 35,
    "start_time": "2024-10-25T14:50:45.781Z"
   },
   {
    "duration": 6,
    "start_time": "2024-10-25T14:50:45.818Z"
   },
   {
    "duration": 28,
    "start_time": "2024-10-25T14:50:45.826Z"
   },
   {
    "duration": 343,
    "start_time": "2024-10-25T14:50:45.856Z"
   },
   {
    "duration": 6,
    "start_time": "2024-10-25T14:50:46.203Z"
   },
   {
    "duration": 21,
    "start_time": "2024-10-25T14:50:46.211Z"
   },
   {
    "duration": 18,
    "start_time": "2024-10-25T14:50:46.234Z"
   },
   {
    "duration": 15,
    "start_time": "2024-10-25T14:50:46.254Z"
   },
   {
    "duration": 15,
    "start_time": "2024-10-25T14:50:46.271Z"
   },
   {
    "duration": 18,
    "start_time": "2024-10-25T14:50:46.288Z"
   },
   {
    "duration": 878,
    "start_time": "2024-10-25T14:50:46.308Z"
   },
   {
    "duration": 347,
    "start_time": "2024-10-25T14:50:47.188Z"
   },
   {
    "duration": 43,
    "start_time": "2024-10-26T08:07:17.512Z"
   },
   {
    "duration": 1164,
    "start_time": "2024-10-26T08:07:50.474Z"
   },
   {
    "duration": 79,
    "start_time": "2024-10-26T08:07:53.025Z"
   },
   {
    "duration": 9,
    "start_time": "2024-10-26T08:07:54.212Z"
   },
   {
    "duration": 166,
    "start_time": "2024-10-26T08:07:55.574Z"
   },
   {
    "duration": 10,
    "start_time": "2024-10-26T08:07:57.208Z"
   },
   {
    "duration": 79,
    "start_time": "2024-10-26T08:07:58.503Z"
   },
   {
    "duration": 9,
    "start_time": "2024-10-26T08:07:59.627Z"
   },
   {
    "duration": 9,
    "start_time": "2024-10-26T08:08:02.093Z"
   },
   {
    "duration": 8,
    "start_time": "2024-10-26T08:08:03.862Z"
   },
   {
    "duration": 4,
    "start_time": "2024-10-26T08:08:05.122Z"
   },
   {
    "duration": 128,
    "start_time": "2024-10-26T08:08:16.444Z"
   },
   {
    "duration": 332,
    "start_time": "2024-10-26T08:10:59.845Z"
   },
   {
    "duration": 3,
    "start_time": "2024-10-26T08:12:24.921Z"
   },
   {
    "duration": 40,
    "start_time": "2024-10-26T08:12:24.926Z"
   },
   {
    "duration": 10,
    "start_time": "2024-10-26T08:12:24.967Z"
   },
   {
    "duration": 35,
    "start_time": "2024-10-26T08:12:24.978Z"
   },
   {
    "duration": 17,
    "start_time": "2024-10-26T08:12:25.015Z"
   },
   {
    "duration": 19,
    "start_time": "2024-10-26T08:12:25.034Z"
   },
   {
    "duration": 11,
    "start_time": "2024-10-26T08:12:25.055Z"
   },
   {
    "duration": 9,
    "start_time": "2024-10-26T08:12:25.067Z"
   },
   {
    "duration": 8,
    "start_time": "2024-10-26T08:12:25.079Z"
   },
   {
    "duration": 22,
    "start_time": "2024-10-26T08:12:25.089Z"
   },
   {
    "duration": 154,
    "start_time": "2024-10-26T08:12:25.113Z"
   },
   {
    "duration": 9,
    "start_time": "2024-10-26T08:12:25.269Z"
   },
   {
    "duration": 17,
    "start_time": "2024-10-26T08:12:25.280Z"
   },
   {
    "duration": 17,
    "start_time": "2024-10-26T08:12:25.298Z"
   },
   {
    "duration": 4,
    "start_time": "2024-10-26T08:12:25.316Z"
   },
   {
    "duration": 268,
    "start_time": "2024-10-26T08:12:30.647Z"
   },
   {
    "duration": 7,
    "start_time": "2024-10-26T08:13:54.828Z"
   },
   {
    "duration": 178,
    "start_time": "2024-10-26T08:14:59.783Z"
   },
   {
    "duration": 8,
    "start_time": "2024-10-26T08:18:33.309Z"
   },
   {
    "duration": 101,
    "start_time": "2024-10-26T08:21:43.712Z"
   },
   {
    "duration": 6,
    "start_time": "2024-10-26T08:21:52.460Z"
   },
   {
    "duration": 9,
    "start_time": "2024-10-26T08:22:03.306Z"
   },
   {
    "duration": 181,
    "start_time": "2024-10-26T08:22:13.076Z"
   },
   {
    "duration": 6,
    "start_time": "2024-10-26T08:23:32.399Z"
   },
   {
    "duration": 956,
    "start_time": "2024-10-26T08:23:51.375Z"
   },
   {
    "duration": 35,
    "start_time": "2024-10-26T08:23:52.333Z"
   },
   {
    "duration": 9,
    "start_time": "2024-10-26T08:23:52.369Z"
   },
   {
    "duration": 49,
    "start_time": "2024-10-26T08:23:52.380Z"
   },
   {
    "duration": 9,
    "start_time": "2024-10-26T08:23:52.430Z"
   },
   {
    "duration": 34,
    "start_time": "2024-10-26T08:23:52.440Z"
   },
   {
    "duration": 8,
    "start_time": "2024-10-26T08:23:52.475Z"
   },
   {
    "duration": 12,
    "start_time": "2024-10-26T08:23:52.484Z"
   },
   {
    "duration": 8,
    "start_time": "2024-10-26T08:23:52.497Z"
   },
   {
    "duration": 5,
    "start_time": "2024-10-26T08:23:52.507Z"
   },
   {
    "duration": 144,
    "start_time": "2024-10-26T08:23:52.513Z"
   },
   {
    "duration": 8,
    "start_time": "2024-10-26T08:23:52.658Z"
   },
   {
    "duration": 10,
    "start_time": "2024-10-26T08:23:52.667Z"
   },
   {
    "duration": 6,
    "start_time": "2024-10-26T08:23:52.678Z"
   },
   {
    "duration": 27,
    "start_time": "2024-10-26T08:23:52.685Z"
   },
   {
    "duration": 246,
    "start_time": "2024-10-26T08:23:52.713Z"
   },
   {
    "duration": 99,
    "start_time": "2024-10-26T08:23:52.960Z"
   },
   {
    "duration": 158,
    "start_time": "2024-10-26T08:23:53.061Z"
   },
   {
    "duration": 163,
    "start_time": "2024-10-26T08:23:53.221Z"
   },
   {
    "duration": 8,
    "start_time": "2024-10-26T08:23:53.385Z"
   },
   {
    "duration": 196,
    "start_time": "2024-10-26T08:23:53.394Z"
   },
   {
    "duration": 8,
    "start_time": "2024-10-26T08:23:53.591Z"
   },
   {
    "duration": 15,
    "start_time": "2024-10-26T08:23:53.601Z"
   },
   {
    "duration": 167,
    "start_time": "2024-10-26T08:24:00.530Z"
   },
   {
    "duration": 6,
    "start_time": "2024-10-26T08:26:06.399Z"
   },
   {
    "duration": 28,
    "start_time": "2024-10-26T08:26:27.050Z"
   },
   {
    "duration": 13,
    "start_time": "2024-10-26T08:26:29.090Z"
   },
   {
    "duration": 16,
    "start_time": "2024-10-26T08:26:30.678Z"
   },
   {
    "duration": 22,
    "start_time": "2024-10-26T08:26:59.499Z"
   },
   {
    "duration": 330,
    "start_time": "2024-10-26T08:28:32.198Z"
   },
   {
    "duration": 403,
    "start_time": "2024-10-26T08:28:47.198Z"
   },
   {
    "duration": 308,
    "start_time": "2024-10-26T08:28:54.993Z"
   },
   {
    "duration": 339,
    "start_time": "2024-10-26T08:29:37.067Z"
   },
   {
    "duration": 1042,
    "start_time": "2024-10-26T08:34:14.677Z"
   },
   {
    "duration": 35,
    "start_time": "2024-10-26T08:34:15.721Z"
   },
   {
    "duration": 10,
    "start_time": "2024-10-26T08:34:15.757Z"
   },
   {
    "duration": 31,
    "start_time": "2024-10-26T08:34:15.769Z"
   },
   {
    "duration": 8,
    "start_time": "2024-10-26T08:34:15.801Z"
   },
   {
    "duration": 18,
    "start_time": "2024-10-26T08:34:15.811Z"
   },
   {
    "duration": 8,
    "start_time": "2024-10-26T08:34:15.830Z"
   },
   {
    "duration": 19,
    "start_time": "2024-10-26T08:34:15.839Z"
   },
   {
    "duration": 8,
    "start_time": "2024-10-26T08:34:15.859Z"
   },
   {
    "duration": 4,
    "start_time": "2024-10-26T08:34:15.870Z"
   },
   {
    "duration": 135,
    "start_time": "2024-10-26T08:34:15.875Z"
   },
   {
    "duration": 9,
    "start_time": "2024-10-26T08:34:16.011Z"
   },
   {
    "duration": 18,
    "start_time": "2024-10-26T08:34:16.021Z"
   },
   {
    "duration": 7,
    "start_time": "2024-10-26T08:34:16.040Z"
   },
   {
    "duration": 4,
    "start_time": "2024-10-26T08:34:16.048Z"
   },
   {
    "duration": 312,
    "start_time": "2024-10-26T08:34:16.053Z"
   },
   {
    "duration": 110,
    "start_time": "2024-10-26T08:34:16.367Z"
   },
   {
    "duration": 156,
    "start_time": "2024-10-26T08:34:16.479Z"
   },
   {
    "duration": 159,
    "start_time": "2024-10-26T08:34:16.636Z"
   },
   {
    "duration": 7,
    "start_time": "2024-10-26T08:34:16.796Z"
   },
   {
    "duration": 182,
    "start_time": "2024-10-26T08:34:16.812Z"
   },
   {
    "duration": 7,
    "start_time": "2024-10-26T08:34:16.996Z"
   },
   {
    "duration": 14,
    "start_time": "2024-10-26T08:34:17.004Z"
   },
   {
    "duration": 201,
    "start_time": "2024-10-26T08:34:17.019Z"
   },
   {
    "duration": 8,
    "start_time": "2024-10-26T08:34:17.221Z"
   },
   {
    "duration": 20,
    "start_time": "2024-10-26T08:34:17.230Z"
   },
   {
    "duration": 11,
    "start_time": "2024-10-26T08:34:17.251Z"
   },
   {
    "duration": 56,
    "start_time": "2024-10-26T08:34:17.265Z"
   },
   {
    "duration": 371,
    "start_time": "2024-10-26T08:34:17.323Z"
   },
   {
    "duration": 317,
    "start_time": "2024-10-26T08:34:17.695Z"
   },
   {
    "duration": 25,
    "start_time": "2024-10-26T08:34:18.013Z"
   },
   {
    "duration": 3,
    "start_time": "2024-10-26T08:34:18.040Z"
   },
   {
    "duration": 79,
    "start_time": "2024-10-26T08:34:21.081Z"
   },
   {
    "duration": 3,
    "start_time": "2024-10-26T08:35:09.005Z"
   },
   {
    "duration": 86,
    "start_time": "2024-10-26T08:35:09.010Z"
   },
   {
    "duration": 12,
    "start_time": "2024-10-26T08:35:09.097Z"
   },
   {
    "duration": 45,
    "start_time": "2024-10-26T08:35:09.111Z"
   },
   {
    "duration": 12,
    "start_time": "2024-10-26T08:35:09.157Z"
   },
   {
    "duration": 25,
    "start_time": "2024-10-26T08:35:09.171Z"
   },
   {
    "duration": 11,
    "start_time": "2024-10-26T08:35:09.197Z"
   },
   {
    "duration": 14,
    "start_time": "2024-10-26T08:35:09.209Z"
   },
   {
    "duration": 23,
    "start_time": "2024-10-26T08:35:09.224Z"
   },
   {
    "duration": 4,
    "start_time": "2024-10-26T08:35:09.250Z"
   },
   {
    "duration": 126,
    "start_time": "2024-10-26T08:35:09.255Z"
   },
   {
    "duration": 8,
    "start_time": "2024-10-26T08:35:09.382Z"
   },
   {
    "duration": 20,
    "start_time": "2024-10-26T08:35:09.392Z"
   },
   {
    "duration": 7,
    "start_time": "2024-10-26T08:35:09.414Z"
   },
   {
    "duration": 9,
    "start_time": "2024-10-26T08:35:09.423Z"
   },
   {
    "duration": 236,
    "start_time": "2024-10-26T08:35:09.434Z"
   },
   {
    "duration": 126,
    "start_time": "2024-10-26T08:35:09.671Z"
   },
   {
    "duration": 150,
    "start_time": "2024-10-26T08:35:09.798Z"
   },
   {
    "duration": 165,
    "start_time": "2024-10-26T08:35:09.949Z"
   },
   {
    "duration": 8,
    "start_time": "2024-10-26T08:35:10.116Z"
   },
   {
    "duration": 180,
    "start_time": "2024-10-26T08:35:10.125Z"
   },
   {
    "duration": 6,
    "start_time": "2024-10-26T08:35:10.312Z"
   },
   {
    "duration": 7,
    "start_time": "2024-10-26T08:35:10.319Z"
   },
   {
    "duration": 185,
    "start_time": "2024-10-26T08:35:10.327Z"
   },
   {
    "duration": 7,
    "start_time": "2024-10-26T08:35:10.513Z"
   },
   {
    "duration": 20,
    "start_time": "2024-10-26T08:35:10.521Z"
   },
   {
    "duration": 11,
    "start_time": "2024-10-26T08:35:10.543Z"
   },
   {
    "duration": 22,
    "start_time": "2024-10-26T08:35:10.557Z"
   },
   {
    "duration": 358,
    "start_time": "2024-10-26T08:35:10.581Z"
   },
   {
    "duration": 357,
    "start_time": "2024-10-26T08:35:10.940Z"
   },
   {
    "duration": 29,
    "start_time": "2024-10-26T08:35:11.299Z"
   },
   {
    "duration": 4,
    "start_time": "2024-10-26T08:35:11.329Z"
   },
   {
    "duration": 28,
    "start_time": "2024-10-26T08:35:14.417Z"
   },
   {
    "duration": 3,
    "start_time": "2024-10-26T08:38:04.325Z"
   },
   {
    "duration": 68,
    "start_time": "2024-10-26T08:38:04.330Z"
   },
   {
    "duration": 11,
    "start_time": "2024-10-26T08:38:04.400Z"
   },
   {
    "duration": 49,
    "start_time": "2024-10-26T08:38:04.414Z"
   },
   {
    "duration": 9,
    "start_time": "2024-10-26T08:38:04.465Z"
   },
   {
    "duration": 32,
    "start_time": "2024-10-26T08:38:04.475Z"
   },
   {
    "duration": 10,
    "start_time": "2024-10-26T08:38:04.508Z"
   },
   {
    "duration": 17,
    "start_time": "2024-10-26T08:38:04.519Z"
   },
   {
    "duration": 25,
    "start_time": "2024-10-26T08:38:04.538Z"
   },
   {
    "duration": 4,
    "start_time": "2024-10-26T08:38:04.565Z"
   },
   {
    "duration": 151,
    "start_time": "2024-10-26T08:38:04.571Z"
   },
   {
    "duration": 11,
    "start_time": "2024-10-26T08:38:04.723Z"
   },
   {
    "duration": 35,
    "start_time": "2024-10-26T08:38:04.735Z"
   },
   {
    "duration": 56,
    "start_time": "2024-10-26T08:38:04.771Z"
   },
   {
    "duration": 12,
    "start_time": "2024-10-26T08:38:04.829Z"
   },
   {
    "duration": 300,
    "start_time": "2024-10-26T08:38:04.843Z"
   },
   {
    "duration": 159,
    "start_time": "2024-10-26T08:38:05.144Z"
   },
   {
    "duration": 139,
    "start_time": "2024-10-26T08:38:05.311Z"
   },
   {
    "duration": 167,
    "start_time": "2024-10-26T08:38:05.452Z"
   },
   {
    "duration": 8,
    "start_time": "2024-10-26T08:38:05.620Z"
   },
   {
    "duration": 204,
    "start_time": "2024-10-26T08:38:05.629Z"
   },
   {
    "duration": 7,
    "start_time": "2024-10-26T08:38:05.834Z"
   },
   {
    "duration": 55,
    "start_time": "2024-10-26T08:38:05.843Z"
   },
   {
    "duration": 180,
    "start_time": "2024-10-26T08:38:05.900Z"
   },
   {
    "duration": 8,
    "start_time": "2024-10-26T08:38:06.082Z"
   },
   {
    "duration": 33,
    "start_time": "2024-10-26T08:38:06.091Z"
   },
   {
    "duration": 13,
    "start_time": "2024-10-26T08:38:06.125Z"
   },
   {
    "duration": 37,
    "start_time": "2024-10-26T08:38:06.139Z"
   },
   {
    "duration": 337,
    "start_time": "2024-10-26T08:38:06.177Z"
   },
   {
    "duration": 333,
    "start_time": "2024-10-26T08:38:06.515Z"
   },
   {
    "duration": 28,
    "start_time": "2024-10-26T08:38:06.850Z"
   },
   {
    "duration": 4,
    "start_time": "2024-10-26T08:38:06.880Z"
   },
   {
    "duration": 35,
    "start_time": "2024-10-26T08:38:08.859Z"
   },
   {
    "duration": 3,
    "start_time": "2024-10-26T08:42:44.331Z"
   },
   {
    "duration": 33,
    "start_time": "2024-10-26T08:42:44.336Z"
   },
   {
    "duration": 9,
    "start_time": "2024-10-26T08:42:44.370Z"
   },
   {
    "duration": 36,
    "start_time": "2024-10-26T08:42:44.380Z"
   },
   {
    "duration": 9,
    "start_time": "2024-10-26T08:42:44.418Z"
   },
   {
    "duration": 17,
    "start_time": "2024-10-26T08:42:44.428Z"
   },
   {
    "duration": 8,
    "start_time": "2024-10-26T08:42:44.446Z"
   },
   {
    "duration": 7,
    "start_time": "2024-10-26T08:42:44.455Z"
   },
   {
    "duration": 8,
    "start_time": "2024-10-26T08:42:44.463Z"
   },
   {
    "duration": 3,
    "start_time": "2024-10-26T08:42:44.473Z"
   },
   {
    "duration": 141,
    "start_time": "2024-10-26T08:42:44.477Z"
   },
   {
    "duration": 9,
    "start_time": "2024-10-26T08:42:44.620Z"
   },
   {
    "duration": 12,
    "start_time": "2024-10-26T08:42:44.631Z"
   },
   {
    "duration": 7,
    "start_time": "2024-10-26T08:42:44.644Z"
   },
   {
    "duration": 3,
    "start_time": "2024-10-26T08:42:44.653Z"
   },
   {
    "duration": 309,
    "start_time": "2024-10-26T08:42:44.657Z"
   },
   {
    "duration": 92,
    "start_time": "2024-10-26T08:42:44.968Z"
   },
   {
    "duration": 139,
    "start_time": "2024-10-26T08:42:45.062Z"
   },
   {
    "duration": 217,
    "start_time": "2024-10-26T08:42:45.202Z"
   },
   {
    "duration": 7,
    "start_time": "2024-10-26T08:42:45.420Z"
   },
   {
    "duration": 189,
    "start_time": "2024-10-26T08:42:45.428Z"
   },
   {
    "duration": 7,
    "start_time": "2024-10-26T08:42:45.618Z"
   },
   {
    "duration": 15,
    "start_time": "2024-10-26T08:42:45.627Z"
   },
   {
    "duration": 184,
    "start_time": "2024-10-26T08:42:45.644Z"
   },
   {
    "duration": 6,
    "start_time": "2024-10-26T08:42:45.829Z"
   },
   {
    "duration": 51,
    "start_time": "2024-10-26T08:42:45.837Z"
   },
   {
    "duration": 11,
    "start_time": "2024-10-26T08:42:45.889Z"
   },
   {
    "duration": 23,
    "start_time": "2024-10-26T08:42:45.903Z"
   },
   {
    "duration": 335,
    "start_time": "2024-10-26T08:42:45.928Z"
   },
   {
    "duration": 336,
    "start_time": "2024-10-26T08:42:46.265Z"
   },
   {
    "duration": 33,
    "start_time": "2024-10-26T08:42:46.602Z"
   },
   {
    "duration": 3,
    "start_time": "2024-10-26T08:42:46.636Z"
   },
   {
    "duration": 62,
    "start_time": "2024-10-26T08:42:46.641Z"
   },
   {
    "duration": 8,
    "start_time": "2024-10-26T08:42:46.704Z"
   },
   {
    "duration": 5,
    "start_time": "2024-10-26T08:42:52.223Z"
   },
   {
    "duration": 998,
    "start_time": "2024-10-26T08:44:11.702Z"
   },
   {
    "duration": 35,
    "start_time": "2024-10-26T08:44:12.702Z"
   },
   {
    "duration": 9,
    "start_time": "2024-10-26T08:44:12.738Z"
   },
   {
    "duration": 33,
    "start_time": "2024-10-26T08:44:12.749Z"
   },
   {
    "duration": 8,
    "start_time": "2024-10-26T08:44:12.783Z"
   },
   {
    "duration": 17,
    "start_time": "2024-10-26T08:44:12.793Z"
   },
   {
    "duration": 7,
    "start_time": "2024-10-26T08:44:12.811Z"
   },
   {
    "duration": 7,
    "start_time": "2024-10-26T08:44:12.820Z"
   },
   {
    "duration": 8,
    "start_time": "2024-10-26T08:44:12.828Z"
   },
   {
    "duration": 4,
    "start_time": "2024-10-26T08:44:12.838Z"
   },
   {
    "duration": 151,
    "start_time": "2024-10-26T08:44:12.843Z"
   },
   {
    "duration": 8,
    "start_time": "2024-10-26T08:44:12.995Z"
   },
   {
    "duration": 15,
    "start_time": "2024-10-26T08:44:13.004Z"
   },
   {
    "duration": 6,
    "start_time": "2024-10-26T08:44:13.021Z"
   },
   {
    "duration": 6,
    "start_time": "2024-10-26T08:44:13.028Z"
   },
   {
    "duration": 245,
    "start_time": "2024-10-26T08:44:13.036Z"
   },
   {
    "duration": 90,
    "start_time": "2024-10-26T08:44:13.312Z"
   },
   {
    "duration": 156,
    "start_time": "2024-10-26T08:44:13.403Z"
   },
   {
    "duration": 179,
    "start_time": "2024-10-26T08:44:13.561Z"
   },
   {
    "duration": 7,
    "start_time": "2024-10-26T08:44:13.742Z"
   },
   {
    "duration": 201,
    "start_time": "2024-10-26T08:44:13.750Z"
   },
   {
    "duration": 8,
    "start_time": "2024-10-26T08:44:13.952Z"
   },
   {
    "duration": 9,
    "start_time": "2024-10-26T08:44:13.961Z"
   },
   {
    "duration": 196,
    "start_time": "2024-10-26T08:44:13.971Z"
   },
   {
    "duration": 7,
    "start_time": "2024-10-26T08:44:14.169Z"
   },
   {
    "duration": 26,
    "start_time": "2024-10-26T08:44:14.177Z"
   },
   {
    "duration": 12,
    "start_time": "2024-10-26T08:44:14.211Z"
   },
   {
    "duration": 25,
    "start_time": "2024-10-26T08:44:14.226Z"
   },
   {
    "duration": 345,
    "start_time": "2024-10-26T08:44:14.252Z"
   },
   {
    "duration": 304,
    "start_time": "2024-10-26T08:44:14.598Z"
   },
   {
    "duration": 32,
    "start_time": "2024-10-26T08:44:14.903Z"
   },
   {
    "duration": 36,
    "start_time": "2024-10-26T08:44:14.936Z"
   },
   {
    "duration": 86,
    "start_time": "2024-10-26T08:44:14.973Z"
   },
   {
    "duration": 19,
    "start_time": "2024-10-26T08:44:15.061Z"
   },
   {
    "duration": 21,
    "start_time": "2024-10-26T08:44:15.081Z"
   },
   {
    "duration": 9,
    "start_time": "2024-10-26T08:44:15.104Z"
   },
   {
    "duration": 56,
    "start_time": "2024-10-26T08:44:15.114Z"
   },
   {
    "duration": 34,
    "start_time": "2024-10-26T08:44:15.171Z"
   },
   {
    "duration": 19,
    "start_time": "2024-10-26T08:44:15.207Z"
   },
   {
    "duration": 672,
    "start_time": "2024-10-26T08:44:15.227Z"
   },
   {
    "duration": 313,
    "start_time": "2024-10-26T08:44:15.901Z"
   },
   {
    "duration": 1100,
    "start_time": "2024-10-26T09:00:08.000Z"
   },
   {
    "duration": 39,
    "start_time": "2024-10-26T09:00:09.102Z"
   },
   {
    "duration": 10,
    "start_time": "2024-10-26T09:00:09.142Z"
   },
   {
    "duration": 47,
    "start_time": "2024-10-26T09:00:09.153Z"
   },
   {
    "duration": 10,
    "start_time": "2024-10-26T09:00:09.201Z"
   },
   {
    "duration": 19,
    "start_time": "2024-10-26T09:00:09.223Z"
   },
   {
    "duration": 8,
    "start_time": "2024-10-26T09:00:09.243Z"
   },
   {
    "duration": 39,
    "start_time": "2024-10-26T09:00:09.253Z"
   },
   {
    "duration": 14,
    "start_time": "2024-10-26T09:00:09.293Z"
   },
   {
    "duration": 23,
    "start_time": "2024-10-26T09:00:09.310Z"
   },
   {
    "duration": 133,
    "start_time": "2024-10-26T09:00:09.338Z"
   },
   {
    "duration": 8,
    "start_time": "2024-10-26T09:00:09.473Z"
   },
   {
    "duration": 9,
    "start_time": "2024-10-26T09:00:09.482Z"
   },
   {
    "duration": 29,
    "start_time": "2024-10-26T09:00:09.493Z"
   },
   {
    "duration": 16,
    "start_time": "2024-10-26T09:00:09.523Z"
   },
   {
    "duration": 224,
    "start_time": "2024-10-26T09:00:09.540Z"
   },
   {
    "duration": 133,
    "start_time": "2024-10-26T09:00:09.765Z"
   },
   {
    "duration": 181,
    "start_time": "2024-10-26T09:00:09.900Z"
   },
   {
    "duration": 182,
    "start_time": "2024-10-26T09:00:10.082Z"
   },
   {
    "duration": 7,
    "start_time": "2024-10-26T09:00:10.265Z"
   },
   {
    "duration": 190,
    "start_time": "2024-10-26T09:00:10.274Z"
   },
   {
    "duration": 10,
    "start_time": "2024-10-26T09:00:10.466Z"
   },
   {
    "duration": 9,
    "start_time": "2024-10-26T09:00:10.477Z"
   },
   {
    "duration": 205,
    "start_time": "2024-10-26T09:00:10.488Z"
   },
   {
    "duration": 7,
    "start_time": "2024-10-26T09:00:10.695Z"
   },
   {
    "duration": 40,
    "start_time": "2024-10-26T09:00:10.703Z"
   },
   {
    "duration": 11,
    "start_time": "2024-10-26T09:00:10.745Z"
   },
   {
    "duration": 25,
    "start_time": "2024-10-26T09:00:10.759Z"
   },
   {
    "duration": 340,
    "start_time": "2024-10-26T09:00:10.785Z"
   },
   {
    "duration": 381,
    "start_time": "2024-10-26T09:00:11.127Z"
   },
   {
    "duration": 32,
    "start_time": "2024-10-26T09:00:11.511Z"
   },
   {
    "duration": 3,
    "start_time": "2024-10-26T09:00:11.545Z"
   },
   {
    "duration": 112,
    "start_time": "2024-10-26T09:00:11.550Z"
   },
   {
    "duration": 5,
    "start_time": "2024-10-26T09:00:11.664Z"
   },
   {
    "duration": 12,
    "start_time": "2024-10-26T09:00:11.670Z"
   },
   {
    "duration": 5,
    "start_time": "2024-10-26T09:00:11.683Z"
   },
   {
    "duration": 36,
    "start_time": "2024-10-26T09:00:11.689Z"
   },
   {
    "duration": 6,
    "start_time": "2024-10-26T09:00:11.727Z"
   },
   {
    "duration": 791,
    "start_time": "2024-10-26T09:00:11.734Z"
   },
   {
    "duration": 304,
    "start_time": "2024-10-26T09:00:12.528Z"
   },
   {
    "duration": 1003,
    "start_time": "2024-10-26T09:07:01.532Z"
   },
   {
    "duration": 37,
    "start_time": "2024-10-26T09:07:02.536Z"
   },
   {
    "duration": 74,
    "start_time": "2024-10-26T09:07:02.574Z"
   },
   {
    "duration": 50,
    "start_time": "2024-10-26T09:07:02.651Z"
   },
   {
    "duration": 22,
    "start_time": "2024-10-26T09:07:02.703Z"
   },
   {
    "duration": 22,
    "start_time": "2024-10-26T09:07:02.727Z"
   },
   {
    "duration": 13,
    "start_time": "2024-10-26T09:07:02.750Z"
   },
   {
    "duration": 24,
    "start_time": "2024-10-26T09:07:02.764Z"
   },
   {
    "duration": 16,
    "start_time": "2024-10-26T09:07:02.790Z"
   },
   {
    "duration": 16,
    "start_time": "2024-10-26T09:07:02.809Z"
   },
   {
    "duration": 146,
    "start_time": "2024-10-26T09:07:02.830Z"
   },
   {
    "duration": 8,
    "start_time": "2024-10-26T09:07:02.977Z"
   },
   {
    "duration": 49,
    "start_time": "2024-10-26T09:07:02.987Z"
   },
   {
    "duration": 41,
    "start_time": "2024-10-26T09:07:03.038Z"
   },
   {
    "duration": 28,
    "start_time": "2024-10-26T09:07:03.080Z"
   },
   {
    "duration": 264,
    "start_time": "2024-10-26T09:07:03.109Z"
   },
   {
    "duration": 110,
    "start_time": "2024-10-26T09:07:03.375Z"
   },
   {
    "duration": 170,
    "start_time": "2024-10-26T09:07:03.487Z"
   },
   {
    "duration": 173,
    "start_time": "2024-10-26T09:07:03.659Z"
   },
   {
    "duration": 7,
    "start_time": "2024-10-26T09:07:03.834Z"
   },
   {
    "duration": 209,
    "start_time": "2024-10-26T09:07:03.842Z"
   },
   {
    "duration": 8,
    "start_time": "2024-10-26T09:07:04.052Z"
   },
   {
    "duration": 18,
    "start_time": "2024-10-26T09:07:04.061Z"
   },
   {
    "duration": 199,
    "start_time": "2024-10-26T09:07:04.080Z"
   },
   {
    "duration": 9,
    "start_time": "2024-10-26T09:07:04.280Z"
   },
   {
    "duration": 37,
    "start_time": "2024-10-26T09:07:04.290Z"
   },
   {
    "duration": 13,
    "start_time": "2024-10-26T09:07:04.329Z"
   },
   {
    "duration": 26,
    "start_time": "2024-10-26T09:07:04.346Z"
   },
   {
    "duration": 370,
    "start_time": "2024-10-26T09:07:04.373Z"
   },
   {
    "duration": 361,
    "start_time": "2024-10-26T09:07:04.744Z"
   },
   {
    "duration": 37,
    "start_time": "2024-10-26T09:07:05.111Z"
   },
   {
    "duration": 4,
    "start_time": "2024-10-26T09:07:05.149Z"
   },
   {
    "duration": 101,
    "start_time": "2024-10-26T09:07:05.154Z"
   },
   {
    "duration": 6,
    "start_time": "2024-10-26T09:07:05.256Z"
   },
   {
    "duration": 16,
    "start_time": "2024-10-26T09:07:05.264Z"
   },
   {
    "duration": 44,
    "start_time": "2024-10-26T09:07:05.282Z"
   },
   {
    "duration": 25,
    "start_time": "2024-10-26T09:07:05.328Z"
   },
   {
    "duration": 53,
    "start_time": "2024-10-26T09:07:05.354Z"
   },
   {
    "duration": 766,
    "start_time": "2024-10-26T09:07:05.409Z"
   },
   {
    "duration": 315,
    "start_time": "2024-10-26T09:07:06.177Z"
   },
   {
    "duration": 1032,
    "start_time": "2024-10-26T10:03:10.196Z"
   },
   {
    "duration": 35,
    "start_time": "2024-10-26T10:03:11.230Z"
   },
   {
    "duration": 10,
    "start_time": "2024-10-26T10:03:11.266Z"
   },
   {
    "duration": 36,
    "start_time": "2024-10-26T10:03:11.278Z"
   },
   {
    "duration": 9,
    "start_time": "2024-10-26T10:03:11.315Z"
   },
   {
    "duration": 26,
    "start_time": "2024-10-26T10:03:11.326Z"
   },
   {
    "duration": 9,
    "start_time": "2024-10-26T10:03:11.354Z"
   },
   {
    "duration": 9,
    "start_time": "2024-10-26T10:03:11.365Z"
   },
   {
    "duration": 9,
    "start_time": "2024-10-26T10:03:11.376Z"
   },
   {
    "duration": 4,
    "start_time": "2024-10-26T10:03:11.388Z"
   },
   {
    "duration": 133,
    "start_time": "2024-10-26T10:03:11.412Z"
   },
   {
    "duration": 11,
    "start_time": "2024-10-26T10:03:11.547Z"
   },
   {
    "duration": 25,
    "start_time": "2024-10-26T10:03:11.559Z"
   },
   {
    "duration": 8,
    "start_time": "2024-10-26T10:03:11.586Z"
   },
   {
    "duration": 9,
    "start_time": "2024-10-26T10:03:11.595Z"
   },
   {
    "duration": 274,
    "start_time": "2024-10-26T10:03:11.612Z"
   },
   {
    "duration": 109,
    "start_time": "2024-10-26T10:03:11.887Z"
   },
   {
    "duration": 156,
    "start_time": "2024-10-26T10:03:11.997Z"
   },
   {
    "duration": 161,
    "start_time": "2024-10-26T10:03:12.155Z"
   },
   {
    "duration": 7,
    "start_time": "2024-10-26T10:03:12.318Z"
   },
   {
    "duration": 186,
    "start_time": "2024-10-26T10:03:12.326Z"
   },
   {
    "duration": 7,
    "start_time": "2024-10-26T10:03:12.513Z"
   },
   {
    "duration": 6,
    "start_time": "2024-10-26T10:03:12.522Z"
   },
   {
    "duration": 186,
    "start_time": "2024-10-26T10:03:12.529Z"
   },
   {
    "duration": 7,
    "start_time": "2024-10-26T10:03:12.717Z"
   },
   {
    "duration": 20,
    "start_time": "2024-10-26T10:03:12.725Z"
   },
   {
    "duration": 12,
    "start_time": "2024-10-26T10:03:12.746Z"
   },
   {
    "duration": 24,
    "start_time": "2024-10-26T10:03:12.761Z"
   },
   {
    "duration": 341,
    "start_time": "2024-10-26T10:03:12.812Z"
   },
   {
    "duration": 357,
    "start_time": "2024-10-26T10:03:13.155Z"
   },
   {
    "duration": 26,
    "start_time": "2024-10-26T10:03:13.513Z"
   },
   {
    "duration": 3,
    "start_time": "2024-10-26T10:03:13.540Z"
   },
   {
    "duration": 96,
    "start_time": "2024-10-26T10:03:13.545Z"
   },
   {
    "duration": 6,
    "start_time": "2024-10-26T10:03:13.642Z"
   },
   {
    "duration": 12,
    "start_time": "2024-10-26T10:03:13.650Z"
   },
   {
    "duration": 13,
    "start_time": "2024-10-26T10:03:13.663Z"
   },
   {
    "duration": 13,
    "start_time": "2024-10-26T10:03:13.677Z"
   },
   {
    "duration": 15,
    "start_time": "2024-10-26T10:03:13.692Z"
   },
   {
    "duration": 717,
    "start_time": "2024-10-26T10:03:13.708Z"
   },
   {
    "duration": 314,
    "start_time": "2024-10-26T10:03:14.427Z"
   },
   {
    "duration": 1045,
    "start_time": "2024-10-26T12:22:03.333Z"
   },
   {
    "duration": 38,
    "start_time": "2024-10-26T12:22:04.380Z"
   },
   {
    "duration": 9,
    "start_time": "2024-10-26T12:22:04.419Z"
   },
   {
    "duration": 39,
    "start_time": "2024-10-26T12:22:04.430Z"
   },
   {
    "duration": 8,
    "start_time": "2024-10-26T12:22:04.471Z"
   },
   {
    "duration": 27,
    "start_time": "2024-10-26T12:22:04.481Z"
   },
   {
    "duration": 86,
    "start_time": "2024-10-26T12:22:04.509Z"
   },
   {
    "duration": 16,
    "start_time": "2024-10-26T12:22:04.596Z"
   },
   {
    "duration": 11,
    "start_time": "2024-10-26T12:22:04.614Z"
   },
   {
    "duration": 24,
    "start_time": "2024-10-26T12:22:04.627Z"
   },
   {
    "duration": 143,
    "start_time": "2024-10-26T12:22:04.653Z"
   },
   {
    "duration": 9,
    "start_time": "2024-10-26T12:22:04.797Z"
   },
   {
    "duration": 15,
    "start_time": "2024-10-26T12:22:04.808Z"
   },
   {
    "duration": 14,
    "start_time": "2024-10-26T12:22:04.824Z"
   },
   {
    "duration": 39,
    "start_time": "2024-10-26T12:22:04.839Z"
   },
   {
    "duration": 317,
    "start_time": "2024-10-26T12:22:04.880Z"
   },
   {
    "duration": 99,
    "start_time": "2024-10-26T12:22:05.199Z"
   },
   {
    "duration": 153,
    "start_time": "2024-10-26T12:22:05.299Z"
   },
   {
    "duration": 166,
    "start_time": "2024-10-26T12:22:05.456Z"
   },
   {
    "duration": 7,
    "start_time": "2024-10-26T12:22:05.623Z"
   },
   {
    "duration": 194,
    "start_time": "2024-10-26T12:22:05.631Z"
   },
   {
    "duration": 7,
    "start_time": "2024-10-26T12:22:05.826Z"
   },
   {
    "duration": 61,
    "start_time": "2024-10-26T12:22:05.835Z"
   },
   {
    "duration": 281,
    "start_time": "2024-10-26T12:22:05.897Z"
   },
   {
    "duration": 7,
    "start_time": "2024-10-26T12:22:06.179Z"
   },
   {
    "duration": 34,
    "start_time": "2024-10-26T12:22:06.188Z"
   },
   {
    "duration": 11,
    "start_time": "2024-10-26T12:22:06.224Z"
   },
   {
    "duration": 34,
    "start_time": "2024-10-26T12:22:06.238Z"
   },
   {
    "duration": 364,
    "start_time": "2024-10-26T12:22:06.274Z"
   },
   {
    "duration": 321,
    "start_time": "2024-10-26T12:22:06.640Z"
   },
   {
    "duration": 27,
    "start_time": "2024-10-26T12:22:06.963Z"
   },
   {
    "duration": 3,
    "start_time": "2024-10-26T12:22:06.992Z"
   },
   {
    "duration": 99,
    "start_time": "2024-10-26T12:22:06.997Z"
   },
   {
    "duration": 5,
    "start_time": "2024-10-26T12:22:07.097Z"
   },
   {
    "duration": 11,
    "start_time": "2024-10-26T12:22:07.103Z"
   },
   {
    "duration": 11,
    "start_time": "2024-10-26T12:22:07.115Z"
   },
   {
    "duration": 28,
    "start_time": "2024-10-26T12:22:07.127Z"
   },
   {
    "duration": 12,
    "start_time": "2024-10-26T12:22:07.156Z"
   },
   {
    "duration": 730,
    "start_time": "2024-10-26T12:22:07.170Z"
   },
   {
    "duration": 293,
    "start_time": "2024-10-26T12:22:07.901Z"
   },
   {
    "duration": 23,
    "start_time": "2024-10-26T12:24:59.781Z"
   },
   {
    "duration": 25,
    "start_time": "2024-10-26T12:25:20.276Z"
   },
   {
    "duration": 1056,
    "start_time": "2024-10-26T12:27:55.724Z"
   },
   {
    "duration": 37,
    "start_time": "2024-10-26T12:27:56.782Z"
   },
   {
    "duration": 10,
    "start_time": "2024-10-26T12:27:56.820Z"
   },
   {
    "duration": 54,
    "start_time": "2024-10-26T12:27:56.832Z"
   },
   {
    "duration": 10,
    "start_time": "2024-10-26T12:27:56.887Z"
   },
   {
    "duration": 40,
    "start_time": "2024-10-26T12:27:56.898Z"
   },
   {
    "duration": 9,
    "start_time": "2024-10-26T12:27:56.940Z"
   },
   {
    "duration": 12,
    "start_time": "2024-10-26T12:27:56.950Z"
   },
   {
    "duration": 8,
    "start_time": "2024-10-26T12:27:56.964Z"
   },
   {
    "duration": 3,
    "start_time": "2024-10-26T12:27:56.975Z"
   },
   {
    "duration": 166,
    "start_time": "2024-10-26T12:27:56.980Z"
   },
   {
    "duration": 14,
    "start_time": "2024-10-26T12:27:57.147Z"
   },
   {
    "duration": 22,
    "start_time": "2024-10-26T12:27:57.163Z"
   },
   {
    "duration": 6,
    "start_time": "2024-10-26T12:27:57.186Z"
   },
   {
    "duration": 6,
    "start_time": "2024-10-26T12:27:57.193Z"
   },
   {
    "duration": 292,
    "start_time": "2024-10-26T12:27:57.200Z"
   },
   {
    "duration": 103,
    "start_time": "2024-10-26T12:27:57.493Z"
   },
   {
    "duration": 155,
    "start_time": "2024-10-26T12:27:57.598Z"
   },
   {
    "duration": 164,
    "start_time": "2024-10-26T12:27:57.757Z"
   },
   {
    "duration": 7,
    "start_time": "2024-10-26T12:27:57.923Z"
   },
   {
    "duration": 266,
    "start_time": "2024-10-26T12:27:57.931Z"
   },
   {
    "duration": 7,
    "start_time": "2024-10-26T12:27:58.199Z"
   },
   {
    "duration": 18,
    "start_time": "2024-10-26T12:27:58.207Z"
   },
   {
    "duration": 220,
    "start_time": "2024-10-26T12:27:58.226Z"
   },
   {
    "duration": 14,
    "start_time": "2024-10-26T12:27:58.447Z"
   },
   {
    "duration": 47,
    "start_time": "2024-10-26T12:27:58.462Z"
   },
   {
    "duration": 12,
    "start_time": "2024-10-26T12:27:58.511Z"
   },
   {
    "duration": 88,
    "start_time": "2024-10-26T12:27:58.527Z"
   },
   {
    "duration": 343,
    "start_time": "2024-10-26T12:27:58.617Z"
   },
   {
    "duration": 351,
    "start_time": "2024-10-26T12:27:58.961Z"
   },
   {
    "duration": 36,
    "start_time": "2024-10-26T12:27:59.314Z"
   },
   {
    "duration": 6,
    "start_time": "2024-10-26T12:27:59.351Z"
   },
   {
    "duration": 99,
    "start_time": "2024-10-26T12:27:59.359Z"
   },
   {
    "duration": 33,
    "start_time": "2024-10-26T12:27:59.460Z"
   },
   {
    "duration": 5,
    "start_time": "2024-10-26T12:27:59.495Z"
   },
   {
    "duration": 66,
    "start_time": "2024-10-26T12:27:59.502Z"
   },
   {
    "duration": 7,
    "start_time": "2024-10-26T12:27:59.569Z"
   },
   {
    "duration": 13,
    "start_time": "2024-10-26T12:27:59.577Z"
   },
   {
    "duration": 5,
    "start_time": "2024-10-26T12:27:59.591Z"
   },
   {
    "duration": 813,
    "start_time": "2024-10-26T12:27:59.597Z"
   },
   {
    "duration": 308,
    "start_time": "2024-10-26T12:28:00.411Z"
   },
   {
    "duration": 1260,
    "start_time": "2024-10-26T12:53:01.839Z"
   },
   {
    "duration": 115,
    "start_time": "2024-10-26T12:53:03.101Z"
   },
   {
    "duration": 10,
    "start_time": "2024-10-26T12:53:03.218Z"
   },
   {
    "duration": 204,
    "start_time": "2024-10-26T12:53:03.230Z"
   },
   {
    "duration": 11,
    "start_time": "2024-10-26T12:53:03.435Z"
   },
   {
    "duration": 80,
    "start_time": "2024-10-26T12:53:03.447Z"
   },
   {
    "duration": 9,
    "start_time": "2024-10-26T12:53:03.529Z"
   },
   {
    "duration": 24,
    "start_time": "2024-10-26T12:53:03.539Z"
   },
   {
    "duration": 9,
    "start_time": "2024-10-26T12:53:03.564Z"
   },
   {
    "duration": 12,
    "start_time": "2024-10-26T12:53:03.575Z"
   },
   {
    "duration": 156,
    "start_time": "2024-10-26T12:53:03.588Z"
   },
   {
    "duration": 9,
    "start_time": "2024-10-26T12:53:03.745Z"
   },
   {
    "duration": 19,
    "start_time": "2024-10-26T12:53:03.755Z"
   },
   {
    "duration": 29,
    "start_time": "2024-10-26T12:53:03.776Z"
   },
   {
    "duration": 7,
    "start_time": "2024-10-26T12:53:03.807Z"
   },
   {
    "duration": 388,
    "start_time": "2024-10-26T12:53:03.816Z"
   },
   {
    "duration": 116,
    "start_time": "2024-10-26T12:53:04.205Z"
   },
   {
    "duration": 168,
    "start_time": "2024-10-26T12:53:04.323Z"
   },
   {
    "duration": 175,
    "start_time": "2024-10-26T12:53:04.493Z"
   },
   {
    "duration": 7,
    "start_time": "2024-10-26T12:53:04.670Z"
   },
   {
    "duration": 282,
    "start_time": "2024-10-26T12:53:04.679Z"
   },
   {
    "duration": 7,
    "start_time": "2024-10-26T12:53:04.963Z"
   },
   {
    "duration": 25,
    "start_time": "2024-10-26T12:53:04.971Z"
   },
   {
    "duration": 190,
    "start_time": "2024-10-26T12:53:04.997Z"
   },
   {
    "duration": 7,
    "start_time": "2024-10-26T12:53:05.188Z"
   },
   {
    "duration": 30,
    "start_time": "2024-10-26T12:53:05.196Z"
   },
   {
    "duration": 11,
    "start_time": "2024-10-26T12:53:05.228Z"
   },
   {
    "duration": 33,
    "start_time": "2024-10-26T12:53:05.243Z"
   },
   {
    "duration": 374,
    "start_time": "2024-10-26T12:53:05.278Z"
   },
   {
    "duration": 363,
    "start_time": "2024-10-26T12:53:05.653Z"
   },
   {
    "duration": 28,
    "start_time": "2024-10-26T12:53:06.017Z"
   },
   {
    "duration": 21,
    "start_time": "2024-10-26T12:53:06.047Z"
   },
   {
    "duration": 109,
    "start_time": "2024-10-26T12:53:06.070Z"
   },
   {
    "duration": 25,
    "start_time": "2024-10-26T12:53:06.181Z"
   },
   {
    "duration": 6,
    "start_time": "2024-10-26T12:53:06.221Z"
   },
   {
    "duration": 27,
    "start_time": "2024-10-26T12:53:06.229Z"
   },
   {
    "duration": 44,
    "start_time": "2024-10-26T12:53:06.258Z"
   },
   {
    "duration": 64,
    "start_time": "2024-10-26T12:53:06.304Z"
   },
   {
    "duration": 64,
    "start_time": "2024-10-26T12:53:06.370Z"
   },
   {
    "duration": 773,
    "start_time": "2024-10-26T12:53:06.435Z"
   },
   {
    "duration": 343,
    "start_time": "2024-10-26T12:53:07.210Z"
   },
   {
    "duration": 1043,
    "start_time": "2024-10-26T13:09:48.229Z"
   },
   {
    "duration": 39,
    "start_time": "2024-10-26T13:09:49.274Z"
   },
   {
    "duration": 9,
    "start_time": "2024-10-26T13:09:49.316Z"
   },
   {
    "duration": 37,
    "start_time": "2024-10-26T13:09:49.327Z"
   },
   {
    "duration": 10,
    "start_time": "2024-10-26T13:09:49.365Z"
   },
   {
    "duration": 20,
    "start_time": "2024-10-26T13:09:49.377Z"
   },
   {
    "duration": 10,
    "start_time": "2024-10-26T13:09:49.398Z"
   },
   {
    "duration": 14,
    "start_time": "2024-10-26T13:09:49.409Z"
   },
   {
    "duration": 10,
    "start_time": "2024-10-26T13:09:49.424Z"
   },
   {
    "duration": 4,
    "start_time": "2024-10-26T13:09:49.437Z"
   },
   {
    "duration": 157,
    "start_time": "2024-10-26T13:09:49.442Z"
   },
   {
    "duration": 9,
    "start_time": "2024-10-26T13:09:49.600Z"
   },
   {
    "duration": 9,
    "start_time": "2024-10-26T13:09:49.621Z"
   },
   {
    "duration": 7,
    "start_time": "2024-10-26T13:09:49.632Z"
   },
   {
    "duration": 4,
    "start_time": "2024-10-26T13:09:49.640Z"
   },
   {
    "duration": 350,
    "start_time": "2024-10-26T13:09:49.645Z"
   },
   {
    "duration": 107,
    "start_time": "2024-10-26T13:09:49.996Z"
   },
   {
    "duration": 158,
    "start_time": "2024-10-26T13:09:50.105Z"
   },
   {
    "duration": 189,
    "start_time": "2024-10-26T13:09:50.265Z"
   },
   {
    "duration": 9,
    "start_time": "2024-10-26T13:09:50.455Z"
   },
   {
    "duration": 205,
    "start_time": "2024-10-26T13:09:50.465Z"
   },
   {
    "duration": 8,
    "start_time": "2024-10-26T13:09:50.671Z"
   },
   {
    "duration": 7,
    "start_time": "2024-10-26T13:09:50.681Z"
   },
   {
    "duration": 212,
    "start_time": "2024-10-26T13:09:50.689Z"
   },
   {
    "duration": 8,
    "start_time": "2024-10-26T13:09:50.902Z"
   },
   {
    "duration": 29,
    "start_time": "2024-10-26T13:09:50.912Z"
   },
   {
    "duration": 13,
    "start_time": "2024-10-26T13:09:50.942Z"
   },
   {
    "duration": 31,
    "start_time": "2024-10-26T13:09:50.958Z"
   },
   {
    "duration": 359,
    "start_time": "2024-10-26T13:09:50.991Z"
   },
   {
    "duration": 391,
    "start_time": "2024-10-26T13:09:51.352Z"
   },
   {
    "duration": 29,
    "start_time": "2024-10-26T13:09:51.745Z"
   },
   {
    "duration": 3,
    "start_time": "2024-10-26T13:09:51.776Z"
   },
   {
    "duration": 130,
    "start_time": "2024-10-26T13:09:51.780Z"
   },
   {
    "duration": 29,
    "start_time": "2024-10-26T13:09:51.921Z"
   },
   {
    "duration": 92,
    "start_time": "2024-10-26T13:09:51.951Z"
   },
   {
    "duration": 30,
    "start_time": "2024-10-26T13:09:52.045Z"
   },
   {
    "duration": 27,
    "start_time": "2024-10-26T13:09:52.077Z"
   },
   {
    "duration": 22,
    "start_time": "2024-10-26T13:09:52.106Z"
   },
   {
    "duration": 39,
    "start_time": "2024-10-26T13:09:52.130Z"
   },
   {
    "duration": 781,
    "start_time": "2024-10-26T13:09:52.171Z"
   },
   {
    "duration": 308,
    "start_time": "2024-10-26T13:09:52.954Z"
   },
   {
    "duration": 1103,
    "start_time": "2024-10-26T13:15:45.880Z"
   },
   {
    "duration": 40,
    "start_time": "2024-10-26T13:15:46.985Z"
   },
   {
    "duration": 11,
    "start_time": "2024-10-26T13:15:47.027Z"
   },
   {
    "duration": 45,
    "start_time": "2024-10-26T13:15:47.040Z"
   },
   {
    "duration": 11,
    "start_time": "2024-10-26T13:15:47.086Z"
   },
   {
    "duration": 76,
    "start_time": "2024-10-26T13:15:47.099Z"
   },
   {
    "duration": 9,
    "start_time": "2024-10-26T13:15:47.177Z"
   },
   {
    "duration": 11,
    "start_time": "2024-10-26T13:15:47.188Z"
   },
   {
    "duration": 11,
    "start_time": "2024-10-26T13:15:47.201Z"
   },
   {
    "duration": 4,
    "start_time": "2024-10-26T13:15:47.214Z"
   },
   {
    "duration": 173,
    "start_time": "2024-10-26T13:15:47.220Z"
   },
   {
    "duration": 9,
    "start_time": "2024-10-26T13:15:47.395Z"
   },
   {
    "duration": 23,
    "start_time": "2024-10-26T13:15:47.406Z"
   },
   {
    "duration": 18,
    "start_time": "2024-10-26T13:15:47.431Z"
   },
   {
    "duration": 3,
    "start_time": "2024-10-26T13:15:47.451Z"
   },
   {
    "duration": 319,
    "start_time": "2024-10-26T13:15:47.456Z"
   },
   {
    "duration": 109,
    "start_time": "2024-10-26T13:15:47.776Z"
   },
   {
    "duration": 170,
    "start_time": "2024-10-26T13:15:47.886Z"
   },
   {
    "duration": 178,
    "start_time": "2024-10-26T13:15:48.058Z"
   },
   {
    "duration": 9,
    "start_time": "2024-10-26T13:15:48.238Z"
   },
   {
    "duration": 263,
    "start_time": "2024-10-26T13:15:48.248Z"
   },
   {
    "duration": 8,
    "start_time": "2024-10-26T13:15:48.520Z"
   },
   {
    "duration": 7,
    "start_time": "2024-10-26T13:15:48.530Z"
   },
   {
    "duration": 224,
    "start_time": "2024-10-26T13:15:48.538Z"
   },
   {
    "duration": 8,
    "start_time": "2024-10-26T13:15:48.764Z"
   },
   {
    "duration": 96,
    "start_time": "2024-10-26T13:15:48.774Z"
   },
   {
    "duration": 48,
    "start_time": "2024-10-26T13:15:48.872Z"
   },
   {
    "duration": 29,
    "start_time": "2024-10-26T13:15:48.923Z"
   },
   {
    "duration": 385,
    "start_time": "2024-10-26T13:15:48.954Z"
   },
   {
    "duration": 386,
    "start_time": "2024-10-26T13:15:49.341Z"
   },
   {
    "duration": 31,
    "start_time": "2024-10-26T13:15:49.728Z"
   },
   {
    "duration": 3,
    "start_time": "2024-10-26T13:15:49.761Z"
   },
   {
    "duration": 132,
    "start_time": "2024-10-26T13:15:49.766Z"
   },
   {
    "duration": 37,
    "start_time": "2024-10-26T13:15:49.900Z"
   },
   {
    "duration": 6,
    "start_time": "2024-10-26T13:15:49.939Z"
   },
   {
    "duration": 66,
    "start_time": "2024-10-26T13:15:49.946Z"
   },
   {
    "duration": 7,
    "start_time": "2024-10-26T13:15:50.013Z"
   },
   {
    "duration": 18,
    "start_time": "2024-10-26T13:15:50.022Z"
   },
   {
    "duration": 5,
    "start_time": "2024-10-26T13:15:50.041Z"
   },
   {
    "duration": 754,
    "start_time": "2024-10-26T13:15:50.048Z"
   },
   {
    "duration": 335,
    "start_time": "2024-10-26T13:15:50.804Z"
   },
   {
    "duration": 1218,
    "start_time": "2024-10-26T15:10:36.324Z"
   },
   {
    "duration": 44,
    "start_time": "2024-10-26T15:10:37.544Z"
   },
   {
    "duration": 12,
    "start_time": "2024-10-26T15:10:37.590Z"
   },
   {
    "duration": 66,
    "start_time": "2024-10-26T15:10:37.604Z"
   },
   {
    "duration": 12,
    "start_time": "2024-10-26T15:10:37.672Z"
   },
   {
    "duration": 23,
    "start_time": "2024-10-26T15:10:37.685Z"
   },
   {
    "duration": 26,
    "start_time": "2024-10-26T15:10:37.709Z"
   },
   {
    "duration": 130,
    "start_time": "2024-10-26T15:10:37.737Z"
   },
   {
    "duration": 13,
    "start_time": "2024-10-26T15:10:37.869Z"
   },
   {
    "duration": 5,
    "start_time": "2024-10-26T15:10:37.884Z"
   },
   {
    "duration": 195,
    "start_time": "2024-10-26T15:10:37.890Z"
   },
   {
    "duration": 10,
    "start_time": "2024-10-26T15:10:38.086Z"
   },
   {
    "duration": 15,
    "start_time": "2024-10-26T15:10:38.098Z"
   },
   {
    "duration": 8,
    "start_time": "2024-10-26T15:10:38.114Z"
   },
   {
    "duration": 29,
    "start_time": "2024-10-26T15:10:38.124Z"
   },
   {
    "duration": 311,
    "start_time": "2024-10-26T15:10:38.156Z"
   },
   {
    "duration": 116,
    "start_time": "2024-10-26T15:10:38.469Z"
   },
   {
    "duration": 197,
    "start_time": "2024-10-26T15:10:38.587Z"
   },
   {
    "duration": 206,
    "start_time": "2024-10-26T15:10:38.786Z"
   },
   {
    "duration": 9,
    "start_time": "2024-10-26T15:10:38.994Z"
   },
   {
    "duration": 251,
    "start_time": "2024-10-26T15:10:39.004Z"
   },
   {
    "duration": 10,
    "start_time": "2024-10-26T15:10:39.257Z"
   },
   {
    "duration": 20,
    "start_time": "2024-10-26T15:10:39.269Z"
   },
   {
    "duration": 245,
    "start_time": "2024-10-26T15:10:39.291Z"
   },
   {
    "duration": 15,
    "start_time": "2024-10-26T15:10:39.538Z"
   },
   {
    "duration": 33,
    "start_time": "2024-10-26T15:10:39.556Z"
   },
   {
    "duration": 13,
    "start_time": "2024-10-26T15:10:39.591Z"
   },
   {
    "duration": 61,
    "start_time": "2024-10-26T15:10:39.608Z"
   },
   {
    "duration": 422,
    "start_time": "2024-10-26T15:10:39.672Z"
   },
   {
    "duration": 393,
    "start_time": "2024-10-26T15:10:40.096Z"
   },
   {
    "duration": 30,
    "start_time": "2024-10-26T15:10:40.491Z"
   },
   {
    "duration": 17,
    "start_time": "2024-10-26T15:10:40.523Z"
   },
   {
    "duration": 144,
    "start_time": "2024-10-26T15:10:40.541Z"
   },
   {
    "duration": 42,
    "start_time": "2024-10-26T15:10:40.686Z"
   },
   {
    "duration": 7,
    "start_time": "2024-10-26T15:10:40.730Z"
   },
   {
    "duration": 7,
    "start_time": "2024-10-26T15:10:40.738Z"
   },
   {
    "duration": 11,
    "start_time": "2024-10-26T15:10:40.752Z"
   },
   {
    "duration": 12,
    "start_time": "2024-10-26T15:10:40.767Z"
   },
   {
    "duration": 6,
    "start_time": "2024-10-26T15:10:40.780Z"
   },
   {
    "duration": 899,
    "start_time": "2024-10-26T15:10:40.788Z"
   },
   {
    "duration": 337,
    "start_time": "2024-10-26T15:10:41.689Z"
   }
  ],
  "kernelspec": {
   "display_name": "Python 3 (ipykernel)",
   "language": "python",
   "name": "python3"
  },
  "language_info": {
   "codemirror_mode": {
    "name": "ipython",
    "version": 3
   },
   "file_extension": ".py",
   "mimetype": "text/x-python",
   "name": "python",
   "nbconvert_exporter": "python",
   "pygments_lexer": "ipython3",
   "version": "3.9.18"
  },
  "toc": {
   "base_numbering": 1,
   "nav_menu": {},
   "number_sections": true,
   "sideBar": true,
   "skip_h1_title": true,
   "title_cell": "Table of Contents",
   "title_sidebar": "Contents",
   "toc_cell": false,
   "toc_position": {},
   "toc_section_display": true,
   "toc_window_display": false
  }
 },
 "nbformat": 4,
 "nbformat_minor": 5
}
