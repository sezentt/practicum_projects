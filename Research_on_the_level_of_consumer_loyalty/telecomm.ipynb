{
 "cells": [
  {
   "cell_type": "markdown",
   "id": "e063c13e",
   "metadata": {},
   "source": [
    "# Исследование уровня потребительской лояльности"
   ]
  },
  {
   "cell_type": "markdown",
   "id": "abc0fcef",
   "metadata": {},
   "source": [
    "Заказчик этого исследования — большая телекоммуникационная компания, которая оказывает услуги на территории всего СНГ. Перед компанией стоит задача определить текущий уровень потребительской лояльности, или NPS (от англ. Net Promoter Score), среди клиентов из России. \n",
    "\n",
    "Чтобы определить уровень лояльности, клиентам задавали классический вопрос: «Оцените по шкале от 1 до 10 вероятность того, что вы порекомендуете компанию друзьям и знакомым».\n",
    "\n",
    "Компания провела опрос и попросила нас подготовить дашборд с его итогами. Большую базу данных для такой задачи разворачивать не стали и выгрузили данные в SQLite. \n",
    "\n",
    "Чтобы оценить результаты опроса, оценки обычно делят на три группы:\n",
    "- 9-10 баллов — «cторонники» (англ. promoters);\n",
    "- 7-8 баллов — «нейтралы» (англ. passives);\n",
    "- 0-6 баллов — «критики» (англ. detractors).\n",
    "\n",
    "Итоговое значение NPS рассчитывается по формуле: % «сторонников» - % «критиков».\n",
    "\n",
    "Таким образом, значение этого показателя варьируется от -100% (когда все клиенты «критики») до 100% (когда все клиенты лояльны к сервису). Но это крайние случаи, которые редко встретишь на практике. \n",
    "\n",
    "Интерпретируя результаты NPS-опросов, следует также помнить, что само значение мало о чём говорит. Однако исследования показывают, что клиенты-сторонники полезны любому бизнесу. Они чаще других повторно совершают покупки, активнее тестируют обновления и приводят в сервис своих друзей и знакомых. Поэтому NPS остаётся одной из важнейших метрик бизнеса. "
   ]
  },
  {
   "cell_type": "markdown",
   "id": "7b265083",
   "metadata": {},
   "source": [
    "## Подключение к базе данных"
   ]
  },
  {
   "cell_type": "markdown",
   "id": "675dd05f",
   "metadata": {},
   "source": [
    "Прежде чем начать работу, нам необходимо получить доступ к базе данных. Данные выгрузили в SQLite — СУБД, в которой база данных представлена файлом."
   ]
  },
  {
   "cell_type": "code",
   "execution_count": 1,
   "id": "fc7efa54",
   "metadata": {},
   "outputs": [],
   "source": [
    "# Подключение всех необходимых библиотек\n",
    "import os\n",
    "import pandas as pd\n",
    "\n",
    "# Библиотека для создания ссылки\n",
    "from IPython.display import FileLink\n",
    "\n",
    "from sqlalchemy import create_engine"
   ]
  },
  {
   "cell_type": "code",
   "execution_count": 2,
   "id": "0017f8e7",
   "metadata": {},
   "outputs": [
    {
     "name": "stdout",
     "output_type": "stream",
     "text": [
      "Подключение к базе данных создано!\n"
     ]
    }
   ],
   "source": [
    "# Путь к БД на платформе\n",
    "path_to_db_platform = '/datasets/telecomm_csi.db'\n",
    "path_to_db = None\n",
    "\n",
    "# Если путь на платформе ведёт к БД, то он становится итоговым\n",
    "if os.path.exists(path_to_db_platform):\n",
    "    path_to_db = path_to_db_platform\n",
    "# Иначе выводится сообщение о том, что файл не найден\n",
    "else:\n",
    "    raise Exception('Файл с базой данных SQLite не найден!')\n",
    "\n",
    "# Если итоговый путь не пустой\n",
    "if path_to_db:\n",
    "    # То создаём подключение к базе\n",
    "    engine = create_engine(f'sqlite:///{path_to_db}', echo=False)\n",
    "    print(\"Подключение к базе данных создано!\")\n",
    "# Иначе выводится сообщение о том, что подключение не создано\n",
    "else:\n",
    "     raise Exception('Создать подключение не удалось!')"
   ]
  },
  {
   "cell_type": "markdown",
   "id": "5faf742f",
   "metadata": {},
   "source": [
    "Мы подключились к базе данных. Теперь эти данные необходимо выгрузить."
   ]
  },
  {
   "cell_type": "markdown",
   "id": "310ac5aa",
   "metadata": {},
   "source": [
    "## Выгрузка данных"
   ]
  },
  {
   "cell_type": "markdown",
   "id": "6d37a6d9",
   "metadata": {},
   "source": [
    "Нужно подготовить данные для дашборда.\n",
    "\n",
    "Нам нужно собрать в одну витрину данные из разных таблиц. Эту витрину мы будем использовать для дашборда."
   ]
  },
  {
   "cell_type": "markdown",
   "id": "5e6de0f9",
   "metadata": {},
   "source": [
    "Итак, у нас есть 5 таблиц `user`, `location`, `age_segment`, `traffic_segment`и `lifetime_segment`.<br>\n",
    "Напишем SQL-запрос, чтобы соединить эти таблицы в одну. Учтем все требования."
   ]
  },
  {
   "cell_type": "code",
   "execution_count": 3,
   "id": "84ebad43",
   "metadata": {},
   "outputs": [],
   "source": [
    "query = \"\"\"\n",
    "SELECT \n",
    "    u.user_id,\n",
    "    u.lt_day,\n",
    "    CASE \n",
    "        WHEN u.lt_day <= 365 THEN 1 \n",
    "        ELSE 0 \n",
    "    END AS is_new,\n",
    "    CAST(u.age AS INTEGER) AS age,  -- Преобразование возраста в целое число\n",
    "    CASE \n",
    "        WHEN u.gender_segment = 1 THEN 'Женщина'\n",
    "        WHEN u.gender_segment = 0 THEN 'Мужчина'\n",
    "        ELSE 'Неопределенный'\n",
    "    END AS gender_segment,\n",
    "    u.os_name,\n",
    "    u.cpe_type_name,\n",
    "    l.country,\n",
    "    l.city,\n",
    "    SUBSTR(a.title, INSTR(a.title, ' ') + 1) AS age_segment,  -- Извлечение возрастного диапазона\n",
    "    SUBSTR(t.title, INSTR(t.title, ' ') + 1) AS traffic_segment,  -- Извлечение диапазона трафика\n",
    "    SUBSTR(lt.title, INSTR(lt.title, ' ') + 1) AS lifetime_segment,  -- Извлечение диапазона дней жизни\n",
    "    u.nps_score,\n",
    "    CASE \n",
    "        WHEN u.nps_score >= 9 THEN 'promoters'\n",
    "        WHEN u.nps_score >= 7 THEN 'passives'\n",
    "        ELSE 'detractors'\n",
    "    END AS nps_group\n",
    "FROM \n",
    "    user AS u\n",
    "JOIN \n",
    "    location AS l ON u.location_id = l.location_id\n",
    "JOIN \n",
    "    age_segment AS a ON u.age_gr_id = a.age_gr_id\n",
    "JOIN \n",
    "    traffic_segment AS t ON u.tr_gr_id = t.tr_gr_id\n",
    "JOIN \n",
    "    lifetime_segment AS lt ON u.lt_gr_id = lt.lt_gr_id;\n",
    "\"\"\"\n",
    "\n",
    "df = pd.read_sql(query, engine)"
   ]
  },
  {
   "cell_type": "code",
   "execution_count": 4,
   "id": "3965faf2",
   "metadata": {
    "scrolled": false
   },
   "outputs": [
    {
     "data": {
      "text/html": [
       "<div>\n",
       "<style scoped>\n",
       "    .dataframe tbody tr th:only-of-type {\n",
       "        vertical-align: middle;\n",
       "    }\n",
       "\n",
       "    .dataframe tbody tr th {\n",
       "        vertical-align: top;\n",
       "    }\n",
       "\n",
       "    .dataframe thead th {\n",
       "        text-align: right;\n",
       "    }\n",
       "</style>\n",
       "<table border=\"1\" class=\"dataframe\">\n",
       "  <thead>\n",
       "    <tr style=\"text-align: right;\">\n",
       "      <th></th>\n",
       "      <th>user_id</th>\n",
       "      <th>lt_day</th>\n",
       "      <th>is_new</th>\n",
       "      <th>age</th>\n",
       "      <th>gender_segment</th>\n",
       "      <th>os_name</th>\n",
       "      <th>cpe_type_name</th>\n",
       "      <th>country</th>\n",
       "      <th>city</th>\n",
       "      <th>age_segment</th>\n",
       "      <th>traffic_segment</th>\n",
       "      <th>lifetime_segment</th>\n",
       "      <th>nps_score</th>\n",
       "      <th>nps_group</th>\n",
       "    </tr>\n",
       "  </thead>\n",
       "  <tbody>\n",
       "    <tr>\n",
       "      <th>0</th>\n",
       "      <td>A001A2</td>\n",
       "      <td>2320</td>\n",
       "      <td>0</td>\n",
       "      <td>45.0</td>\n",
       "      <td>Женщина</td>\n",
       "      <td>ANDROID</td>\n",
       "      <td>SMARTPHONE</td>\n",
       "      <td>Россия</td>\n",
       "      <td>Уфа</td>\n",
       "      <td>45-54</td>\n",
       "      <td>1-5</td>\n",
       "      <td>36+</td>\n",
       "      <td>10</td>\n",
       "      <td>promoters</td>\n",
       "    </tr>\n",
       "    <tr>\n",
       "      <th>1</th>\n",
       "      <td>A001WF</td>\n",
       "      <td>2344</td>\n",
       "      <td>0</td>\n",
       "      <td>53.0</td>\n",
       "      <td>Мужчина</td>\n",
       "      <td>ANDROID</td>\n",
       "      <td>SMARTPHONE</td>\n",
       "      <td>Россия</td>\n",
       "      <td>Киров</td>\n",
       "      <td>45-54</td>\n",
       "      <td>1-5</td>\n",
       "      <td>36+</td>\n",
       "      <td>10</td>\n",
       "      <td>promoters</td>\n",
       "    </tr>\n",
       "    <tr>\n",
       "      <th>2</th>\n",
       "      <td>A003Q7</td>\n",
       "      <td>467</td>\n",
       "      <td>0</td>\n",
       "      <td>57.0</td>\n",
       "      <td>Мужчина</td>\n",
       "      <td>ANDROID</td>\n",
       "      <td>SMARTPHONE</td>\n",
       "      <td>Россия</td>\n",
       "      <td>Москва</td>\n",
       "      <td>55-64</td>\n",
       "      <td>20-25</td>\n",
       "      <td>13-24</td>\n",
       "      <td>10</td>\n",
       "      <td>promoters</td>\n",
       "    </tr>\n",
       "    <tr>\n",
       "      <th>3</th>\n",
       "      <td>A004TB</td>\n",
       "      <td>4190</td>\n",
       "      <td>0</td>\n",
       "      <td>44.0</td>\n",
       "      <td>Женщина</td>\n",
       "      <td>IOS</td>\n",
       "      <td>SMARTPHONE</td>\n",
       "      <td>Россия</td>\n",
       "      <td>РостовнаДону</td>\n",
       "      <td>35-44</td>\n",
       "      <td>0.1-1</td>\n",
       "      <td>36+</td>\n",
       "      <td>10</td>\n",
       "      <td>promoters</td>\n",
       "    </tr>\n",
       "    <tr>\n",
       "      <th>4</th>\n",
       "      <td>A004XT</td>\n",
       "      <td>1163</td>\n",
       "      <td>0</td>\n",
       "      <td>24.0</td>\n",
       "      <td>Мужчина</td>\n",
       "      <td>ANDROID</td>\n",
       "      <td>SMARTPHONE</td>\n",
       "      <td>Россия</td>\n",
       "      <td>Рязань</td>\n",
       "      <td>16-24</td>\n",
       "      <td>5-10</td>\n",
       "      <td>36+</td>\n",
       "      <td>10</td>\n",
       "      <td>promoters</td>\n",
       "    </tr>\n",
       "  </tbody>\n",
       "</table>\n",
       "</div>"
      ],
      "text/plain": [
       "  user_id  lt_day  is_new   age gender_segment  os_name cpe_type_name country  \\\n",
       "0  A001A2    2320       0  45.0        Женщина  ANDROID    SMARTPHONE  Россия   \n",
       "1  A001WF    2344       0  53.0        Мужчина  ANDROID    SMARTPHONE  Россия   \n",
       "2  A003Q7     467       0  57.0        Мужчина  ANDROID    SMARTPHONE  Россия   \n",
       "3  A004TB    4190       0  44.0        Женщина      IOS    SMARTPHONE  Россия   \n",
       "4  A004XT    1163       0  24.0        Мужчина  ANDROID    SMARTPHONE  Россия   \n",
       "\n",
       "           city age_segment traffic_segment lifetime_segment  nps_score  \\\n",
       "0           Уфа       45-54             1-5              36+         10   \n",
       "1         Киров       45-54             1-5              36+         10   \n",
       "2        Москва       55-64           20-25            13-24         10   \n",
       "3  РостовнаДону       35-44           0.1-1              36+         10   \n",
       "4        Рязань       16-24            5-10              36+         10   \n",
       "\n",
       "   nps_group  \n",
       "0  promoters  \n",
       "1  promoters  \n",
       "2  promoters  \n",
       "3  promoters  \n",
       "4  promoters  "
      ]
     },
     "execution_count": 4,
     "metadata": {},
     "output_type": "execute_result"
    }
   ],
   "source": [
    "df.head()"
   ]
  },
  {
   "cell_type": "markdown",
   "id": "709199ed",
   "metadata": {},
   "source": [
    "### Проверка корректности данных"
   ]
  },
  {
   "cell_type": "markdown",
   "id": "476989fd",
   "metadata": {},
   "source": [
    "Проверим корректность числовых полей."
   ]
  },
  {
   "cell_type": "code",
   "execution_count": 5,
   "id": "bae4511f",
   "metadata": {},
   "outputs": [
    {
     "data": {
      "text/plain": [
       "count    501939.000000\n",
       "mean         39.621946\n",
       "std          11.188249\n",
       "min          10.000000\n",
       "25%          31.000000\n",
       "50%          38.000000\n",
       "75%          47.000000\n",
       "max          89.000000\n",
       "Name: age, dtype: float64"
      ]
     },
     "execution_count": 5,
     "metadata": {},
     "output_type": "execute_result"
    }
   ],
   "source": [
    "df['age'].describe()"
   ]
  },
  {
   "cell_type": "code",
   "execution_count": 6,
   "id": "c207c249",
   "metadata": {},
   "outputs": [
    {
     "data": {
      "text/plain": [
       "count    502493.000000\n",
       "mean          7.508562\n",
       "std           3.020378\n",
       "min           1.000000\n",
       "25%           5.000000\n",
       "50%           9.000000\n",
       "75%          10.000000\n",
       "max          10.000000\n",
       "Name: nps_score, dtype: float64"
      ]
     },
     "execution_count": 6,
     "metadata": {},
     "output_type": "execute_result"
    }
   ],
   "source": [
    "df['nps_score'].describe()"
   ]
  },
  {
   "cell_type": "code",
   "execution_count": 7,
   "id": "6d37e7df",
   "metadata": {},
   "outputs": [
    {
     "data": {
      "text/plain": [
       "count    502493.000000\n",
       "mean       1868.841439\n",
       "std        1683.701762\n",
       "min         -21.000000\n",
       "25%         533.000000\n",
       "50%        1239.000000\n",
       "75%        3064.000000\n",
       "max        9162.000000\n",
       "Name: lt_day, dtype: float64"
      ]
     },
     "execution_count": 7,
     "metadata": {},
     "output_type": "execute_result"
    }
   ],
   "source": [
    "df['lt_day'].describe()"
   ]
  },
  {
   "cell_type": "markdown",
   "id": "9f4e78ec",
   "metadata": {},
   "source": [
    "Посмотрим, сколько в этом столбце отрицательных значений."
   ]
  },
  {
   "cell_type": "code",
   "execution_count": 8,
   "id": "c9f41c49",
   "metadata": {},
   "outputs": [
    {
     "data": {
      "text/html": [
       "<div>\n",
       "<style scoped>\n",
       "    .dataframe tbody tr th:only-of-type {\n",
       "        vertical-align: middle;\n",
       "    }\n",
       "\n",
       "    .dataframe tbody tr th {\n",
       "        vertical-align: top;\n",
       "    }\n",
       "\n",
       "    .dataframe thead th {\n",
       "        text-align: right;\n",
       "    }\n",
       "</style>\n",
       "<table border=\"1\" class=\"dataframe\">\n",
       "  <thead>\n",
       "    <tr style=\"text-align: right;\">\n",
       "      <th></th>\n",
       "      <th>user_id</th>\n",
       "      <th>lt_day</th>\n",
       "      <th>is_new</th>\n",
       "      <th>age</th>\n",
       "      <th>gender_segment</th>\n",
       "      <th>os_name</th>\n",
       "      <th>cpe_type_name</th>\n",
       "      <th>country</th>\n",
       "      <th>city</th>\n",
       "      <th>age_segment</th>\n",
       "      <th>traffic_segment</th>\n",
       "      <th>lifetime_segment</th>\n",
       "      <th>nps_score</th>\n",
       "      <th>nps_group</th>\n",
       "    </tr>\n",
       "  </thead>\n",
       "  <tbody>\n",
       "    <tr>\n",
       "      <th>7666</th>\n",
       "      <td>AEAC2R</td>\n",
       "      <td>-8</td>\n",
       "      <td>1</td>\n",
       "      <td>NaN</td>\n",
       "      <td>Неопределенный</td>\n",
       "      <td>ANDROID</td>\n",
       "      <td>SMARTPHONE</td>\n",
       "      <td>Россия</td>\n",
       "      <td>Томск</td>\n",
       "      <td>n/a</td>\n",
       "      <td>15-20</td>\n",
       "      <td>36+</td>\n",
       "      <td>1</td>\n",
       "      <td>detractors</td>\n",
       "    </tr>\n",
       "    <tr>\n",
       "      <th>53997</th>\n",
       "      <td>CS0HF8</td>\n",
       "      <td>-2</td>\n",
       "      <td>1</td>\n",
       "      <td>NaN</td>\n",
       "      <td>Неопределенный</td>\n",
       "      <td>ANDROID</td>\n",
       "      <td>SMARTPHONE</td>\n",
       "      <td>Россия</td>\n",
       "      <td>Ижевск</td>\n",
       "      <td>n/a</td>\n",
       "      <td>20-25</td>\n",
       "      <td>36+</td>\n",
       "      <td>10</td>\n",
       "      <td>promoters</td>\n",
       "    </tr>\n",
       "    <tr>\n",
       "      <th>71577</th>\n",
       "      <td>DORPT2</td>\n",
       "      <td>-4</td>\n",
       "      <td>1</td>\n",
       "      <td>NaN</td>\n",
       "      <td>Неопределенный</td>\n",
       "      <td>ANDROID</td>\n",
       "      <td>SMARTPHONE</td>\n",
       "      <td>Россия</td>\n",
       "      <td>Москва</td>\n",
       "      <td>n/a</td>\n",
       "      <td>20-25</td>\n",
       "      <td>36+</td>\n",
       "      <td>4</td>\n",
       "      <td>detractors</td>\n",
       "    </tr>\n",
       "    <tr>\n",
       "      <th>100152</th>\n",
       "      <td>F5O3CG</td>\n",
       "      <td>-21</td>\n",
       "      <td>1</td>\n",
       "      <td>NaN</td>\n",
       "      <td>Неопределенный</td>\n",
       "      <td>ANDROID</td>\n",
       "      <td>SMARTPHONE</td>\n",
       "      <td>Россия</td>\n",
       "      <td>Чита</td>\n",
       "      <td>n/a</td>\n",
       "      <td>35-40</td>\n",
       "      <td>36+</td>\n",
       "      <td>7</td>\n",
       "      <td>passives</td>\n",
       "    </tr>\n",
       "    <tr>\n",
       "      <th>228087</th>\n",
       "      <td>LSE939</td>\n",
       "      <td>-13</td>\n",
       "      <td>1</td>\n",
       "      <td>NaN</td>\n",
       "      <td>Неопределенный</td>\n",
       "      <td>ANDROID</td>\n",
       "      <td>SMARTPHONE</td>\n",
       "      <td>Россия</td>\n",
       "      <td>Краснодар</td>\n",
       "      <td>n/a</td>\n",
       "      <td>15-20</td>\n",
       "      <td>36+</td>\n",
       "      <td>1</td>\n",
       "      <td>detractors</td>\n",
       "    </tr>\n",
       "    <tr>\n",
       "      <th>325212</th>\n",
       "      <td>QTT7IR</td>\n",
       "      <td>-13</td>\n",
       "      <td>1</td>\n",
       "      <td>NaN</td>\n",
       "      <td>Неопределенный</td>\n",
       "      <td>IOS</td>\n",
       "      <td>SMARTPHONE</td>\n",
       "      <td>Россия</td>\n",
       "      <td>Москва</td>\n",
       "      <td>n/a</td>\n",
       "      <td>10-15</td>\n",
       "      <td>36+</td>\n",
       "      <td>7</td>\n",
       "      <td>passives</td>\n",
       "    </tr>\n",
       "    <tr>\n",
       "      <th>347784</th>\n",
       "      <td>RZUS6H</td>\n",
       "      <td>-6</td>\n",
       "      <td>1</td>\n",
       "      <td>NaN</td>\n",
       "      <td>Неопределенный</td>\n",
       "      <td>ANDROID</td>\n",
       "      <td>SMARTPHONE</td>\n",
       "      <td>Россия</td>\n",
       "      <td>Красноярск</td>\n",
       "      <td>n/a</td>\n",
       "      <td>30-35</td>\n",
       "      <td>36+</td>\n",
       "      <td>3</td>\n",
       "      <td>detractors</td>\n",
       "    </tr>\n",
       "    <tr>\n",
       "      <th>385897</th>\n",
       "      <td>TYWQW4</td>\n",
       "      <td>-12</td>\n",
       "      <td>1</td>\n",
       "      <td>NaN</td>\n",
       "      <td>Неопределенный</td>\n",
       "      <td>IOS</td>\n",
       "      <td>SMARTPHONE</td>\n",
       "      <td>Россия</td>\n",
       "      <td>Новосибирск</td>\n",
       "      <td>n/a</td>\n",
       "      <td>1-5</td>\n",
       "      <td>36+</td>\n",
       "      <td>5</td>\n",
       "      <td>detractors</td>\n",
       "    </tr>\n",
       "    <tr>\n",
       "      <th>401226</th>\n",
       "      <td>URKAFI</td>\n",
       "      <td>-11</td>\n",
       "      <td>1</td>\n",
       "      <td>NaN</td>\n",
       "      <td>Неопределенный</td>\n",
       "      <td>ANDROID</td>\n",
       "      <td>SMARTPHONE</td>\n",
       "      <td>Россия</td>\n",
       "      <td>НижнийНовгород</td>\n",
       "      <td>n/a</td>\n",
       "      <td>10-15</td>\n",
       "      <td>36+</td>\n",
       "      <td>8</td>\n",
       "      <td>passives</td>\n",
       "    </tr>\n",
       "    <tr>\n",
       "      <th>407160</th>\n",
       "      <td>V2GNK2</td>\n",
       "      <td>-13</td>\n",
       "      <td>1</td>\n",
       "      <td>NaN</td>\n",
       "      <td>Неопределенный</td>\n",
       "      <td>IOS</td>\n",
       "      <td>SMARTPHONE</td>\n",
       "      <td>Россия</td>\n",
       "      <td>РостовнаДону</td>\n",
       "      <td>n/a</td>\n",
       "      <td>15-20</td>\n",
       "      <td>36+</td>\n",
       "      <td>5</td>\n",
       "      <td>detractors</td>\n",
       "    </tr>\n",
       "    <tr>\n",
       "      <th>425927</th>\n",
       "      <td>W17RFH</td>\n",
       "      <td>-1</td>\n",
       "      <td>1</td>\n",
       "      <td>NaN</td>\n",
       "      <td>Неопределенный</td>\n",
       "      <td>ANDROID</td>\n",
       "      <td>SMARTPHONE</td>\n",
       "      <td>Россия</td>\n",
       "      <td>Москва</td>\n",
       "      <td>n/a</td>\n",
       "      <td>1-5</td>\n",
       "      <td>36+</td>\n",
       "      <td>5</td>\n",
       "      <td>detractors</td>\n",
       "    </tr>\n",
       "    <tr>\n",
       "      <th>455359</th>\n",
       "      <td>XKF9SN</td>\n",
       "      <td>-12</td>\n",
       "      <td>1</td>\n",
       "      <td>NaN</td>\n",
       "      <td>Неопределенный</td>\n",
       "      <td>ANDROID</td>\n",
       "      <td>SMARTPHONE</td>\n",
       "      <td>Россия</td>\n",
       "      <td>Уфа</td>\n",
       "      <td>n/a</td>\n",
       "      <td>100+</td>\n",
       "      <td>36+</td>\n",
       "      <td>9</td>\n",
       "      <td>promoters</td>\n",
       "    </tr>\n",
       "    <tr>\n",
       "      <th>492382</th>\n",
       "      <td>ZGUUY9</td>\n",
       "      <td>-7</td>\n",
       "      <td>1</td>\n",
       "      <td>NaN</td>\n",
       "      <td>Неопределенный</td>\n",
       "      <td>ANDROID</td>\n",
       "      <td>SMARTPHONE</td>\n",
       "      <td>Россия</td>\n",
       "      <td>Красноярск</td>\n",
       "      <td>n/a</td>\n",
       "      <td>5-10</td>\n",
       "      <td>36+</td>\n",
       "      <td>8</td>\n",
       "      <td>passives</td>\n",
       "    </tr>\n",
       "  </tbody>\n",
       "</table>\n",
       "</div>"
      ],
      "text/plain": [
       "       user_id  lt_day  is_new  age  gender_segment  os_name cpe_type_name  \\\n",
       "7666    AEAC2R      -8       1  NaN  Неопределенный  ANDROID    SMARTPHONE   \n",
       "53997   CS0HF8      -2       1  NaN  Неопределенный  ANDROID    SMARTPHONE   \n",
       "71577   DORPT2      -4       1  NaN  Неопределенный  ANDROID    SMARTPHONE   \n",
       "100152  F5O3CG     -21       1  NaN  Неопределенный  ANDROID    SMARTPHONE   \n",
       "228087  LSE939     -13       1  NaN  Неопределенный  ANDROID    SMARTPHONE   \n",
       "325212  QTT7IR     -13       1  NaN  Неопределенный      IOS    SMARTPHONE   \n",
       "347784  RZUS6H      -6       1  NaN  Неопределенный  ANDROID    SMARTPHONE   \n",
       "385897  TYWQW4     -12       1  NaN  Неопределенный      IOS    SMARTPHONE   \n",
       "401226  URKAFI     -11       1  NaN  Неопределенный  ANDROID    SMARTPHONE   \n",
       "407160  V2GNK2     -13       1  NaN  Неопределенный      IOS    SMARTPHONE   \n",
       "425927  W17RFH      -1       1  NaN  Неопределенный  ANDROID    SMARTPHONE   \n",
       "455359  XKF9SN     -12       1  NaN  Неопределенный  ANDROID    SMARTPHONE   \n",
       "492382  ZGUUY9      -7       1  NaN  Неопределенный  ANDROID    SMARTPHONE   \n",
       "\n",
       "       country            city age_segment traffic_segment lifetime_segment  \\\n",
       "7666    Россия           Томск         n/a           15-20              36+   \n",
       "53997   Россия          Ижевск         n/a           20-25              36+   \n",
       "71577   Россия          Москва         n/a           20-25              36+   \n",
       "100152  Россия            Чита         n/a           35-40              36+   \n",
       "228087  Россия       Краснодар         n/a           15-20              36+   \n",
       "325212  Россия          Москва         n/a           10-15              36+   \n",
       "347784  Россия      Красноярск         n/a           30-35              36+   \n",
       "385897  Россия     Новосибирск         n/a             1-5              36+   \n",
       "401226  Россия  НижнийНовгород         n/a           10-15              36+   \n",
       "407160  Россия    РостовнаДону         n/a           15-20              36+   \n",
       "425927  Россия          Москва         n/a             1-5              36+   \n",
       "455359  Россия             Уфа         n/a            100+              36+   \n",
       "492382  Россия      Красноярск         n/a            5-10              36+   \n",
       "\n",
       "        nps_score   nps_group  \n",
       "7666            1  detractors  \n",
       "53997          10   promoters  \n",
       "71577           4  detractors  \n",
       "100152          7    passives  \n",
       "228087          1  detractors  \n",
       "325212          7    passives  \n",
       "347784          3  detractors  \n",
       "385897          5  detractors  \n",
       "401226          8    passives  \n",
       "407160          5  detractors  \n",
       "425927          5  detractors  \n",
       "455359          9   promoters  \n",
       "492382          8    passives  "
      ]
     },
     "execution_count": 8,
     "metadata": {},
     "output_type": "execute_result"
    }
   ],
   "source": [
    "df.query('lt_day < 0')"
   ]
  },
  {
   "cell_type": "markdown",
   "id": "5b035a67",
   "metadata": {},
   "source": [
    "В этих строчках так же отсутствуют данные о возрасте и поле. Поскольку их незначительное количество, не будем брать их в финальный датасет. "
   ]
  },
  {
   "cell_type": "code",
   "execution_count": 9,
   "id": "b42c7282",
   "metadata": {},
   "outputs": [],
   "source": [
    "df = df.query('lt_day > 0')"
   ]
  },
  {
   "cell_type": "code",
   "execution_count": 10,
   "id": "4579fc83",
   "metadata": {},
   "outputs": [
    {
     "data": {
      "text/plain": [
       "count    502476.000000\n",
       "mean       1868.904911\n",
       "std        1683.694880\n",
       "min           1.000000\n",
       "25%         533.000000\n",
       "50%        1239.000000\n",
       "75%        3064.000000\n",
       "max        9162.000000\n",
       "Name: lt_day, dtype: float64"
      ]
     },
     "execution_count": 10,
     "metadata": {},
     "output_type": "execute_result"
    }
   ],
   "source": [
    "df['lt_day'].describe()"
   ]
  },
  {
   "cell_type": "code",
   "execution_count": 11,
   "id": "956693bc",
   "metadata": {},
   "outputs": [
    {
     "data": {
      "text/plain": [
       "count    502476.000000\n",
       "mean          0.171318\n",
       "std           0.376787\n",
       "min           0.000000\n",
       "25%           0.000000\n",
       "50%           0.000000\n",
       "75%           0.000000\n",
       "max           1.000000\n",
       "Name: is_new, dtype: float64"
      ]
     },
     "execution_count": 11,
     "metadata": {},
     "output_type": "execute_result"
    }
   ],
   "source": [
    "df['is_new'].describe()"
   ]
  },
  {
   "cell_type": "markdown",
   "id": "fbb4e056",
   "metadata": {},
   "source": [
    "Числовые столбцы выглядят корректно.<br>\n",
    "Теперь проверим, что в поле `city` отсутствуют неявные дубликаты городов.<br>\n",
    "Будем группировать с `user_id`, поскольку это уникальное значение."
   ]
  },
  {
   "cell_type": "code",
   "execution_count": 12,
   "id": "49e5f46f",
   "metadata": {},
   "outputs": [
    {
     "data": {
      "text/html": [
       "<div>\n",
       "<style scoped>\n",
       "    .dataframe tbody tr th:only-of-type {\n",
       "        vertical-align: middle;\n",
       "    }\n",
       "\n",
       "    .dataframe tbody tr th {\n",
       "        vertical-align: top;\n",
       "    }\n",
       "\n",
       "    .dataframe thead th {\n",
       "        text-align: right;\n",
       "    }\n",
       "</style>\n",
       "<table border=\"1\" class=\"dataframe\">\n",
       "  <thead>\n",
       "    <tr style=\"text-align: right;\">\n",
       "      <th></th>\n",
       "      <th>user_id</th>\n",
       "      <th>lt_day</th>\n",
       "      <th>is_new</th>\n",
       "      <th>age</th>\n",
       "      <th>gender_segment</th>\n",
       "      <th>os_name</th>\n",
       "      <th>cpe_type_name</th>\n",
       "      <th>country</th>\n",
       "      <th>city</th>\n",
       "      <th>age_segment</th>\n",
       "      <th>traffic_segment</th>\n",
       "      <th>lifetime_segment</th>\n",
       "      <th>nps_score</th>\n",
       "      <th>nps_group</th>\n",
       "      <th>city_clean</th>\n",
       "    </tr>\n",
       "  </thead>\n",
       "  <tbody>\n",
       "  </tbody>\n",
       "</table>\n",
       "</div>"
      ],
      "text/plain": [
       "Empty DataFrame\n",
       "Columns: [user_id, lt_day, is_new, age, gender_segment, os_name, cpe_type_name, country, city, age_segment, traffic_segment, lifetime_segment, nps_score, nps_group, city_clean]\n",
       "Index: []"
      ]
     },
     "execution_count": 12,
     "metadata": {},
     "output_type": "execute_result"
    }
   ],
   "source": [
    "# Создание копии датасета\n",
    "df_copy = df.copy()\n",
    "\n",
    "# Приведение названий городов к единому формату (все строчные буквы и удаление лишних пробелов)\n",
    "df_copy['city_clean'] = df['city'].str.lower().str.strip()\n",
    "\n",
    "# Поиск дубликатов\n",
    "duplicate_names = df_copy[df_copy.duplicated(subset=['user_id', 'city_clean'], keep='first')]\n",
    "duplicate_names"
   ]
  },
  {
   "cell_type": "markdown",
   "id": "d7b764b5",
   "metadata": {},
   "source": [
    "Неявных дублей не обнаружено."
   ]
  },
  {
   "cell_type": "markdown",
   "id": "69cf3b94",
   "metadata": {},
   "source": [
    "### Сохранение данных"
   ]
  },
  {
   "cell_type": "code",
   "execution_count": 13,
   "id": "9db04858",
   "metadata": {},
   "outputs": [],
   "source": [
    "# Получившуюся таблицу сохраним как CSV-файл.\n",
    "df.to_csv('telecomm_csi_tableau.csv', index=False)"
   ]
  },
  {
   "cell_type": "markdown",
   "id": "92d7236a",
   "metadata": {},
   "source": [
    "Теперь создадим ссылку для локального скачивания файла, чтобы дальше использовать его в Tableau."
   ]
  },
  {
   "cell_type": "code",
   "execution_count": 14,
   "id": "e0149e93",
   "metadata": {},
   "outputs": [
    {
     "data": {
      "text/html": [
       "<a href='telecomm_csi_tableau.csv' target='_blank'>telecomm_csi_tableau.csv</a><br>"
      ],
      "text/plain": [
       "/home/jovyan/work/telecomm_csi_tableau.csv"
      ]
     },
     "execution_count": 14,
     "metadata": {},
     "output_type": "execute_result"
    }
   ],
   "source": [
    "# Создание ссылки на скачивание файла\n",
    "file_name = 'telecomm_csi_tableau.csv'\n",
    "FileLink(file_name)"
   ]
  },
  {
   "cell_type": "markdown",
   "id": "bae5319b",
   "metadata": {},
   "source": [
    "## Создание дашборда в Tableau"
   ]
  },
  {
   "cell_type": "markdown",
   "id": "81830ed9",
   "metadata": {},
   "source": [
    "Нам нужно построить дашборд, который представит информацию о текущем уровне NPS среди клиентов и покажет, как этот уровень меняется в зависимости от пользовательских признаков. \n",
    "\n",
    "Из дашборда должно быть понятно, какие группы пользователей участвовали в опросе. Обратим внимание, что если пользователи какой-то группы преобладают, то это могло отразиться на общем уровне NPS. "
   ]
  },
  {
   "cell_type": "markdown",
   "id": "52d517d4",
   "metadata": {},
   "source": [
    "Используя дашборд, ответим на вопросы:\n",
    "- Как распределены участники опроса по возрасту и полу? Каких пользователей больше: новых или старых? Пользователи из каких городов активнее участвовали в опросе?\n",
    "- Какие группы пользователей наиболее лояльны к сервису? Какие менее?\n",
    "- Какой общий NPS среди всех опрошенных?\n",
    "- Как можно описать клиентов, которые относятся к группе cторонников (англ. promoters)?"
   ]
  },
  {
   "cell_type": "markdown",
   "id": "07f9d9d2",
   "metadata": {},
   "source": [
    "Ссылка на презентацию в Tableau Public: <https://public.tableau.com/app/profile/andrey.semenov/viz/telecomm_17221871544090/sheet22>"
   ]
  }
 ],
 "metadata": {
  "ExecuteTimeLog": [
   {
    "duration": 443,
    "start_time": "2024-07-24T07:44:15.939Z"
   },
   {
    "duration": 43,
    "start_time": "2024-07-24T07:44:46.569Z"
   },
   {
    "duration": 3,
    "start_time": "2024-07-24T07:45:06.466Z"
   },
   {
    "duration": 4051,
    "start_time": "2024-07-24T07:45:11.301Z"
   },
   {
    "duration": 27,
    "start_time": "2024-07-24T07:52:47.086Z"
   },
   {
    "duration": 29,
    "start_time": "2024-07-24T07:53:29.281Z"
   },
   {
    "duration": 2539,
    "start_time": "2024-07-24T07:59:43.570Z"
   },
   {
    "duration": 548,
    "start_time": "2024-07-24T16:59:58.172Z"
   },
   {
    "duration": 44,
    "start_time": "2024-07-24T16:59:58.722Z"
   },
   {
    "duration": 2,
    "start_time": "2024-07-24T16:59:58.768Z"
   },
   {
    "duration": 4265,
    "start_time": "2024-07-24T16:59:58.772Z"
   },
   {
    "duration": 2328,
    "start_time": "2024-07-24T17:00:03.039Z"
   },
   {
    "duration": 60,
    "start_time": "2024-07-24T17:00:05.369Z"
   },
   {
    "duration": 2644,
    "start_time": "2024-07-24T17:01:34.814Z"
   },
   {
    "duration": 554,
    "start_time": "2024-07-24T17:24:34.493Z"
   },
   {
    "duration": 33,
    "start_time": "2024-07-24T17:24:35.049Z"
   },
   {
    "duration": 42,
    "start_time": "2024-07-24T17:24:35.086Z"
   },
   {
    "duration": 3666,
    "start_time": "2024-07-24T17:24:35.130Z"
   },
   {
    "duration": 2486,
    "start_time": "2024-07-24T17:24:38.798Z"
   },
   {
    "duration": 48,
    "start_time": "2024-07-24T17:24:41.286Z"
   },
   {
    "duration": 553,
    "start_time": "2024-07-25T07:53:01.806Z"
   },
   {
    "duration": 44,
    "start_time": "2024-07-25T07:53:03.257Z"
   },
   {
    "duration": 5601,
    "start_time": "2024-07-25T07:53:07.263Z"
   },
   {
    "duration": 22,
    "start_time": "2024-07-25T07:54:00.311Z"
   },
   {
    "duration": 4203,
    "start_time": "2024-07-25T07:55:54.098Z"
   },
   {
    "duration": 13,
    "start_time": "2024-07-25T07:56:00.174Z"
   },
   {
    "duration": 526,
    "start_time": "2024-07-25T07:56:37.479Z"
   },
   {
    "duration": 33,
    "start_time": "2024-07-25T07:56:38.007Z"
   },
   {
    "duration": 5434,
    "start_time": "2024-07-25T07:56:38.042Z"
   },
   {
    "duration": 22,
    "start_time": "2024-07-25T07:56:43.478Z"
   },
   {
    "duration": 4213,
    "start_time": "2024-07-25T07:56:43.502Z"
   },
   {
    "duration": 86,
    "start_time": "2024-07-25T07:56:47.717Z"
   },
   {
    "duration": 576,
    "start_time": "2024-07-25T08:25:22.308Z"
   },
   {
    "duration": 33,
    "start_time": "2024-07-25T08:25:22.887Z"
   },
   {
    "duration": 5829,
    "start_time": "2024-07-25T08:25:22.924Z"
   },
   {
    "duration": 21,
    "start_time": "2024-07-25T08:25:28.755Z"
   },
   {
    "duration": 5087,
    "start_time": "2024-07-25T08:25:28.778Z"
   },
   {
    "duration": 62,
    "start_time": "2024-07-25T08:25:33.867Z"
   },
   {
    "duration": 516,
    "start_time": "2024-07-25T08:34:55.608Z"
   },
   {
    "duration": 34,
    "start_time": "2024-07-25T08:34:56.126Z"
   },
   {
    "duration": 5783,
    "start_time": "2024-07-25T08:34:56.162Z"
   },
   {
    "duration": 21,
    "start_time": "2024-07-25T08:35:01.947Z"
   },
   {
    "duration": 5638,
    "start_time": "2024-07-25T08:35:01.969Z"
   },
   {
    "duration": 181,
    "start_time": "2024-07-25T08:35:07.609Z"
   },
   {
    "duration": 555,
    "start_time": "2024-07-25T08:36:14.740Z"
   },
   {
    "duration": 34,
    "start_time": "2024-07-25T08:36:15.297Z"
   },
   {
    "duration": 5751,
    "start_time": "2024-07-25T08:36:15.333Z"
   },
   {
    "duration": 28,
    "start_time": "2024-07-25T08:36:21.086Z"
   },
   {
    "duration": 4291,
    "start_time": "2024-07-25T08:36:21.117Z"
   },
   {
    "duration": 191,
    "start_time": "2024-07-25T08:36:25.410Z"
   },
   {
    "duration": 568,
    "start_time": "2024-07-25T08:37:58.480Z"
   },
   {
    "duration": 33,
    "start_time": "2024-07-25T08:37:59.050Z"
   },
   {
    "duration": 5775,
    "start_time": "2024-07-25T08:37:59.085Z"
   },
   {
    "duration": 20,
    "start_time": "2024-07-25T08:38:04.862Z"
   },
   {
    "duration": 4901,
    "start_time": "2024-07-25T08:38:04.884Z"
   },
   {
    "duration": 98,
    "start_time": "2024-07-25T08:38:09.787Z"
   },
   {
    "duration": 534,
    "start_time": "2024-07-28T17:25:37.266Z"
   },
   {
    "duration": 43,
    "start_time": "2024-07-28T17:25:37.802Z"
   },
   {
    "duration": 5548,
    "start_time": "2024-07-28T17:25:37.847Z"
   },
   {
    "duration": 19,
    "start_time": "2024-07-28T17:25:43.396Z"
   },
   {
    "duration": 3716,
    "start_time": "2024-07-28T17:25:43.416Z"
   },
   {
    "duration": 93,
    "start_time": "2024-07-28T17:25:47.133Z"
   },
   {
    "duration": 512,
    "start_time": "2024-07-28T21:08:25.366Z"
   },
   {
    "duration": 45,
    "start_time": "2024-07-28T21:08:25.880Z"
   },
   {
    "duration": 8793,
    "start_time": "2024-07-28T21:08:25.926Z"
   },
   {
    "duration": 19,
    "start_time": "2024-07-28T21:08:34.721Z"
   },
   {
    "duration": 7865,
    "start_time": "2024-07-28T21:08:34.743Z"
   },
   {
    "duration": 99,
    "start_time": "2024-07-28T21:08:42.609Z"
   },
   {
    "duration": 524,
    "start_time": "2024-07-28T22:27:08.433Z"
   },
   {
    "duration": 34,
    "start_time": "2024-07-28T22:27:08.959Z"
   },
   {
    "duration": 5488,
    "start_time": "2024-07-28T22:27:08.995Z"
   },
   {
    "duration": 29,
    "start_time": "2024-07-28T22:27:14.485Z"
   },
   {
    "duration": 4140,
    "start_time": "2024-07-28T22:27:14.516Z"
   },
   {
    "duration": 100,
    "start_time": "2024-07-28T22:27:18.658Z"
   },
   {
    "duration": 646,
    "start_time": "2024-07-28T22:27:54.271Z"
   },
   {
    "duration": 560,
    "start_time": "2024-07-28T22:41:16.191Z"
   },
   {
    "duration": 33,
    "start_time": "2024-07-28T22:41:16.753Z"
   },
   {
    "duration": 5483,
    "start_time": "2024-07-28T22:41:16.788Z"
   },
   {
    "duration": 19,
    "start_time": "2024-07-28T22:41:22.273Z"
   },
   {
    "duration": 3916,
    "start_time": "2024-07-28T22:41:22.306Z"
   },
   {
    "duration": 69,
    "start_time": "2024-07-28T22:41:26.224Z"
   },
   {
    "duration": 590,
    "start_time": "2024-07-30T07:17:09.817Z"
   },
   {
    "duration": 41,
    "start_time": "2024-07-30T07:17:11.592Z"
   },
   {
    "duration": 5484,
    "start_time": "2024-07-30T07:17:15.220Z"
   },
   {
    "duration": 18,
    "start_time": "2024-07-30T07:17:24.985Z"
   },
   {
    "duration": 118,
    "start_time": "2024-07-30T07:19:03.274Z"
   },
   {
    "duration": 525,
    "start_time": "2024-07-30T07:22:09.560Z"
   },
   {
    "duration": 31,
    "start_time": "2024-07-30T07:22:10.086Z"
   },
   {
    "duration": 5154,
    "start_time": "2024-07-30T07:22:10.118Z"
   },
   {
    "duration": 18,
    "start_time": "2024-07-30T07:22:15.274Z"
   },
   {
    "duration": 4924,
    "start_time": "2024-07-30T07:22:15.294Z"
   },
   {
    "duration": 162,
    "start_time": "2024-07-30T07:22:20.219Z"
   },
   {
    "duration": 66,
    "start_time": "2024-07-30T07:25:07.204Z"
   },
   {
    "duration": 30,
    "start_time": "2024-07-30T07:25:11.188Z"
   },
   {
    "duration": 19,
    "start_time": "2024-07-30T07:25:40.286Z"
   },
   {
    "duration": 19,
    "start_time": "2024-07-30T07:27:25.862Z"
   },
   {
    "duration": 15,
    "start_time": "2024-07-30T07:28:01.216Z"
   },
   {
    "duration": 23,
    "start_time": "2024-07-30T07:30:58.016Z"
   },
   {
    "duration": 179,
    "start_time": "2024-07-30T07:33:36.291Z"
   },
   {
    "duration": 21,
    "start_time": "2024-07-30T07:33:48.664Z"
   },
   {
    "duration": 523,
    "start_time": "2024-07-30T07:38:11.489Z"
   },
   {
    "duration": 428,
    "start_time": "2024-07-30T07:38:30.177Z"
   },
   {
    "duration": 565,
    "start_time": "2024-07-30T07:40:21.177Z"
   },
   {
    "duration": 903,
    "start_time": "2024-07-30T07:45:38.986Z"
   },
   {
    "duration": 495,
    "start_time": "2024-07-30T07:46:14.388Z"
   },
   {
    "duration": 32,
    "start_time": "2024-07-30T07:46:14.884Z"
   },
   {
    "duration": 5353,
    "start_time": "2024-07-30T07:46:14.917Z"
   },
   {
    "duration": 19,
    "start_time": "2024-07-30T07:46:20.272Z"
   },
   {
    "duration": 45,
    "start_time": "2024-07-30T07:46:20.293Z"
   },
   {
    "duration": 19,
    "start_time": "2024-07-30T07:46:20.339Z"
   },
   {
    "duration": 21,
    "start_time": "2024-07-30T07:46:20.360Z"
   },
   {
    "duration": 21,
    "start_time": "2024-07-30T07:46:20.382Z"
   },
   {
    "duration": 204,
    "start_time": "2024-07-30T07:46:20.405Z"
   },
   {
    "duration": 21,
    "start_time": "2024-07-30T07:46:20.610Z"
   },
   {
    "duration": 22,
    "start_time": "2024-07-30T07:46:20.632Z"
   },
   {
    "duration": 886,
    "start_time": "2024-07-30T07:46:20.655Z"
   },
   {
    "duration": 4726,
    "start_time": "2024-07-30T07:46:21.543Z"
   },
   {
    "duration": 119,
    "start_time": "2024-07-30T07:46:26.271Z"
   },
   {
    "duration": 530,
    "start_time": "2024-07-30T07:49:18.318Z"
   },
   {
    "duration": 31,
    "start_time": "2024-07-30T07:49:18.849Z"
   },
   {
    "duration": 5207,
    "start_time": "2024-07-30T07:49:18.881Z"
   },
   {
    "duration": 19,
    "start_time": "2024-07-30T07:49:24.089Z"
   },
   {
    "duration": 41,
    "start_time": "2024-07-30T07:49:24.110Z"
   },
   {
    "duration": 18,
    "start_time": "2024-07-30T07:49:24.152Z"
   },
   {
    "duration": 204,
    "start_time": "2024-07-30T07:49:24.171Z"
   },
   {
    "duration": 44,
    "start_time": "2024-07-30T07:49:24.376Z"
   },
   {
    "duration": 175,
    "start_time": "2024-07-30T07:49:24.422Z"
   },
   {
    "duration": 21,
    "start_time": "2024-07-30T07:49:24.598Z"
   },
   {
    "duration": 28,
    "start_time": "2024-07-30T07:49:24.621Z"
   },
   {
    "duration": 1431,
    "start_time": "2024-07-30T07:49:24.650Z"
   },
   {
    "duration": 3821,
    "start_time": "2024-07-30T07:49:26.083Z"
   },
   {
    "duration": 127,
    "start_time": "2024-07-30T07:49:29.906Z"
   },
   {
    "duration": 534,
    "start_time": "2024-07-30T07:52:18.755Z"
   },
   {
    "duration": 31,
    "start_time": "2024-07-30T07:52:19.291Z"
   },
   {
    "duration": 5362,
    "start_time": "2024-07-30T07:52:19.323Z"
   },
   {
    "duration": 19,
    "start_time": "2024-07-30T07:52:24.686Z"
   },
   {
    "duration": 44,
    "start_time": "2024-07-30T07:52:24.707Z"
   },
   {
    "duration": 18,
    "start_time": "2024-07-30T07:52:24.753Z"
   },
   {
    "duration": 24,
    "start_time": "2024-07-30T07:52:24.772Z"
   },
   {
    "duration": 19,
    "start_time": "2024-07-30T07:52:24.798Z"
   },
   {
    "duration": 177,
    "start_time": "2024-07-30T07:52:24.838Z"
   },
   {
    "duration": 27,
    "start_time": "2024-07-30T07:52:25.016Z"
   },
   {
    "duration": 15,
    "start_time": "2024-07-30T07:52:25.045Z"
   },
   {
    "duration": 1465,
    "start_time": "2024-07-30T07:52:25.061Z"
   },
   {
    "duration": 4159,
    "start_time": "2024-07-30T07:52:26.528Z"
   },
   {
    "duration": 286,
    "start_time": "2024-07-30T07:52:30.690Z"
   },
   {
    "duration": 3,
    "start_time": "2024-08-01T20:59:45.630Z"
   },
   {
    "duration": 29,
    "start_time": "2024-08-01T20:59:45.634Z"
   },
   {
    "duration": 5411,
    "start_time": "2024-08-01T20:59:45.664Z"
   },
   {
    "duration": 13,
    "start_time": "2024-08-01T20:59:51.077Z"
   },
   {
    "duration": 47,
    "start_time": "2024-08-01T20:59:51.091Z"
   },
   {
    "duration": 19,
    "start_time": "2024-08-01T20:59:51.140Z"
   },
   {
    "duration": 21,
    "start_time": "2024-08-01T20:59:51.161Z"
   },
   {
    "duration": 19,
    "start_time": "2024-08-01T20:59:51.183Z"
   },
   {
    "duration": 246,
    "start_time": "2024-08-01T20:59:51.205Z"
   },
   {
    "duration": 22,
    "start_time": "2024-08-01T20:59:51.453Z"
   },
   {
    "duration": 19,
    "start_time": "2024-08-01T20:59:51.477Z"
   },
   {
    "duration": 1635,
    "start_time": "2024-08-01T20:59:51.498Z"
   },
   {
    "duration": 3760,
    "start_time": "2024-08-01T20:59:53.134Z"
   },
   {
    "duration": 128,
    "start_time": "2024-08-01T20:59:56.895Z"
   },
   {
    "duration": 460,
    "start_time": "2024-08-02T09:55:43.908Z"
   },
   {
    "duration": 43,
    "start_time": "2024-08-02T09:55:44.369Z"
   },
   {
    "duration": 4731,
    "start_time": "2024-08-02T09:55:44.413Z"
   },
   {
    "duration": 18,
    "start_time": "2024-08-02T09:55:49.145Z"
   },
   {
    "duration": 43,
    "start_time": "2024-08-02T09:55:49.164Z"
   },
   {
    "duration": 18,
    "start_time": "2024-08-02T09:55:49.209Z"
   },
   {
    "duration": 22,
    "start_time": "2024-08-02T09:55:49.228Z"
   },
   {
    "duration": 25,
    "start_time": "2024-08-02T09:55:49.252Z"
   },
   {
    "duration": 162,
    "start_time": "2024-08-02T09:55:49.278Z"
   },
   {
    "duration": 21,
    "start_time": "2024-08-02T09:55:49.442Z"
   },
   {
    "duration": 15,
    "start_time": "2024-08-02T09:55:49.465Z"
   },
   {
    "duration": 1127,
    "start_time": "2024-08-02T09:55:49.482Z"
   },
   {
    "duration": 3338,
    "start_time": "2024-08-02T09:55:50.610Z"
   },
   {
    "duration": 139,
    "start_time": "2024-08-02T09:55:53.950Z"
   },
   {
    "duration": 518,
    "start_time": "2024-08-06T08:46:52.968Z"
   },
   {
    "duration": 41,
    "start_time": "2024-08-06T08:46:53.488Z"
   },
   {
    "duration": 5114,
    "start_time": "2024-08-06T08:46:53.531Z"
   },
   {
    "duration": 22,
    "start_time": "2024-08-06T08:46:58.647Z"
   },
   {
    "duration": 40,
    "start_time": "2024-08-06T08:46:58.671Z"
   },
   {
    "duration": 21,
    "start_time": "2024-08-06T08:46:58.712Z"
   },
   {
    "duration": 37,
    "start_time": "2024-08-06T08:46:58.734Z"
   },
   {
    "duration": 57,
    "start_time": "2024-08-06T08:46:58.772Z"
   },
   {
    "duration": 148,
    "start_time": "2024-08-06T08:46:58.831Z"
   },
   {
    "duration": 21,
    "start_time": "2024-08-06T08:46:58.982Z"
   },
   {
    "duration": 20,
    "start_time": "2024-08-06T08:46:59.005Z"
   },
   {
    "duration": 1394,
    "start_time": "2024-08-06T08:46:59.027Z"
   },
   {
    "duration": 4009,
    "start_time": "2024-08-06T08:47:00.423Z"
   },
   {
    "duration": 147,
    "start_time": "2024-08-06T08:47:04.433Z"
   },
   {
    "duration": 481,
    "start_time": "2024-08-06T10:44:24.086Z"
   },
   {
    "duration": 42,
    "start_time": "2024-08-06T10:44:24.569Z"
   },
   {
    "duration": 4596,
    "start_time": "2024-08-06T10:44:24.612Z"
   },
   {
    "duration": 17,
    "start_time": "2024-08-06T10:44:29.210Z"
   },
   {
    "duration": 32,
    "start_time": "2024-08-06T10:44:29.229Z"
   },
   {
    "duration": 40,
    "start_time": "2024-08-06T10:44:29.262Z"
   },
   {
    "duration": 21,
    "start_time": "2024-08-06T10:44:29.304Z"
   },
   {
    "duration": 19,
    "start_time": "2024-08-06T10:44:29.326Z"
   },
   {
    "duration": 149,
    "start_time": "2024-08-06T10:44:29.346Z"
   },
   {
    "duration": 23,
    "start_time": "2024-08-06T10:44:29.497Z"
   },
   {
    "duration": 15,
    "start_time": "2024-08-06T10:44:29.522Z"
   },
   {
    "duration": 1106,
    "start_time": "2024-08-06T10:44:29.538Z"
   },
   {
    "duration": 3550,
    "start_time": "2024-08-06T10:44:30.646Z"
   },
   {
    "duration": 181,
    "start_time": "2024-08-06T10:44:34.198Z"
   },
   {
    "duration": 463,
    "start_time": "2024-08-06T10:48:15.624Z"
   },
   {
    "duration": 31,
    "start_time": "2024-08-06T10:48:16.088Z"
   },
   {
    "duration": 4413,
    "start_time": "2024-08-06T10:48:16.121Z"
   },
   {
    "duration": 17,
    "start_time": "2024-08-06T10:48:20.535Z"
   },
   {
    "duration": 36,
    "start_time": "2024-08-06T10:48:20.554Z"
   },
   {
    "duration": 24,
    "start_time": "2024-08-06T10:48:20.591Z"
   },
   {
    "duration": 41,
    "start_time": "2024-08-06T10:48:20.616Z"
   },
   {
    "duration": 18,
    "start_time": "2024-08-06T10:48:20.659Z"
   },
   {
    "duration": 202,
    "start_time": "2024-08-06T10:48:20.678Z"
   },
   {
    "duration": 21,
    "start_time": "2024-08-06T10:48:20.882Z"
   },
   {
    "duration": 44,
    "start_time": "2024-08-06T10:48:20.904Z"
   },
   {
    "duration": 1065,
    "start_time": "2024-08-06T10:48:20.950Z"
   },
   {
    "duration": 3691,
    "start_time": "2024-08-06T10:48:22.016Z"
   },
   {
    "duration": 120,
    "start_time": "2024-08-06T10:48:25.710Z"
   }
  ],
  "kernelspec": {
   "display_name": "Python 3 (ipykernel)",
   "language": "python",
   "name": "python3"
  },
  "language_info": {
   "codemirror_mode": {
    "name": "ipython",
    "version": 3
   },
   "file_extension": ".py",
   "mimetype": "text/x-python",
   "name": "python",
   "nbconvert_exporter": "python",
   "pygments_lexer": "ipython3",
   "version": "3.9.5"
  },
  "toc": {
   "base_numbering": 1,
   "nav_menu": {},
   "number_sections": true,
   "sideBar": true,
   "skip_h1_title": true,
   "title_cell": "Table of Contents",
   "title_sidebar": "Contents",
   "toc_cell": false,
   "toc_position": {},
   "toc_section_display": true,
   "toc_window_display": false
  }
 },
 "nbformat": 4,
 "nbformat_minor": 5
}
